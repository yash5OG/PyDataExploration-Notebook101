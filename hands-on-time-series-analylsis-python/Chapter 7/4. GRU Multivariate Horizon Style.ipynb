{
 "cells": [
  {
   "cell_type": "code",
   "execution_count": 1,
   "metadata": {
    "ExecuteTime": {
     "end_time": "2020-03-02T14:55:49.561627Z",
     "start_time": "2020-03-02T14:55:44.617811Z"
    }
   },
   "outputs": [],
   "source": [
    "import pandas as pd\n",
    "import numpy as np\n",
    "import tensorflow as tf\n",
    "from sklearn import preprocessing\n",
    "import matplotlib.pyplot as plt\n",
    "tf.random.set_seed(123)\n",
    "np.random.seed(123)"
   ]
  },
  {
   "cell_type": "code",
   "execution_count": 2,
   "metadata": {
    "ExecuteTime": {
     "end_time": "2020-03-02T14:55:50.932964Z",
     "start_time": "2020-03-02T14:55:50.857134Z"
    }
   },
   "outputs": [],
   "source": [
    "df = pd.read_csv(r'\\Data\\Metro_Interstate_Traffic_Volume.csv')"
   ]
  },
  {
   "cell_type": "code",
   "execution_count": 3,
   "metadata": {
    "ExecuteTime": {
     "end_time": "2020-03-02T14:55:55.197535Z",
     "start_time": "2020-03-02T14:55:55.176592Z"
    }
   },
   "outputs": [
    {
     "data": {
      "text/html": [
       "<div>\n",
       "<style scoped>\n",
       "    .dataframe tbody tr th:only-of-type {\n",
       "        vertical-align: middle;\n",
       "    }\n",
       "\n",
       "    .dataframe tbody tr th {\n",
       "        vertical-align: top;\n",
       "    }\n",
       "\n",
       "    .dataframe thead th {\n",
       "        text-align: right;\n",
       "    }\n",
       "</style>\n",
       "<table border=\"1\" class=\"dataframe\">\n",
       "  <thead>\n",
       "    <tr style=\"text-align: right;\">\n",
       "      <th></th>\n",
       "      <th>holiday</th>\n",
       "      <th>temp</th>\n",
       "      <th>rain_1h</th>\n",
       "      <th>snow_1h</th>\n",
       "      <th>clouds_all</th>\n",
       "      <th>weather_main</th>\n",
       "      <th>weather_description</th>\n",
       "      <th>date_time</th>\n",
       "      <th>traffic_volume</th>\n",
       "    </tr>\n",
       "  </thead>\n",
       "  <tbody>\n",
       "    <tr>\n",
       "      <th>0</th>\n",
       "      <td>None</td>\n",
       "      <td>288.28</td>\n",
       "      <td>0.0</td>\n",
       "      <td>0.0</td>\n",
       "      <td>40</td>\n",
       "      <td>Clouds</td>\n",
       "      <td>scattered clouds</td>\n",
       "      <td>2012-10-02 09:00:00</td>\n",
       "      <td>5545</td>\n",
       "    </tr>\n",
       "    <tr>\n",
       "      <th>1</th>\n",
       "      <td>None</td>\n",
       "      <td>289.36</td>\n",
       "      <td>0.0</td>\n",
       "      <td>0.0</td>\n",
       "      <td>75</td>\n",
       "      <td>Clouds</td>\n",
       "      <td>broken clouds</td>\n",
       "      <td>2012-10-02 10:00:00</td>\n",
       "      <td>4516</td>\n",
       "    </tr>\n",
       "    <tr>\n",
       "      <th>2</th>\n",
       "      <td>None</td>\n",
       "      <td>289.58</td>\n",
       "      <td>0.0</td>\n",
       "      <td>0.0</td>\n",
       "      <td>90</td>\n",
       "      <td>Clouds</td>\n",
       "      <td>overcast clouds</td>\n",
       "      <td>2012-10-02 11:00:00</td>\n",
       "      <td>4767</td>\n",
       "    </tr>\n",
       "    <tr>\n",
       "      <th>3</th>\n",
       "      <td>None</td>\n",
       "      <td>290.13</td>\n",
       "      <td>0.0</td>\n",
       "      <td>0.0</td>\n",
       "      <td>90</td>\n",
       "      <td>Clouds</td>\n",
       "      <td>overcast clouds</td>\n",
       "      <td>2012-10-02 12:00:00</td>\n",
       "      <td>5026</td>\n",
       "    </tr>\n",
       "    <tr>\n",
       "      <th>4</th>\n",
       "      <td>None</td>\n",
       "      <td>291.14</td>\n",
       "      <td>0.0</td>\n",
       "      <td>0.0</td>\n",
       "      <td>75</td>\n",
       "      <td>Clouds</td>\n",
       "      <td>broken clouds</td>\n",
       "      <td>2012-10-02 13:00:00</td>\n",
       "      <td>4918</td>\n",
       "    </tr>\n",
       "  </tbody>\n",
       "</table>\n",
       "</div>"
      ],
      "text/plain": [
       "  holiday    temp  rain_1h  snow_1h  clouds_all weather_main  \\\n",
       "0    None  288.28      0.0      0.0          40       Clouds   \n",
       "1    None  289.36      0.0      0.0          75       Clouds   \n",
       "2    None  289.58      0.0      0.0          90       Clouds   \n",
       "3    None  290.13      0.0      0.0          90       Clouds   \n",
       "4    None  291.14      0.0      0.0          75       Clouds   \n",
       "\n",
       "  weather_description            date_time  traffic_volume  \n",
       "0    scattered clouds  2012-10-02 09:00:00            5545  \n",
       "1       broken clouds  2012-10-02 10:00:00            4516  \n",
       "2     overcast clouds  2012-10-02 11:00:00            4767  \n",
       "3     overcast clouds  2012-10-02 12:00:00            5026  \n",
       "4       broken clouds  2012-10-02 13:00:00            4918  "
      ]
     },
     "execution_count": 3,
     "metadata": {},
     "output_type": "execute_result"
    }
   ],
   "source": [
    "df.head()"
   ]
  },
  {
   "cell_type": "code",
   "execution_count": 4,
   "metadata": {
    "ExecuteTime": {
     "end_time": "2020-03-02T14:55:56.568907Z",
     "start_time": "2020-03-02T14:55:56.528980Z"
    }
   },
   "outputs": [
    {
     "data": {
      "text/html": [
       "<div>\n",
       "<style scoped>\n",
       "    .dataframe tbody tr th:only-of-type {\n",
       "        vertical-align: middle;\n",
       "    }\n",
       "\n",
       "    .dataframe tbody tr th {\n",
       "        vertical-align: top;\n",
       "    }\n",
       "\n",
       "    .dataframe thead th {\n",
       "        text-align: right;\n",
       "    }\n",
       "</style>\n",
       "<table border=\"1\" class=\"dataframe\">\n",
       "  <thead>\n",
       "    <tr style=\"text-align: right;\">\n",
       "      <th></th>\n",
       "      <th>temp</th>\n",
       "      <th>rain_1h</th>\n",
       "      <th>snow_1h</th>\n",
       "      <th>clouds_all</th>\n",
       "      <th>traffic_volume</th>\n",
       "    </tr>\n",
       "  </thead>\n",
       "  <tbody>\n",
       "    <tr>\n",
       "      <th>count</th>\n",
       "      <td>48204.000000</td>\n",
       "      <td>48204.000000</td>\n",
       "      <td>48204.000000</td>\n",
       "      <td>48204.000000</td>\n",
       "      <td>48204.000000</td>\n",
       "    </tr>\n",
       "    <tr>\n",
       "      <th>mean</th>\n",
       "      <td>281.205870</td>\n",
       "      <td>0.334264</td>\n",
       "      <td>0.000222</td>\n",
       "      <td>49.362231</td>\n",
       "      <td>3259.818355</td>\n",
       "    </tr>\n",
       "    <tr>\n",
       "      <th>std</th>\n",
       "      <td>13.338232</td>\n",
       "      <td>44.789133</td>\n",
       "      <td>0.008168</td>\n",
       "      <td>39.015750</td>\n",
       "      <td>1986.860670</td>\n",
       "    </tr>\n",
       "    <tr>\n",
       "      <th>min</th>\n",
       "      <td>0.000000</td>\n",
       "      <td>0.000000</td>\n",
       "      <td>0.000000</td>\n",
       "      <td>0.000000</td>\n",
       "      <td>0.000000</td>\n",
       "    </tr>\n",
       "    <tr>\n",
       "      <th>25%</th>\n",
       "      <td>272.160000</td>\n",
       "      <td>0.000000</td>\n",
       "      <td>0.000000</td>\n",
       "      <td>1.000000</td>\n",
       "      <td>1193.000000</td>\n",
       "    </tr>\n",
       "    <tr>\n",
       "      <th>50%</th>\n",
       "      <td>282.450000</td>\n",
       "      <td>0.000000</td>\n",
       "      <td>0.000000</td>\n",
       "      <td>64.000000</td>\n",
       "      <td>3380.000000</td>\n",
       "    </tr>\n",
       "    <tr>\n",
       "      <th>75%</th>\n",
       "      <td>291.806000</td>\n",
       "      <td>0.000000</td>\n",
       "      <td>0.000000</td>\n",
       "      <td>90.000000</td>\n",
       "      <td>4933.000000</td>\n",
       "    </tr>\n",
       "    <tr>\n",
       "      <th>max</th>\n",
       "      <td>310.070000</td>\n",
       "      <td>9831.300000</td>\n",
       "      <td>0.510000</td>\n",
       "      <td>100.000000</td>\n",
       "      <td>7280.000000</td>\n",
       "    </tr>\n",
       "  </tbody>\n",
       "</table>\n",
       "</div>"
      ],
      "text/plain": [
       "               temp       rain_1h       snow_1h    clouds_all  traffic_volume\n",
       "count  48204.000000  48204.000000  48204.000000  48204.000000    48204.000000\n",
       "mean     281.205870      0.334264      0.000222     49.362231     3259.818355\n",
       "std       13.338232     44.789133      0.008168     39.015750     1986.860670\n",
       "min        0.000000      0.000000      0.000000      0.000000        0.000000\n",
       "25%      272.160000      0.000000      0.000000      1.000000     1193.000000\n",
       "50%      282.450000      0.000000      0.000000     64.000000     3380.000000\n",
       "75%      291.806000      0.000000      0.000000     90.000000     4933.000000\n",
       "max      310.070000   9831.300000      0.510000    100.000000     7280.000000"
      ]
     },
     "execution_count": 4,
     "metadata": {},
     "output_type": "execute_result"
    }
   ],
   "source": [
    "df.describe()"
   ]
  },
  {
   "cell_type": "code",
   "execution_count": 8,
   "metadata": {
    "ExecuteTime": {
     "end_time": "2020-03-02T14:57:16.428497Z",
     "start_time": "2020-03-02T14:57:16.410545Z"
    }
   },
   "outputs": [],
   "source": [
    "df.drop_duplicates(subset=['date_time'], keep=False,inplace=True)"
   ]
  },
  {
   "cell_type": "code",
   "execution_count": 9,
   "metadata": {
    "ExecuteTime": {
     "end_time": "2020-03-02T14:57:20.947387Z",
     "start_time": "2020-03-02T14:57:20.920463Z"
    }
   },
   "outputs": [],
   "source": [
    "holiday_le = preprocessing.LabelEncoder()\n",
    "df['holiday_le'] = holiday_le.fit_transform(df['holiday']) \n",
    "weather_main_le = preprocessing.LabelEncoder()\n",
    "df['weather_main_le'] = weather_main_le.fit_transform(df['weather_main']) \n",
    "weather_description_le = preprocessing.LabelEncoder()\n",
    "df['weather_description_le'] = weather_description_le.fit_transform(df['weather_description']) "
   ]
  },
  {
   "cell_type": "code",
   "execution_count": 10,
   "metadata": {
    "ExecuteTime": {
     "end_time": "2020-03-02T14:57:31.660798Z",
     "start_time": "2020-03-02T14:57:31.652782Z"
    }
   },
   "outputs": [],
   "source": [
    "df = df[['rain_1h','temp', 'snow_1h', 'clouds_all', 'holiday_le',\n",
    "    'weather_main_le', 'weather_description_le','traffic_volume']]"
   ]
  },
  {
   "cell_type": "code",
   "execution_count": 11,
   "metadata": {
    "ExecuteTime": {
     "end_time": "2020-03-02T14:57:38.727875Z",
     "start_time": "2020-03-02T14:57:38.720892Z"
    }
   },
   "outputs": [],
   "source": [
    "def custom_ts_multi_data_prep(dataset, target, start, end, window, horizon):\n",
    "    X = []\n",
    "    y = []\n",
    "    start = start + window\n",
    "    if end is None:\n",
    "        end = len(dataset) - horizon\n",
    "\n",
    "    for i in range(start, end):\n",
    "        indices = range(i-window, i)\n",
    "        X.append(dataset[indices])\n",
    "\n",
    "        indicey = range(i+1, i+1+horizon)\n",
    "        y.append(target[indicey])\n",
    "    return np.array(X), np.array(y)"
   ]
  },
  {
   "cell_type": "code",
   "execution_count": 12,
   "metadata": {
    "ExecuteTime": {
     "end_time": "2020-03-02T14:57:47.704885Z",
     "start_time": "2020-03-02T14:57:47.688927Z"
    }
   },
   "outputs": [
    {
     "name": "stderr",
     "output_type": "stream",
     "text": [
      "C:\\Users\\Vishwas\\Anaconda3\\envs\\tgpu\\lib\\site-packages\\pandas\\core\\frame.py:4117: SettingWithCopyWarning: \n",
      "A value is trying to be set on a copy of a slice from a DataFrame\n",
      "\n",
      "See the caveats in the documentation: http://pandas.pydata.org/pandas-docs/stable/user_guide/indexing.html#returning-a-view-versus-a-copy\n",
      "  errors=errors,\n"
     ]
    }
   ],
   "source": [
    "validate = df[['rain_1h','temp', 'snow_1h', 'clouds_all', 'holiday_le',\n",
    "    'weather_main_le', 'weather_description_le','traffic_volume']].tail(10)\n",
    "df.drop(df.tail(10).index,inplace=True)"
   ]
  },
  {
   "cell_type": "code",
   "execution_count": 13,
   "metadata": {
    "ExecuteTime": {
     "end_time": "2020-03-02T14:57:53.611104Z",
     "start_time": "2020-03-02T14:57:53.590160Z"
    }
   },
   "outputs": [],
   "source": [
    "x_scaler = preprocessing.MinMaxScaler()\n",
    "y_scaler = preprocessing.MinMaxScaler()\n",
    "dataX = x_scaler.fit_transform(df[['rain_1h','temp', 'snow_1h', 'clouds_all', 'holiday_le',\n",
    "    'weather_main_le', 'weather_description_le','traffic_volume']])\n",
    "dataY = y_scaler.fit_transform(df[['traffic_volume']])"
   ]
  },
  {
   "cell_type": "code",
   "execution_count": 14,
   "metadata": {
    "ExecuteTime": {
     "end_time": "2020-03-02T14:58:06.978414Z",
     "start_time": "2020-03-02T14:58:05.772602Z"
    }
   },
   "outputs": [],
   "source": [
    "hist_window = 48\n",
    "horizon = 10\n",
    "TRAIN_SPLIT = 30000\n",
    "x_train_multi, y_train_multi = custom_ts_multi_data_prep(\n",
    "    dataX, dataY, 0, TRAIN_SPLIT, hist_window, horizon)\n",
    "x_val_multi, y_val_multi= custom_ts_multi_data_prep(\n",
    "    dataX, dataY, TRAIN_SPLIT, None, hist_window, horizon)"
   ]
  },
  {
   "cell_type": "code",
   "execution_count": 15,
   "metadata": {
    "ExecuteTime": {
     "end_time": "2020-03-02T14:58:29.999861Z",
     "start_time": "2020-03-02T14:58:29.989891Z"
    }
   },
   "outputs": [
    {
     "name": "stdout",
     "output_type": "stream",
     "text": [
      "Single window of past history\n",
      "[[0.         0.92972555 0.         0.4        0.63636364 0.1\n",
      "  0.7        0.76167582]\n",
      " [0.         0.93320863 0.         0.75       0.63636364 0.1\n",
      "  0.06666667 0.62032967]\n",
      " [0.         0.93391815 0.         0.9        0.63636364 0.1\n",
      "  0.56666667 0.65480769]\n",
      " [0.         0.93569194 0.         0.9        0.63636364 0.1\n",
      "  0.56666667 0.69038462]\n",
      " [0.         0.93894927 0.         0.75       0.63636364 0.1\n",
      "  0.06666667 0.67554945]\n",
      " [0.         0.94081981 0.         0.01       0.63636364 0.\n",
      "  0.73333333 0.71167582]\n",
      " [0.         0.94549618 0.         0.01       0.63636364 0.\n",
      "  0.73333333 0.76703297]\n",
      " [0.         0.94772148 0.         0.01       0.63636364 0.\n",
      "  0.73333333 0.82623626]\n",
      " [0.         0.9486245  0.         0.2        0.63636364 0.1\n",
      "  0.13333333 0.79546703]\n",
      " [0.         0.94527042 0.         0.2        0.63636364 0.1\n",
      "  0.13333333 0.65521978]\n",
      " [0.         0.93840101 0.         0.2        0.63636364 0.1\n",
      "  0.13333333 0.48612637]\n",
      " [0.         0.93327313 0.         0.01       0.63636364 0.\n",
      "  0.73333333 0.38241758]\n",
      " [0.         0.93078982 0.         0.01       0.63636364 0.\n",
      "  0.73333333 0.32431319]\n",
      " [0.         0.92611346 0.         0.01       0.63636364 0.\n",
      "  0.73333333 0.21002747]\n",
      " [0.         0.92059857 0.         0.01       0.63636364 0.\n",
      "  0.73333333 0.13228022]\n",
      " [0.         0.91795401 0.         0.01       0.63636364 0.\n",
      "  0.73333333 0.06950549]\n",
      " [0.         0.91421292 0.         0.01       0.63636364 0.\n",
      "  0.73333333 0.04409341]\n",
      " [0.         0.90682749 0.         0.01       0.63636364 0.\n",
      "  0.73333333 0.0375    ]\n",
      " [0.         0.90653723 0.         0.01       0.63636364 0.\n",
      "  0.73333333 0.05041209]\n",
      " [0.         0.90150611 0.         0.01       0.63636364 0.\n",
      "  0.73333333 0.11181319]\n",
      " [0.         0.89857129 0.         0.01       0.63636364 0.\n",
      "  0.73333333 0.37335165]\n",
      " [0.         0.89731351 0.         0.01       0.63636364 0.\n",
      "  0.73333333 0.77925824]\n",
      " [0.         0.89695875 0.         0.01       0.63636364 0.\n",
      "  0.73333333 0.89436813]\n",
      " [0.         0.91102009 0.         0.01       0.63636364 0.\n",
      "  0.73333333 0.75151099]\n",
      " [0.         0.94162608 0.         0.01       0.63636364 0.\n",
      "  0.73333333 0.70013736]\n",
      " [0.         0.94568968 0.         0.01       0.63636364 0.\n",
      "  0.73333333 0.67129121]\n",
      " [0.         0.94917277 0.         0.01       0.63636364 0.\n",
      "  0.73333333 0.7331044 ]\n",
      " [0.         0.95194633 0.         0.01       0.63636364 0.\n",
      "  0.73333333 0.78186813]\n",
      " [0.         0.95181733 0.         0.01       0.63636364 0.\n",
      "  0.73333333 0.84299451]\n",
      " [0.         0.94707647 0.         0.2        0.63636364 0.1\n",
      "  0.13333333 0.63502747]\n",
      " [0.         0.93736898 0.         0.2        0.63636364 0.1\n",
      "  0.13333333 0.49326923]\n",
      " [0.         0.92943529 0.         0.2        0.63636364 0.1\n",
      "  0.13333333 0.39807692]\n",
      " [0.         0.92591995 0.         0.01       0.63636364 0.\n",
      "  0.73333333 0.36222527]\n",
      " [0.         0.92317864 0.         0.01       0.63636364 0.\n",
      "  0.73333333 0.24409341]\n",
      " [0.         0.91998581 0.         0.01       0.63636364 0.\n",
      "  0.73333333 0.13942308]\n",
      " [0.         0.917696   0.         0.01       0.63636364 0.\n",
      "  0.73333333 0.08214286]\n",
      " [0.         0.91421292 0.         0.01       0.63636364 0.\n",
      "  0.73333333 0.05068681]\n",
      " [0.         0.9132454  0.         0.01       0.63636364 0.\n",
      "  0.73333333 0.04285714]\n",
      " [0.         0.90960106 0.         0.01       0.63636364 0.\n",
      "  0.73333333 0.05041209]\n",
      " [0.         0.90847228 0.         0.01       0.63636364 0.\n",
      "  0.73333333 0.1146978 ]\n",
      " [0.         0.907279   0.         0.01       0.63636364 0.\n",
      "  0.73333333 0.37445055]\n",
      " [0.         0.90540846 0.         0.01       0.63636364 0.\n",
      "  0.73333333 0.78145604]\n",
      " [0.         0.90486019 0.         0.01       0.63636364 0.\n",
      "  0.73333333 0.96016484]\n",
      " [0.         0.90902054 0.         0.01       0.63636364 0.\n",
      "  0.73333333 0.82211538]\n",
      " [0.         0.91908279 0.         0.01       0.63636364 0.\n",
      "  0.73333333 0.72925824]\n",
      " [0.         0.93262812 0.         0.01       0.63636364 0.\n",
      "  0.73333333 0.63228022]\n",
      " [0.         0.94027155 0.         0.01       0.63636364 0.\n",
      "  0.73333333 0.67087912]\n",
      " [0.         0.95130132 0.         0.01       0.63636364 0.\n",
      "  0.73333333 0.7010989 ]]\n",
      "\n",
      " Target horizon\n",
      "[[0.75563187]\n",
      " [0.78475275]\n",
      " [0.86428571]\n",
      " [0.83200549]\n",
      " [0.67403846]\n",
      " [0.48118132]\n",
      " [0.41717033]\n",
      " [0.38763736]\n",
      " [0.27362637]\n",
      " [0.16016484]]\n"
     ]
    }
   ],
   "source": [
    "print ('Single window of past history')\n",
    "print(x_train_multi[0])\n",
    "print ('\\n Target horizon')\n",
    "print (y_train_multi[0])"
   ]
  },
  {
   "cell_type": "code",
   "execution_count": 16,
   "metadata": {
    "ExecuteTime": {
     "end_time": "2020-03-02T14:58:54.885449Z",
     "start_time": "2020-03-02T14:58:53.724552Z"
    }
   },
   "outputs": [],
   "source": [
    "BATCH_SIZE = 256\n",
    "BUFFER_SIZE = 150\n",
    "\n",
    "train_data_multi = tf.data.Dataset.from_tensor_slices((x_train_multi, y_train_multi))\n",
    "train_data_multi = train_data_multi.cache().shuffle(BUFFER_SIZE).batch(BATCH_SIZE).repeat()\n",
    "\n",
    "val_data_multi = tf.data.Dataset.from_tensor_slices((x_val_multi, y_val_multi))\n",
    "val_data_multi = val_data_multi.batch(BATCH_SIZE).repeat()"
   ]
  },
  {
   "cell_type": "code",
   "execution_count": 17,
   "metadata": {
    "ExecuteTime": {
     "end_time": "2020-03-02T14:59:06.728803Z",
     "start_time": "2020-03-02T14:59:06.128372Z"
    }
   },
   "outputs": [],
   "source": [
    "GRU_model = tf.keras.models.Sequential([\n",
    "    tf.keras.layers.GRU(100, input_shape=x_train_multi.shape[-2:],return_sequences=True),\n",
    "    tf.keras.layers.Dropout(0.2),\n",
    "    tf.keras.layers.GRU(units=50,return_sequences=False),\n",
    "    tf.keras.layers.Dropout(0.2),\n",
    "    tf.keras.layers.Dense(units=horizon),\n",
    "])\n",
    "GRU_model.compile(optimizer='adam', loss='mse')\n"
   ]
  },
  {
   "cell_type": "code",
   "execution_count": 19,
   "metadata": {
    "ExecuteTime": {
     "end_time": "2020-03-02T14:59:21.028554Z",
     "start_time": "2020-03-02T14:59:21.024565Z"
    }
   },
   "outputs": [],
   "source": [
    "model_path = r'\\Chapter 7\\GRU_Multivariate.h5'"
   ]
  },
  {
   "cell_type": "code",
   "execution_count": 20,
   "metadata": {
    "ExecuteTime": {
     "end_time": "2020-03-02T15:00:53.386775Z",
     "start_time": "2020-03-02T14:59:21.581080Z"
    }
   },
   "outputs": [
    {
     "name": "stdout",
     "output_type": "stream",
     "text": [
      "Train for 100 steps, validate for 50 steps\n",
      "Epoch 1/150\n",
      "100/100 [==============================] - 8s 76ms/step - loss: 0.0889 - val_loss: 0.0533\n",
      "Epoch 2/150\n",
      "100/100 [==============================] - 2s 16ms/step - loss: 0.0634 - val_loss: 0.0560\n",
      "Epoch 3/150\n",
      "100/100 [==============================] - 2s 16ms/step - loss: 0.0553 - val_loss: 0.0654\n",
      "Epoch 4/150\n",
      "100/100 [==============================] - 4s 37ms/step - loss: 0.0503 - val_loss: 0.0388\n",
      "Epoch 5/150\n",
      "100/100 [==============================] - 2s 18ms/step - loss: 0.0515 - val_loss: 0.0387\n",
      "Epoch 6/150\n",
      "100/100 [==============================] - 2s 19ms/step - loss: 0.0475 - val_loss: 0.0353\n",
      "Epoch 7/150\n",
      "100/100 [==============================] - 2s 17ms/step - loss: 0.0470 - val_loss: 0.0347\n",
      "Epoch 8/150\n",
      "100/100 [==============================] - 2s 16ms/step - loss: 0.0473 - val_loss: 0.0366\n",
      "Epoch 9/150\n",
      "100/100 [==============================] - 2s 16ms/step - loss: 0.0459 - val_loss: 0.0390\n",
      "Epoch 10/150\n",
      "100/100 [==============================] - 2s 15ms/step - loss: 0.0431 - val_loss: 0.0590\n",
      "Epoch 11/150\n",
      "100/100 [==============================] - 2s 16ms/step - loss: 0.0415 - val_loss: 0.0328\n",
      "Epoch 12/150\n",
      "100/100 [==============================] - 2s 16ms/step - loss: 0.0442 - val_loss: 0.0367\n",
      "Epoch 13/150\n",
      "100/100 [==============================] - 2s 16ms/step - loss: 0.0416 - val_loss: 0.0368\n",
      "Epoch 14/150\n",
      "100/100 [==============================] - 2s 17ms/step - loss: 0.0420 - val_loss: 0.0311\n",
      "Epoch 15/150\n",
      "100/100 [==============================] - 2s 16ms/step - loss: 0.0424 - val_loss: 0.0311\n",
      "Epoch 16/150\n",
      "100/100 [==============================] - 2s 16ms/step - loss: 0.0414 - val_loss: 0.0371\n",
      "Epoch 17/150\n",
      "100/100 [==============================] - 2s 16ms/step - loss: 0.0386 - val_loss: 0.0429\n",
      "Epoch 18/150\n",
      "100/100 [==============================] - 2s 16ms/step - loss: 0.0379 - val_loss: 0.0325\n",
      "Epoch 19/150\n",
      "100/100 [==============================] - 2s 16ms/step - loss: 0.0409 - val_loss: 0.0316\n",
      "Epoch 20/150\n",
      "100/100 [==============================] - 2s 16ms/step - loss: 0.0380 - val_loss: 0.0336\n",
      "Epoch 21/150\n",
      "100/100 [==============================] - 2s 16ms/step - loss: 0.0393 - val_loss: 0.0297\n",
      "Epoch 22/150\n",
      "100/100 [==============================] - 2s 16ms/step - loss: 0.0394 - val_loss: 0.0311\n",
      "Epoch 23/150\n",
      "100/100 [==============================] - 2s 15ms/step - loss: 0.0390 - val_loss: 0.0370\n",
      "Epoch 24/150\n",
      "100/100 [==============================] - 2s 16ms/step - loss: 0.0355 - val_loss: 0.0313\n",
      "Epoch 25/150\n",
      "100/100 [==============================] - 2s 16ms/step - loss: 0.0358 - val_loss: 0.0317\n",
      "Epoch 26/150\n",
      "100/100 [==============================] - 2s 16ms/step - loss: 0.0372 - val_loss: 0.0297\n",
      "Epoch 27/150\n",
      "100/100 [==============================] - 2s 16ms/step - loss: 0.0355 - val_loss: 0.0327\n",
      "Epoch 28/150\n",
      "100/100 [==============================] - 2s 16ms/step - loss: 0.0369 - val_loss: 0.0289\n",
      "Epoch 29/150\n",
      "100/100 [==============================] - 2s 16ms/step - loss: 0.0365 - val_loss: 0.0297\n",
      "Epoch 30/150\n",
      "100/100 [==============================] - 2s 16ms/step - loss: 0.0364 - val_loss: 0.0339\n",
      "Epoch 31/150\n",
      "100/100 [==============================] - 2s 16ms/step - loss: 0.0323 - val_loss: 0.0292\n",
      "Epoch 32/150\n",
      "100/100 [==============================] - 2s 16ms/step - loss: 0.0343 - val_loss: 0.0306\n",
      "Epoch 33/150\n",
      "100/100 [==============================] - 2s 17ms/step - loss: 0.0341 - val_loss: 0.0284\n",
      "Epoch 34/150\n",
      "100/100 [==============================] - 2s 16ms/step - loss: 0.0334 - val_loss: 0.0289\n",
      "Epoch 35/150\n",
      "100/100 [==============================] - 2s 17ms/step - loss: 0.0347 - val_loss: 0.0274\n",
      "Epoch 36/150\n",
      "100/100 [==============================] - 2s 16ms/step - loss: 0.0339 - val_loss: 0.0290\n",
      "Epoch 37/150\n",
      "100/100 [==============================] - 2s 16ms/step - loss: 0.0339 - val_loss: 0.0326\n",
      "Epoch 38/150\n",
      "100/100 [==============================] - 2s 16ms/step - loss: 0.0297 - val_loss: 0.0278\n",
      "Epoch 39/150\n",
      "100/100 [==============================] - 2s 16ms/step - loss: 0.0327 - val_loss: 0.0293\n",
      "Epoch 40/150\n",
      "100/100 [==============================] - 2s 17ms/step - loss: 0.0315 - val_loss: 0.0272\n",
      "Epoch 41/150\n",
      "100/100 [==============================] - 2s 16ms/step - loss: 0.0309 - val_loss: 0.0273\n",
      "Epoch 42/150\n",
      "100/100 [==============================] - 2s 17ms/step - loss: 0.0323 - val_loss: 0.0266\n",
      "Epoch 43/150\n",
      "100/100 [==============================] - 2s 16ms/step - loss: 0.0316 - val_loss: 0.0292\n",
      "Epoch 44/150\n",
      "100/100 [==============================] - 2s 16ms/step - loss: 0.0319 - val_loss: 0.0332\n",
      "Epoch 45/150\n",
      "100/100 [==============================] - 2s 16ms/step - loss: 0.0278 - val_loss: 0.0274\n",
      "Epoch 46/150\n",
      "100/100 [==============================] - 2s 16ms/step - loss: 0.0312 - val_loss: 0.0283\n",
      "Epoch 47/150\n",
      "100/100 [==============================] - 2s 16ms/step - loss: 0.0292 - val_loss: 0.0277\n",
      "Epoch 48/150\n",
      "100/100 [==============================] - 2s 16ms/step - loss: 0.0290 - val_loss: 0.0269\n",
      "Epoch 49/150\n",
      "100/100 [==============================] - 2s 15ms/step - loss: 0.0300 - val_loss: 0.0269\n",
      "Epoch 50/150\n",
      "100/100 [==============================] - 2s 16ms/step - loss: 0.0296 - val_loss: 0.0300\n",
      "Epoch 51/150\n",
      "100/100 [==============================] - 2s 16ms/step - loss: 0.0300 - val_loss: 0.0347\n",
      "Epoch 52/150\n",
      "100/100 [==============================] - 2s 15ms/step - loss: 0.0260 - val_loss: 0.0279\n",
      "Epoch 00052: early stopping\n"
     ]
    }
   ],
   "source": [
    "EVALUATION_INTERVAL = 100\n",
    "EPOCHS = 150\n",
    "history = GRU_model.fit(train_data_multi, epochs=EPOCHS,steps_per_epoch=EVALUATION_INTERVAL,validation_data=val_data_multi, validation_steps=50,verbose =1,\n",
    "                              callbacks =[tf.keras.callbacks.EarlyStopping(monitor='val_loss', min_delta=0, patience=10, verbose=1, mode='min'),tf.keras.callbacks.ModelCheckpoint(model_path,monitor='val_loss', save_best_only=True, mode='min', verbose=0)])"
   ]
  },
  {
   "cell_type": "code",
   "execution_count": 21,
   "metadata": {
    "ExecuteTime": {
     "end_time": "2020-03-02T15:01:12.365068Z",
     "start_time": "2020-03-02T15:01:10.556902Z"
    }
   },
   "outputs": [],
   "source": [
    "Trained_model = tf.keras.models.load_model(model_path)"
   ]
  },
  {
   "cell_type": "code",
   "execution_count": 22,
   "metadata": {
    "ExecuteTime": {
     "end_time": "2020-03-02T15:01:14.374664Z",
     "start_time": "2020-03-02T15:01:14.367683Z"
    }
   },
   "outputs": [
    {
     "name": "stdout",
     "output_type": "stream",
     "text": [
      "Model: \"sequential\"\n",
      "_________________________________________________________________\n",
      "Layer (type)                 Output Shape              Param #   \n",
      "=================================================================\n",
      "gru (GRU)                    (None, 48, 100)           33000     \n",
      "_________________________________________________________________\n",
      "dropout (Dropout)            (None, 48, 100)           0         \n",
      "_________________________________________________________________\n",
      "gru_1 (GRU)                  (None, 50)                22800     \n",
      "_________________________________________________________________\n",
      "dropout_1 (Dropout)          (None, 50)                0         \n",
      "_________________________________________________________________\n",
      "dense (Dense)                (None, 10)                510       \n",
      "=================================================================\n",
      "Total params: 56,310\n",
      "Trainable params: 56,310\n",
      "Non-trainable params: 0\n",
      "_________________________________________________________________\n"
     ]
    }
   ],
   "source": [
    "# Show the model architecture\n",
    "Trained_model.summary()"
   ]
  },
  {
   "cell_type": "code",
   "execution_count": 24,
   "metadata": {
    "ExecuteTime": {
     "end_time": "2020-03-02T15:01:19.974699Z",
     "start_time": "2020-03-02T15:01:19.728358Z"
    }
   },
   "outputs": [
    {
     "data": {
      "image/png": "[encoded data removed]",
      "text/plain": [
       "<Figure size 1152x648 with 1 Axes>"
      ]
     },
     "metadata": {
      "needs_background": "light"
     },
     "output_type": "display_data"
    }
   ],
   "source": [
    "plt.plot(history.history['loss'])\n",
    "plt.plot(history.history['val_loss'])\n",
    "plt.title('Model loss')\n",
    "plt.ylabel('loss')\n",
    "plt.xlabel('epoch')\n",
    "plt.legend(['train loss', 'validation loss'], loc='upper left')\n",
    "plt.rcParams[\"figure.figsize\"] = [16,9]\n",
    "plt.show()"
   ]
  },
  {
   "cell_type": "code",
   "execution_count": 26,
   "metadata": {
    "ExecuteTime": {
     "end_time": "2020-03-02T15:01:29.046458Z",
     "start_time": "2020-03-02T15:01:29.035487Z"
    }
   },
   "outputs": [],
   "source": [
    "data_val = x_scaler.fit_transform(df[['rain_1h','temp', 'snow_1h', 'clouds_all', 'holiday_le',\n",
    "    'weather_main_le', 'weather_description_le','traffic_volume']].tail(48))"
   ]
  },
  {
   "cell_type": "code",
   "execution_count": 27,
   "metadata": {
    "ExecuteTime": {
     "end_time": "2020-03-02T15:01:30.197386Z",
     "start_time": "2020-03-02T15:01:30.192397Z"
    }
   },
   "outputs": [],
   "source": [
    "val_rescaled = data_val.reshape(1, data_val.shape[0], data_val.shape[1])"
   ]
  },
  {
   "cell_type": "code",
   "execution_count": 28,
   "metadata": {
    "ExecuteTime": {
     "end_time": "2020-03-02T15:01:32.454387Z",
     "start_time": "2020-03-02T15:01:31.999567Z"
    }
   },
   "outputs": [],
   "source": [
    "Predicted_results = Trained_model.predict(val_rescaled)"
   ]
  },
  {
   "cell_type": "code",
   "execution_count": 29,
   "metadata": {
    "ExecuteTime": {
     "end_time": "2020-03-02T15:01:33.226287Z",
     "start_time": "2020-03-02T15:01:33.220341Z"
    }
   },
   "outputs": [
    {
     "data": {
      "text/plain": [
       "array([[0.5811878 , 0.57687247, 0.55752444, 0.52462524, 0.49900812,\n",
       "        0.4843861 , 0.47486484, 0.44004962, 0.39177603, 0.35142347]],\n",
       "      dtype=float32)"
      ]
     },
     "execution_count": 29,
     "metadata": {},
     "output_type": "execute_result"
    }
   ],
   "source": [
    "Predicted_results"
   ]
  },
  {
   "cell_type": "code",
   "execution_count": 30,
   "metadata": {
    "ExecuteTime": {
     "end_time": "2020-03-02T15:01:34.470962Z",
     "start_time": "2020-03-02T15:01:34.464982Z"
    }
   },
   "outputs": [],
   "source": [
    "Predicted_results_Inv_trans = y_scaler.inverse_transform(Predicted_results)"
   ]
  },
  {
   "cell_type": "code",
   "execution_count": 31,
   "metadata": {
    "ExecuteTime": {
     "end_time": "2020-03-02T15:01:35.213982Z",
     "start_time": "2020-03-02T15:01:35.209026Z"
    }
   },
   "outputs": [
    {
     "data": {
      "text/plain": [
       "array([[4231.047 , 4199.6313, 4058.7778, 3819.2717, 3632.779 , 3526.3308,\n",
       "        3457.016 , 3203.5613, 2852.1294, 2558.3628]], dtype=float32)"
      ]
     },
     "execution_count": 31,
     "metadata": {},
     "output_type": "execute_result"
    }
   ],
   "source": [
    "Predicted_results_Inv_trans"
   ]
  },
  {
   "cell_type": "code",
   "execution_count": 32,
   "metadata": {
    "ExecuteTime": {
     "end_time": "2020-03-02T15:01:36.723976Z",
     "start_time": "2020-03-02T15:01:36.692027Z"
    }
   },
   "outputs": [],
   "source": [
    "from sklearn import metrics\n",
    "def timeseries_evaluation_metrics_func(y_true, y_pred):\n",
    "    \n",
    "    def mean_absolute_percentage_error(y_true, y_pred): \n",
    "        y_true, y_pred = np.array(y_true), np.array(y_pred)\n",
    "        return np.mean(np.abs((y_true - y_pred) / y_true)) * 100\n",
    "    print('Evaluation metric results:-')\n",
    "    print(f'MSE is : {metrics.mean_squared_error(y_true, y_pred)}')\n",
    "    print(f'MAE is : {metrics.mean_absolute_error(y_true, y_pred)}')\n",
    "    print(f'RMSE is : {np.sqrt(metrics.mean_squared_error(y_true, y_pred))}')\n",
    "    print(f'MAPE is : {mean_absolute_percentage_error(y_true, y_pred)}')\n",
    "    print(f'R2 is : {metrics.r2_score(y_true, y_pred)}',end='\\n\\n')"
   ]
  },
  {
   "cell_type": "code",
   "execution_count": 33,
   "metadata": {
    "ExecuteTime": {
     "end_time": "2020-03-02T15:01:38.332643Z",
     "start_time": "2020-03-02T15:01:38.323667Z"
    }
   },
   "outputs": [
    {
     "name": "stdout",
     "output_type": "stream",
     "text": [
      "Evaluation metric results:-\n",
      "MSE is : 649499.0500393391\n",
      "MAE is : 614.023193359375\n",
      "RMSE is : 805.9150389708205\n",
      "MAPE is : 37.090497246226114\n",
      "R2 is : 0.5783354404975487\n",
      "\n"
     ]
    }
   ],
   "source": [
    "timeseries_evaluation_metrics_func(validate['traffic_volume'],Predicted_results_Inv_trans[0])"
   ]
  },
  {
   "cell_type": "code",
   "execution_count": 34,
   "metadata": {
    "ExecuteTime": {
     "end_time": "2020-03-02T15:01:40.495863Z",
     "start_time": "2020-03-02T15:01:40.255504Z"
    }
   },
   "outputs": [
    {
     "data": {
      "image/png": "[encoded data removed]",
      "text/plain": [
       "<Figure size 1152x648 with 1 Axes>"
      ]
     },
     "metadata": {
      "needs_background": "light"
     },
     "output_type": "display_data"
    }
   ],
   "source": [
    "plt.plot( list(validate['traffic_volume']))\n",
    "plt.plot( list(Predicted_results_Inv_trans[0]))\n",
    "plt.title(\"Actual vs Predicted\")\n",
    "plt.ylabel(\"Traffic volume\")\n",
    "plt.legend(('Actual','predicted'))\n",
    "plt.show()"
   ]
  }
 ],
 "metadata": {
  "kernelspec": {
   "display_name": "Python 3",
   "language": "python",
   "name": "python3"
  },
  "language_info": {
   "codemirror_mode": {
    "name": "ipython",
    "version": 3
   },
   "file_extension": ".py",
   "mimetype": "text/x-python",
   "name": "python",
   "nbconvert_exporter": "python",
   "pygments_lexer": "ipython3",
   "version": "3.7.3"
  },
  "latex_envs": {
   "LaTeX_envs_menu_present": true,
   "autoclose": false,
   "autocomplete": true,
   "bibliofile": "biblio.bib",
   "cite_by": "apalike",
   "current_citInitial": 1,
   "eqLabelWithNumbers": true,
   "eqNumInitial": 1,
   "hotkeys": {
    "equation": "Ctrl-E",
    "itemize": "Ctrl-I"
   },
   "labels_anchors": false,
   "latex_user_defs": false,
   "report_style_numbering": false,
   "user_envs_cfg": false
  },
  "nbTranslate": {
   "displayLangs": [
    "*"
   ],
   "hotkey": "alt-t",
   "langInMainMenu": true,
   "sourceLang": "en",
   "targetLang": "fr",
   "useGoogleTranslate": true
  }
 },
 "nbformat": 4,
 "nbformat_minor": 2
}

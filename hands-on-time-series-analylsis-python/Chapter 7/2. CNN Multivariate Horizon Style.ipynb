{
 "cells": [
  {
   "cell_type": "code",
   "execution_count": 1,
   "metadata": {
    "ExecuteTime": {
     "end_time": "2020-03-02T14:49:23.660804Z",
     "start_time": "2020-03-02T14:49:18.905513Z"
    }
   },
   "outputs": [],
   "source": [
    "import tensorflow as tf\n",
    "import matplotlib.pyplot as plt\n",
    "import numpy as np\n",
    "import pandas as pd\n",
    "from sklearn import preprocessing\n",
    "from tensorflow.keras.models import Sequential\n",
    "from tensorflow.keras.layers import Dense\n",
    "from tensorflow.keras.layers import Flatten,TimeDistributed,RepeatVector\n",
    "from tensorflow.keras.layers import Conv1D\n",
    "from tensorflow.keras.layers import MaxPool1D\n",
    "from tensorflow.keras.layers import Dropout\n",
    "tf.random.set_seed(123)\n",
    "np.random.seed(123)"
   ]
  },
  {
   "cell_type": "code",
   "execution_count": 2,
   "metadata": {
    "ExecuteTime": {
     "end_time": "2020-03-02T14:49:30.108611Z",
     "start_time": "2020-03-02T14:49:30.027794Z"
    }
   },
   "outputs": [],
   "source": [
    "df = pd.read_csv(r'\\Data\\Metro_Interstate_Traffic_Volume.csv')"
   ]
  },
  {
   "cell_type": "code",
   "execution_count": 3,
   "metadata": {
    "ExecuteTime": {
     "end_time": "2020-03-02T14:49:31.905775Z",
     "start_time": "2020-03-02T14:49:31.880839Z"
    }
   },
   "outputs": [
    {
     "data": {
      "text/html": [
       "<div>\n",
       "<style scoped>\n",
       "    .dataframe tbody tr th:only-of-type {\n",
       "        vertical-align: middle;\n",
       "    }\n",
       "\n",
       "    .dataframe tbody tr th {\n",
       "        vertical-align: top;\n",
       "    }\n",
       "\n",
       "    .dataframe thead th {\n",
       "        text-align: right;\n",
       "    }\n",
       "</style>\n",
       "<table border=\"1\" class=\"dataframe\">\n",
       "  <thead>\n",
       "    <tr style=\"text-align: right;\">\n",
       "      <th></th>\n",
       "      <th>holiday</th>\n",
       "      <th>temp</th>\n",
       "      <th>rain_1h</th>\n",
       "      <th>snow_1h</th>\n",
       "      <th>clouds_all</th>\n",
       "      <th>weather_main</th>\n",
       "      <th>weather_description</th>\n",
       "      <th>date_time</th>\n",
       "      <th>traffic_volume</th>\n",
       "    </tr>\n",
       "  </thead>\n",
       "  <tbody>\n",
       "    <tr>\n",
       "      <th>0</th>\n",
       "      <td>None</td>\n",
       "      <td>288.28</td>\n",
       "      <td>0.0</td>\n",
       "      <td>0.0</td>\n",
       "      <td>40</td>\n",
       "      <td>Clouds</td>\n",
       "      <td>scattered clouds</td>\n",
       "      <td>2012-10-02 09:00:00</td>\n",
       "      <td>5545</td>\n",
       "    </tr>\n",
       "    <tr>\n",
       "      <th>1</th>\n",
       "      <td>None</td>\n",
       "      <td>289.36</td>\n",
       "      <td>0.0</td>\n",
       "      <td>0.0</td>\n",
       "      <td>75</td>\n",
       "      <td>Clouds</td>\n",
       "      <td>broken clouds</td>\n",
       "      <td>2012-10-02 10:00:00</td>\n",
       "      <td>4516</td>\n",
       "    </tr>\n",
       "    <tr>\n",
       "      <th>2</th>\n",
       "      <td>None</td>\n",
       "      <td>289.58</td>\n",
       "      <td>0.0</td>\n",
       "      <td>0.0</td>\n",
       "      <td>90</td>\n",
       "      <td>Clouds</td>\n",
       "      <td>overcast clouds</td>\n",
       "      <td>2012-10-02 11:00:00</td>\n",
       "      <td>4767</td>\n",
       "    </tr>\n",
       "    <tr>\n",
       "      <th>3</th>\n",
       "      <td>None</td>\n",
       "      <td>290.13</td>\n",
       "      <td>0.0</td>\n",
       "      <td>0.0</td>\n",
       "      <td>90</td>\n",
       "      <td>Clouds</td>\n",
       "      <td>overcast clouds</td>\n",
       "      <td>2012-10-02 12:00:00</td>\n",
       "      <td>5026</td>\n",
       "    </tr>\n",
       "    <tr>\n",
       "      <th>4</th>\n",
       "      <td>None</td>\n",
       "      <td>291.14</td>\n",
       "      <td>0.0</td>\n",
       "      <td>0.0</td>\n",
       "      <td>75</td>\n",
       "      <td>Clouds</td>\n",
       "      <td>broken clouds</td>\n",
       "      <td>2012-10-02 13:00:00</td>\n",
       "      <td>4918</td>\n",
       "    </tr>\n",
       "  </tbody>\n",
       "</table>\n",
       "</div>"
      ],
      "text/plain": [
       "  holiday    temp  rain_1h  snow_1h  clouds_all weather_main  \\\n",
       "0    None  288.28      0.0      0.0          40       Clouds   \n",
       "1    None  289.36      0.0      0.0          75       Clouds   \n",
       "2    None  289.58      0.0      0.0          90       Clouds   \n",
       "3    None  290.13      0.0      0.0          90       Clouds   \n",
       "4    None  291.14      0.0      0.0          75       Clouds   \n",
       "\n",
       "  weather_description            date_time  traffic_volume  \n",
       "0    scattered clouds  2012-10-02 09:00:00            5545  \n",
       "1       broken clouds  2012-10-02 10:00:00            4516  \n",
       "2     overcast clouds  2012-10-02 11:00:00            4767  \n",
       "3     overcast clouds  2012-10-02 12:00:00            5026  \n",
       "4       broken clouds  2012-10-02 13:00:00            4918  "
      ]
     },
     "execution_count": 3,
     "metadata": {},
     "output_type": "execute_result"
    }
   ],
   "source": [
    "df.head()"
   ]
  },
  {
   "cell_type": "code",
   "execution_count": 4,
   "metadata": {
    "ExecuteTime": {
     "end_time": "2020-03-02T14:49:33.041737Z",
     "start_time": "2020-03-02T14:49:33.003839Z"
    }
   },
   "outputs": [
    {
     "data": {
      "text/html": [
       "<div>\n",
       "<style scoped>\n",
       "    .dataframe tbody tr th:only-of-type {\n",
       "        vertical-align: middle;\n",
       "    }\n",
       "\n",
       "    .dataframe tbody tr th {\n",
       "        vertical-align: top;\n",
       "    }\n",
       "\n",
       "    .dataframe thead th {\n",
       "        text-align: right;\n",
       "    }\n",
       "</style>\n",
       "<table border=\"1\" class=\"dataframe\">\n",
       "  <thead>\n",
       "    <tr style=\"text-align: right;\">\n",
       "      <th></th>\n",
       "      <th>temp</th>\n",
       "      <th>rain_1h</th>\n",
       "      <th>snow_1h</th>\n",
       "      <th>clouds_all</th>\n",
       "      <th>traffic_volume</th>\n",
       "    </tr>\n",
       "  </thead>\n",
       "  <tbody>\n",
       "    <tr>\n",
       "      <th>count</th>\n",
       "      <td>48204.000000</td>\n",
       "      <td>48204.000000</td>\n",
       "      <td>48204.000000</td>\n",
       "      <td>48204.000000</td>\n",
       "      <td>48204.000000</td>\n",
       "    </tr>\n",
       "    <tr>\n",
       "      <th>mean</th>\n",
       "      <td>281.205870</td>\n",
       "      <td>0.334264</td>\n",
       "      <td>0.000222</td>\n",
       "      <td>49.362231</td>\n",
       "      <td>3259.818355</td>\n",
       "    </tr>\n",
       "    <tr>\n",
       "      <th>std</th>\n",
       "      <td>13.338232</td>\n",
       "      <td>44.789133</td>\n",
       "      <td>0.008168</td>\n",
       "      <td>39.015750</td>\n",
       "      <td>1986.860670</td>\n",
       "    </tr>\n",
       "    <tr>\n",
       "      <th>min</th>\n",
       "      <td>0.000000</td>\n",
       "      <td>0.000000</td>\n",
       "      <td>0.000000</td>\n",
       "      <td>0.000000</td>\n",
       "      <td>0.000000</td>\n",
       "    </tr>\n",
       "    <tr>\n",
       "      <th>25%</th>\n",
       "      <td>272.160000</td>\n",
       "      <td>0.000000</td>\n",
       "      <td>0.000000</td>\n",
       "      <td>1.000000</td>\n",
       "      <td>1193.000000</td>\n",
       "    </tr>\n",
       "    <tr>\n",
       "      <th>50%</th>\n",
       "      <td>282.450000</td>\n",
       "      <td>0.000000</td>\n",
       "      <td>0.000000</td>\n",
       "      <td>64.000000</td>\n",
       "      <td>3380.000000</td>\n",
       "    </tr>\n",
       "    <tr>\n",
       "      <th>75%</th>\n",
       "      <td>291.806000</td>\n",
       "      <td>0.000000</td>\n",
       "      <td>0.000000</td>\n",
       "      <td>90.000000</td>\n",
       "      <td>4933.000000</td>\n",
       "    </tr>\n",
       "    <tr>\n",
       "      <th>max</th>\n",
       "      <td>310.070000</td>\n",
       "      <td>9831.300000</td>\n",
       "      <td>0.510000</td>\n",
       "      <td>100.000000</td>\n",
       "      <td>7280.000000</td>\n",
       "    </tr>\n",
       "  </tbody>\n",
       "</table>\n",
       "</div>"
      ],
      "text/plain": [
       "               temp       rain_1h       snow_1h    clouds_all  traffic_volume\n",
       "count  48204.000000  48204.000000  48204.000000  48204.000000    48204.000000\n",
       "mean     281.205870      0.334264      0.000222     49.362231     3259.818355\n",
       "std       13.338232     44.789133      0.008168     39.015750     1986.860670\n",
       "min        0.000000      0.000000      0.000000      0.000000        0.000000\n",
       "25%      272.160000      0.000000      0.000000      1.000000     1193.000000\n",
       "50%      282.450000      0.000000      0.000000     64.000000     3380.000000\n",
       "75%      291.806000      0.000000      0.000000     90.000000     4933.000000\n",
       "max      310.070000   9831.300000      0.510000    100.000000     7280.000000"
      ]
     },
     "execution_count": 4,
     "metadata": {},
     "output_type": "execute_result"
    }
   ],
   "source": [
    "df.describe()"
   ]
  },
  {
   "cell_type": "code",
   "execution_count": 5,
   "metadata": {
    "ExecuteTime": {
     "end_time": "2020-03-02T14:49:49.415981Z",
     "start_time": "2020-03-02T14:49:49.396034Z"
    }
   },
   "outputs": [],
   "source": [
    "df.drop_duplicates(subset=['date_time'], keep=False,inplace=True)"
   ]
  },
  {
   "cell_type": "code",
   "execution_count": 6,
   "metadata": {
    "ExecuteTime": {
     "end_time": "2020-03-02T14:49:55.272345Z",
     "start_time": "2020-03-02T14:49:55.243422Z"
    }
   },
   "outputs": [],
   "source": [
    "holiday_le = preprocessing.LabelEncoder()\n",
    "df['holiday_le'] = holiday_le.fit_transform(df['holiday']) \n",
    "weather_main_le = preprocessing.LabelEncoder()\n",
    "df['weather_main_le'] = weather_main_le.fit_transform(df['weather_main']) \n",
    "weather_description_le = preprocessing.LabelEncoder()\n",
    "df['weather_description_le'] = weather_description_le.fit_transform(df['weather_description']) "
   ]
  },
  {
   "cell_type": "code",
   "execution_count": 7,
   "metadata": {
    "ExecuteTime": {
     "end_time": "2020-03-02T14:50:05.283593Z",
     "start_time": "2020-03-02T14:50:05.275613Z"
    }
   },
   "outputs": [],
   "source": [
    "df = df[['rain_1h','temp', 'snow_1h', 'clouds_all', 'holiday_le',\n",
    "    'weather_main_le', 'weather_description_le','traffic_volume']]"
   ]
  },
  {
   "cell_type": "code",
   "execution_count": 8,
   "metadata": {
    "ExecuteTime": {
     "end_time": "2020-03-02T14:50:14.292555Z",
     "start_time": "2020-03-02T14:50:14.284564Z"
    }
   },
   "outputs": [],
   "source": [
    "def custom_ts_multi_data_prep(dataset, target, start, end, window, horizon):\n",
    "    X = []\n",
    "    y = []\n",
    "    start = start + window\n",
    "    if end is None:\n",
    "        end = len(dataset) - horizon\n",
    "\n",
    "    for i in range(start, end):\n",
    "        indices = range(i-window, i)\n",
    "        X.append(dataset[indices])\n",
    "\n",
    "        indicey = range(i+1, i+1+horizon)\n",
    "        y.append(target[indicey])\n",
    "    return np.array(X), np.array(y)"
   ]
  },
  {
   "cell_type": "code",
   "execution_count": 9,
   "metadata": {
    "ExecuteTime": {
     "end_time": "2020-03-02T14:50:22.319106Z",
     "start_time": "2020-03-02T14:50:22.308104Z"
    }
   },
   "outputs": [],
   "source": [
    "validate = df[['rain_1h','temp', 'snow_1h', 'clouds_all', 'holiday_le',\n",
    "    'weather_main_le', 'weather_description_le','traffic_volume']].tail(10)\n",
    "df.drop(df.tail(10).index,inplace=True)"
   ]
  },
  {
   "cell_type": "code",
   "execution_count": 10,
   "metadata": {
    "ExecuteTime": {
     "end_time": "2020-03-02T14:50:27.473295Z",
     "start_time": "2020-03-02T14:50:27.455344Z"
    }
   },
   "outputs": [],
   "source": [
    "x_scaler = preprocessing.MinMaxScaler()\n",
    "y_scaler = preprocessing.MinMaxScaler()\n",
    "dataX = x_scaler.fit_transform(df[['rain_1h','temp', 'snow_1h', 'clouds_all', 'holiday_le',\n",
    "    'weather_main_le', 'weather_description_le','traffic_volume']])\n",
    "dataY = y_scaler.fit_transform(df[['traffic_volume']])"
   ]
  },
  {
   "cell_type": "code",
   "execution_count": 11,
   "metadata": {
    "ExecuteTime": {
     "end_time": "2020-03-02T14:50:36.362542Z",
     "start_time": "2020-03-02T14:50:35.159755Z"
    }
   },
   "outputs": [],
   "source": [
    "hist_window = 48\n",
    "horizon = 10\n",
    "TRAIN_SPLIT = 30000\n",
    "x_train_multi, y_train_multi = custom_ts_multi_data_prep(\n",
    "    dataX, dataY, 0, TRAIN_SPLIT, hist_window, horizon)\n",
    "x_val_multi, y_val_multi= custom_ts_multi_data_prep(\n",
    "    dataX, dataY, TRAIN_SPLIT, None, hist_window, horizon)"
   ]
  },
  {
   "cell_type": "code",
   "execution_count": 12,
   "metadata": {
    "ExecuteTime": {
     "end_time": "2020-03-02T14:50:42.641762Z",
     "start_time": "2020-03-02T14:50:42.627799Z"
    },
    "scrolled": true
   },
   "outputs": [
    {
     "name": "stdout",
     "output_type": "stream",
     "text": [
      "Single window of past history\n",
      "[[0.         0.92972555 0.         0.4        0.63636364 0.1\n",
      "  0.7        0.76167582]\n",
      " [0.         0.93320863 0.         0.75       0.63636364 0.1\n",
      "  0.06666667 0.62032967]\n",
      " [0.         0.93391815 0.         0.9        0.63636364 0.1\n",
      "  0.56666667 0.65480769]\n",
      " [0.         0.93569194 0.         0.9        0.63636364 0.1\n",
      "  0.56666667 0.69038462]\n",
      " [0.         0.93894927 0.         0.75       0.63636364 0.1\n",
      "  0.06666667 0.67554945]\n",
      " [0.         0.94081981 0.         0.01       0.63636364 0.\n",
      "  0.73333333 0.71167582]\n",
      " [0.         0.94549618 0.         0.01       0.63636364 0.\n",
      "  0.73333333 0.76703297]\n",
      " [0.         0.94772148 0.         0.01       0.63636364 0.\n",
      "  0.73333333 0.82623626]\n",
      " [0.         0.9486245  0.         0.2        0.63636364 0.1\n",
      "  0.13333333 0.79546703]\n",
      " [0.         0.94527042 0.         0.2        0.63636364 0.1\n",
      "  0.13333333 0.65521978]\n",
      " [0.         0.93840101 0.         0.2        0.63636364 0.1\n",
      "  0.13333333 0.48612637]\n",
      " [0.         0.93327313 0.         0.01       0.63636364 0.\n",
      "  0.73333333 0.38241758]\n",
      " [0.         0.93078982 0.         0.01       0.63636364 0.\n",
      "  0.73333333 0.32431319]\n",
      " [0.         0.92611346 0.         0.01       0.63636364 0.\n",
      "  0.73333333 0.21002747]\n",
      " [0.         0.92059857 0.         0.01       0.63636364 0.\n",
      "  0.73333333 0.13228022]\n",
      " [0.         0.91795401 0.         0.01       0.63636364 0.\n",
      "  0.73333333 0.06950549]\n",
      " [0.         0.91421292 0.         0.01       0.63636364 0.\n",
      "  0.73333333 0.04409341]\n",
      " [0.         0.90682749 0.         0.01       0.63636364 0.\n",
      "  0.73333333 0.0375    ]\n",
      " [0.         0.90653723 0.         0.01       0.63636364 0.\n",
      "  0.73333333 0.05041209]\n",
      " [0.         0.90150611 0.         0.01       0.63636364 0.\n",
      "  0.73333333 0.11181319]\n",
      " [0.         0.89857129 0.         0.01       0.63636364 0.\n",
      "  0.73333333 0.37335165]\n",
      " [0.         0.89731351 0.         0.01       0.63636364 0.\n",
      "  0.73333333 0.77925824]\n",
      " [0.         0.89695875 0.         0.01       0.63636364 0.\n",
      "  0.73333333 0.89436813]\n",
      " [0.         0.91102009 0.         0.01       0.63636364 0.\n",
      "  0.73333333 0.75151099]\n",
      " [0.         0.94162608 0.         0.01       0.63636364 0.\n",
      "  0.73333333 0.70013736]\n",
      " [0.         0.94568968 0.         0.01       0.63636364 0.\n",
      "  0.73333333 0.67129121]\n",
      " [0.         0.94917277 0.         0.01       0.63636364 0.\n",
      "  0.73333333 0.7331044 ]\n",
      " [0.         0.95194633 0.         0.01       0.63636364 0.\n",
      "  0.73333333 0.78186813]\n",
      " [0.         0.95181733 0.         0.01       0.63636364 0.\n",
      "  0.73333333 0.84299451]\n",
      " [0.         0.94707647 0.         0.2        0.63636364 0.1\n",
      "  0.13333333 0.63502747]\n",
      " [0.         0.93736898 0.         0.2        0.63636364 0.1\n",
      "  0.13333333 0.49326923]\n",
      " [0.         0.92943529 0.         0.2        0.63636364 0.1\n",
      "  0.13333333 0.39807692]\n",
      " [0.         0.92591995 0.         0.01       0.63636364 0.\n",
      "  0.73333333 0.36222527]\n",
      " [0.         0.92317864 0.         0.01       0.63636364 0.\n",
      "  0.73333333 0.24409341]\n",
      " [0.         0.91998581 0.         0.01       0.63636364 0.\n",
      "  0.73333333 0.13942308]\n",
      " [0.         0.917696   0.         0.01       0.63636364 0.\n",
      "  0.73333333 0.08214286]\n",
      " [0.         0.91421292 0.         0.01       0.63636364 0.\n",
      "  0.73333333 0.05068681]\n",
      " [0.         0.9132454  0.         0.01       0.63636364 0.\n",
      "  0.73333333 0.04285714]\n",
      " [0.         0.90960106 0.         0.01       0.63636364 0.\n",
      "  0.73333333 0.05041209]\n",
      " [0.         0.90847228 0.         0.01       0.63636364 0.\n",
      "  0.73333333 0.1146978 ]\n",
      " [0.         0.907279   0.         0.01       0.63636364 0.\n",
      "  0.73333333 0.37445055]\n",
      " [0.         0.90540846 0.         0.01       0.63636364 0.\n",
      "  0.73333333 0.78145604]\n",
      " [0.         0.90486019 0.         0.01       0.63636364 0.\n",
      "  0.73333333 0.96016484]\n",
      " [0.         0.90902054 0.         0.01       0.63636364 0.\n",
      "  0.73333333 0.82211538]\n",
      " [0.         0.91908279 0.         0.01       0.63636364 0.\n",
      "  0.73333333 0.72925824]\n",
      " [0.         0.93262812 0.         0.01       0.63636364 0.\n",
      "  0.73333333 0.63228022]\n",
      " [0.         0.94027155 0.         0.01       0.63636364 0.\n",
      "  0.73333333 0.67087912]\n",
      " [0.         0.95130132 0.         0.01       0.63636364 0.\n",
      "  0.73333333 0.7010989 ]]\n",
      "\n",
      " Target horizon\n",
      "[[0.75563187]\n",
      " [0.78475275]\n",
      " [0.86428571]\n",
      " [0.83200549]\n",
      " [0.67403846]\n",
      " [0.48118132]\n",
      " [0.41717033]\n",
      " [0.38763736]\n",
      " [0.27362637]\n",
      " [0.16016484]]\n"
     ]
    }
   ],
   "source": [
    "print ('Single window of past history')\n",
    "print(x_train_multi[0])\n",
    "print ('\\n Target horizon')\n",
    "print (y_train_multi[0])"
   ]
  },
  {
   "cell_type": "code",
   "execution_count": 13,
   "metadata": {
    "ExecuteTime": {
     "end_time": "2020-03-02T14:50:52.762715Z",
     "start_time": "2020-03-02T14:50:51.620768Z"
    }
   },
   "outputs": [],
   "source": [
    "BATCH_SIZE = 256\n",
    "BUFFER_SIZE = 150\n",
    "\n",
    "train_data_multi = tf.data.Dataset.from_tensor_slices((x_train_multi, y_train_multi))\n",
    "train_data_multi = train_data_multi.cache().shuffle(BUFFER_SIZE).batch(BATCH_SIZE).repeat()\n",
    "\n",
    "val_data_multi = tf.data.Dataset.from_tensor_slices((x_val_multi, y_val_multi))\n",
    "val_data_multi = val_data_multi.batch(BATCH_SIZE).repeat()"
   ]
  },
  {
   "cell_type": "code",
   "execution_count": 14,
   "metadata": {
    "ExecuteTime": {
     "end_time": "2020-03-02T14:51:01.755685Z",
     "start_time": "2020-03-02T14:51:01.613069Z"
    }
   },
   "outputs": [],
   "source": [
    "model = Sequential()\n",
    "model.add(Conv1D(filters=64, kernel_size=3, activation='relu', input_shape=(x_train_multi.shape[1], x_train_multi.shape[2])))\n",
    "model.add(MaxPool1D(pool_size=2))\n",
    "model.add(Dropout(0.2))\n",
    "model.add(Flatten())\n",
    "model.add(Dense(30, activation='relu'))\n",
    "model.add(Dropout(0.2))\n",
    "model.add(Dense(horizon))\n",
    "model.compile(optimizer='adam', loss='mse')"
   ]
  },
  {
   "cell_type": "code",
   "execution_count": 15,
   "metadata": {
    "ExecuteTime": {
     "end_time": "2020-03-02T14:51:12.247691Z",
     "start_time": "2020-03-02T14:51:12.243661Z"
    }
   },
   "outputs": [],
   "source": [
    "model_path = r'\\Chapter 7\\CNN_Multivariate.h5'"
   ]
  },
  {
   "cell_type": "code",
   "execution_count": 16,
   "metadata": {
    "ExecuteTime": {
     "end_time": "2020-03-02T14:52:13.931812Z",
     "start_time": "2020-03-02T14:51:25.540129Z"
    },
    "scrolled": true
   },
   "outputs": [
    {
     "name": "stdout",
     "output_type": "stream",
     "text": [
      "Train for 100 steps, validate for 50 steps\n",
      "Epoch 1/150\n",
      "100/100 [==============================] - 3s 34ms/step - loss: 0.1054 - val_loss: 0.0604\n",
      "Epoch 2/150\n",
      "100/100 [==============================] - 3s 28ms/step - loss: 0.0766 - val_loss: 0.0591\n",
      "Epoch 3/150\n",
      "100/100 [==============================] - 1s 8ms/step - loss: 0.0690 - val_loss: 0.0583\n",
      "Epoch 4/150\n",
      "100/100 [==============================] - 1s 8ms/step - loss: 0.0594 - val_loss: 0.0462\n",
      "Epoch 5/150\n",
      "100/100 [==============================] - 1s 8ms/step - loss: 0.0586 - val_loss: 0.0461\n",
      "Epoch 6/150\n",
      "100/100 [==============================] - 1s 8ms/step - loss: 0.0537 - val_loss: 0.0432\n",
      "Epoch 7/150\n",
      "100/100 [==============================] - 1s 8ms/step - loss: 0.0516 - val_loss: 0.0402\n",
      "Epoch 8/150\n",
      "100/100 [==============================] - 1s 8ms/step - loss: 0.0507 - val_loss: 0.0394\n",
      "Epoch 9/150\n",
      "100/100 [==============================] - 1s 7ms/step - loss: 0.0491 - val_loss: 0.0419\n",
      "Epoch 10/150\n",
      "100/100 [==============================] - 1s 7ms/step - loss: 0.0473 - val_loss: 0.0521\n",
      "Epoch 11/150\n",
      "100/100 [==============================] - 1s 8ms/step - loss: 0.0438 - val_loss: 0.0366\n",
      "Epoch 12/150\n",
      "100/100 [==============================] - 1s 7ms/step - loss: 0.0461 - val_loss: 0.0368\n",
      "Epoch 13/150\n",
      "100/100 [==============================] - 1s 7ms/step - loss: 0.0432 - val_loss: 0.0381\n",
      "Epoch 14/150\n",
      "100/100 [==============================] - 1s 7ms/step - loss: 0.0437 - val_loss: 0.0340\n",
      "Epoch 15/150\n",
      "100/100 [==============================] - 1s 7ms/step - loss: 0.0436 - val_loss: 0.0343\n",
      "Epoch 16/150\n",
      "100/100 [==============================] - 1s 7ms/step - loss: 0.0431 - val_loss: 0.0371\n",
      "Epoch 17/150\n",
      "100/100 [==============================] - 1s 7ms/step - loss: 0.0405 - val_loss: 0.0399\n",
      "Epoch 18/150\n",
      "100/100 [==============================] - 1s 7ms/step - loss: 0.0393 - val_loss: 0.0344\n",
      "Epoch 19/150\n",
      "100/100 [==============================] - 1s 8ms/step - loss: 0.0416 - val_loss: 0.0336\n",
      "Epoch 20/150\n",
      "100/100 [==============================] - 1s 7ms/step - loss: 0.0388 - val_loss: 0.0344\n",
      "Epoch 21/150\n",
      "100/100 [==============================] - 1s 8ms/step - loss: 0.0396 - val_loss: 0.0318\n",
      "Epoch 22/150\n",
      "100/100 [==============================] - 1s 7ms/step - loss: 0.0397 - val_loss: 0.0329\n",
      "Epoch 23/150\n",
      "100/100 [==============================] - 1s 7ms/step - loss: 0.0400 - val_loss: 0.0371\n",
      "Epoch 24/150\n",
      "100/100 [==============================] - 1s 7ms/step - loss: 0.0370 - val_loss: 0.0328\n",
      "Epoch 25/150\n",
      "100/100 [==============================] - 1s 7ms/step - loss: 0.0370 - val_loss: 0.0341\n",
      "Epoch 26/150\n",
      "100/100 [==============================] - 1s 8ms/step - loss: 0.0385 - val_loss: 0.0314\n",
      "Epoch 27/150\n",
      "100/100 [==============================] - 1s 7ms/step - loss: 0.0364 - val_loss: 0.0324\n",
      "Epoch 28/150\n",
      "100/100 [==============================] - 1s 8ms/step - loss: 0.0377 - val_loss: 0.0308\n",
      "Epoch 29/150\n",
      "100/100 [==============================] - 1s 7ms/step - loss: 0.0373 - val_loss: 0.0327\n",
      "Epoch 30/150\n",
      "100/100 [==============================] - 1s 7ms/step - loss: 0.0380 - val_loss: 0.0364\n",
      "Epoch 31/150\n",
      "100/100 [==============================] - 1s 8ms/step - loss: 0.0342 - val_loss: 0.0302\n",
      "Epoch 32/150\n",
      "100/100 [==============================] - 1s 7ms/step - loss: 0.0357 - val_loss: 0.0333\n",
      "Epoch 33/150\n",
      "100/100 [==============================] - 1s 7ms/step - loss: 0.0360 - val_loss: 0.0308\n",
      "Epoch 34/150\n",
      "100/100 [==============================] - 1s 7ms/step - loss: 0.0350 - val_loss: 0.0314\n",
      "Epoch 35/150\n",
      "100/100 [==============================] - 1s 7ms/step - loss: 0.0364 - val_loss: 0.0301\n",
      "Epoch 36/150\n",
      "100/100 [==============================] - 1s 7ms/step - loss: 0.0358 - val_loss: 0.0326\n",
      "Epoch 37/150\n",
      "100/100 [==============================] - 1s 7ms/step - loss: 0.0360 - val_loss: 0.0368\n",
      "Epoch 38/150\n",
      "100/100 [==============================] - 1s 7ms/step - loss: 0.0324 - val_loss: 0.0301\n",
      "Epoch 39/150\n",
      "100/100 [==============================] - 1s 7ms/step - loss: 0.0351 - val_loss: 0.0333\n",
      "Epoch 40/150\n",
      "100/100 [==============================] - 1s 7ms/step - loss: 0.0342 - val_loss: 0.0304\n",
      "Epoch 41/150\n",
      "100/100 [==============================] - 1s 7ms/step - loss: 0.0336 - val_loss: 0.0307\n",
      "Epoch 42/150\n",
      "100/100 [==============================] - 1s 8ms/step - loss: 0.0348 - val_loss: 0.0301\n",
      "Epoch 43/150\n",
      "100/100 [==============================] - 1s 7ms/step - loss: 0.0344 - val_loss: 0.0316\n",
      "Epoch 44/150\n",
      "100/100 [==============================] - 1s 8ms/step - loss: 0.0349 - val_loss: 0.0356\n",
      "Epoch 45/150\n",
      "100/100 [==============================] - 1s 7ms/step - loss: 0.0307 - val_loss: 0.0305\n",
      "Epoch 46/150\n",
      "100/100 [==============================] - 1s 7ms/step - loss: 0.0343 - val_loss: 0.0322\n",
      "Epoch 47/150\n",
      "100/100 [==============================] - 1s 7ms/step - loss: 0.0330 - val_loss: 0.0305\n",
      "Epoch 48/150\n",
      "100/100 [==============================] - 1s 7ms/step - loss: 0.0324 - val_loss: 0.0302\n",
      "Epoch 49/150\n",
      "100/100 [==============================] - 1s 7ms/step - loss: 0.0335 - val_loss: 0.0290\n",
      "Epoch 50/150\n",
      "100/100 [==============================] - 1s 7ms/step - loss: 0.0334 - val_loss: 0.0310\n",
      "Epoch 51/150\n",
      "100/100 [==============================] - 1s 7ms/step - loss: 0.0341 - val_loss: 0.0363\n",
      "Epoch 52/150\n",
      "100/100 [==============================] - 1s 7ms/step - loss: 0.0298 - val_loss: 0.0307\n",
      "Epoch 53/150\n",
      "100/100 [==============================] - 1s 7ms/step - loss: 0.0337 - val_loss: 0.0320\n",
      "Epoch 54/150\n",
      "100/100 [==============================] - 1s 7ms/step - loss: 0.0319 - val_loss: 0.0304\n",
      "Epoch 55/150\n",
      "100/100 [==============================] - 1s 7ms/step - loss: 0.0321 - val_loss: 0.0296\n",
      "Epoch 56/150\n",
      "100/100 [==============================] - 1s 7ms/step - loss: 0.0330 - val_loss: 0.0294\n",
      "Epoch 57/150\n",
      "100/100 [==============================] - 1s 8ms/step - loss: 0.0326 - val_loss: 0.0312\n",
      "Epoch 58/150\n",
      "100/100 [==============================] - 1s 7ms/step - loss: 0.0335 - val_loss: 0.0358\n",
      "Epoch 59/150\n",
      "100/100 [==============================] - 1s 7ms/step - loss: 0.0297 - val_loss: 0.0306\n",
      "Epoch 00059: early stopping\n"
     ]
    }
   ],
   "source": [
    "EVALUATION_INTERVAL = 100\n",
    "EPOCHS = 150\n",
    "history = model.fit(train_data_multi, epochs=EPOCHS, steps_per_epoch=EVALUATION_INTERVAL, validation_data=val_data_multi, validation_steps=50, verbose=1,\n",
    "                                   callbacks=[tf.keras.callbacks.EarlyStopping(monitor='val_loss', min_delta=0, patience=10, verbose=1, mode='min'), tf.keras.callbacks.ModelCheckpoint(model_path, monitor='val_loss', save_best_only=True, mode='min', verbose=0)])"
   ]
  },
  {
   "cell_type": "code",
   "execution_count": 17,
   "metadata": {
    "ExecuteTime": {
     "end_time": "2020-03-02T14:53:23.657487Z",
     "start_time": "2020-03-02T14:53:23.145853Z"
    }
   },
   "outputs": [],
   "source": [
    "Trained_model = tf.keras.models.load_model(model_path)"
   ]
  },
  {
   "cell_type": "code",
   "execution_count": 18,
   "metadata": {
    "ExecuteTime": {
     "end_time": "2020-03-02T14:53:24.691724Z",
     "start_time": "2020-03-02T14:53:24.682753Z"
    }
   },
   "outputs": [
    {
     "name": "stdout",
     "output_type": "stream",
     "text": [
      "Model: \"sequential\"\n",
      "_________________________________________________________________\n",
      "Layer (type)                 Output Shape              Param #   \n",
      "=================================================================\n",
      "conv1d (Conv1D)              (None, 46, 64)            1600      \n",
      "_________________________________________________________________\n",
      "max_pooling1d (MaxPooling1D) (None, 23, 64)            0         \n",
      "_________________________________________________________________\n",
      "dropout (Dropout)            (None, 23, 64)            0         \n",
      "_________________________________________________________________\n",
      "flatten (Flatten)            (None, 1472)              0         \n",
      "_________________________________________________________________\n",
      "dense (Dense)                (None, 30)                44190     \n",
      "_________________________________________________________________\n",
      "dropout_1 (Dropout)          (None, 30)                0         \n",
      "_________________________________________________________________\n",
      "dense_1 (Dense)              (None, 10)                310       \n",
      "=================================================================\n",
      "Total params: 46,100\n",
      "Trainable params: 46,100\n",
      "Non-trainable params: 0\n",
      "_________________________________________________________________\n"
     ]
    }
   ],
   "source": [
    "# Show the model architecture\n",
    "Trained_model.summary()"
   ]
  },
  {
   "cell_type": "code",
   "execution_count": 20,
   "metadata": {
    "ExecuteTime": {
     "end_time": "2020-03-02T14:53:28.568399Z",
     "start_time": "2020-03-02T14:53:28.319030Z"
    }
   },
   "outputs": [
    {
     "data": {
      "image/png": "[encoded data removed]",
      "text/plain": [
       "<Figure size 1152x648 with 1 Axes>"
      ]
     },
     "metadata": {
      "needs_background": "light"
     },
     "output_type": "display_data"
    }
   ],
   "source": [
    "plt.plot(history.history['loss'])\n",
    "plt.plot(history.history['val_loss'])\n",
    "plt.title('Model loss')\n",
    "plt.ylabel('loss')\n",
    "plt.xlabel('epoch')\n",
    "plt.legend(['train loss', 'validation loss'], loc='upper left')\n",
    "plt.rcParams[\"figure.figsize\"] = [16,9]\n",
    "plt.show()"
   ]
  },
  {
   "cell_type": "code",
   "execution_count": 21,
   "metadata": {
    "ExecuteTime": {
     "end_time": "2020-03-02T14:53:30.688698Z",
     "start_time": "2020-03-02T14:53:30.679721Z"
    }
   },
   "outputs": [],
   "source": [
    "data_val = x_scaler.fit_transform(df[['rain_1h','temp', 'snow_1h', 'clouds_all', 'holiday_le',\n",
    "    'weather_main_le', 'weather_description_le','traffic_volume']].tail(48))"
   ]
  },
  {
   "cell_type": "code",
   "execution_count": 22,
   "metadata": {
    "ExecuteTime": {
     "end_time": "2020-03-02T14:53:32.001192Z",
     "start_time": "2020-03-02T14:53:31.997200Z"
    },
    "scrolled": true
   },
   "outputs": [],
   "source": [
    "val_rescaled = data_val.reshape(1, data_val.shape[0], data_val.shape[1])"
   ]
  },
  {
   "cell_type": "code",
   "execution_count": 23,
   "metadata": {
    "ExecuteTime": {
     "end_time": "2020-03-02T14:53:34.098625Z",
     "start_time": "2020-03-02T14:53:33.963948Z"
    }
   },
   "outputs": [],
   "source": [
    "Predicted_results = Trained_model.predict(val_rescaled)"
   ]
  },
  {
   "cell_type": "code",
   "execution_count": 24,
   "metadata": {
    "ExecuteTime": {
     "end_time": "2020-03-02T14:53:35.261477Z",
     "start_time": "2020-03-02T14:53:35.255494Z"
    }
   },
   "outputs": [
    {
     "data": {
      "text/plain": [
       "array([[0.79223406, 0.72710294, 0.7083809 , 0.69858336, 0.66632664,\n",
       "        0.6146801 , 0.5908397 , 0.572573  , 0.5436355 , 0.46793848]],\n",
       "      dtype=float32)"
      ]
     },
     "execution_count": 24,
     "metadata": {},
     "output_type": "execute_result"
    }
   ],
   "source": [
    "Predicted_results"
   ]
  },
  {
   "cell_type": "code",
   "execution_count": 25,
   "metadata": {
    "ExecuteTime": {
     "end_time": "2020-03-02T14:53:37.025763Z",
     "start_time": "2020-03-02T14:53:37.021774Z"
    }
   },
   "outputs": [],
   "source": [
    "Predicted_results_Inv_trans = y_scaler.inverse_transform(Predicted_results)"
   ]
  },
  {
   "cell_type": "code",
   "execution_count": 26,
   "metadata": {
    "ExecuteTime": {
     "end_time": "2020-03-02T14:53:37.945306Z",
     "start_time": "2020-03-02T14:53:37.940319Z"
    }
   },
   "outputs": [
    {
     "data": {
      "text/plain": [
       "array([[5767.464 , 5293.3096, 5157.0127, 5085.687 , 4850.858 , 4474.871 ,\n",
       "        4301.313 , 4168.3315, 3957.6663, 3406.592 ]], dtype=float32)"
      ]
     },
     "execution_count": 26,
     "metadata": {},
     "output_type": "execute_result"
    }
   ],
   "source": [
    "Predicted_results_Inv_trans"
   ]
  },
  {
   "cell_type": "code",
   "execution_count": 27,
   "metadata": {
    "ExecuteTime": {
     "end_time": "2020-03-02T14:53:40.146461Z",
     "start_time": "2020-03-02T14:53:40.115507Z"
    }
   },
   "outputs": [],
   "source": [
    "from sklearn import metrics\n",
    "def timeseries_evaluation_metrics_func(y_true, y_pred):\n",
    "    \n",
    "    def mean_absolute_percentage_error(y_true, y_pred): \n",
    "        y_true, y_pred = np.array(y_true), np.array(y_pred)\n",
    "        return np.mean(np.abs((y_true - y_pred) / y_true)) * 100\n",
    "    print('Evaluation metric results:-')\n",
    "    print(f'MSE is : {metrics.mean_squared_error(y_true, y_pred)}')\n",
    "    print(f'MAE is : {metrics.mean_absolute_error(y_true, y_pred)}')\n",
    "    print(f'RMSE is : {np.sqrt(metrics.mean_squared_error(y_true, y_pred))}')\n",
    "    print(f'MAPE is : {mean_absolute_percentage_error(y_true, y_pred)}')\n",
    "    print(f'R2 is : {metrics.r2_score(y_true, y_pred)}',end='\\n\\n')"
   ]
  },
  {
   "cell_type": "code",
   "execution_count": 28,
   "metadata": {
    "ExecuteTime": {
     "end_time": "2020-03-02T14:53:41.829926Z",
     "start_time": "2020-03-02T14:53:41.819953Z"
    }
   },
   "outputs": [
    {
     "name": "stdout",
     "output_type": "stream",
     "text": [
      "Evaluation metric results:-\n",
      "MSE is : 2435958.60854398\n",
      "MAE is : 1423.810498046875\n",
      "RMSE is : 1560.7557811983206\n",
      "MAPE is : 71.70855471685768\n",
      "R2 is : -0.5814609945552476\n",
      "\n"
     ]
    }
   ],
   "source": [
    "timeseries_evaluation_metrics_func(validate['traffic_volume'],Predicted_results_Inv_trans[0])"
   ]
  },
  {
   "cell_type": "code",
   "execution_count": 29,
   "metadata": {
    "ExecuteTime": {
     "end_time": "2020-03-02T14:53:53.470817Z",
     "start_time": "2020-03-02T14:53:53.135713Z"
    }
   },
   "outputs": [
    {
     "data": {
      "image/png": "[encoded data removed]",
      "text/plain": [
       "<Figure size 1152x648 with 1 Axes>"
      ]
     },
     "metadata": {
      "needs_background": "light"
     },
     "output_type": "display_data"
    }
   ],
   "source": [
    "plt.plot( list(validate['traffic_volume']))\n",
    "plt.plot( list(Predicted_results_Inv_trans[0]))\n",
    "plt.title(\"Actual vs Predicted\")\n",
    "plt.ylabel(\"Traffic volume\")\n",
    "plt.legend(('Actual','predicted'))\n",
    "plt.show()\n"
   ]
  }
 ],
 "metadata": {
  "kernelspec": {
   "display_name": "Python 3",
   "language": "python",
   "name": "python3"
  },
  "language_info": {
   "codemirror_mode": {
    "name": "ipython",
    "version": 3
   },
   "file_extension": ".py",
   "mimetype": "text/x-python",
   "name": "python",
   "nbconvert_exporter": "python",
   "pygments_lexer": "ipython3",
   "version": "3.7.3"
  },
  "latex_envs": {
   "LaTeX_envs_menu_present": true,
   "autoclose": false,
   "autocomplete": true,
   "bibliofile": "biblio.bib",
   "cite_by": "apalike",
   "current_citInitial": 1,
   "eqLabelWithNumbers": true,
   "eqNumInitial": 1,
   "hotkeys": {
    "equation": "Ctrl-E",
    "itemize": "Ctrl-I"
   },
   "labels_anchors": false,
   "latex_user_defs": false,
   "report_style_numbering": false,
   "user_envs_cfg": false
  },
  "nbTranslate": {
   "displayLangs": [
    "*"
   ],
   "hotkey": "alt-t",
   "langInMainMenu": true,
   "sourceLang": "en",
   "targetLang": "fr",
   "useGoogleTranslate": true
  }
 },
 "nbformat": 4,
 "nbformat_minor": 2
}

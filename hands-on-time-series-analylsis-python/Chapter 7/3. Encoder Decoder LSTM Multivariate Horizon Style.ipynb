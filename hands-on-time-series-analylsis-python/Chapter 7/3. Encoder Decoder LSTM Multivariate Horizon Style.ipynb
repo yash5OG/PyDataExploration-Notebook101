{
 "cells": [
  {
   "cell_type": "code",
   "execution_count": 2,
   "metadata": {
    "ExecuteTime": {
     "end_time": "2020-03-02T15:15:24.546918Z",
     "start_time": "2020-03-02T15:15:24.541895Z"
    }
   },
   "outputs": [],
   "source": [
    "import pandas as pd\n",
    "import numpy as np\n",
    "import tensorflow as tf\n",
    "from sklearn import preprocessing\n",
    "import matplotlib.pyplot as plt\n",
    "tf.random.set_seed(123)\n",
    "np.random.seed(123)"
   ]
  },
  {
   "cell_type": "code",
   "execution_count": 3,
   "metadata": {
    "ExecuteTime": {
     "end_time": "2020-03-02T15:15:30.273612Z",
     "start_time": "2020-03-02T15:15:30.185819Z"
    }
   },
   "outputs": [],
   "source": [
    "df = pd.read_csv(r'G:\\Study and WorkRelated\\Book Proposal\\book\\Code and Data\\Data\\Metro_Interstate_Traffic_Volume.csv')"
   ]
  },
  {
   "cell_type": "code",
   "execution_count": 4,
   "metadata": {
    "ExecuteTime": {
     "end_time": "2020-03-02T15:15:32.505614Z",
     "start_time": "2020-03-02T15:15:32.484670Z"
    }
   },
   "outputs": [
    {
     "data": {
      "text/html": [
       "<div>\n",
       "<style scoped>\n",
       "    .dataframe tbody tr th:only-of-type {\n",
       "        vertical-align: middle;\n",
       "    }\n",
       "\n",
       "    .dataframe tbody tr th {\n",
       "        vertical-align: top;\n",
       "    }\n",
       "\n",
       "    .dataframe thead th {\n",
       "        text-align: right;\n",
       "    }\n",
       "</style>\n",
       "<table border=\"1\" class=\"dataframe\">\n",
       "  <thead>\n",
       "    <tr style=\"text-align: right;\">\n",
       "      <th></th>\n",
       "      <th>holiday</th>\n",
       "      <th>temp</th>\n",
       "      <th>rain_1h</th>\n",
       "      <th>snow_1h</th>\n",
       "      <th>clouds_all</th>\n",
       "      <th>weather_main</th>\n",
       "      <th>weather_description</th>\n",
       "      <th>date_time</th>\n",
       "      <th>traffic_volume</th>\n",
       "    </tr>\n",
       "  </thead>\n",
       "  <tbody>\n",
       "    <tr>\n",
       "      <th>0</th>\n",
       "      <td>None</td>\n",
       "      <td>288.28</td>\n",
       "      <td>0.0</td>\n",
       "      <td>0.0</td>\n",
       "      <td>40</td>\n",
       "      <td>Clouds</td>\n",
       "      <td>scattered clouds</td>\n",
       "      <td>2012-10-02 09:00:00</td>\n",
       "      <td>5545</td>\n",
       "    </tr>\n",
       "    <tr>\n",
       "      <th>1</th>\n",
       "      <td>None</td>\n",
       "      <td>289.36</td>\n",
       "      <td>0.0</td>\n",
       "      <td>0.0</td>\n",
       "      <td>75</td>\n",
       "      <td>Clouds</td>\n",
       "      <td>broken clouds</td>\n",
       "      <td>2012-10-02 10:00:00</td>\n",
       "      <td>4516</td>\n",
       "    </tr>\n",
       "    <tr>\n",
       "      <th>2</th>\n",
       "      <td>None</td>\n",
       "      <td>289.58</td>\n",
       "      <td>0.0</td>\n",
       "      <td>0.0</td>\n",
       "      <td>90</td>\n",
       "      <td>Clouds</td>\n",
       "      <td>overcast clouds</td>\n",
       "      <td>2012-10-02 11:00:00</td>\n",
       "      <td>4767</td>\n",
       "    </tr>\n",
       "    <tr>\n",
       "      <th>3</th>\n",
       "      <td>None</td>\n",
       "      <td>290.13</td>\n",
       "      <td>0.0</td>\n",
       "      <td>0.0</td>\n",
       "      <td>90</td>\n",
       "      <td>Clouds</td>\n",
       "      <td>overcast clouds</td>\n",
       "      <td>2012-10-02 12:00:00</td>\n",
       "      <td>5026</td>\n",
       "    </tr>\n",
       "    <tr>\n",
       "      <th>4</th>\n",
       "      <td>None</td>\n",
       "      <td>291.14</td>\n",
       "      <td>0.0</td>\n",
       "      <td>0.0</td>\n",
       "      <td>75</td>\n",
       "      <td>Clouds</td>\n",
       "      <td>broken clouds</td>\n",
       "      <td>2012-10-02 13:00:00</td>\n",
       "      <td>4918</td>\n",
       "    </tr>\n",
       "  </tbody>\n",
       "</table>\n",
       "</div>"
      ],
      "text/plain": [
       "  holiday    temp  rain_1h  snow_1h  clouds_all weather_main  \\\n",
       "0    None  288.28      0.0      0.0          40       Clouds   \n",
       "1    None  289.36      0.0      0.0          75       Clouds   \n",
       "2    None  289.58      0.0      0.0          90       Clouds   \n",
       "3    None  290.13      0.0      0.0          90       Clouds   \n",
       "4    None  291.14      0.0      0.0          75       Clouds   \n",
       "\n",
       "  weather_description            date_time  traffic_volume  \n",
       "0    scattered clouds  2012-10-02 09:00:00            5545  \n",
       "1       broken clouds  2012-10-02 10:00:00            4516  \n",
       "2     overcast clouds  2012-10-02 11:00:00            4767  \n",
       "3     overcast clouds  2012-10-02 12:00:00            5026  \n",
       "4       broken clouds  2012-10-02 13:00:00            4918  "
      ]
     },
     "execution_count": 4,
     "metadata": {},
     "output_type": "execute_result"
    }
   ],
   "source": [
    "df.head()"
   ]
  },
  {
   "cell_type": "code",
   "execution_count": 5,
   "metadata": {
    "ExecuteTime": {
     "end_time": "2020-03-02T15:15:33.957734Z",
     "start_time": "2020-03-02T15:15:33.914878Z"
    }
   },
   "outputs": [
    {
     "data": {
      "text/html": [
       "<div>\n",
       "<style scoped>\n",
       "    .dataframe tbody tr th:only-of-type {\n",
       "        vertical-align: middle;\n",
       "    }\n",
       "\n",
       "    .dataframe tbody tr th {\n",
       "        vertical-align: top;\n",
       "    }\n",
       "\n",
       "    .dataframe thead th {\n",
       "        text-align: right;\n",
       "    }\n",
       "</style>\n",
       "<table border=\"1\" class=\"dataframe\">\n",
       "  <thead>\n",
       "    <tr style=\"text-align: right;\">\n",
       "      <th></th>\n",
       "      <th>temp</th>\n",
       "      <th>rain_1h</th>\n",
       "      <th>snow_1h</th>\n",
       "      <th>clouds_all</th>\n",
       "      <th>traffic_volume</th>\n",
       "    </tr>\n",
       "  </thead>\n",
       "  <tbody>\n",
       "    <tr>\n",
       "      <th>count</th>\n",
       "      <td>48204.000000</td>\n",
       "      <td>48204.000000</td>\n",
       "      <td>48204.000000</td>\n",
       "      <td>48204.000000</td>\n",
       "      <td>48204.000000</td>\n",
       "    </tr>\n",
       "    <tr>\n",
       "      <th>mean</th>\n",
       "      <td>281.205870</td>\n",
       "      <td>0.334264</td>\n",
       "      <td>0.000222</td>\n",
       "      <td>49.362231</td>\n",
       "      <td>3259.818355</td>\n",
       "    </tr>\n",
       "    <tr>\n",
       "      <th>std</th>\n",
       "      <td>13.338232</td>\n",
       "      <td>44.789133</td>\n",
       "      <td>0.008168</td>\n",
       "      <td>39.015750</td>\n",
       "      <td>1986.860670</td>\n",
       "    </tr>\n",
       "    <tr>\n",
       "      <th>min</th>\n",
       "      <td>0.000000</td>\n",
       "      <td>0.000000</td>\n",
       "      <td>0.000000</td>\n",
       "      <td>0.000000</td>\n",
       "      <td>0.000000</td>\n",
       "    </tr>\n",
       "    <tr>\n",
       "      <th>25%</th>\n",
       "      <td>272.160000</td>\n",
       "      <td>0.000000</td>\n",
       "      <td>0.000000</td>\n",
       "      <td>1.000000</td>\n",
       "      <td>1193.000000</td>\n",
       "    </tr>\n",
       "    <tr>\n",
       "      <th>50%</th>\n",
       "      <td>282.450000</td>\n",
       "      <td>0.000000</td>\n",
       "      <td>0.000000</td>\n",
       "      <td>64.000000</td>\n",
       "      <td>3380.000000</td>\n",
       "    </tr>\n",
       "    <tr>\n",
       "      <th>75%</th>\n",
       "      <td>291.806000</td>\n",
       "      <td>0.000000</td>\n",
       "      <td>0.000000</td>\n",
       "      <td>90.000000</td>\n",
       "      <td>4933.000000</td>\n",
       "    </tr>\n",
       "    <tr>\n",
       "      <th>max</th>\n",
       "      <td>310.070000</td>\n",
       "      <td>9831.300000</td>\n",
       "      <td>0.510000</td>\n",
       "      <td>100.000000</td>\n",
       "      <td>7280.000000</td>\n",
       "    </tr>\n",
       "  </tbody>\n",
       "</table>\n",
       "</div>"
      ],
      "text/plain": [
       "               temp       rain_1h       snow_1h    clouds_all  traffic_volume\n",
       "count  48204.000000  48204.000000  48204.000000  48204.000000    48204.000000\n",
       "mean     281.205870      0.334264      0.000222     49.362231     3259.818355\n",
       "std       13.338232     44.789133      0.008168     39.015750     1986.860670\n",
       "min        0.000000      0.000000      0.000000      0.000000        0.000000\n",
       "25%      272.160000      0.000000      0.000000      1.000000     1193.000000\n",
       "50%      282.450000      0.000000      0.000000     64.000000     3380.000000\n",
       "75%      291.806000      0.000000      0.000000     90.000000     4933.000000\n",
       "max      310.070000   9831.300000      0.510000    100.000000     7280.000000"
      ]
     },
     "execution_count": 5,
     "metadata": {},
     "output_type": "execute_result"
    }
   ],
   "source": [
    "df.describe()"
   ]
  },
  {
   "cell_type": "code",
   "execution_count": 6,
   "metadata": {
    "ExecuteTime": {
     "end_time": "2020-03-02T15:15:41.287152Z",
     "start_time": "2020-03-02T15:15:41.266205Z"
    }
   },
   "outputs": [],
   "source": [
    "df.drop_duplicates(subset=['date_time'], keep=False,inplace=True)"
   ]
  },
  {
   "cell_type": "code",
   "execution_count": 7,
   "metadata": {
    "ExecuteTime": {
     "end_time": "2020-03-02T15:15:49.683745Z",
     "start_time": "2020-03-02T15:15:49.645813Z"
    }
   },
   "outputs": [],
   "source": [
    "holiday_le = preprocessing.LabelEncoder()\n",
    "df['holiday_le'] = holiday_le.fit_transform(df['holiday']) \n",
    "weather_main_le = preprocessing.LabelEncoder()\n",
    "df['weather_main_le'] = weather_main_le.fit_transform(df['weather_main']) \n",
    "weather_description_le = preprocessing.LabelEncoder()\n",
    "df['weather_description_le'] = weather_description_le.fit_transform(df['weather_description']) "
   ]
  },
  {
   "cell_type": "code",
   "execution_count": 8,
   "metadata": {
    "ExecuteTime": {
     "end_time": "2020-03-02T15:15:57.564651Z",
     "start_time": "2020-03-02T15:15:57.554679Z"
    }
   },
   "outputs": [],
   "source": [
    "df = df[['rain_1h','temp', 'snow_1h', 'clouds_all', 'holiday_le',\n",
    "    'weather_main_le', 'weather_description_le','traffic_volume']]"
   ]
  },
  {
   "cell_type": "code",
   "execution_count": 9,
   "metadata": {
    "ExecuteTime": {
     "end_time": "2020-03-02T15:16:05.155368Z",
     "start_time": "2020-03-02T15:16:05.149383Z"
    }
   },
   "outputs": [],
   "source": [
    "def custom_ts_multi_data_prep(dataset, target, start, end, window, horizon):\n",
    "    X = []\n",
    "    y = []\n",
    "    start = start + window\n",
    "    if end is None:\n",
    "        end = len(dataset) - horizon\n",
    "\n",
    "    for i in range(start, end):\n",
    "        indices = range(i-window, i)\n",
    "        X.append(dataset[indices])\n",
    "\n",
    "        indicey = range(i+1, i+1+horizon)\n",
    "        y.append(target[indicey])\n",
    "    return np.array(X), np.array(y)"
   ]
  },
  {
   "cell_type": "code",
   "execution_count": 10,
   "metadata": {
    "ExecuteTime": {
     "end_time": "2020-03-02T15:16:17.737317Z",
     "start_time": "2020-03-02T15:16:17.725346Z"
    }
   },
   "outputs": [],
   "source": [
    "validate = df[['rain_1h','temp', 'snow_1h', 'clouds_all', 'holiday_le',\n",
    "    'weather_main_le', 'weather_description_le','traffic_volume']].tail(10)\n",
    "df.drop(df.tail(10).index,inplace=True)"
   ]
  },
  {
   "cell_type": "code",
   "execution_count": 11,
   "metadata": {
    "ExecuteTime": {
     "end_time": "2020-03-02T15:16:22.918504Z",
     "start_time": "2020-03-02T15:16:22.897526Z"
    }
   },
   "outputs": [],
   "source": [
    "x_scaler = preprocessing.MinMaxScaler()\n",
    "y_scaler = preprocessing.MinMaxScaler()\n",
    "dataX = x_scaler.fit_transform(df[['rain_1h','temp', 'snow_1h', 'clouds_all', 'holiday_le',\n",
    "    'weather_main_le', 'weather_description_le','traffic_volume']])\n",
    "dataY = y_scaler.fit_transform(df[['traffic_volume']])"
   ]
  },
  {
   "cell_type": "code",
   "execution_count": 12,
   "metadata": {
    "ExecuteTime": {
     "end_time": "2020-03-02T15:16:54.081228Z",
     "start_time": "2020-03-02T15:16:52.778674Z"
    }
   },
   "outputs": [],
   "source": [
    "hist_window = 48\n",
    "horizon = 10\n",
    "TRAIN_SPLIT = 30000\n",
    "x_train_multi, y_train_multi = custom_ts_multi_data_prep(\n",
    "    dataX, dataY, 0, TRAIN_SPLIT, hist_window, horizon)\n",
    "x_val_multi, y_val_multi= custom_ts_multi_data_prep(\n",
    "    dataX, dataY, TRAIN_SPLIT, None, hist_window, horizon)"
   ]
  },
  {
   "cell_type": "code",
   "execution_count": 13,
   "metadata": {
    "ExecuteTime": {
     "end_time": "2020-03-02T15:16:58.535291Z",
     "start_time": "2020-03-02T15:16:58.522325Z"
    },
    "scrolled": true
   },
   "outputs": [
    {
     "name": "stdout",
     "output_type": "stream",
     "text": [
      "Single window of past history\n",
      "[[0.         0.92972555 0.         0.4        0.63636364 0.1\n",
      "  0.7        0.76167582]\n",
      " [0.         0.93320863 0.         0.75       0.63636364 0.1\n",
      "  0.06666667 0.62032967]\n",
      " [0.         0.93391815 0.         0.9        0.63636364 0.1\n",
      "  0.56666667 0.65480769]\n",
      " [0.         0.93569194 0.         0.9        0.63636364 0.1\n",
      "  0.56666667 0.69038462]\n",
      " [0.         0.93894927 0.         0.75       0.63636364 0.1\n",
      "  0.06666667 0.67554945]\n",
      " [0.         0.94081981 0.         0.01       0.63636364 0.\n",
      "  0.73333333 0.71167582]\n",
      " [0.         0.94549618 0.         0.01       0.63636364 0.\n",
      "  0.73333333 0.76703297]\n",
      " [0.         0.94772148 0.         0.01       0.63636364 0.\n",
      "  0.73333333 0.82623626]\n",
      " [0.         0.9486245  0.         0.2        0.63636364 0.1\n",
      "  0.13333333 0.79546703]\n",
      " [0.         0.94527042 0.         0.2        0.63636364 0.1\n",
      "  0.13333333 0.65521978]\n",
      " [0.         0.93840101 0.         0.2        0.63636364 0.1\n",
      "  0.13333333 0.48612637]\n",
      " [0.         0.93327313 0.         0.01       0.63636364 0.\n",
      "  0.73333333 0.38241758]\n",
      " [0.         0.93078982 0.         0.01       0.63636364 0.\n",
      "  0.73333333 0.32431319]\n",
      " [0.         0.92611346 0.         0.01       0.63636364 0.\n",
      "  0.73333333 0.21002747]\n",
      " [0.         0.92059857 0.         0.01       0.63636364 0.\n",
      "  0.73333333 0.13228022]\n",
      " [0.         0.91795401 0.         0.01       0.63636364 0.\n",
      "  0.73333333 0.06950549]\n",
      " [0.         0.91421292 0.         0.01       0.63636364 0.\n",
      "  0.73333333 0.04409341]\n",
      " [0.         0.90682749 0.         0.01       0.63636364 0.\n",
      "  0.73333333 0.0375    ]\n",
      " [0.         0.90653723 0.         0.01       0.63636364 0.\n",
      "  0.73333333 0.05041209]\n",
      " [0.         0.90150611 0.         0.01       0.63636364 0.\n",
      "  0.73333333 0.11181319]\n",
      " [0.         0.89857129 0.         0.01       0.63636364 0.\n",
      "  0.73333333 0.37335165]\n",
      " [0.         0.89731351 0.         0.01       0.63636364 0.\n",
      "  0.73333333 0.77925824]\n",
      " [0.         0.89695875 0.         0.01       0.63636364 0.\n",
      "  0.73333333 0.89436813]\n",
      " [0.         0.91102009 0.         0.01       0.63636364 0.\n",
      "  0.73333333 0.75151099]\n",
      " [0.         0.94162608 0.         0.01       0.63636364 0.\n",
      "  0.73333333 0.70013736]\n",
      " [0.         0.94568968 0.         0.01       0.63636364 0.\n",
      "  0.73333333 0.67129121]\n",
      " [0.         0.94917277 0.         0.01       0.63636364 0.\n",
      "  0.73333333 0.7331044 ]\n",
      " [0.         0.95194633 0.         0.01       0.63636364 0.\n",
      "  0.73333333 0.78186813]\n",
      " [0.         0.95181733 0.         0.01       0.63636364 0.\n",
      "  0.73333333 0.84299451]\n",
      " [0.         0.94707647 0.         0.2        0.63636364 0.1\n",
      "  0.13333333 0.63502747]\n",
      " [0.         0.93736898 0.         0.2        0.63636364 0.1\n",
      "  0.13333333 0.49326923]\n",
      " [0.         0.92943529 0.         0.2        0.63636364 0.1\n",
      "  0.13333333 0.39807692]\n",
      " [0.         0.92591995 0.         0.01       0.63636364 0.\n",
      "  0.73333333 0.36222527]\n",
      " [0.         0.92317864 0.         0.01       0.63636364 0.\n",
      "  0.73333333 0.24409341]\n",
      " [0.         0.91998581 0.         0.01       0.63636364 0.\n",
      "  0.73333333 0.13942308]\n",
      " [0.         0.917696   0.         0.01       0.63636364 0.\n",
      "  0.73333333 0.08214286]\n",
      " [0.         0.91421292 0.         0.01       0.63636364 0.\n",
      "  0.73333333 0.05068681]\n",
      " [0.         0.9132454  0.         0.01       0.63636364 0.\n",
      "  0.73333333 0.04285714]\n",
      " [0.         0.90960106 0.         0.01       0.63636364 0.\n",
      "  0.73333333 0.05041209]\n",
      " [0.         0.90847228 0.         0.01       0.63636364 0.\n",
      "  0.73333333 0.1146978 ]\n",
      " [0.         0.907279   0.         0.01       0.63636364 0.\n",
      "  0.73333333 0.37445055]\n",
      " [0.         0.90540846 0.         0.01       0.63636364 0.\n",
      "  0.73333333 0.78145604]\n",
      " [0.         0.90486019 0.         0.01       0.63636364 0.\n",
      "  0.73333333 0.96016484]\n",
      " [0.         0.90902054 0.         0.01       0.63636364 0.\n",
      "  0.73333333 0.82211538]\n",
      " [0.         0.91908279 0.         0.01       0.63636364 0.\n",
      "  0.73333333 0.72925824]\n",
      " [0.         0.93262812 0.         0.01       0.63636364 0.\n",
      "  0.73333333 0.63228022]\n",
      " [0.         0.94027155 0.         0.01       0.63636364 0.\n",
      "  0.73333333 0.67087912]\n",
      " [0.         0.95130132 0.         0.01       0.63636364 0.\n",
      "  0.73333333 0.7010989 ]]\n",
      "\n",
      " Target horizon\n",
      "[[0.75563187]\n",
      " [0.78475275]\n",
      " [0.86428571]\n",
      " [0.83200549]\n",
      " [0.67403846]\n",
      " [0.48118132]\n",
      " [0.41717033]\n",
      " [0.38763736]\n",
      " [0.27362637]\n",
      " [0.16016484]]\n"
     ]
    }
   ],
   "source": [
    "print ('Single window of past history')\n",
    "print(x_train_multi[0])\n",
    "print ('\\n Target horizon')\n",
    "print (y_train_multi[0])"
   ]
  },
  {
   "cell_type": "code",
   "execution_count": 14,
   "metadata": {
    "ExecuteTime": {
     "end_time": "2020-03-02T15:17:08.042920Z",
     "start_time": "2020-03-02T15:17:06.834116Z"
    }
   },
   "outputs": [],
   "source": [
    "BATCH_SIZE = 256\n",
    "BUFFER_SIZE = 150\n",
    "\n",
    "train_data_multi = tf.data.Dataset.from_tensor_slices((x_train_multi, y_train_multi))\n",
    "train_data_multi = train_data_multi.cache().shuffle(BUFFER_SIZE).batch(BATCH_SIZE).repeat()\n",
    "\n",
    "val_data_multi = tf.data.Dataset.from_tensor_slices((x_val_multi, y_val_multi))\n",
    "val_data_multi = val_data_multi.batch(BATCH_SIZE).repeat()"
   ]
  },
  {
   "cell_type": "code",
   "execution_count": 15,
   "metadata": {
    "ExecuteTime": {
     "end_time": "2020-03-02T15:17:19.832413Z",
     "start_time": "2020-03-02T15:17:18.297484Z"
    }
   },
   "outputs": [],
   "source": [
    "ED_lstm_model = tf.keras.models.Sequential([\n",
    "    tf.keras.layers.LSTM(40, input_shape=x_train_multi.shape[-2:], return_sequences=True),\n",
    "    tf.keras.layers.LSTM(units=20,return_sequences=True),\n",
    "    tf.keras.layers.LSTM(units=15),\n",
    "    tf.keras.layers.RepeatVector(y_train_multi.shape[1]), \n",
    "    tf.keras.layers.LSTM(units=40,return_sequences=True),\n",
    "    tf.keras.layers.LSTM(units=25,return_sequences=True),\n",
    "    tf.keras.layers.TimeDistributed(tf.keras.layers.Dense(units=1))\n",
    "])\n",
    "ED_lstm_model.compile(optimizer='adam', loss='mse')\n"
   ]
  },
  {
   "cell_type": "code",
   "execution_count": 16,
   "metadata": {
    "ExecuteTime": {
     "end_time": "2020-03-02T15:17:27.490949Z",
     "start_time": "2020-03-02T15:17:27.486925Z"
    }
   },
   "outputs": [],
   "source": [
    "model_path = r'\\Chapter 7\\Encoder_Decoder_LSTM_Multivariate.h5'"
   ]
  },
  {
   "cell_type": "code",
   "execution_count": 17,
   "metadata": {
    "ExecuteTime": {
     "end_time": "2020-03-02T15:21:08.890280Z",
     "start_time": "2020-03-02T15:17:37.179025Z"
    }
   },
   "outputs": [
    {
     "name": "stdout",
     "output_type": "stream",
     "text": [
      "Train for 100 steps, validate for 50 steps\n",
      "Epoch 1/150\n",
      "100/100 [==============================] - 14s 142ms/step - loss: 0.1057 - val_loss: 0.0825\n",
      "Epoch 2/150\n",
      "100/100 [==============================] - 3s 28ms/step - loss: 0.0777 - val_loss: 0.0760\n",
      "Epoch 3/150\n",
      "100/100 [==============================] - 3s 25ms/step - loss: 0.0664 - val_loss: 0.0779\n",
      "Epoch 4/150\n",
      "100/100 [==============================] - 5s 45ms/step - loss: 0.0536 - val_loss: 0.0529\n",
      "Epoch 5/150\n",
      "100/100 [==============================] - 3s 26ms/step - loss: 0.0541 - val_loss: 0.0465\n",
      "Epoch 6/150\n",
      "100/100 [==============================] - 3s 26ms/step - loss: 0.0502 - val_loss: 0.0472\n",
      "Epoch 7/150\n",
      "100/100 [==============================] - 3s 26ms/step - loss: 0.0494 - val_loss: 0.0421\n",
      "Epoch 8/150\n",
      "100/100 [==============================] - 3s 25ms/step - loss: 0.0501 - val_loss: 0.0443\n",
      "Epoch 9/150\n",
      "100/100 [==============================] - 3s 26ms/step - loss: 0.0487 - val_loss: 0.0515\n",
      "Epoch 10/150\n",
      "100/100 [==============================] - 2s 25ms/step - loss: 0.0460 - val_loss: 0.0639\n",
      "Epoch 11/150\n",
      "100/100 [==============================] - 3s 25ms/step - loss: 0.0442 - val_loss: 0.0423\n",
      "Epoch 12/150\n",
      "100/100 [==============================] - 3s 26ms/step - loss: 0.0464 - val_loss: 0.0367\n",
      "Epoch 13/150\n",
      "100/100 [==============================] - 3s 25ms/step - loss: 0.0431 - val_loss: 0.0386\n",
      "Epoch 14/150\n",
      "100/100 [==============================] - 3s 26ms/step - loss: 0.0434 - val_loss: 0.0347\n",
      "Epoch 15/150\n",
      "100/100 [==============================] - 3s 25ms/step - loss: 0.0438 - val_loss: 0.0362\n",
      "Epoch 16/150\n",
      "100/100 [==============================] - 3s 25ms/step - loss: 0.0427 - val_loss: 0.0420\n",
      "Epoch 17/150\n",
      "100/100 [==============================] - 3s 26ms/step - loss: 0.0392 - val_loss: 0.0532\n",
      "Epoch 18/150\n",
      "100/100 [==============================] - 3s 25ms/step - loss: 0.0389 - val_loss: 0.0356\n",
      "Epoch 19/150\n",
      "100/100 [==============================] - 3s 27ms/step - loss: 0.0417 - val_loss: 0.0329\n",
      "Epoch 20/150\n",
      "100/100 [==============================] - 3s 26ms/step - loss: 0.0385 - val_loss: 0.0362\n",
      "Epoch 21/150\n",
      "100/100 [==============================] - 3s 33ms/step - loss: 0.0398 - val_loss: 0.0316\n",
      "Epoch 22/150\n",
      "100/100 [==============================] - 3s 25ms/step - loss: 0.0399 - val_loss: 0.0331\n",
      "Epoch 23/150\n",
      "100/100 [==============================] - 2s 25ms/step - loss: 0.0392 - val_loss: 0.0383\n",
      "Epoch 24/150\n",
      "100/100 [==============================] - 2s 24ms/step - loss: 0.0356 - val_loss: 0.0390\n",
      "Epoch 25/150\n",
      "100/100 [==============================] - 2s 24ms/step - loss: 0.0365 - val_loss: 0.0321\n",
      "Epoch 26/150\n",
      "100/100 [==============================] - 3s 25ms/step - loss: 0.0380 - val_loss: 0.0305\n",
      "Epoch 27/150\n",
      "100/100 [==============================] - 3s 26ms/step - loss: 0.0362 - val_loss: 0.0338\n",
      "Epoch 28/150\n",
      "100/100 [==============================] - 3s 30ms/step - loss: 0.0379 - val_loss: 0.0301\n",
      "Epoch 29/150\n",
      "100/100 [==============================] - 2s 25ms/step - loss: 0.0375 - val_loss: 0.0320\n",
      "Epoch 30/150\n",
      "100/100 [==============================] - 2s 24ms/step - loss: 0.0373 - val_loss: 0.0395\n",
      "Epoch 31/150\n",
      "100/100 [==============================] - 2s 25ms/step - loss: 0.0325 - val_loss: 0.0307\n",
      "Epoch 32/150\n",
      "100/100 [==============================] - 2s 25ms/step - loss: 0.0354 - val_loss: 0.0329\n",
      "Epoch 33/150\n",
      "100/100 [==============================] - 3s 25ms/step - loss: 0.0354 - val_loss: 0.0293\n",
      "Epoch 34/150\n",
      "100/100 [==============================] - 2s 25ms/step - loss: 0.0346 - val_loss: 0.0326\n",
      "Epoch 35/150\n",
      "100/100 [==============================] - 3s 25ms/step - loss: 0.0361 - val_loss: 0.0292\n",
      "Epoch 36/150\n",
      "100/100 [==============================] - 2s 24ms/step - loss: 0.0356 - val_loss: 0.0318\n",
      "Epoch 37/150\n",
      "100/100 [==============================] - 2s 24ms/step - loss: 0.0351 - val_loss: 0.0435\n",
      "Epoch 38/150\n",
      "100/100 [==============================] - 2s 24ms/step - loss: 0.0301 - val_loss: 0.0295\n",
      "Epoch 39/150\n",
      "100/100 [==============================] - 2s 24ms/step - loss: 0.0340 - val_loss: 0.0362\n",
      "Epoch 40/150\n",
      "100/100 [==============================] - 3s 25ms/step - loss: 0.0331 - val_loss: 0.0286\n",
      "Epoch 41/150\n",
      "100/100 [==============================] - 2s 24ms/step - loss: 0.0324 - val_loss: 0.0315\n",
      "Epoch 42/150\n",
      "100/100 [==============================] - 3s 25ms/step - loss: 0.0342 - val_loss: 0.0280\n",
      "Epoch 43/150\n",
      "100/100 [==============================] - 2s 24ms/step - loss: 0.0334 - val_loss: 0.0309\n",
      "Epoch 44/150\n",
      "100/100 [==============================] - 2s 24ms/step - loss: 0.0332 - val_loss: 0.0439\n",
      "Epoch 45/150\n",
      "100/100 [==============================] - 2s 24ms/step - loss: 0.0280 - val_loss: 0.0303\n",
      "Epoch 46/150\n",
      "100/100 [==============================] - 2s 24ms/step - loss: 0.0322 - val_loss: 0.0371\n",
      "Epoch 47/150\n",
      "100/100 [==============================] - 2s 25ms/step - loss: 0.0309 - val_loss: 0.0281\n",
      "Epoch 48/150\n",
      "100/100 [==============================] - 2s 25ms/step - loss: 0.0301 - val_loss: 0.0300\n",
      "Epoch 49/150\n",
      "100/100 [==============================] - 3s 25ms/step - loss: 0.0314 - val_loss: 0.0278\n",
      "Epoch 50/150\n",
      "100/100 [==============================] - 2s 25ms/step - loss: 0.0310 - val_loss: 0.0287\n",
      "Epoch 51/150\n",
      "100/100 [==============================] - 2s 25ms/step - loss: 0.0315 - val_loss: 0.0383\n",
      "Epoch 52/150\n",
      "100/100 [==============================] - 2s 24ms/step - loss: 0.0265 - val_loss: 0.0301\n",
      "Epoch 53/150\n",
      "100/100 [==============================] - 2s 24ms/step - loss: 0.0307 - val_loss: 0.0323\n",
      "Epoch 54/150\n",
      "100/100 [==============================] - 3s 26ms/step - loss: 0.0290 - val_loss: 0.0282\n",
      "Epoch 55/150\n",
      "100/100 [==============================] - 2s 24ms/step - loss: 0.0290 - val_loss: 0.0293\n",
      "Epoch 56/150\n",
      "100/100 [==============================] - 3s 25ms/step - loss: 0.0301 - val_loss: 0.0266\n",
      "Epoch 57/150\n",
      "100/100 [==============================] - 2s 24ms/step - loss: 0.0295 - val_loss: 0.0278\n",
      "Epoch 58/150\n",
      "100/100 [==============================] - 2s 24ms/step - loss: 0.0302 - val_loss: 0.0391\n",
      "Epoch 59/150\n",
      "100/100 [==============================] - 2s 24ms/step - loss: 0.0258 - val_loss: 0.0272\n",
      "Epoch 60/150\n",
      "100/100 [==============================] - 2s 25ms/step - loss: 0.0294 - val_loss: 0.0270\n",
      "Epoch 61/150\n",
      "100/100 [==============================] - 2s 24ms/step - loss: 0.0275 - val_loss: 0.0285\n",
      "Epoch 62/150\n",
      "100/100 [==============================] - 3s 25ms/step - loss: 0.0276 - val_loss: 0.0261\n",
      "Epoch 63/150\n",
      "100/100 [==============================] - 3s 25ms/step - loss: 0.0288 - val_loss: 0.0252\n",
      "Epoch 64/150\n",
      "100/100 [==============================] - 2s 24ms/step - loss: 0.0285 - val_loss: 0.0283\n",
      "Epoch 65/150\n",
      "100/100 [==============================] - 2s 25ms/step - loss: 0.0284 - val_loss: 0.0386\n",
      "Epoch 66/150\n",
      "100/100 [==============================] - 2s 24ms/step - loss: 0.0253 - val_loss: 0.0259\n",
      "Epoch 67/150\n",
      "100/100 [==============================] - 2s 25ms/step - loss: 0.0286 - val_loss: 0.0263\n",
      "Epoch 68/150\n",
      "100/100 [==============================] - 2s 24ms/step - loss: 0.0264 - val_loss: 0.0287\n",
      "Epoch 69/150\n",
      "100/100 [==============================] - 3s 25ms/step - loss: 0.0269 - val_loss: 0.0245\n",
      "Epoch 70/150\n",
      "100/100 [==============================] - 2s 24ms/step - loss: 0.0277 - val_loss: 0.0252\n",
      "Epoch 71/150\n",
      "100/100 [==============================] - 2s 24ms/step - loss: 0.0273 - val_loss: 0.0294\n",
      "Epoch 72/150\n",
      "100/100 [==============================] - 2s 24ms/step - loss: 0.0264 - val_loss: 0.0353\n",
      "Epoch 73/150\n",
      "100/100 [==============================] - 2s 24ms/step - loss: 0.0250 - val_loss: 0.0277\n",
      "Epoch 74/150\n",
      "100/100 [==============================] - 2s 24ms/step - loss: 0.0274 - val_loss: 0.0277\n",
      "Epoch 75/150\n",
      "100/100 [==============================] - 2s 25ms/step - loss: 0.0257 - val_loss: 0.0331\n",
      "Epoch 76/150\n",
      "100/100 [==============================] - 2s 24ms/step - loss: 0.0265 - val_loss: 0.0259\n",
      "Epoch 77/150\n",
      "100/100 [==============================] - 2s 24ms/step - loss: 0.0270 - val_loss: 0.0262\n",
      "Epoch 78/150\n",
      "100/100 [==============================] - 2s 25ms/step - loss: 0.0272 - val_loss: 0.0360\n",
      "Epoch 79/150\n",
      "100/100 [==============================] - 2s 25ms/step - loss: 0.0258 - val_loss: 0.0332\n",
      "Epoch 00079: early stopping\n"
     ]
    }
   ],
   "source": [
    "EVALUATION_INTERVAL = 100\n",
    "EPOCHS = 150\n",
    "history = ED_lstm_model.fit(train_data_multi, epochs=EPOCHS,steps_per_epoch=EVALUATION_INTERVAL,validation_data=val_data_multi, validation_steps=50,verbose =1,\n",
    "                              callbacks =[tf.keras.callbacks.EarlyStopping(monitor='val_loss', min_delta=0, patience=10, verbose=1, mode='min'),tf.keras.callbacks.ModelCheckpoint(model_path,monitor='val_loss', save_best_only=True, mode='min', verbose=0)])"
   ]
  },
  {
   "cell_type": "code",
   "execution_count": 18,
   "metadata": {
    "ExecuteTime": {
     "end_time": "2020-03-02T15:21:19.372267Z",
     "start_time": "2020-03-02T15:21:15.871622Z"
    }
   },
   "outputs": [],
   "source": [
    "Trained_model = tf.keras.models.load_model(model_path)"
   ]
  },
  {
   "cell_type": "code",
   "execution_count": 19,
   "metadata": {
    "ExecuteTime": {
     "end_time": "2020-03-02T15:21:20.013556Z",
     "start_time": "2020-03-02T15:21:20.006572Z"
    }
   },
   "outputs": [
    {
     "name": "stdout",
     "output_type": "stream",
     "text": [
      "Model: \"sequential\"\n",
      "_________________________________________________________________\n",
      "Layer (type)                 Output Shape              Param #   \n",
      "=================================================================\n",
      "lstm (LSTM)                  (None, 48, 40)            7840      \n",
      "_________________________________________________________________\n",
      "lstm_1 (LSTM)                (None, 48, 20)            4880      \n",
      "_________________________________________________________________\n",
      "lstm_2 (LSTM)                (None, 15)                2160      \n",
      "_________________________________________________________________\n",
      "repeat_vector (RepeatVector) (None, 10, 15)            0         \n",
      "_________________________________________________________________\n",
      "lstm_3 (LSTM)                (None, 10, 40)            8960      \n",
      "_________________________________________________________________\n",
      "lstm_4 (LSTM)                (None, 10, 25)            6600      \n",
      "_________________________________________________________________\n",
      "time_distributed (TimeDistri (None, 10, 1)             26        \n",
      "=================================================================\n",
      "Total params: 30,466\n",
      "Trainable params: 30,466\n",
      "Non-trainable params: 0\n",
      "_________________________________________________________________\n"
     ]
    }
   ],
   "source": [
    "# Show the model architecture\n",
    "Trained_model.summary()"
   ]
  },
  {
   "cell_type": "code",
   "execution_count": 21,
   "metadata": {
    "ExecuteTime": {
     "end_time": "2020-03-02T15:21:24.103660Z",
     "start_time": "2020-03-02T15:21:23.814400Z"
    }
   },
   "outputs": [
    {
     "data": {
      "image/png": "[encoded data removed]",
      "text/plain": [
       "<Figure size 1152x648 with 1 Axes>"
      ]
     },
     "metadata": {
      "needs_background": "light"
     },
     "output_type": "display_data"
    }
   ],
   "source": [
    "plt.plot(history.history['loss'])\n",
    "plt.plot(history.history['val_loss'])\n",
    "plt.title('Model loss')\n",
    "plt.ylabel('loss')\n",
    "plt.xlabel('epoch')\n",
    "plt.legend(['train loss', 'validation loss'], loc='upper left')\n",
    "plt.rcParams[\"figure.figsize\"] = [16,9]\n",
    "plt.show()"
   ]
  },
  {
   "cell_type": "code",
   "execution_count": 22,
   "metadata": {
    "ExecuteTime": {
     "end_time": "2020-03-02T15:21:26.407468Z",
     "start_time": "2020-03-02T15:21:26.398525Z"
    }
   },
   "outputs": [],
   "source": [
    "data_val = x_scaler.fit_transform(df[['rain_1h','temp', 'snow_1h', 'clouds_all', 'holiday_le',\n",
    "    'weather_main_le', 'weather_description_le','traffic_volume']].tail(48))"
   ]
  },
  {
   "cell_type": "code",
   "execution_count": 23,
   "metadata": {
    "ExecuteTime": {
     "end_time": "2020-03-02T15:21:27.461654Z",
     "start_time": "2020-03-02T15:21:27.457668Z"
    }
   },
   "outputs": [],
   "source": [
    "val_rescaled = data_val.reshape(1, data_val.shape[0], data_val.shape[1])"
   ]
  },
  {
   "cell_type": "code",
   "execution_count": 24,
   "metadata": {
    "ExecuteTime": {
     "end_time": "2020-03-02T15:21:29.541129Z",
     "start_time": "2020-03-02T15:21:28.742236Z"
    }
   },
   "outputs": [],
   "source": [
    "Predicted_results = Trained_model.predict(val_rescaled)"
   ]
  },
  {
   "cell_type": "code",
   "execution_count": 25,
   "metadata": {
    "ExecuteTime": {
     "end_time": "2020-03-02T15:21:30.003863Z",
     "start_time": "2020-03-02T15:21:29.997877Z"
    }
   },
   "outputs": [
    {
     "data": {
      "text/plain": [
       "array([[[0.6084024 ],\n",
       "        [0.6158049 ],\n",
       "        [0.6135753 ],\n",
       "        [0.6144647 ],\n",
       "        [0.62526846],\n",
       "        [0.6364912 ],\n",
       "        [0.6360326 ],\n",
       "        [0.60940194],\n",
       "        [0.5518158 ],\n",
       "        [0.47838104]]], dtype=float32)"
      ]
     },
     "execution_count": 25,
     "metadata": {},
     "output_type": "execute_result"
    }
   ],
   "source": [
    "Predicted_results"
   ]
  },
  {
   "cell_type": "code",
   "execution_count": 27,
   "metadata": {
    "ExecuteTime": {
     "end_time": "2020-03-02T15:21:58.027970Z",
     "start_time": "2020-03-02T15:21:58.022986Z"
    }
   },
   "outputs": [],
   "source": [
    "Predicted_results_Inv_trans = y_scaler.inverse_transform(Predicted_results.reshape(-1,1))"
   ]
  },
  {
   "cell_type": "code",
   "execution_count": 28,
   "metadata": {
    "ExecuteTime": {
     "end_time": "2020-03-02T15:22:00.624036Z",
     "start_time": "2020-03-02T15:22:00.618051Z"
    }
   },
   "outputs": [
    {
     "data": {
      "text/plain": [
       "array([[4429.1694],\n",
       "       [4483.0596],\n",
       "       [4466.828 ],\n",
       "       [4473.303 ],\n",
       "       [4551.9546],\n",
       "       [4633.656 ],\n",
       "       [4630.3174],\n",
       "       [4436.4463],\n",
       "       [4017.219 ],\n",
       "       [3482.614 ]], dtype=float32)"
      ]
     },
     "execution_count": 28,
     "metadata": {},
     "output_type": "execute_result"
    }
   ],
   "source": [
    "Predicted_results_Inv_trans"
   ]
  },
  {
   "cell_type": "code",
   "execution_count": 29,
   "metadata": {
    "ExecuteTime": {
     "end_time": "2020-03-02T15:22:04.591469Z",
     "start_time": "2020-03-02T15:22:04.554531Z"
    }
   },
   "outputs": [],
   "source": [
    "from sklearn import metrics\n",
    "def timeseries_evaluation_metrics_func(y_true, y_pred):\n",
    "    \n",
    "    def mean_absolute_percentage_error(y_true, y_pred): \n",
    "        y_true, y_pred = np.array(y_true), np.array(y_pred)\n",
    "        return np.mean(np.abs((y_true - y_pred) / y_true)) * 100\n",
    "    print('Evaluation metric results:-')\n",
    "    print(f'MSE is : {metrics.mean_squared_error(y_true, y_pred)}')\n",
    "    print(f'MAE is : {metrics.mean_absolute_error(y_true, y_pred)}')\n",
    "    print(f'RMSE is : {np.sqrt(metrics.mean_squared_error(y_true, y_pred))}')\n",
    "    print(f'MAPE is : {mean_absolute_percentage_error(y_true, y_pred)}')\n",
    "    print(f'R2 is : {metrics.r2_score(y_true, y_pred)}',end='\\n\\n')"
   ]
  },
  {
   "cell_type": "code",
   "execution_count": 31,
   "metadata": {
    "ExecuteTime": {
     "end_time": "2020-03-02T15:22:20.897856Z",
     "start_time": "2020-03-02T15:22:20.890877Z"
    }
   },
   "outputs": [
    {
     "name": "stdout",
     "output_type": "stream",
     "text": [
      "Evaluation metric results:-\n",
      "MSE is : 2330110.7698887466\n",
      "MAE is : 1150.74482421875\n",
      "RMSE is : 1526.4700356996027\n",
      "MAPE is : 77.82670425027956\n",
      "R2 is : -0.512742984485576\n",
      "\n"
     ]
    }
   ],
   "source": [
    "timeseries_evaluation_metrics_func(validate['traffic_volume'],Predicted_results_Inv_trans)"
   ]
  },
  {
   "cell_type": "code",
   "execution_count": 33,
   "metadata": {
    "ExecuteTime": {
     "end_time": "2020-03-02T15:22:38.809026Z",
     "start_time": "2020-03-02T15:22:38.554672Z"
    }
   },
   "outputs": [
    {
     "data": {
      "image/png": "[encoded data removed]",
      "text/plain": [
       "<Figure size 1152x648 with 1 Axes>"
      ]
     },
     "metadata": {
      "needs_background": "light"
     },
     "output_type": "display_data"
    }
   ],
   "source": [
    "plt.plot( list(validate['traffic_volume']))\n",
    "plt.plot( list(Predicted_results_Inv_trans))\n",
    "plt.title(\"Actual vs Predicted\")\n",
    "plt.ylabel(\"Traffic volume\")\n",
    "plt.legend(('Actual','predicted'))\n",
    "plt.show()"
   ]
  }
 ],
 "metadata": {
  "kernelspec": {
   "display_name": "Python 3",
   "language": "python",
   "name": "python3"
  },
  "language_info": {
   "codemirror_mode": {
    "name": "ipython",
    "version": 3
   },
   "file_extension": ".py",
   "mimetype": "text/x-python",
   "name": "python",
   "nbconvert_exporter": "python",
   "pygments_lexer": "ipython3",
   "version": "3.7.3"
  },
  "latex_envs": {
   "LaTeX_envs_menu_present": true,
   "autoclose": false,
   "autocomplete": true,
   "bibliofile": "biblio.bib",
   "cite_by": "apalike",
   "current_citInitial": 1,
   "eqLabelWithNumbers": true,
   "eqNumInitial": 1,
   "hotkeys": {
    "equation": "Ctrl-E",
    "itemize": "Ctrl-I"
   },
   "labels_anchors": false,
   "latex_user_defs": false,
   "report_style_numbering": false,
   "user_envs_cfg": false
  },
  "nbTranslate": {
   "displayLangs": [
    "*"
   ],
   "hotkey": "alt-t",
   "langInMainMenu": true,
   "sourceLang": "en",
   "targetLang": "fr",
   "useGoogleTranslate": true
  }
 },
 "nbformat": 4,
 "nbformat_minor": 2
}

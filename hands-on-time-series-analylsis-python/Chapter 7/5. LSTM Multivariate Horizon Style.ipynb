{
 "cells": [
  {
   "cell_type": "code",
   "execution_count": 32,
   "metadata": {
    "ExecuteTime": {
     "end_time": "2020-03-02T14:36:01.621072Z",
     "start_time": "2020-03-02T14:36:01.603119Z"
    }
   },
   "outputs": [],
   "source": [
    "import pandas as pd\n",
    "import numpy as np\n",
    "import tensorflow as tf\n",
    "from sklearn import preprocessing\n",
    "import matplotlib.pyplot as plt\n",
    "tf.random.set_seed(123)\n",
    "np.random.seed(123)"
   ]
  },
  {
   "cell_type": "code",
   "execution_count": 33,
   "metadata": {
    "ExecuteTime": {
     "end_time": "2020-03-02T14:36:02.580547Z",
     "start_time": "2020-03-02T14:36:02.501718Z"
    }
   },
   "outputs": [],
   "source": [
    "df = pd.read_csv(r'\\Data\\Metro_Interstate_Traffic_Volume.csv')"
   ]
  },
  {
   "cell_type": "code",
   "execution_count": 34,
   "metadata": {
    "ExecuteTime": {
     "end_time": "2020-03-02T14:36:03.372391Z",
     "start_time": "2020-03-02T14:36:03.358431Z"
    }
   },
   "outputs": [
    {
     "data": {
      "text/html": [
       "<div>\n",
       "<style scoped>\n",
       "    .dataframe tbody tr th:only-of-type {\n",
       "        vertical-align: middle;\n",
       "    }\n",
       "\n",
       "    .dataframe tbody tr th {\n",
       "        vertical-align: top;\n",
       "    }\n",
       "\n",
       "    .dataframe thead th {\n",
       "        text-align: right;\n",
       "    }\n",
       "</style>\n",
       "<table border=\"1\" class=\"dataframe\">\n",
       "  <thead>\n",
       "    <tr style=\"text-align: right;\">\n",
       "      <th></th>\n",
       "      <th>holiday</th>\n",
       "      <th>temp</th>\n",
       "      <th>rain_1h</th>\n",
       "      <th>snow_1h</th>\n",
       "      <th>clouds_all</th>\n",
       "      <th>weather_main</th>\n",
       "      <th>weather_description</th>\n",
       "      <th>date_time</th>\n",
       "      <th>traffic_volume</th>\n",
       "    </tr>\n",
       "  </thead>\n",
       "  <tbody>\n",
       "    <tr>\n",
       "      <th>0</th>\n",
       "      <td>None</td>\n",
       "      <td>288.28</td>\n",
       "      <td>0.0</td>\n",
       "      <td>0.0</td>\n",
       "      <td>40</td>\n",
       "      <td>Clouds</td>\n",
       "      <td>scattered clouds</td>\n",
       "      <td>2012-10-02 09:00:00</td>\n",
       "      <td>5545</td>\n",
       "    </tr>\n",
       "    <tr>\n",
       "      <th>1</th>\n",
       "      <td>None</td>\n",
       "      <td>289.36</td>\n",
       "      <td>0.0</td>\n",
       "      <td>0.0</td>\n",
       "      <td>75</td>\n",
       "      <td>Clouds</td>\n",
       "      <td>broken clouds</td>\n",
       "      <td>2012-10-02 10:00:00</td>\n",
       "      <td>4516</td>\n",
       "    </tr>\n",
       "    <tr>\n",
       "      <th>2</th>\n",
       "      <td>None</td>\n",
       "      <td>289.58</td>\n",
       "      <td>0.0</td>\n",
       "      <td>0.0</td>\n",
       "      <td>90</td>\n",
       "      <td>Clouds</td>\n",
       "      <td>overcast clouds</td>\n",
       "      <td>2012-10-02 11:00:00</td>\n",
       "      <td>4767</td>\n",
       "    </tr>\n",
       "    <tr>\n",
       "      <th>3</th>\n",
       "      <td>None</td>\n",
       "      <td>290.13</td>\n",
       "      <td>0.0</td>\n",
       "      <td>0.0</td>\n",
       "      <td>90</td>\n",
       "      <td>Clouds</td>\n",
       "      <td>overcast clouds</td>\n",
       "      <td>2012-10-02 12:00:00</td>\n",
       "      <td>5026</td>\n",
       "    </tr>\n",
       "    <tr>\n",
       "      <th>4</th>\n",
       "      <td>None</td>\n",
       "      <td>291.14</td>\n",
       "      <td>0.0</td>\n",
       "      <td>0.0</td>\n",
       "      <td>75</td>\n",
       "      <td>Clouds</td>\n",
       "      <td>broken clouds</td>\n",
       "      <td>2012-10-02 13:00:00</td>\n",
       "      <td>4918</td>\n",
       "    </tr>\n",
       "  </tbody>\n",
       "</table>\n",
       "</div>"
      ],
      "text/plain": [
       "  holiday    temp  rain_1h  snow_1h  clouds_all weather_main  \\\n",
       "0    None  288.28      0.0      0.0          40       Clouds   \n",
       "1    None  289.36      0.0      0.0          75       Clouds   \n",
       "2    None  289.58      0.0      0.0          90       Clouds   \n",
       "3    None  290.13      0.0      0.0          90       Clouds   \n",
       "4    None  291.14      0.0      0.0          75       Clouds   \n",
       "\n",
       "  weather_description            date_time  traffic_volume  \n",
       "0    scattered clouds  2012-10-02 09:00:00            5545  \n",
       "1       broken clouds  2012-10-02 10:00:00            4516  \n",
       "2     overcast clouds  2012-10-02 11:00:00            4767  \n",
       "3     overcast clouds  2012-10-02 12:00:00            5026  \n",
       "4       broken clouds  2012-10-02 13:00:00            4918  "
      ]
     },
     "execution_count": 34,
     "metadata": {},
     "output_type": "execute_result"
    }
   ],
   "source": [
    "df.head()"
   ]
  },
  {
   "cell_type": "code",
   "execution_count": 35,
   "metadata": {
    "ExecuteTime": {
     "end_time": "2020-03-02T14:36:04.679897Z",
     "start_time": "2020-03-02T14:36:04.638012Z"
    }
   },
   "outputs": [
    {
     "data": {
      "text/html": [
       "<div>\n",
       "<style scoped>\n",
       "    .dataframe tbody tr th:only-of-type {\n",
       "        vertical-align: middle;\n",
       "    }\n",
       "\n",
       "    .dataframe tbody tr th {\n",
       "        vertical-align: top;\n",
       "    }\n",
       "\n",
       "    .dataframe thead th {\n",
       "        text-align: right;\n",
       "    }\n",
       "</style>\n",
       "<table border=\"1\" class=\"dataframe\">\n",
       "  <thead>\n",
       "    <tr style=\"text-align: right;\">\n",
       "      <th></th>\n",
       "      <th>temp</th>\n",
       "      <th>rain_1h</th>\n",
       "      <th>snow_1h</th>\n",
       "      <th>clouds_all</th>\n",
       "      <th>traffic_volume</th>\n",
       "    </tr>\n",
       "  </thead>\n",
       "  <tbody>\n",
       "    <tr>\n",
       "      <th>count</th>\n",
       "      <td>48204.000000</td>\n",
       "      <td>48204.000000</td>\n",
       "      <td>48204.000000</td>\n",
       "      <td>48204.000000</td>\n",
       "      <td>48204.000000</td>\n",
       "    </tr>\n",
       "    <tr>\n",
       "      <th>mean</th>\n",
       "      <td>281.205870</td>\n",
       "      <td>0.334264</td>\n",
       "      <td>0.000222</td>\n",
       "      <td>49.362231</td>\n",
       "      <td>3259.818355</td>\n",
       "    </tr>\n",
       "    <tr>\n",
       "      <th>std</th>\n",
       "      <td>13.338232</td>\n",
       "      <td>44.789133</td>\n",
       "      <td>0.008168</td>\n",
       "      <td>39.015750</td>\n",
       "      <td>1986.860670</td>\n",
       "    </tr>\n",
       "    <tr>\n",
       "      <th>min</th>\n",
       "      <td>0.000000</td>\n",
       "      <td>0.000000</td>\n",
       "      <td>0.000000</td>\n",
       "      <td>0.000000</td>\n",
       "      <td>0.000000</td>\n",
       "    </tr>\n",
       "    <tr>\n",
       "      <th>25%</th>\n",
       "      <td>272.160000</td>\n",
       "      <td>0.000000</td>\n",
       "      <td>0.000000</td>\n",
       "      <td>1.000000</td>\n",
       "      <td>1193.000000</td>\n",
       "    </tr>\n",
       "    <tr>\n",
       "      <th>50%</th>\n",
       "      <td>282.450000</td>\n",
       "      <td>0.000000</td>\n",
       "      <td>0.000000</td>\n",
       "      <td>64.000000</td>\n",
       "      <td>3380.000000</td>\n",
       "    </tr>\n",
       "    <tr>\n",
       "      <th>75%</th>\n",
       "      <td>291.806000</td>\n",
       "      <td>0.000000</td>\n",
       "      <td>0.000000</td>\n",
       "      <td>90.000000</td>\n",
       "      <td>4933.000000</td>\n",
       "    </tr>\n",
       "    <tr>\n",
       "      <th>max</th>\n",
       "      <td>310.070000</td>\n",
       "      <td>9831.300000</td>\n",
       "      <td>0.510000</td>\n",
       "      <td>100.000000</td>\n",
       "      <td>7280.000000</td>\n",
       "    </tr>\n",
       "  </tbody>\n",
       "</table>\n",
       "</div>"
      ],
      "text/plain": [
       "               temp       rain_1h       snow_1h    clouds_all  traffic_volume\n",
       "count  48204.000000  48204.000000  48204.000000  48204.000000    48204.000000\n",
       "mean     281.205870      0.334264      0.000222     49.362231     3259.818355\n",
       "std       13.338232     44.789133      0.008168     39.015750     1986.860670\n",
       "min        0.000000      0.000000      0.000000      0.000000        0.000000\n",
       "25%      272.160000      0.000000      0.000000      1.000000     1193.000000\n",
       "50%      282.450000      0.000000      0.000000     64.000000     3380.000000\n",
       "75%      291.806000      0.000000      0.000000     90.000000     4933.000000\n",
       "max      310.070000   9831.300000      0.510000    100.000000     7280.000000"
      ]
     },
     "execution_count": 35,
     "metadata": {},
     "output_type": "execute_result"
    }
   ],
   "source": [
    "df.describe()"
   ]
  },
  {
   "cell_type": "code",
   "execution_count": 36,
   "metadata": {
    "ExecuteTime": {
     "end_time": "2020-03-02T14:36:06.616775Z",
     "start_time": "2020-03-02T14:36:06.597774Z"
    }
   },
   "outputs": [],
   "source": [
    "df.drop_duplicates(subset=['date_time'], keep=False,inplace=True)"
   ]
  },
  {
   "cell_type": "code",
   "execution_count": 37,
   "metadata": {
    "ExecuteTime": {
     "end_time": "2020-03-02T14:36:07.517317Z",
     "start_time": "2020-03-02T14:36:07.489389Z"
    }
   },
   "outputs": [],
   "source": [
    "holiday_le = preprocessing.LabelEncoder()\n",
    "df['holiday_le'] = holiday_le.fit_transform(df['holiday']) \n",
    "weather_main_le = preprocessing.LabelEncoder()\n",
    "df['weather_main_le'] = weather_main_le.fit_transform(df['weather_main']) \n",
    "weather_description_le = preprocessing.LabelEncoder()\n",
    "df['weather_description_le'] = weather_description_le.fit_transform(df['weather_description']) "
   ]
  },
  {
   "cell_type": "code",
   "execution_count": 38,
   "metadata": {
    "ExecuteTime": {
     "end_time": "2020-03-02T14:36:10.846454Z",
     "start_time": "2020-03-02T14:36:08.809901Z"
    }
   },
   "outputs": [
    {
     "data": {
      "text/plain": [
       "<matplotlib.axes._subplots.AxesSubplot at 0x1b436ad8ac8>"
      ]
     },
     "execution_count": 38,
     "metadata": {},
     "output_type": "execute_result"
    },
    {
     "data": {
      "image/png": "[encoded data removed]",
      "text/plain": [
       "<Figure size 1152x648 with 1 Axes>"
      ]
     },
     "metadata": {
      "needs_background": "light"
     },
     "output_type": "display_data"
    }
   ],
   "source": [
    "from numpy import loadtxt\n",
    "from xgboost import XGBRegressor\n",
    "from matplotlib import pyplot\n",
    "\n",
    "model = XGBRegressor()\n",
    "model.fit(df[['temp', 'rain_1h', 'snow_1h', 'clouds_all', 'holiday_le',\n",
    "    'weather_main_le', 'weather_description_le']],df[['traffic_volume']])\n",
    "\n",
    "(pd.Series(model.feature_importances_, index=df[['temp', 'rain_1h', 'snow_1h', 'clouds_all', 'holiday_le',\n",
    "    'weather_main_le', 'weather_description_le']].columns)\n",
    "   .nlargest(7)\n",
    "   .plot(kind='barh'))"
   ]
  },
  {
   "cell_type": "code",
   "execution_count": 39,
   "metadata": {
    "ExecuteTime": {
     "end_time": "2020-03-02T14:36:17.780924Z",
     "start_time": "2020-03-02T14:36:17.773911Z"
    }
   },
   "outputs": [],
   "source": [
    "df = df[['rain_1h','temp', 'snow_1h', 'clouds_all', 'holiday_le',\n",
    "    'weather_main_le', 'weather_description_le','traffic_volume']]"
   ]
  },
  {
   "cell_type": "code",
   "execution_count": 40,
   "metadata": {
    "ExecuteTime": {
     "end_time": "2020-03-02T14:36:18.492986Z",
     "start_time": "2020-03-02T14:36:18.486003Z"
    }
   },
   "outputs": [],
   "source": [
    "def custom_ts_multi_data_prep(dataset, target, start, end, window, horizon):\n",
    "    X = []\n",
    "    y = []\n",
    "    start = start + window\n",
    "    if end is None:\n",
    "        end = len(dataset) - horizon\n",
    "\n",
    "    for i in range(start, end):\n",
    "        indices = range(i-window, i)\n",
    "        X.append(dataset[indices])\n",
    "\n",
    "        indicey = range(i+1, i+1+horizon)\n",
    "        y.append(target[indicey])\n",
    "    return np.array(X), np.array(y)"
   ]
  },
  {
   "cell_type": "code",
   "execution_count": 41,
   "metadata": {
    "ExecuteTime": {
     "end_time": "2020-03-02T14:36:21.369298Z",
     "start_time": "2020-03-02T14:36:21.358328Z"
    }
   },
   "outputs": [],
   "source": [
    "validate = df[['rain_1h','temp', 'snow_1h', 'clouds_all', 'holiday_le',\n",
    "    'weather_main_le', 'weather_description_le','traffic_volume']].tail(10)\n",
    "df.drop(df.tail(10).index,inplace=True)"
   ]
  },
  {
   "cell_type": "code",
   "execution_count": 42,
   "metadata": {
    "ExecuteTime": {
     "end_time": "2020-03-02T14:36:22.440437Z",
     "start_time": "2020-03-02T14:36:22.421486Z"
    }
   },
   "outputs": [],
   "source": [
    "x_scaler = preprocessing.MinMaxScaler()\n",
    "y_scaler = preprocessing.MinMaxScaler()\n",
    "dataX = x_scaler.fit_transform(df[['rain_1h','temp', 'snow_1h', 'clouds_all', 'holiday_le',\n",
    "    'weather_main_le', 'weather_description_le','traffic_volume']])\n",
    "dataY = y_scaler.fit_transform(df[['traffic_volume']])"
   ]
  },
  {
   "cell_type": "code",
   "execution_count": 43,
   "metadata": {
    "ExecuteTime": {
     "end_time": "2020-03-02T14:36:25.035537Z",
     "start_time": "2020-03-02T14:36:23.867624Z"
    }
   },
   "outputs": [],
   "source": [
    "hist_window = 48\n",
    "horizon = 10\n",
    "TRAIN_SPLIT = 30000\n",
    "x_train_multi, y_train_multi = custom_ts_multi_data_prep(\n",
    "    dataX, dataY, 0, TRAIN_SPLIT, hist_window, horizon)\n",
    "x_val_multi, y_val_multi= custom_ts_multi_data_prep(\n",
    "    dataX, dataY, TRAIN_SPLIT, None, hist_window, horizon)"
   ]
  },
  {
   "cell_type": "code",
   "execution_count": 44,
   "metadata": {
    "ExecuteTime": {
     "end_time": "2020-03-02T14:36:25.577088Z",
     "start_time": "2020-03-02T14:36:25.563126Z"
    },
    "scrolled": true
   },
   "outputs": [
    {
     "name": "stdout",
     "output_type": "stream",
     "text": [
      "Single window of past history\n",
      "[[0.         0.92972555 0.         0.4        0.63636364 0.1\n",
      "  0.7        0.76167582]\n",
      " [0.         0.93320863 0.         0.75       0.63636364 0.1\n",
      "  0.06666667 0.62032967]\n",
      " [0.         0.93391815 0.         0.9        0.63636364 0.1\n",
      "  0.56666667 0.65480769]\n",
      " [0.         0.93569194 0.         0.9        0.63636364 0.1\n",
      "  0.56666667 0.69038462]\n",
      " [0.         0.93894927 0.         0.75       0.63636364 0.1\n",
      "  0.06666667 0.67554945]\n",
      " [0.         0.94081981 0.         0.01       0.63636364 0.\n",
      "  0.73333333 0.71167582]\n",
      " [0.         0.94549618 0.         0.01       0.63636364 0.\n",
      "  0.73333333 0.76703297]\n",
      " [0.         0.94772148 0.         0.01       0.63636364 0.\n",
      "  0.73333333 0.82623626]\n",
      " [0.         0.9486245  0.         0.2        0.63636364 0.1\n",
      "  0.13333333 0.79546703]\n",
      " [0.         0.94527042 0.         0.2        0.63636364 0.1\n",
      "  0.13333333 0.65521978]\n",
      " [0.         0.93840101 0.         0.2        0.63636364 0.1\n",
      "  0.13333333 0.48612637]\n",
      " [0.         0.93327313 0.         0.01       0.63636364 0.\n",
      "  0.73333333 0.38241758]\n",
      " [0.         0.93078982 0.         0.01       0.63636364 0.\n",
      "  0.73333333 0.32431319]\n",
      " [0.         0.92611346 0.         0.01       0.63636364 0.\n",
      "  0.73333333 0.21002747]\n",
      " [0.         0.92059857 0.         0.01       0.63636364 0.\n",
      "  0.73333333 0.13228022]\n",
      " [0.         0.91795401 0.         0.01       0.63636364 0.\n",
      "  0.73333333 0.06950549]\n",
      " [0.         0.91421292 0.         0.01       0.63636364 0.\n",
      "  0.73333333 0.04409341]\n",
      " [0.         0.90682749 0.         0.01       0.63636364 0.\n",
      "  0.73333333 0.0375    ]\n",
      " [0.         0.90653723 0.         0.01       0.63636364 0.\n",
      "  0.73333333 0.05041209]\n",
      " [0.         0.90150611 0.         0.01       0.63636364 0.\n",
      "  0.73333333 0.11181319]\n",
      " [0.         0.89857129 0.         0.01       0.63636364 0.\n",
      "  0.73333333 0.37335165]\n",
      " [0.         0.89731351 0.         0.01       0.63636364 0.\n",
      "  0.73333333 0.77925824]\n",
      " [0.         0.89695875 0.         0.01       0.63636364 0.\n",
      "  0.73333333 0.89436813]\n",
      " [0.         0.91102009 0.         0.01       0.63636364 0.\n",
      "  0.73333333 0.75151099]\n",
      " [0.         0.94162608 0.         0.01       0.63636364 0.\n",
      "  0.73333333 0.70013736]\n",
      " [0.         0.94568968 0.         0.01       0.63636364 0.\n",
      "  0.73333333 0.67129121]\n",
      " [0.         0.94917277 0.         0.01       0.63636364 0.\n",
      "  0.73333333 0.7331044 ]\n",
      " [0.         0.95194633 0.         0.01       0.63636364 0.\n",
      "  0.73333333 0.78186813]\n",
      " [0.         0.95181733 0.         0.01       0.63636364 0.\n",
      "  0.73333333 0.84299451]\n",
      " [0.         0.94707647 0.         0.2        0.63636364 0.1\n",
      "  0.13333333 0.63502747]\n",
      " [0.         0.93736898 0.         0.2        0.63636364 0.1\n",
      "  0.13333333 0.49326923]\n",
      " [0.         0.92943529 0.         0.2        0.63636364 0.1\n",
      "  0.13333333 0.39807692]\n",
      " [0.         0.92591995 0.         0.01       0.63636364 0.\n",
      "  0.73333333 0.36222527]\n",
      " [0.         0.92317864 0.         0.01       0.63636364 0.\n",
      "  0.73333333 0.24409341]\n",
      " [0.         0.91998581 0.         0.01       0.63636364 0.\n",
      "  0.73333333 0.13942308]\n",
      " [0.         0.917696   0.         0.01       0.63636364 0.\n",
      "  0.73333333 0.08214286]\n",
      " [0.         0.91421292 0.         0.01       0.63636364 0.\n",
      "  0.73333333 0.05068681]\n",
      " [0.         0.9132454  0.         0.01       0.63636364 0.\n",
      "  0.73333333 0.04285714]\n",
      " [0.         0.90960106 0.         0.01       0.63636364 0.\n",
      "  0.73333333 0.05041209]\n",
      " [0.         0.90847228 0.         0.01       0.63636364 0.\n",
      "  0.73333333 0.1146978 ]\n",
      " [0.         0.907279   0.         0.01       0.63636364 0.\n",
      "  0.73333333 0.37445055]\n",
      " [0.         0.90540846 0.         0.01       0.63636364 0.\n",
      "  0.73333333 0.78145604]\n",
      " [0.         0.90486019 0.         0.01       0.63636364 0.\n",
      "  0.73333333 0.96016484]\n",
      " [0.         0.90902054 0.         0.01       0.63636364 0.\n",
      "  0.73333333 0.82211538]\n",
      " [0.         0.91908279 0.         0.01       0.63636364 0.\n",
      "  0.73333333 0.72925824]\n",
      " [0.         0.93262812 0.         0.01       0.63636364 0.\n",
      "  0.73333333 0.63228022]\n",
      " [0.         0.94027155 0.         0.01       0.63636364 0.\n",
      "  0.73333333 0.67087912]\n",
      " [0.         0.95130132 0.         0.01       0.63636364 0.\n",
      "  0.73333333 0.7010989 ]]\n",
      "\n",
      " Target horizon\n",
      "[[0.75563187]\n",
      " [0.78475275]\n",
      " [0.86428571]\n",
      " [0.83200549]\n",
      " [0.67403846]\n",
      " [0.48118132]\n",
      " [0.41717033]\n",
      " [0.38763736]\n",
      " [0.27362637]\n",
      " [0.16016484]]\n"
     ]
    }
   ],
   "source": [
    "print ('Single window of past history')\n",
    "print(x_train_multi[0])\n",
    "print ('\\n Target horizon')\n",
    "print (y_train_multi[0])"
   ]
  },
  {
   "cell_type": "code",
   "execution_count": 45,
   "metadata": {
    "ExecuteTime": {
     "end_time": "2020-03-02T14:36:27.573754Z",
     "start_time": "2020-03-02T14:36:27.502937Z"
    }
   },
   "outputs": [],
   "source": [
    "BATCH_SIZE = 256\n",
    "BUFFER_SIZE = 150\n",
    "\n",
    "train_data_multi = tf.data.Dataset.from_tensor_slices((x_train_multi, y_train_multi))\n",
    "train_data_multi = train_data_multi.cache().shuffle(BUFFER_SIZE).batch(BATCH_SIZE).repeat()\n",
    "\n",
    "val_data_multi = tf.data.Dataset.from_tensor_slices((x_val_multi, y_val_multi))\n",
    "val_data_multi = val_data_multi.batch(BATCH_SIZE).repeat()"
   ]
  },
  {
   "cell_type": "code",
   "execution_count": 46,
   "metadata": {
    "ExecuteTime": {
     "end_time": "2020-03-02T14:36:29.803795Z",
     "start_time": "2020-03-02T14:36:29.201369Z"
    }
   },
   "outputs": [],
   "source": [
    "lstm_multi = tf.keras.models.Sequential()\n",
    "lstm_multi.add(tf.keras.layers.LSTM(150,input_shape=x_train_multi.shape[-2:],return_sequences=True))\n",
    "lstm_multi.add(tf.keras.layers.Dropout(0.2)),\n",
    "lstm_multi.add(tf.keras.layers.LSTM(units=100,return_sequences=False)),\n",
    "lstm_multi.add(tf.keras.layers.Dropout(0.2)),\n",
    "lstm_multi.add(tf.keras.layers.Dense(units=horizon)),\n",
    "lstm_multi.compile(optimizer='adam', loss='mse')"
   ]
  },
  {
   "cell_type": "code",
   "execution_count": 47,
   "metadata": {
    "ExecuteTime": {
     "end_time": "2020-03-02T14:36:30.283478Z",
     "start_time": "2020-03-02T14:36:30.278490Z"
    }
   },
   "outputs": [],
   "source": [
    "model_path = r'\\Chapter 7\\LSTM_Multivariate.h5'"
   ]
  },
  {
   "cell_type": "code",
   "execution_count": 48,
   "metadata": {
    "ExecuteTime": {
     "end_time": "2020-03-02T14:39:21.216700Z",
     "start_time": "2020-03-02T14:36:30.973637Z"
    }
   },
   "outputs": [
    {
     "name": "stdout",
     "output_type": "stream",
     "text": [
      "Train for 150 steps, validate for 50 steps\n",
      "Epoch 1/100\n",
      "150/150 [==============================] - 9s 63ms/step - loss: 0.0719 - val_loss: 0.0477\n",
      "Epoch 2/100\n",
      "150/150 [==============================] - 3s 22ms/step - loss: 0.0540 - val_loss: 0.0594\n",
      "Epoch 3/100\n",
      "150/150 [==============================] - 4s 27ms/step - loss: 0.0498 - val_loss: 0.0420\n",
      "Epoch 4/100\n",
      "150/150 [==============================] - 3s 23ms/step - loss: 0.0475 - val_loss: 0.0394\n",
      "Epoch 5/100\n",
      "150/150 [==============================] - 4s 25ms/step - loss: 0.0460 - val_loss: 0.0365\n",
      "Epoch 6/100\n",
      "150/150 [==============================] - 3s 22ms/step - loss: 0.0471 - val_loss: 0.0480\n",
      "Epoch 7/100\n",
      "150/150 [==============================] - 3s 23ms/step - loss: 0.0421 - val_loss: 0.0325\n",
      "Epoch 8/100\n",
      "150/150 [==============================] - 3s 22ms/step - loss: 0.0424 - val_loss: 0.0363\n",
      "Epoch 9/100\n",
      "150/150 [==============================] - 3s 22ms/step - loss: 0.0417 - val_loss: 0.0524\n",
      "Epoch 10/100\n",
      "150/150 [==============================] - 3s 23ms/step - loss: 0.0406 - val_loss: 0.0322\n",
      "Epoch 11/100\n",
      "150/150 [==============================] - 3s 22ms/step - loss: 0.0385 - val_loss: 0.0348\n",
      "Epoch 12/100\n",
      "150/150 [==============================] - 3s 23ms/step - loss: 0.0385 - val_loss: 0.0313\n",
      "Epoch 13/100\n",
      "150/150 [==============================] - 3s 22ms/step - loss: 0.0405 - val_loss: 0.0367\n",
      "Epoch 14/100\n",
      "150/150 [==============================] - 3s 22ms/step - loss: 0.0360 - val_loss: 0.0286\n",
      "Epoch 15/100\n",
      "150/150 [==============================] - 3s 22ms/step - loss: 0.0373 - val_loss: 0.0300\n",
      "Epoch 16/100\n",
      "150/150 [==============================] - 3s 22ms/step - loss: 0.0365 - val_loss: 0.0319\n",
      "Epoch 17/100\n",
      "150/150 [==============================] - 3s 22ms/step - loss: 0.0365 - val_loss: 0.0287\n",
      "Epoch 18/100\n",
      "150/150 [==============================] - 3s 22ms/step - loss: 0.0339 - val_loss: 0.0302\n",
      "Epoch 19/100\n",
      "150/150 [==============================] - 3s 22ms/step - loss: 0.0348 - val_loss: 0.0293\n",
      "Epoch 20/100\n",
      "150/150 [==============================] - 3s 22ms/step - loss: 0.0363 - val_loss: 0.0369\n",
      "Epoch 21/100\n",
      "150/150 [==============================] - 3s 23ms/step - loss: 0.0323 - val_loss: 0.0268\n",
      "Epoch 22/100\n",
      "150/150 [==============================] - 3s 22ms/step - loss: 0.0330 - val_loss: 0.0272\n",
      "Epoch 23/100\n",
      "150/150 [==============================] - 3s 22ms/step - loss: 0.0330 - val_loss: 0.0283\n",
      "Epoch 24/100\n",
      "150/150 [==============================] - 3s 22ms/step - loss: 0.0336 - val_loss: 0.0291\n",
      "Epoch 25/100\n",
      "150/150 [==============================] - 3s 22ms/step - loss: 0.0307 - val_loss: 0.0286\n",
      "Epoch 26/100\n",
      "150/150 [==============================] - 3s 22ms/step - loss: 0.0322 - val_loss: 0.0308\n",
      "Epoch 27/100\n",
      "150/150 [==============================] - 3s 22ms/step - loss: 0.0328 - val_loss: 0.0321\n",
      "Epoch 28/100\n",
      "150/150 [==============================] - 3s 23ms/step - loss: 0.0294 - val_loss: 0.0260\n",
      "Epoch 29/100\n",
      "150/150 [==============================] - 3s 22ms/step - loss: 0.0304 - val_loss: 0.0266\n",
      "Epoch 30/100\n",
      "150/150 [==============================] - 3s 22ms/step - loss: 0.0299 - val_loss: 0.0283\n",
      "Epoch 31/100\n",
      "150/150 [==============================] - 3s 22ms/step - loss: 0.0308 - val_loss: 0.0287\n",
      "Epoch 32/100\n",
      "150/150 [==============================] - 3s 22ms/step - loss: 0.0288 - val_loss: 0.0267\n",
      "Epoch 33/100\n",
      "150/150 [==============================] - 3s 22ms/step - loss: 0.0300 - val_loss: 0.0276\n",
      "Epoch 34/100\n",
      "150/150 [==============================] - 3s 22ms/step - loss: 0.0300 - val_loss: 0.0354\n",
      "Epoch 35/100\n",
      "150/150 [==============================] - 3s 22ms/step - loss: 0.0268 - val_loss: 0.0257\n",
      "Epoch 36/100\n",
      "150/150 [==============================] - 3s 22ms/step - loss: 0.0280 - val_loss: 0.0275\n",
      "Epoch 37/100\n",
      "150/150 [==============================] - 3s 22ms/step - loss: 0.0274 - val_loss: 0.0271\n",
      "Epoch 38/100\n",
      "150/150 [==============================] - 3s 22ms/step - loss: 0.0277 - val_loss: 0.0283\n",
      "Epoch 39/100\n",
      "150/150 [==============================] - 3s 22ms/step - loss: 0.0264 - val_loss: 0.0257\n",
      "Epoch 40/100\n",
      "150/150 [==============================] - 3s 22ms/step - loss: 0.0276 - val_loss: 0.0285\n",
      "Epoch 41/100\n",
      "150/150 [==============================] - 3s 22ms/step - loss: 0.0271 - val_loss: 0.0352\n",
      "Epoch 42/100\n",
      "150/150 [==============================] - 3s 22ms/step - loss: 0.0247 - val_loss: 0.0263\n",
      "Epoch 43/100\n",
      "150/150 [==============================] - 3s 22ms/step - loss: 0.0252 - val_loss: 0.0278\n",
      "Epoch 44/100\n",
      "150/150 [==============================] - 3s 22ms/step - loss: 0.0247 - val_loss: 0.0285\n",
      "Epoch 45/100\n",
      "150/150 [==============================] - 3s 22ms/step - loss: 0.0252 - val_loss: 0.0293\n",
      "Epoch 46/100\n",
      "150/150 [==============================] - 3s 22ms/step - loss: 0.0232 - val_loss: 0.0264\n",
      "Epoch 47/100\n",
      "150/150 [==============================] - 3s 22ms/step - loss: 0.0239 - val_loss: 0.0304\n",
      "Epoch 48/100\n",
      "150/150 [==============================] - 3s 22ms/step - loss: 0.0232 - val_loss: 0.0353\n",
      "Epoch 49/100\n",
      "150/150 [==============================] - 3s 22ms/step - loss: 0.0223 - val_loss: 0.0293\n",
      "Epoch 00049: early stopping\n"
     ]
    }
   ],
   "source": [
    "EVALUATION_INTERVAL = 150\n",
    "EPOCHS = 100\n",
    "history = lstm_multi.fit(train_data_multi, epochs=EPOCHS,steps_per_epoch=EVALUATION_INTERVAL,validation_data=val_data_multi, validation_steps=50,verbose =1,\n",
    "                              callbacks =[tf.keras.callbacks.EarlyStopping(monitor='val_loss', min_delta=0, patience=10, verbose=1, mode='min'),tf.keras.callbacks.ModelCheckpoint(model_path,monitor='val_loss', save_best_only=True, mode='min', verbose=0)])"
   ]
  },
  {
   "cell_type": "code",
   "execution_count": 49,
   "metadata": {
    "ExecuteTime": {
     "end_time": "2020-03-02T14:39:55.401991Z",
     "start_time": "2020-03-02T14:39:53.112114Z"
    }
   },
   "outputs": [],
   "source": [
    "Trained_model = tf.keras.models.load_model(model_path)"
   ]
  },
  {
   "cell_type": "code",
   "execution_count": 50,
   "metadata": {
    "ExecuteTime": {
     "end_time": "2020-03-02T14:39:55.708173Z",
     "start_time": "2020-03-02T14:39:55.402988Z"
    }
   },
   "outputs": [
    {
     "data": {
      "image/png": "[encoded data removed]",
      "text/plain": [
       "<Figure size 1152x648 with 1 Axes>"
      ]
     },
     "metadata": {
      "needs_background": "light"
     },
     "output_type": "display_data"
    }
   ],
   "source": [
    "plt.plot(history.history['loss'])\n",
    "plt.plot(history.history['val_loss'])\n",
    "plt.title('Model loss')\n",
    "plt.ylabel('loss')\n",
    "plt.xlabel('epoch')\n",
    "plt.legend(['train loss', 'validation loss'], loc='upper left')\n",
    "plt.rcParams[\"figure.figsize\"] = [16,9]\n",
    "plt.show()"
   ]
  },
  {
   "cell_type": "code",
   "execution_count": 51,
   "metadata": {
    "ExecuteTime": {
     "end_time": "2020-03-02T14:39:58.808891Z",
     "start_time": "2020-03-02T14:39:58.801906Z"
    }
   },
   "outputs": [
    {
     "name": "stdout",
     "output_type": "stream",
     "text": [
      "Model: \"sequential_1\"\n",
      "_________________________________________________________________\n",
      "Layer (type)                 Output Shape              Param #   \n",
      "=================================================================\n",
      "lstm_2 (LSTM)                (None, 48, 150)           95400     \n",
      "_________________________________________________________________\n",
      "dropout_2 (Dropout)          (None, 48, 150)           0         \n",
      "_________________________________________________________________\n",
      "lstm_3 (LSTM)                (None, 100)               100400    \n",
      "_________________________________________________________________\n",
      "dropout_3 (Dropout)          (None, 100)               0         \n",
      "_________________________________________________________________\n",
      "dense_1 (Dense)              (None, 10)                1010      \n",
      "=================================================================\n",
      "Total params: 196,810\n",
      "Trainable params: 196,810\n",
      "Non-trainable params: 0\n",
      "_________________________________________________________________\n"
     ]
    }
   ],
   "source": [
    "# Show the model architecture\n",
    "Trained_model.summary()"
   ]
  },
  {
   "cell_type": "code",
   "execution_count": 52,
   "metadata": {
    "ExecuteTime": {
     "end_time": "2020-03-02T14:40:03.190187Z",
     "start_time": "2020-03-02T14:40:03.182203Z"
    }
   },
   "outputs": [],
   "source": [
    "data_val = x_scaler.fit_transform(df[['rain_1h','temp', 'snow_1h', 'clouds_all', 'holiday_le',\n",
    "    'weather_main_le', 'weather_description_le','traffic_volume']].tail(48))"
   ]
  },
  {
   "cell_type": "code",
   "execution_count": 53,
   "metadata": {
    "ExecuteTime": {
     "end_time": "2020-03-02T14:40:04.603404Z",
     "start_time": "2020-03-02T14:40:04.598422Z"
    }
   },
   "outputs": [],
   "source": [
    "val_rescaled = data_val.reshape(1, data_val.shape[0], data_val.shape[1])"
   ]
  },
  {
   "cell_type": "code",
   "execution_count": 54,
   "metadata": {
    "ExecuteTime": {
     "end_time": "2020-03-02T14:40:06.007654Z",
     "start_time": "2020-03-02T14:40:05.654594Z"
    }
   },
   "outputs": [],
   "source": [
    "Predicted_results = Trained_model.predict(val_rescaled)"
   ]
  },
  {
   "cell_type": "code",
   "execution_count": 55,
   "metadata": {
    "ExecuteTime": {
     "end_time": "2020-03-02T14:40:07.503654Z",
     "start_time": "2020-03-02T14:40:07.498666Z"
    }
   },
   "outputs": [
    {
     "data": {
      "text/plain": [
       "array([[0.6491108 , 0.6378182 , 0.6240657 , 0.60300267, 0.57390654,\n",
       "        0.54723495, 0.5352416 , 0.498307  , 0.42924818, 0.3614945 ]],\n",
       "      dtype=float32)"
      ]
     },
     "execution_count": 55,
     "metadata": {},
     "output_type": "execute_result"
    }
   ],
   "source": [
    "Predicted_results"
   ]
  },
  {
   "cell_type": "code",
   "execution_count": 56,
   "metadata": {
    "ExecuteTime": {
     "end_time": "2020-03-02T14:40:09.475385Z",
     "start_time": "2020-03-02T14:40:09.470400Z"
    }
   },
   "outputs": [],
   "source": [
    "Predicted_results_Inv_trans = y_scaler.inverse_transform(Predicted_results)"
   ]
  },
  {
   "cell_type": "code",
   "execution_count": 57,
   "metadata": {
    "ExecuteTime": {
     "end_time": "2020-03-02T14:40:11.040203Z",
     "start_time": "2020-03-02T14:40:11.034219Z"
    }
   },
   "outputs": [
    {
     "data": {
      "text/plain": [
       "array([[4725.5264, 4643.3164, 4543.198 , 4389.8594, 4178.0396, 3983.8704,\n",
       "        3896.5588, 3627.6748, 3124.9268, 2631.68  ]], dtype=float32)"
      ]
     },
     "execution_count": 57,
     "metadata": {},
     "output_type": "execute_result"
    }
   ],
   "source": [
    "Predicted_results_Inv_trans"
   ]
  },
  {
   "cell_type": "code",
   "execution_count": 58,
   "metadata": {
    "ExecuteTime": {
     "end_time": "2020-03-02T14:40:12.161209Z",
     "start_time": "2020-03-02T14:40:12.154226Z"
    }
   },
   "outputs": [],
   "source": [
    "from sklearn import metrics\n",
    "def timeseries_evaluation_metrics_func(y_true, y_pred):\n",
    "    \n",
    "    def mean_absolute_percentage_error(y_true, y_pred): \n",
    "        y_true, y_pred = np.array(y_true), np.array(y_pred)\n",
    "        return np.mean(np.abs((y_true - y_pred) / y_true)) * 100\n",
    "    print('Evaluation metric results:-')\n",
    "    print(f'MSE is : {metrics.mean_squared_error(y_true, y_pred)}')\n",
    "    print(f'MAE is : {metrics.mean_absolute_error(y_true, y_pred)}')\n",
    "    print(f'RMSE is : {np.sqrt(metrics.mean_squared_error(y_true, y_pred))}')\n",
    "    print(f'MAPE is : {mean_absolute_percentage_error(y_true, y_pred)}')\n",
    "    print(f'R2 is : {metrics.r2_score(y_true, y_pred)}',end='\\n\\n')"
   ]
  },
  {
   "cell_type": "code",
   "execution_count": 59,
   "metadata": {
    "ExecuteTime": {
     "end_time": "2020-03-02T14:40:16.574416Z",
     "start_time": "2020-03-02T14:40:16.567433Z"
    }
   },
   "outputs": [
    {
     "name": "stdout",
     "output_type": "stream",
     "text": [
      "Evaluation metric results:-\n",
      "MSE is : 950061.2068371713\n",
      "MAE is : 751.9650634765625\n",
      "RMSE is : 974.7108324201447\n",
      "MAPE is : 43.89349128541913\n",
      "R2 is : 0.3832059642626128\n",
      "\n"
     ]
    }
   ],
   "source": [
    "timeseries_evaluation_metrics_func(validate['traffic_volume'],Predicted_results_Inv_trans[0])"
   ]
  },
  {
   "cell_type": "code",
   "execution_count": 60,
   "metadata": {
    "ExecuteTime": {
     "end_time": "2020-03-02T14:40:18.909211Z",
     "start_time": "2020-03-02T14:40:18.657847Z"
    }
   },
   "outputs": [
    {
     "data": {
      "image/png": "[encoded data removed]",
      "text/plain": [
       "<Figure size 1152x648 with 1 Axes>"
      ]
     },
     "metadata": {
      "needs_background": "light"
     },
     "output_type": "display_data"
    }
   ],
   "source": [
    "plt.plot( list(validate['traffic_volume']))\n",
    "plt.plot( list(Predicted_results_Inv_trans[0]))\n",
    "plt.title(\"Actual vs Predicted\")\n",
    "plt.ylabel(\"Traffic volume\")\n",
    "plt.legend(('Actual','predicted'))\n",
    "plt.show()"
   ]
  }
 ],
 "metadata": {
  "kernelspec": {
   "display_name": "Python 3",
   "language": "python",
   "name": "python3"
  },
  "language_info": {
   "codemirror_mode": {
    "name": "ipython",
    "version": 3
   },
   "file_extension": ".py",
   "mimetype": "text/x-python",
   "name": "python",
   "nbconvert_exporter": "python",
   "pygments_lexer": "ipython3",
   "version": "3.7.3"
  },
  "latex_envs": {
   "LaTeX_envs_menu_present": true,
   "autoclose": false,
   "autocomplete": true,
   "bibliofile": "biblio.bib",
   "cite_by": "apalike",
   "current_citInitial": 1,
   "eqLabelWithNumbers": true,
   "eqNumInitial": 1,
   "hotkeys": {
    "equation": "Ctrl-E",
    "itemize": "Ctrl-I"
   },
   "labels_anchors": false,
   "latex_user_defs": false,
   "report_style_numbering": false,
   "user_envs_cfg": false
  },
  "nbTranslate": {
   "displayLangs": [
    "*"
   ],
   "hotkey": "alt-t",
   "langInMainMenu": true,
   "sourceLang": "en",
   "targetLang": "fr",
   "useGoogleTranslate": true
  }
 },
 "nbformat": 4,
 "nbformat_minor": 2
}

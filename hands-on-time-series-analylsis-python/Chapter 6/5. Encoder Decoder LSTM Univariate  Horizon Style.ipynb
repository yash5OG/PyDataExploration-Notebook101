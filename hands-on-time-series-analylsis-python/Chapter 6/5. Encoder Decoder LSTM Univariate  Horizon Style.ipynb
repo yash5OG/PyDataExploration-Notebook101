{
 "cells": [
  {
   "cell_type": "code",
   "execution_count": 1,
   "metadata": {
    "ExecuteTime": {
     "end_time": "2020-03-02T16:12:43.527149Z",
     "start_time": "2020-03-02T16:12:38.593336Z"
    }
   },
   "outputs": [],
   "source": [
    "import pandas as pd\n",
    "import numpy as np\n",
    "import tensorflow as tf\n",
    "from sklearn import preprocessing\n",
    "import matplotlib.pyplot as plt\n",
    "tf.random.set_seed(123)\n",
    "np.random.seed(123)"
   ]
  },
  {
   "cell_type": "code",
   "execution_count": 2,
   "metadata": {
    "ExecuteTime": {
     "end_time": "2020-03-02T16:12:43.874221Z",
     "start_time": "2020-03-02T16:12:43.791445Z"
    }
   },
   "outputs": [],
   "source": [
    "df = pd.read_csv(r'\\Data\\Metro_Interstate_Traffic_Volume.csv')"
   ]
  },
  {
   "cell_type": "code",
   "execution_count": 3,
   "metadata": {
    "ExecuteTime": {
     "end_time": "2020-03-02T16:12:43.896199Z",
     "start_time": "2020-03-02T16:12:43.876218Z"
    }
   },
   "outputs": [
    {
     "data": {
      "text/html": [
       "<div>\n",
       "<style scoped>\n",
       "    .dataframe tbody tr th:only-of-type {\n",
       "        vertical-align: middle;\n",
       "    }\n",
       "\n",
       "    .dataframe tbody tr th {\n",
       "        vertical-align: top;\n",
       "    }\n",
       "\n",
       "    .dataframe thead th {\n",
       "        text-align: right;\n",
       "    }\n",
       "</style>\n",
       "<table border=\"1\" class=\"dataframe\">\n",
       "  <thead>\n",
       "    <tr style=\"text-align: right;\">\n",
       "      <th></th>\n",
       "      <th>holiday</th>\n",
       "      <th>temp</th>\n",
       "      <th>rain_1h</th>\n",
       "      <th>snow_1h</th>\n",
       "      <th>clouds_all</th>\n",
       "      <th>weather_main</th>\n",
       "      <th>weather_description</th>\n",
       "      <th>date_time</th>\n",
       "      <th>traffic_volume</th>\n",
       "    </tr>\n",
       "  </thead>\n",
       "  <tbody>\n",
       "    <tr>\n",
       "      <th>0</th>\n",
       "      <td>None</td>\n",
       "      <td>288.28</td>\n",
       "      <td>0.0</td>\n",
       "      <td>0.0</td>\n",
       "      <td>40</td>\n",
       "      <td>Clouds</td>\n",
       "      <td>scattered clouds</td>\n",
       "      <td>2012-10-02 09:00:00</td>\n",
       "      <td>5545</td>\n",
       "    </tr>\n",
       "    <tr>\n",
       "      <th>1</th>\n",
       "      <td>None</td>\n",
       "      <td>289.36</td>\n",
       "      <td>0.0</td>\n",
       "      <td>0.0</td>\n",
       "      <td>75</td>\n",
       "      <td>Clouds</td>\n",
       "      <td>broken clouds</td>\n",
       "      <td>2012-10-02 10:00:00</td>\n",
       "      <td>4516</td>\n",
       "    </tr>\n",
       "    <tr>\n",
       "      <th>2</th>\n",
       "      <td>None</td>\n",
       "      <td>289.58</td>\n",
       "      <td>0.0</td>\n",
       "      <td>0.0</td>\n",
       "      <td>90</td>\n",
       "      <td>Clouds</td>\n",
       "      <td>overcast clouds</td>\n",
       "      <td>2012-10-02 11:00:00</td>\n",
       "      <td>4767</td>\n",
       "    </tr>\n",
       "    <tr>\n",
       "      <th>3</th>\n",
       "      <td>None</td>\n",
       "      <td>290.13</td>\n",
       "      <td>0.0</td>\n",
       "      <td>0.0</td>\n",
       "      <td>90</td>\n",
       "      <td>Clouds</td>\n",
       "      <td>overcast clouds</td>\n",
       "      <td>2012-10-02 12:00:00</td>\n",
       "      <td>5026</td>\n",
       "    </tr>\n",
       "    <tr>\n",
       "      <th>4</th>\n",
       "      <td>None</td>\n",
       "      <td>291.14</td>\n",
       "      <td>0.0</td>\n",
       "      <td>0.0</td>\n",
       "      <td>75</td>\n",
       "      <td>Clouds</td>\n",
       "      <td>broken clouds</td>\n",
       "      <td>2012-10-02 13:00:00</td>\n",
       "      <td>4918</td>\n",
       "    </tr>\n",
       "  </tbody>\n",
       "</table>\n",
       "</div>"
      ],
      "text/plain": [
       "  holiday    temp  rain_1h  snow_1h  clouds_all weather_main  \\\n",
       "0    None  288.28      0.0      0.0          40       Clouds   \n",
       "1    None  289.36      0.0      0.0          75       Clouds   \n",
       "2    None  289.58      0.0      0.0          90       Clouds   \n",
       "3    None  290.13      0.0      0.0          90       Clouds   \n",
       "4    None  291.14      0.0      0.0          75       Clouds   \n",
       "\n",
       "  weather_description            date_time  traffic_volume  \n",
       "0    scattered clouds  2012-10-02 09:00:00            5545  \n",
       "1       broken clouds  2012-10-02 10:00:00            4516  \n",
       "2     overcast clouds  2012-10-02 11:00:00            4767  \n",
       "3     overcast clouds  2012-10-02 12:00:00            5026  \n",
       "4       broken clouds  2012-10-02 13:00:00            4918  "
      ]
     },
     "execution_count": 3,
     "metadata": {},
     "output_type": "execute_result"
    }
   ],
   "source": [
    "df.head()"
   ]
  },
  {
   "cell_type": "code",
   "execution_count": 4,
   "metadata": {
    "ExecuteTime": {
     "end_time": "2020-03-02T16:12:43.948027Z",
     "start_time": "2020-03-02T16:12:43.900153Z"
    }
   },
   "outputs": [
    {
     "data": {
      "text/html": [
       "<div>\n",
       "<style scoped>\n",
       "    .dataframe tbody tr th:only-of-type {\n",
       "        vertical-align: middle;\n",
       "    }\n",
       "\n",
       "    .dataframe tbody tr th {\n",
       "        vertical-align: top;\n",
       "    }\n",
       "\n",
       "    .dataframe thead th {\n",
       "        text-align: right;\n",
       "    }\n",
       "</style>\n",
       "<table border=\"1\" class=\"dataframe\">\n",
       "  <thead>\n",
       "    <tr style=\"text-align: right;\">\n",
       "      <th></th>\n",
       "      <th>temp</th>\n",
       "      <th>rain_1h</th>\n",
       "      <th>snow_1h</th>\n",
       "      <th>clouds_all</th>\n",
       "      <th>traffic_volume</th>\n",
       "    </tr>\n",
       "  </thead>\n",
       "  <tbody>\n",
       "    <tr>\n",
       "      <th>count</th>\n",
       "      <td>48204.000000</td>\n",
       "      <td>48204.000000</td>\n",
       "      <td>48204.000000</td>\n",
       "      <td>48204.000000</td>\n",
       "      <td>48204.000000</td>\n",
       "    </tr>\n",
       "    <tr>\n",
       "      <th>mean</th>\n",
       "      <td>281.205870</td>\n",
       "      <td>0.334264</td>\n",
       "      <td>0.000222</td>\n",
       "      <td>49.362231</td>\n",
       "      <td>3259.818355</td>\n",
       "    </tr>\n",
       "    <tr>\n",
       "      <th>std</th>\n",
       "      <td>13.338232</td>\n",
       "      <td>44.789133</td>\n",
       "      <td>0.008168</td>\n",
       "      <td>39.015750</td>\n",
       "      <td>1986.860670</td>\n",
       "    </tr>\n",
       "    <tr>\n",
       "      <th>min</th>\n",
       "      <td>0.000000</td>\n",
       "      <td>0.000000</td>\n",
       "      <td>0.000000</td>\n",
       "      <td>0.000000</td>\n",
       "      <td>0.000000</td>\n",
       "    </tr>\n",
       "    <tr>\n",
       "      <th>25%</th>\n",
       "      <td>272.160000</td>\n",
       "      <td>0.000000</td>\n",
       "      <td>0.000000</td>\n",
       "      <td>1.000000</td>\n",
       "      <td>1193.000000</td>\n",
       "    </tr>\n",
       "    <tr>\n",
       "      <th>50%</th>\n",
       "      <td>282.450000</td>\n",
       "      <td>0.000000</td>\n",
       "      <td>0.000000</td>\n",
       "      <td>64.000000</td>\n",
       "      <td>3380.000000</td>\n",
       "    </tr>\n",
       "    <tr>\n",
       "      <th>75%</th>\n",
       "      <td>291.806000</td>\n",
       "      <td>0.000000</td>\n",
       "      <td>0.000000</td>\n",
       "      <td>90.000000</td>\n",
       "      <td>4933.000000</td>\n",
       "    </tr>\n",
       "    <tr>\n",
       "      <th>max</th>\n",
       "      <td>310.070000</td>\n",
       "      <td>9831.300000</td>\n",
       "      <td>0.510000</td>\n",
       "      <td>100.000000</td>\n",
       "      <td>7280.000000</td>\n",
       "    </tr>\n",
       "  </tbody>\n",
       "</table>\n",
       "</div>"
      ],
      "text/plain": [
       "               temp       rain_1h       snow_1h    clouds_all  traffic_volume\n",
       "count  48204.000000  48204.000000  48204.000000  48204.000000    48204.000000\n",
       "mean     281.205870      0.334264      0.000222     49.362231     3259.818355\n",
       "std       13.338232     44.789133      0.008168     39.015750     1986.860670\n",
       "min        0.000000      0.000000      0.000000      0.000000        0.000000\n",
       "25%      272.160000      0.000000      0.000000      1.000000     1193.000000\n",
       "50%      282.450000      0.000000      0.000000     64.000000     3380.000000\n",
       "75%      291.806000      0.000000      0.000000     90.000000     4933.000000\n",
       "max      310.070000   9831.300000      0.510000    100.000000     7280.000000"
      ]
     },
     "execution_count": 4,
     "metadata": {},
     "output_type": "execute_result"
    }
   ],
   "source": [
    "df.describe()"
   ]
  },
  {
   "cell_type": "code",
   "execution_count": 5,
   "metadata": {
    "ExecuteTime": {
     "end_time": "2020-03-02T16:12:45.878871Z",
     "start_time": "2020-03-02T16:12:45.854928Z"
    }
   },
   "outputs": [],
   "source": [
    "df.drop_duplicates(subset=['date_time'], keep=False,inplace=True)"
   ]
  },
  {
   "cell_type": "code",
   "execution_count": 6,
   "metadata": {
    "ExecuteTime": {
     "end_time": "2020-03-02T16:12:46.486242Z",
     "start_time": "2020-03-02T16:12:46.472279Z"
    }
   },
   "outputs": [],
   "source": [
    "validate = df['traffic_volume'].tail(10)\n",
    "df.drop(df['traffic_volume'].tail(10).index,inplace=True)"
   ]
  },
  {
   "cell_type": "code",
   "execution_count": 7,
   "metadata": {
    "ExecuteTime": {
     "end_time": "2020-03-02T16:12:47.152497Z",
     "start_time": "2020-03-02T16:12:47.143492Z"
    }
   },
   "outputs": [
    {
     "data": {
      "text/plain": [
       "date_time\n",
       "2012-10-02 09:00:00    5545\n",
       "2012-10-02 10:00:00    4516\n",
       "2012-10-02 11:00:00    4767\n",
       "2012-10-02 12:00:00    5026\n",
       "2012-10-02 13:00:00    4918\n",
       "Name: traffic_volume, dtype: int64"
      ]
     },
     "execution_count": 7,
     "metadata": {},
     "output_type": "execute_result"
    }
   ],
   "source": [
    "uni_data = df['traffic_volume']\n",
    "uni_data.index = df['date_time']\n",
    "uni_data.head()"
   ]
  },
  {
   "cell_type": "code",
   "execution_count": 8,
   "metadata": {
    "ExecuteTime": {
     "end_time": "2020-03-02T16:12:49.585958Z",
     "start_time": "2020-03-02T16:12:49.579978Z"
    }
   },
   "outputs": [],
   "source": [
    "uni_data = uni_data.values\n",
    "scaler_x = preprocessing.MinMaxScaler()\n",
    "x_rescaled = scaler_x.fit_transform(uni_data.reshape(-1, 1))"
   ]
  },
  {
   "cell_type": "code",
   "execution_count": 9,
   "metadata": {
    "ExecuteTime": {
     "end_time": "2020-03-02T16:12:50.431699Z",
     "start_time": "2020-03-02T16:12:50.422722Z"
    }
   },
   "outputs": [],
   "source": [
    "def custom_ts_univariate_data_prep(dataset, start, end, window, horizon):\n",
    "  X = []\n",
    "  y = []\n",
    "\n",
    "  start = start + window\n",
    "  if end is None:\n",
    "    end = len(dataset) - horizon\n",
    "\n",
    "  for i in range(start, end):\n",
    "    indicesx = range(i-window, i)\n",
    "    X.append(np.reshape(dataset[indicesx], (window, 1)))\n",
    "    indicesy = range(i,i+horizon)\n",
    "    y.append(dataset[indicesy])\n",
    "  return np.array(X), np.array(y)"
   ]
  },
  {
   "cell_type": "code",
   "execution_count": 10,
   "metadata": {
    "ExecuteTime": {
     "end_time": "2020-03-02T16:12:53.236236Z",
     "start_time": "2020-03-02T16:12:52.088286Z"
    }
   },
   "outputs": [],
   "source": [
    "univar_hist_window = 48\n",
    "horizon = 10\n",
    "TRAIN_SPLIT = 30000\n",
    "x_train_uni, y_train_uni = custom_ts_univariate_data_prep(x_rescaled, 0, TRAIN_SPLIT,univar_hist_window, horizon)\n",
    "x_val_uni, y_val_uni = custom_ts_univariate_data_prep(x_rescaled, TRAIN_SPLIT, None,univar_hist_window,horizon)"
   ]
  },
  {
   "cell_type": "code",
   "execution_count": 11,
   "metadata": {
    "ExecuteTime": {
     "end_time": "2020-03-02T16:12:53.248172Z",
     "start_time": "2020-03-02T16:12:53.238199Z"
    }
   },
   "outputs": [
    {
     "name": "stdout",
     "output_type": "stream",
     "text": [
      "Single window of past history\n",
      "[[0.76167582]\n",
      " [0.62032967]\n",
      " [0.65480769]\n",
      " [0.69038462]\n",
      " [0.67554945]\n",
      " [0.71167582]\n",
      " [0.76703297]\n",
      " [0.82623626]\n",
      " [0.79546703]\n",
      " [0.65521978]\n",
      " [0.48612637]\n",
      " [0.38241758]\n",
      " [0.32431319]\n",
      " [0.21002747]\n",
      " [0.13228022]\n",
      " [0.06950549]\n",
      " [0.04409341]\n",
      " [0.0375    ]\n",
      " [0.05041209]\n",
      " [0.11181319]\n",
      " [0.37335165]\n",
      " [0.77925824]\n",
      " [0.89436813]\n",
      " [0.75151099]\n",
      " [0.70013736]\n",
      " [0.67129121]\n",
      " [0.7331044 ]\n",
      " [0.78186813]\n",
      " [0.84299451]\n",
      " [0.63502747]\n",
      " [0.49326923]\n",
      " [0.39807692]\n",
      " [0.36222527]\n",
      " [0.24409341]\n",
      " [0.13942308]\n",
      " [0.08214286]\n",
      " [0.05068681]\n",
      " [0.04285714]\n",
      " [0.05041209]\n",
      " [0.1146978 ]\n",
      " [0.37445055]\n",
      " [0.78145604]\n",
      " [0.96016484]\n",
      " [0.82211538]\n",
      " [0.72925824]\n",
      " [0.63228022]\n",
      " [0.67087912]\n",
      " [0.7010989 ]]\n",
      "\n",
      " Target horizon\n",
      "[[0.71126374]\n",
      " [0.75563187]\n",
      " [0.78475275]\n",
      " [0.86428571]\n",
      " [0.83200549]\n",
      " [0.67403846]\n",
      " [0.48118132]\n",
      " [0.41717033]\n",
      " [0.38763736]\n",
      " [0.27362637]]\n"
     ]
    }
   ],
   "source": [
    "print ('Single window of past history')\n",
    "print (x_train_uni[0])\n",
    "print ('\\n Target horizon')\n",
    "print (y_train_uni[0])"
   ]
  },
  {
   "cell_type": "code",
   "execution_count": 12,
   "metadata": {
    "ExecuteTime": {
     "end_time": "2020-03-02T16:12:56.851576Z",
     "start_time": "2020-03-02T16:12:55.631803Z"
    }
   },
   "outputs": [],
   "source": [
    "BATCH_SIZE = 256\n",
    "BUFFER_SIZE = 150\n",
    "train_univariate = tf.data.Dataset.from_tensor_slices((x_train_uni, y_train_uni))\n",
    "train_univariate = train_univariate.cache().shuffle(BUFFER_SIZE).batch(BATCH_SIZE).repeat()\n",
    "\n",
    "val_univariate = tf.data.Dataset.from_tensor_slices((x_val_uni, y_val_uni))\n",
    "val_univariate = val_univariate.batch(BATCH_SIZE).repeat()"
   ]
  },
  {
   "cell_type": "code",
   "execution_count": 13,
   "metadata": {
    "ExecuteTime": {
     "end_time": "2020-03-02T16:12:58.504130Z",
     "start_time": "2020-03-02T16:12:56.907428Z"
    }
   },
   "outputs": [],
   "source": [
    "ED_lstm_model = tf.keras.models.Sequential([\n",
    "    tf.keras.layers.LSTM(100, input_shape=x_train_uni.shape[-2:], return_sequences=True),\n",
    "    tf.keras.layers.LSTM(units=50,return_sequences=True),\n",
    "    tf.keras.layers.LSTM(units=15),\n",
    "    tf.keras.layers.RepeatVector(y_train_uni.shape[1]), \n",
    "    tf.keras.layers.LSTM(units=100,return_sequences=True),\n",
    "    tf.keras.layers.LSTM(units=50,return_sequences=True),\n",
    "    tf.keras.layers.TimeDistributed(tf.keras.layers.Dense(units=1))\n",
    "])\n",
    "ED_lstm_model.compile(optimizer='adam', loss='mse')\n"
   ]
  },
  {
   "cell_type": "code",
   "execution_count": 14,
   "metadata": {
    "ExecuteTime": {
     "end_time": "2020-03-02T16:12:59.007783Z",
     "start_time": "2020-03-02T16:12:59.002796Z"
    }
   },
   "outputs": [],
   "source": [
    "model_path = r'\\Chapter 6\\LSTM_encoder_decoder_Univarient_1.h5'"
   ]
  },
  {
   "cell_type": "code",
   "execution_count": 15,
   "metadata": {
    "ExecuteTime": {
     "end_time": "2020-03-02T16:16:18.101750Z",
     "start_time": "2020-03-02T16:13:00.811960Z"
    }
   },
   "outputs": [
    {
     "name": "stdout",
     "output_type": "stream",
     "text": [
      "Train for 100 steps, validate for 50 steps\n",
      "Epoch 1/150\n",
      "100/100 [==============================] - 16s 163ms/step - loss: 0.0958 - val_loss: 0.0708\n",
      "Epoch 2/150\n",
      "100/100 [==============================] - 3s 26ms/step - loss: 0.0605 - val_loss: 0.0572\n",
      "Epoch 3/150\n",
      "100/100 [==============================] - 2s 25ms/step - loss: 0.0537 - val_loss: 0.0752\n",
      "Epoch 4/150\n",
      "100/100 [==============================] - 3s 26ms/step - loss: 0.0491 - val_loss: 0.0461\n",
      "Epoch 5/150\n",
      "100/100 [==============================] - 3s 27ms/step - loss: 0.0499 - val_loss: 0.0423\n",
      "Epoch 6/150\n",
      "100/100 [==============================] - 3s 26ms/step - loss: 0.0455 - val_loss: 0.0418\n",
      "Epoch 7/150\n",
      "100/100 [==============================] - 3s 27ms/step - loss: 0.0441 - val_loss: 0.0358\n",
      "Epoch 8/150\n",
      "100/100 [==============================] - 3s 29ms/step - loss: 0.0436 - val_loss: 0.0356\n",
      "Epoch 9/150\n",
      "100/100 [==============================] - 2s 25ms/step - loss: 0.0418 - val_loss: 0.0459\n",
      "Epoch 10/150\n",
      "100/100 [==============================] - 2s 25ms/step - loss: 0.0383 - val_loss: 0.0629\n",
      "Epoch 11/150\n",
      "100/100 [==============================] - 3s 26ms/step - loss: 0.0361 - val_loss: 0.0328\n",
      "Epoch 12/150\n",
      "100/100 [==============================] - 3s 25ms/step - loss: 0.0381 - val_loss: 0.0337\n",
      "Epoch 13/150\n",
      "100/100 [==============================] - 2s 25ms/step - loss: 0.0351 - val_loss: 0.0332\n",
      "Epoch 14/150\n",
      "100/100 [==============================] - 3s 26ms/step - loss: 0.0351 - val_loss: 0.0283\n",
      "Epoch 15/150\n",
      "100/100 [==============================] - 2s 25ms/step - loss: 0.0350 - val_loss: 0.0297\n",
      "Epoch 16/150\n",
      "100/100 [==============================] - 3s 25ms/step - loss: 0.0341 - val_loss: 0.0353\n",
      "Epoch 17/150\n",
      "100/100 [==============================] - 2s 25ms/step - loss: 0.0311 - val_loss: 0.0427\n",
      "Epoch 18/150\n",
      "100/100 [==============================] - 2s 25ms/step - loss: 0.0304 - val_loss: 0.0300\n",
      "Epoch 19/150\n",
      "100/100 [==============================] - 4s 35ms/step - loss: 0.0328 - val_loss: 0.0272\n",
      "Epoch 20/150\n",
      "100/100 [==============================] - 2s 25ms/step - loss: 0.0299 - val_loss: 0.0306\n",
      "Epoch 21/150\n",
      "100/100 [==============================] - 3s 26ms/step - loss: 0.0308 - val_loss: 0.0261\n",
      "Epoch 22/150\n",
      "100/100 [==============================] - 3s 26ms/step - loss: 0.0307 - val_loss: 0.0258\n",
      "Epoch 23/150\n",
      "100/100 [==============================] - 2s 25ms/step - loss: 0.0304 - val_loss: 0.0289\n",
      "Epoch 24/150\n",
      "100/100 [==============================] - 2s 25ms/step - loss: 0.0277 - val_loss: 0.0307\n",
      "Epoch 25/150\n",
      "100/100 [==============================] - 3s 27ms/step - loss: 0.0279 - val_loss: 0.0258\n",
      "Epoch 26/150\n",
      "100/100 [==============================] - 2s 25ms/step - loss: 0.0290 - val_loss: 0.0273\n",
      "Epoch 27/150\n",
      "100/100 [==============================] - 2s 25ms/step - loss: 0.0275 - val_loss: 0.0263\n",
      "Epoch 28/150\n",
      "100/100 [==============================] - 3s 27ms/step - loss: 0.0287 - val_loss: 0.0249\n",
      "Epoch 29/150\n",
      "100/100 [==============================] - 3s 25ms/step - loss: 0.0283 - val_loss: 0.0257\n",
      "Epoch 30/150\n",
      "100/100 [==============================] - 2s 25ms/step - loss: 0.0285 - val_loss: 0.0258\n",
      "Epoch 31/150\n",
      "100/100 [==============================] - 2s 25ms/step - loss: 0.0254 - val_loss: 0.0256\n",
      "Epoch 32/150\n",
      "100/100 [==============================] - 2s 25ms/step - loss: 0.0268 - val_loss: 0.0302\n",
      "Epoch 33/150\n",
      "100/100 [==============================] - 3s 26ms/step - loss: 0.0266 - val_loss: 0.0250\n",
      "Epoch 34/150\n",
      "100/100 [==============================] - 3s 28ms/step - loss: 0.0262 - val_loss: 0.0246\n",
      "Epoch 35/150\n",
      "100/100 [==============================] - 2s 25ms/step - loss: 0.0274 - val_loss: 0.0249\n",
      "Epoch 36/150\n",
      "100/100 [==============================] - 2s 25ms/step - loss: 0.0269 - val_loss: 0.0268\n",
      "Epoch 37/150\n",
      "100/100 [==============================] - 2s 25ms/step - loss: 0.0271 - val_loss: 0.0255\n",
      "Epoch 38/150\n",
      "100/100 [==============================] - 3s 25ms/step - loss: 0.0238 - val_loss: 0.0256\n",
      "Epoch 39/150\n",
      "100/100 [==============================] - 2s 25ms/step - loss: 0.0259 - val_loss: 0.0306\n",
      "Epoch 40/150\n",
      "100/100 [==============================] - 3s 26ms/step - loss: 0.0252 - val_loss: 0.0239\n",
      "Epoch 41/150\n",
      "100/100 [==============================] - 3s 25ms/step - loss: 0.0248 - val_loss: 0.0256\n",
      "Epoch 42/150\n",
      "100/100 [==============================] - 2s 25ms/step - loss: 0.0259 - val_loss: 0.0249\n",
      "Epoch 43/150\n",
      "100/100 [==============================] - 2s 25ms/step - loss: 0.0254 - val_loss: 0.0257\n",
      "Epoch 44/150\n",
      "100/100 [==============================] - 2s 25ms/step - loss: 0.0259 - val_loss: 0.0274\n",
      "Epoch 45/150\n",
      "100/100 [==============================] - 3s 25ms/step - loss: 0.0224 - val_loss: 0.0266\n",
      "Epoch 46/150\n",
      "100/100 [==============================] - 2s 25ms/step - loss: 0.0255 - val_loss: 0.0271\n",
      "Epoch 47/150\n",
      "100/100 [==============================] - 3s 25ms/step - loss: 0.0246 - val_loss: 0.0241\n",
      "Epoch 48/150\n",
      "100/100 [==============================] - 3s 25ms/step - loss: 0.0239 - val_loss: 0.0251\n",
      "Epoch 49/150\n",
      "100/100 [==============================] - 3s 26ms/step - loss: 0.0252 - val_loss: 0.0233\n",
      "Epoch 50/150\n",
      "100/100 [==============================] - 2s 25ms/step - loss: 0.0246 - val_loss: 0.0260\n",
      "Epoch 51/150\n",
      "100/100 [==============================] - 2s 25ms/step - loss: 0.0253 - val_loss: 0.0348\n",
      "Epoch 52/150\n",
      "100/100 [==============================] - 3s 25ms/step - loss: 0.0217 - val_loss: 0.0253\n",
      "Epoch 53/150\n",
      "100/100 [==============================] - 2s 25ms/step - loss: 0.0249 - val_loss: 0.0237\n",
      "Epoch 54/150\n",
      "100/100 [==============================] - 3s 25ms/step - loss: 0.0232 - val_loss: 0.0252\n",
      "Epoch 55/150\n",
      "100/100 [==============================] - 2s 25ms/step - loss: 0.0236 - val_loss: 0.0238\n",
      "Epoch 56/150\n",
      "100/100 [==============================] - 3s 26ms/step - loss: 0.0243 - val_loss: 0.0227\n",
      "Epoch 57/150\n",
      "100/100 [==============================] - 3s 25ms/step - loss: 0.0241 - val_loss: 0.0264\n",
      "Epoch 58/150\n",
      "100/100 [==============================] - 2s 25ms/step - loss: 0.0248 - val_loss: 0.0351\n",
      "Epoch 59/150\n",
      "100/100 [==============================] - 2s 25ms/step - loss: 0.0213 - val_loss: 0.0236\n",
      "Epoch 60/150\n",
      "100/100 [==============================] - 2s 25ms/step - loss: 0.0241 - val_loss: 0.0237\n",
      "Epoch 61/150\n",
      "100/100 [==============================] - 2s 25ms/step - loss: 0.0222 - val_loss: 0.0252\n",
      "Epoch 62/150\n",
      "100/100 [==============================] - 3s 26ms/step - loss: 0.0219 - val_loss: 0.0220\n",
      "Epoch 63/150\n",
      "100/100 [==============================] - 3s 29ms/step - loss: 0.0227 - val_loss: 0.0230\n",
      "Epoch 64/150\n",
      "100/100 [==============================] - 3s 26ms/step - loss: 0.0226 - val_loss: 0.0265\n",
      "Epoch 65/150\n",
      "100/100 [==============================] - 2s 25ms/step - loss: 0.0230 - val_loss: 0.0336\n",
      "Epoch 66/150\n",
      "100/100 [==============================] - 2s 25ms/step - loss: 0.0205 - val_loss: 0.0237\n",
      "Epoch 67/150\n",
      "100/100 [==============================] - 2s 25ms/step - loss: 0.0228 - val_loss: 0.0257\n",
      "Epoch 68/150\n",
      "100/100 [==============================] - 2s 25ms/step - loss: 0.0210 - val_loss: 0.0243\n",
      "Epoch 69/150\n",
      "100/100 [==============================] - 2s 25ms/step - loss: 0.0214 - val_loss: 0.0225\n",
      "Epoch 70/150\n",
      "100/100 [==============================] - 3s 25ms/step - loss: 0.0224 - val_loss: 0.0231\n",
      "Epoch 71/150\n",
      "100/100 [==============================] - 3s 25ms/step - loss: 0.0223 - val_loss: 0.0257\n",
      "Epoch 72/150\n",
      "100/100 [==============================] - 3s 25ms/step - loss: 0.0218 - val_loss: 0.0296\n",
      "Epoch 00072: early stopping\n"
     ]
    }
   ],
   "source": [
    "EVALUATION_INTERVAL = 100\n",
    "EPOCHS = 150\n",
    "history = ED_lstm_model.fit(train_univariate, epochs=EPOCHS,steps_per_epoch=EVALUATION_INTERVAL,validation_data=val_univariate, validation_steps=50,verbose =1,\n",
    "                              callbacks =[tf.keras.callbacks.EarlyStopping(monitor='val_loss', min_delta=0, patience=10, verbose=1, mode='min'),tf.keras.callbacks.ModelCheckpoint(model_path,monitor='val_loss', save_best_only=True, mode='min', verbose=0)])"
   ]
  },
  {
   "cell_type": "code",
   "execution_count": 16,
   "metadata": {
    "ExecuteTime": {
     "end_time": "2020-03-02T16:16:30.161549Z",
     "start_time": "2020-03-02T16:16:26.590067Z"
    }
   },
   "outputs": [],
   "source": [
    "# Recreate the exact same model, including its weights and the optimizer\n",
    "Trained_model = tf.keras.models.load_model(model_path)"
   ]
  },
  {
   "cell_type": "code",
   "execution_count": 17,
   "metadata": {
    "ExecuteTime": {
     "end_time": "2020-03-02T16:16:30.838717Z",
     "start_time": "2020-03-02T16:16:30.831733Z"
    }
   },
   "outputs": [
    {
     "name": "stdout",
     "output_type": "stream",
     "text": [
      "Model: \"sequential\"\n",
      "_________________________________________________________________\n",
      "Layer (type)                 Output Shape              Param #   \n",
      "=================================================================\n",
      "lstm (LSTM)                  (None, 48, 100)           40800     \n",
      "_________________________________________________________________\n",
      "lstm_1 (LSTM)                (None, 48, 50)            30200     \n",
      "_________________________________________________________________\n",
      "lstm_2 (LSTM)                (None, 15)                3960      \n",
      "_________________________________________________________________\n",
      "repeat_vector (RepeatVector) (None, 10, 15)            0         \n",
      "_________________________________________________________________\n",
      "lstm_3 (LSTM)                (None, 10, 100)           46400     \n",
      "_________________________________________________________________\n",
      "lstm_4 (LSTM)                (None, 10, 50)            30200     \n",
      "_________________________________________________________________\n",
      "time_distributed (TimeDistri (None, 10, 1)             51        \n",
      "=================================================================\n",
      "Total params: 151,611\n",
      "Trainable params: 151,611\n",
      "Non-trainable params: 0\n",
      "_________________________________________________________________\n"
     ]
    }
   ],
   "source": [
    "# Show the model architecture\n",
    "Trained_model.summary()"
   ]
  },
  {
   "cell_type": "code",
   "execution_count": 19,
   "metadata": {
    "ExecuteTime": {
     "end_time": "2020-03-02T16:16:33.926463Z",
     "start_time": "2020-03-02T16:16:33.675134Z"
    }
   },
   "outputs": [
    {
     "data": {
      "image/png": "[encoded data removed]",
      "text/plain": [
       "<Figure size 1152x648 with 1 Axes>"
      ]
     },
     "metadata": {
      "needs_background": "light"
     },
     "output_type": "display_data"
    }
   ],
   "source": [
    "plt.plot(history.history['loss'])\n",
    "plt.plot(history.history['val_loss'])\n",
    "plt.title('Model loss')\n",
    "plt.ylabel('loss')\n",
    "plt.xlabel('epoch')\n",
    "plt.legend(['train loss', 'validation loss'], loc='upper left')\n",
    "plt.rcParams[\"figure.figsize\"] = [16,9]\n",
    "plt.show()"
   ]
  },
  {
   "cell_type": "code",
   "execution_count": 20,
   "metadata": {
    "ExecuteTime": {
     "end_time": "2020-03-02T16:16:36.325056Z",
     "start_time": "2020-03-02T16:16:36.320073Z"
    }
   },
   "outputs": [],
   "source": [
    "uni = df['traffic_volume']\n",
    "validatehori = uni.tail(48)"
   ]
  },
  {
   "cell_type": "code",
   "execution_count": 21,
   "metadata": {
    "ExecuteTime": {
     "end_time": "2020-03-02T16:16:37.251579Z",
     "start_time": "2020-03-02T16:16:37.246591Z"
    }
   },
   "outputs": [],
   "source": [
    "validatehist = validatehori.values\n",
    "scaler_val = preprocessing.MinMaxScaler()\n",
    "val_rescaled = scaler_x.fit_transform(validatehist.reshape(-1, 1))"
   ]
  },
  {
   "cell_type": "code",
   "execution_count": 22,
   "metadata": {
    "ExecuteTime": {
     "end_time": "2020-03-02T16:16:38.259886Z",
     "start_time": "2020-03-02T16:16:38.254897Z"
    }
   },
   "outputs": [],
   "source": [
    "val_rescaled = val_rescaled.reshape((1, val_rescaled.shape[0], 1))"
   ]
  },
  {
   "cell_type": "code",
   "execution_count": 23,
   "metadata": {
    "ExecuteTime": {
     "end_time": "2020-03-02T16:16:40.082013Z",
     "start_time": "2020-03-02T16:16:39.271211Z"
    }
   },
   "outputs": [],
   "source": [
    "Predicted_results = Trained_model.predict(val_rescaled)"
   ]
  },
  {
   "cell_type": "code",
   "execution_count": 24,
   "metadata": {
    "ExecuteTime": {
     "end_time": "2020-03-02T16:16:40.786132Z",
     "start_time": "2020-03-02T16:16:40.779151Z"
    }
   },
   "outputs": [
    {
     "data": {
      "text/plain": [
       "array([[[0.60239756],\n",
       "        [0.59967595],\n",
       "        [0.5991256 ],\n",
       "        [0.5909505 ],\n",
       "        [0.58760625],\n",
       "        [0.5718232 ],\n",
       "        [0.5370325 ],\n",
       "        [0.48754027],\n",
       "        [0.43514606],\n",
       "        [0.3951911 ]]], dtype=float32)"
      ]
     },
     "execution_count": 24,
     "metadata": {},
     "output_type": "execute_result"
    }
   ],
   "source": [
    "Predicted_results"
   ]
  },
  {
   "cell_type": "code",
   "execution_count": 25,
   "metadata": {
    "ExecuteTime": {
     "end_time": "2020-03-02T16:16:42.814714Z",
     "start_time": "2020-03-02T16:16:42.810725Z"
    }
   },
   "outputs": [],
   "source": [
    "Predicted_inver_res = scaler_x.inverse_transform(Predicted_results[0])"
   ]
  },
  {
   "cell_type": "code",
   "execution_count": 26,
   "metadata": {
    "ExecuteTime": {
     "end_time": "2020-03-02T16:16:43.824050Z",
     "start_time": "2020-03-02T16:16:43.819032Z"
    }
   },
   "outputs": [
    {
     "data": {
      "text/plain": [
       "array([[3860.8328],\n",
       "       [3844.9033],\n",
       "       [3841.6821],\n",
       "       [3793.8333],\n",
       "       [3774.2593],\n",
       "       [3681.881 ],\n",
       "       [3478.251 ],\n",
       "       [3188.5732],\n",
       "       [2881.91  ],\n",
       "       [2648.0535]], dtype=float32)"
      ]
     },
     "execution_count": 26,
     "metadata": {},
     "output_type": "execute_result"
    }
   ],
   "source": [
    "Predicted_inver_res"
   ]
  },
  {
   "cell_type": "code",
   "execution_count": 27,
   "metadata": {
    "ExecuteTime": {
     "end_time": "2020-03-02T16:16:45.375899Z",
     "start_time": "2020-03-02T16:16:45.342956Z"
    }
   },
   "outputs": [],
   "source": [
    "from sklearn import metrics\n",
    "def timeseries_evaluation_metrics_func(y_true, y_pred):\n",
    "    \n",
    "    def mean_absolute_percentage_error(y_true, y_pred): \n",
    "        y_true, y_pred = np.array(y_true), np.array(y_pred)\n",
    "        return np.mean(np.abs((y_true - y_pred) / y_true)) * 100\n",
    "    print('Evaluation metric results:-')\n",
    "    print(f'MSE is : {metrics.mean_squared_error(y_true, y_pred)}')\n",
    "    print(f'MAE is : {metrics.mean_absolute_error(y_true, y_pred)}')\n",
    "    print(f'RMSE is : {np.sqrt(metrics.mean_squared_error(y_true, y_pred))}')\n",
    "    print(f'MAPE is : {mean_absolute_percentage_error(y_true, y_pred)}')\n",
    "    print(f'R2 is : {metrics.r2_score(y_true, y_pred)}',end='\\n\\n')"
   ]
  },
  {
   "cell_type": "code",
   "execution_count": 28,
   "metadata": {
    "ExecuteTime": {
     "end_time": "2020-03-02T16:16:47.647799Z",
     "start_time": "2020-03-02T16:16:47.638820Z"
    }
   },
   "outputs": [
    {
     "name": "stdout",
     "output_type": "stream",
     "text": [
      "Evaluation metric results:-\n",
      "MSE is : 764036.241718322\n",
      "MAE is : 721.4157958984375\n",
      "RMSE is : 874.0916666564909\n",
      "MAPE is : 59.59204541363798\n",
      "R2 is : 0.5039761716532893\n",
      "\n"
     ]
    }
   ],
   "source": [
    "timeseries_evaluation_metrics_func(validate,Predicted_inver_res)"
   ]
  },
  {
   "cell_type": "code",
   "execution_count": 29,
   "metadata": {
    "ExecuteTime": {
     "end_time": "2020-03-02T16:16:49.244530Z",
     "start_time": "2020-03-02T16:16:48.992205Z"
    }
   },
   "outputs": [
    {
     "data": {
      "image/png": "[encoded data removed]",
      "text/plain": [
       "<Figure size 1152x648 with 1 Axes>"
      ]
     },
     "metadata": {
      "needs_background": "light"
     },
     "output_type": "display_data"
    }
   ],
   "source": [
    "plt.plot( list(validate))\n",
    "plt.plot( list(Predicted_inver_res))\n",
    "plt.title(\"Actual vs Predicted\")\n",
    "plt.ylabel(\"Traffic volume\")\n",
    "plt.legend(('Actual','predicted'))\n",
    "plt.show()"
   ]
  },
  {
   "cell_type": "code",
   "execution_count": null,
   "metadata": {},
   "outputs": [],
   "source": []
  },
  {
   "cell_type": "code",
   "execution_count": null,
   "metadata": {},
   "outputs": [],
   "source": []
  },
  {
   "cell_type": "code",
   "execution_count": null,
   "metadata": {},
   "outputs": [],
   "source": []
  },
  {
   "cell_type": "code",
   "execution_count": null,
   "metadata": {},
   "outputs": [],
   "source": []
  }
 ],
 "metadata": {
  "kernelspec": {
   "display_name": "Python 3",
   "language": "python",
   "name": "python3"
  },
  "language_info": {
   "codemirror_mode": {
    "name": "ipython",
    "version": 3
   },
   "file_extension": ".py",
   "mimetype": "text/x-python",
   "name": "python",
   "nbconvert_exporter": "python",
   "pygments_lexer": "ipython3",
   "version": "3.7.3"
  },
  "latex_envs": {
   "LaTeX_envs_menu_present": true,
   "autoclose": false,
   "autocomplete": true,
   "bibliofile": "biblio.bib",
   "cite_by": "apalike",
   "current_citInitial": 1,
   "eqLabelWithNumbers": true,
   "eqNumInitial": 1,
   "hotkeys": {
    "equation": "Ctrl-E",
    "itemize": "Ctrl-I"
   },
   "labels_anchors": false,
   "latex_user_defs": false,
   "report_style_numbering": false,
   "user_envs_cfg": false
  },
  "nbTranslate": {
   "displayLangs": [
    "*"
   ],
   "hotkey": "alt-t",
   "langInMainMenu": true,
   "sourceLang": "en",
   "targetLang": "fr",
   "useGoogleTranslate": true
  }
 },
 "nbformat": 4,
 "nbformat_minor": 2
}

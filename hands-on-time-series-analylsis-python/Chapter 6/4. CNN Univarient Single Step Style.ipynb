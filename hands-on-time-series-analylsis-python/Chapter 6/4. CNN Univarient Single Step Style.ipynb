{
 "cells": [
  {
   "cell_type": "code",
   "execution_count": 23,
   "metadata": {
    "ExecuteTime": {
     "end_time": "2020-03-01T07:40:01.223961Z",
     "start_time": "2020-03-01T07:40:01.210001Z"
    }
   },
   "outputs": [],
   "source": [
    "import pandas as pd\n",
    "import numpy as np\n",
    "import tensorflow as tf\n",
    "from sklearn import preprocessing\n",
    "import matplotlib.pyplot as plt\n",
    "from tensorflow.keras.models import Sequential\n",
    "from tensorflow.keras.layers import Dense\n",
    "from tensorflow.keras.layers import Flatten\n",
    "from tensorflow.keras.layers import Conv1D\n",
    "from tensorflow.keras.layers import MaxPool1D\n",
    "from tensorflow.keras.layers import Dropout\n",
    "tf.random.set_seed(123)\n",
    "np.random.seed(123)"
   ]
  },
  {
   "cell_type": "code",
   "execution_count": 24,
   "metadata": {
    "ExecuteTime": {
     "end_time": "2020-03-01T07:40:02.449714Z",
     "start_time": "2020-03-01T07:40:02.363916Z"
    }
   },
   "outputs": [],
   "source": [
    "df = pd.read_csv(r'\\Data\\Metro_Interstate_Traffic_Volume.csv')"
   ]
  },
  {
   "cell_type": "code",
   "execution_count": 25,
   "metadata": {
    "ExecuteTime": {
     "end_time": "2020-03-01T07:40:03.251536Z",
     "start_time": "2020-03-01T07:40:03.237575Z"
    }
   },
   "outputs": [
    {
     "data": {
      "text/html": [
       "<div>\n",
       "<style scoped>\n",
       "    .dataframe tbody tr th:only-of-type {\n",
       "        vertical-align: middle;\n",
       "    }\n",
       "\n",
       "    .dataframe tbody tr th {\n",
       "        vertical-align: top;\n",
       "    }\n",
       "\n",
       "    .dataframe thead th {\n",
       "        text-align: right;\n",
       "    }\n",
       "</style>\n",
       "<table border=\"1\" class=\"dataframe\">\n",
       "  <thead>\n",
       "    <tr style=\"text-align: right;\">\n",
       "      <th></th>\n",
       "      <th>holiday</th>\n",
       "      <th>temp</th>\n",
       "      <th>rain_1h</th>\n",
       "      <th>snow_1h</th>\n",
       "      <th>clouds_all</th>\n",
       "      <th>weather_main</th>\n",
       "      <th>weather_description</th>\n",
       "      <th>date_time</th>\n",
       "      <th>traffic_volume</th>\n",
       "    </tr>\n",
       "  </thead>\n",
       "  <tbody>\n",
       "    <tr>\n",
       "      <th>0</th>\n",
       "      <td>None</td>\n",
       "      <td>288.28</td>\n",
       "      <td>0.0</td>\n",
       "      <td>0.0</td>\n",
       "      <td>40</td>\n",
       "      <td>Clouds</td>\n",
       "      <td>scattered clouds</td>\n",
       "      <td>2012-10-02 09:00:00</td>\n",
       "      <td>5545</td>\n",
       "    </tr>\n",
       "    <tr>\n",
       "      <th>1</th>\n",
       "      <td>None</td>\n",
       "      <td>289.36</td>\n",
       "      <td>0.0</td>\n",
       "      <td>0.0</td>\n",
       "      <td>75</td>\n",
       "      <td>Clouds</td>\n",
       "      <td>broken clouds</td>\n",
       "      <td>2012-10-02 10:00:00</td>\n",
       "      <td>4516</td>\n",
       "    </tr>\n",
       "    <tr>\n",
       "      <th>2</th>\n",
       "      <td>None</td>\n",
       "      <td>289.58</td>\n",
       "      <td>0.0</td>\n",
       "      <td>0.0</td>\n",
       "      <td>90</td>\n",
       "      <td>Clouds</td>\n",
       "      <td>overcast clouds</td>\n",
       "      <td>2012-10-02 11:00:00</td>\n",
       "      <td>4767</td>\n",
       "    </tr>\n",
       "    <tr>\n",
       "      <th>3</th>\n",
       "      <td>None</td>\n",
       "      <td>290.13</td>\n",
       "      <td>0.0</td>\n",
       "      <td>0.0</td>\n",
       "      <td>90</td>\n",
       "      <td>Clouds</td>\n",
       "      <td>overcast clouds</td>\n",
       "      <td>2012-10-02 12:00:00</td>\n",
       "      <td>5026</td>\n",
       "    </tr>\n",
       "    <tr>\n",
       "      <th>4</th>\n",
       "      <td>None</td>\n",
       "      <td>291.14</td>\n",
       "      <td>0.0</td>\n",
       "      <td>0.0</td>\n",
       "      <td>75</td>\n",
       "      <td>Clouds</td>\n",
       "      <td>broken clouds</td>\n",
       "      <td>2012-10-02 13:00:00</td>\n",
       "      <td>4918</td>\n",
       "    </tr>\n",
       "  </tbody>\n",
       "</table>\n",
       "</div>"
      ],
      "text/plain": [
       "  holiday    temp  rain_1h  snow_1h  clouds_all weather_main  \\\n",
       "0    None  288.28      0.0      0.0          40       Clouds   \n",
       "1    None  289.36      0.0      0.0          75       Clouds   \n",
       "2    None  289.58      0.0      0.0          90       Clouds   \n",
       "3    None  290.13      0.0      0.0          90       Clouds   \n",
       "4    None  291.14      0.0      0.0          75       Clouds   \n",
       "\n",
       "  weather_description            date_time  traffic_volume  \n",
       "0    scattered clouds  2012-10-02 09:00:00            5545  \n",
       "1       broken clouds  2012-10-02 10:00:00            4516  \n",
       "2     overcast clouds  2012-10-02 11:00:00            4767  \n",
       "3     overcast clouds  2012-10-02 12:00:00            5026  \n",
       "4       broken clouds  2012-10-02 13:00:00            4918  "
      ]
     },
     "execution_count": 25,
     "metadata": {},
     "output_type": "execute_result"
    }
   ],
   "source": [
    "df.head()"
   ]
  },
  {
   "cell_type": "code",
   "execution_count": 26,
   "metadata": {
    "ExecuteTime": {
     "end_time": "2020-03-01T07:40:05.031811Z",
     "start_time": "2020-03-01T07:40:04.993905Z"
    }
   },
   "outputs": [
    {
     "data": {
      "text/html": [
       "<div>\n",
       "<style scoped>\n",
       "    .dataframe tbody tr th:only-of-type {\n",
       "        vertical-align: middle;\n",
       "    }\n",
       "\n",
       "    .dataframe tbody tr th {\n",
       "        vertical-align: top;\n",
       "    }\n",
       "\n",
       "    .dataframe thead th {\n",
       "        text-align: right;\n",
       "    }\n",
       "</style>\n",
       "<table border=\"1\" class=\"dataframe\">\n",
       "  <thead>\n",
       "    <tr style=\"text-align: right;\">\n",
       "      <th></th>\n",
       "      <th>temp</th>\n",
       "      <th>rain_1h</th>\n",
       "      <th>snow_1h</th>\n",
       "      <th>clouds_all</th>\n",
       "      <th>traffic_volume</th>\n",
       "    </tr>\n",
       "  </thead>\n",
       "  <tbody>\n",
       "    <tr>\n",
       "      <th>count</th>\n",
       "      <td>48204.000000</td>\n",
       "      <td>48204.000000</td>\n",
       "      <td>48204.000000</td>\n",
       "      <td>48204.000000</td>\n",
       "      <td>48204.000000</td>\n",
       "    </tr>\n",
       "    <tr>\n",
       "      <th>mean</th>\n",
       "      <td>281.205870</td>\n",
       "      <td>0.334264</td>\n",
       "      <td>0.000222</td>\n",
       "      <td>49.362231</td>\n",
       "      <td>3259.818355</td>\n",
       "    </tr>\n",
       "    <tr>\n",
       "      <th>std</th>\n",
       "      <td>13.338232</td>\n",
       "      <td>44.789133</td>\n",
       "      <td>0.008168</td>\n",
       "      <td>39.015750</td>\n",
       "      <td>1986.860670</td>\n",
       "    </tr>\n",
       "    <tr>\n",
       "      <th>min</th>\n",
       "      <td>0.000000</td>\n",
       "      <td>0.000000</td>\n",
       "      <td>0.000000</td>\n",
       "      <td>0.000000</td>\n",
       "      <td>0.000000</td>\n",
       "    </tr>\n",
       "    <tr>\n",
       "      <th>25%</th>\n",
       "      <td>272.160000</td>\n",
       "      <td>0.000000</td>\n",
       "      <td>0.000000</td>\n",
       "      <td>1.000000</td>\n",
       "      <td>1193.000000</td>\n",
       "    </tr>\n",
       "    <tr>\n",
       "      <th>50%</th>\n",
       "      <td>282.450000</td>\n",
       "      <td>0.000000</td>\n",
       "      <td>0.000000</td>\n",
       "      <td>64.000000</td>\n",
       "      <td>3380.000000</td>\n",
       "    </tr>\n",
       "    <tr>\n",
       "      <th>75%</th>\n",
       "      <td>291.806000</td>\n",
       "      <td>0.000000</td>\n",
       "      <td>0.000000</td>\n",
       "      <td>90.000000</td>\n",
       "      <td>4933.000000</td>\n",
       "    </tr>\n",
       "    <tr>\n",
       "      <th>max</th>\n",
       "      <td>310.070000</td>\n",
       "      <td>9831.300000</td>\n",
       "      <td>0.510000</td>\n",
       "      <td>100.000000</td>\n",
       "      <td>7280.000000</td>\n",
       "    </tr>\n",
       "  </tbody>\n",
       "</table>\n",
       "</div>"
      ],
      "text/plain": [
       "               temp       rain_1h       snow_1h    clouds_all  traffic_volume\n",
       "count  48204.000000  48204.000000  48204.000000  48204.000000    48204.000000\n",
       "mean     281.205870      0.334264      0.000222     49.362231     3259.818355\n",
       "std       13.338232     44.789133      0.008168     39.015750     1986.860670\n",
       "min        0.000000      0.000000      0.000000      0.000000        0.000000\n",
       "25%      272.160000      0.000000      0.000000      1.000000     1193.000000\n",
       "50%      282.450000      0.000000      0.000000     64.000000     3380.000000\n",
       "75%      291.806000      0.000000      0.000000     90.000000     4933.000000\n",
       "max      310.070000   9831.300000      0.510000    100.000000     7280.000000"
      ]
     },
     "execution_count": 26,
     "metadata": {},
     "output_type": "execute_result"
    }
   ],
   "source": [
    "df.describe()"
   ]
  },
  {
   "cell_type": "code",
   "execution_count": 27,
   "metadata": {
    "ExecuteTime": {
     "end_time": "2020-03-01T07:40:06.582625Z",
     "start_time": "2020-03-01T07:40:06.564673Z"
    }
   },
   "outputs": [],
   "source": [
    "df.drop_duplicates(subset=['date_time'], keep=False,inplace=True)"
   ]
  },
  {
   "cell_type": "code",
   "execution_count": 28,
   "metadata": {
    "ExecuteTime": {
     "end_time": "2020-03-01T07:40:07.985873Z",
     "start_time": "2020-03-01T07:40:07.975899Z"
    }
   },
   "outputs": [],
   "source": [
    "validate = df['traffic_volume'].tail(10)\n",
    "df.drop(df['traffic_volume'].tail(10).index,inplace=True)"
   ]
  },
  {
   "cell_type": "code",
   "execution_count": 29,
   "metadata": {
    "ExecuteTime": {
     "end_time": "2020-03-01T07:40:09.153744Z",
     "start_time": "2020-03-01T07:40:09.143772Z"
    }
   },
   "outputs": [
    {
     "data": {
      "text/plain": [
       "date_time\n",
       "2012-10-02 09:00:00    5545\n",
       "2012-10-02 10:00:00    4516\n",
       "2012-10-02 11:00:00    4767\n",
       "2012-10-02 12:00:00    5026\n",
       "2012-10-02 13:00:00    4918\n",
       "Name: traffic_volume, dtype: int64"
      ]
     },
     "execution_count": 29,
     "metadata": {},
     "output_type": "execute_result"
    }
   ],
   "source": [
    "uni_data = df['traffic_volume']\n",
    "uni_data.index = df['date_time']\n",
    "uni_data.head()"
   ]
  },
  {
   "cell_type": "code",
   "execution_count": 30,
   "metadata": {
    "ExecuteTime": {
     "end_time": "2020-03-01T07:40:10.417398Z",
     "start_time": "2020-03-01T07:40:10.412375Z"
    }
   },
   "outputs": [],
   "source": [
    "uni_data = uni_data.values\n",
    "scaler_x = preprocessing.MinMaxScaler()\n",
    "x_rescaled = scaler_x.fit_transform(uni_data.reshape(-1, 1))"
   ]
  },
  {
   "cell_type": "code",
   "execution_count": 31,
   "metadata": {
    "ExecuteTime": {
     "end_time": "2020-03-01T07:40:10.987839Z",
     "start_time": "2020-03-01T07:40:10.980858Z"
    }
   },
   "outputs": [],
   "source": [
    "def custom_ts_univariate_data_prep(dataset, start, end, window, horizon):\n",
    "  X = []\n",
    "  y = []\n",
    "\n",
    "  start = start + window\n",
    "  if end is None:\n",
    "    end = len(dataset) - horizon\n",
    "\n",
    "  for i in range(start, end):\n",
    "    indicesx = range(i-window, i)\n",
    "    X.append(np.reshape(dataset[indicesx], (window, 1)))\n",
    "    indicesy = range(i,i+horizon)\n",
    "    y.append(dataset[indicesy])\n",
    "  return np.array(X), np.array(y)"
   ]
  },
  {
   "cell_type": "code",
   "execution_count": 32,
   "metadata": {
    "ExecuteTime": {
     "end_time": "2020-03-01T07:40:13.461259Z",
     "start_time": "2020-03-01T07:40:12.412027Z"
    }
   },
   "outputs": [],
   "source": [
    "univar_hist_window = 48\n",
    "horizon = 1\n",
    "TRAIN_SPLIT = 30000\n",
    "x_train_uni, y_train_uni = custom_ts_univariate_data_prep(x_rescaled, 0, TRAIN_SPLIT,univar_hist_window, horizon)\n",
    "x_val_uni, y_val_uni = custom_ts_univariate_data_prep(x_rescaled, TRAIN_SPLIT, None,univar_hist_window,horizon)"
   ]
  },
  {
   "cell_type": "code",
   "execution_count": 33,
   "metadata": {
    "ExecuteTime": {
     "end_time": "2020-03-01T07:40:13.927971Z",
     "start_time": "2020-03-01T07:40:13.920987Z"
    }
   },
   "outputs": [
    {
     "name": "stdout",
     "output_type": "stream",
     "text": [
      "Single window of past history\n",
      "[[0.76167582]\n",
      " [0.62032967]\n",
      " [0.65480769]\n",
      " [0.69038462]\n",
      " [0.67554945]\n",
      " [0.71167582]\n",
      " [0.76703297]\n",
      " [0.82623626]\n",
      " [0.79546703]\n",
      " [0.65521978]\n",
      " [0.48612637]\n",
      " [0.38241758]\n",
      " [0.32431319]\n",
      " [0.21002747]\n",
      " [0.13228022]\n",
      " [0.06950549]\n",
      " [0.04409341]\n",
      " [0.0375    ]\n",
      " [0.05041209]\n",
      " [0.11181319]\n",
      " [0.37335165]\n",
      " [0.77925824]\n",
      " [0.89436813]\n",
      " [0.75151099]\n",
      " [0.70013736]\n",
      " [0.67129121]\n",
      " [0.7331044 ]\n",
      " [0.78186813]\n",
      " [0.84299451]\n",
      " [0.63502747]\n",
      " [0.49326923]\n",
      " [0.39807692]\n",
      " [0.36222527]\n",
      " [0.24409341]\n",
      " [0.13942308]\n",
      " [0.08214286]\n",
      " [0.05068681]\n",
      " [0.04285714]\n",
      " [0.05041209]\n",
      " [0.1146978 ]\n",
      " [0.37445055]\n",
      " [0.78145604]\n",
      " [0.96016484]\n",
      " [0.82211538]\n",
      " [0.72925824]\n",
      " [0.63228022]\n",
      " [0.67087912]\n",
      " [0.7010989 ]]\n",
      "\n",
      " Target horizon\n",
      "[[0.71126374]]\n"
     ]
    }
   ],
   "source": [
    "print ('Single window of past history')\n",
    "print (x_train_uni[0])\n",
    "print ('\\n Target horizon')\n",
    "print (y_train_uni[0])"
   ]
  },
  {
   "cell_type": "code",
   "execution_count": 34,
   "metadata": {
    "ExecuteTime": {
     "end_time": "2020-03-01T07:40:16.220867Z",
     "start_time": "2020-03-01T07:40:16.174959Z"
    }
   },
   "outputs": [],
   "source": [
    "BATCH_SIZE = 256\n",
    "BUFFER_SIZE = 150\n",
    "\n",
    "train_univariate = tf.data.Dataset.from_tensor_slices((x_train_uni, y_train_uni))\n",
    "train_univariate = train_univariate.cache().shuffle(BUFFER_SIZE).batch(BATCH_SIZE).repeat()\n",
    "\n",
    "val_univariate = tf.data.Dataset.from_tensor_slices((x_val_uni, y_val_uni))\n",
    "val_univariate = val_univariate.batch(BATCH_SIZE).repeat()"
   ]
  },
  {
   "cell_type": "code",
   "execution_count": 35,
   "metadata": {
    "ExecuteTime": {
     "end_time": "2020-03-01T07:40:17.129443Z",
     "start_time": "2020-03-01T07:40:17.015709Z"
    }
   },
   "outputs": [],
   "source": [
    "model = Sequential()\n",
    "model.add(Conv1D(filters=64, kernel_size=3, activation='relu', input_shape=(x_train_uni.shape[1], x_train_uni.shape[2])))\n",
    "model.add(MaxPool1D(pool_size=2))\n",
    "model.add(Dropout(0.2))\n",
    "model.add(Flatten())\n",
    "model.add(Dense(30, activation='relu'))\n",
    "model.add(Dropout(0.2))\n",
    "model.add(Dense(1))\n",
    "model.compile(optimizer='adam', loss='mse')"
   ]
  },
  {
   "cell_type": "code",
   "execution_count": 36,
   "metadata": {
    "ExecuteTime": {
     "end_time": "2020-03-01T07:40:18.487774Z",
     "start_time": "2020-03-01T07:40:18.483780Z"
    }
   },
   "outputs": [],
   "source": [
    "model_path = r'\\Chapter 6\\CNN_Univarient_2.h5'"
   ]
  },
  {
   "cell_type": "code",
   "execution_count": 37,
   "metadata": {
    "ExecuteTime": {
     "end_time": "2020-03-01T07:40:52.114790Z",
     "start_time": "2020-03-01T07:40:18.967486Z"
    }
   },
   "outputs": [
    {
     "name": "stdout",
     "output_type": "stream",
     "text": [
      "Train for 100 steps, validate for 50 steps\n",
      "Epoch 1/150\n",
      "100/100 [==============================] - 1s 14ms/step - loss: 0.0517 - val_loss: 0.0228\n",
      "Epoch 2/150\n",
      "100/100 [==============================] - 1s 7ms/step - loss: 0.0277 - val_loss: 0.0166\n",
      "Epoch 3/150\n",
      "100/100 [==============================] - 1s 7ms/step - loss: 0.0242 - val_loss: 0.0167\n",
      "Epoch 4/150\n",
      "100/100 [==============================] - 1s 7ms/step - loss: 0.0203 - val_loss: 0.0140\n",
      "Epoch 5/150\n",
      "100/100 [==============================] - 1s 6ms/step - loss: 0.0212 - val_loss: 0.0140\n",
      "Epoch 6/150\n",
      "100/100 [==============================] - 1s 7ms/step - loss: 0.0195 - val_loss: 0.0124\n",
      "Epoch 7/150\n",
      "100/100 [==============================] - 1s 7ms/step - loss: 0.0190 - val_loss: 0.0121\n",
      "Epoch 8/150\n",
      "100/100 [==============================] - 3s 26ms/step - loss: 0.0192 - val_loss: 0.0116\n",
      "Epoch 9/150\n",
      "100/100 [==============================] - 1s 7ms/step - loss: 0.0186 - val_loss: 0.0126\n",
      "Epoch 10/150\n",
      "100/100 [==============================] - 1s 7ms/step - loss: 0.0174 - val_loss: 0.0208\n",
      "Epoch 11/150\n",
      "100/100 [==============================] - 1s 7ms/step - loss: 0.0161 - val_loss: 0.0108\n",
      "Epoch 12/150\n",
      "100/100 [==============================] - 1s 7ms/step - loss: 0.0173 - val_loss: 0.0117\n",
      "Epoch 13/150\n",
      "100/100 [==============================] - 1s 7ms/step - loss: 0.0157 - val_loss: 0.0120\n",
      "Epoch 14/150\n",
      "100/100 [==============================] - 1s 7ms/step - loss: 0.0161 - val_loss: 0.0093\n",
      "Epoch 15/150\n",
      "100/100 [==============================] - 1s 7ms/step - loss: 0.0159 - val_loss: 0.0094\n",
      "Epoch 16/150\n",
      "100/100 [==============================] - 1s 7ms/step - loss: 0.0158 - val_loss: 0.0116\n",
      "Epoch 17/150\n",
      "100/100 [==============================] - 1s 7ms/step - loss: 0.0145 - val_loss: 0.0169\n",
      "Epoch 18/150\n",
      "100/100 [==============================] - 1s 7ms/step - loss: 0.0139 - val_loss: 0.0090\n",
      "Epoch 19/150\n",
      "100/100 [==============================] - 1s 7ms/step - loss: 0.0154 - val_loss: 0.0096\n",
      "Epoch 20/150\n",
      "100/100 [==============================] - 1s 7ms/step - loss: 0.0140 - val_loss: 0.0106\n",
      "Epoch 21/150\n",
      "100/100 [==============================] - 1s 7ms/step - loss: 0.0146 - val_loss: 0.0087\n",
      "Epoch 22/150\n",
      "100/100 [==============================] - 1s 7ms/step - loss: 0.0146 - val_loss: 0.0086\n",
      "Epoch 23/150\n",
      "100/100 [==============================] - 1s 7ms/step - loss: 0.0145 - val_loss: 0.0109\n",
      "Epoch 24/150\n",
      "100/100 [==============================] - 1s 7ms/step - loss: 0.0134 - val_loss: 0.0120\n",
      "Epoch 25/150\n",
      "100/100 [==============================] - 1s 7ms/step - loss: 0.0133 - val_loss: 0.0090\n",
      "Epoch 26/150\n",
      "100/100 [==============================] - 1s 7ms/step - loss: 0.0141 - val_loss: 0.0086\n",
      "Epoch 27/150\n",
      "100/100 [==============================] - 1s 7ms/step - loss: 0.0135 - val_loss: 0.0094\n",
      "Epoch 28/150\n",
      "100/100 [==============================] - 1s 7ms/step - loss: 0.0143 - val_loss: 0.0084\n",
      "Epoch 29/150\n",
      "100/100 [==============================] - 1s 7ms/step - loss: 0.0138 - val_loss: 0.0087\n",
      "Epoch 30/150\n",
      "100/100 [==============================] - 1s 7ms/step - loss: 0.0142 - val_loss: 0.0096\n",
      "Epoch 31/150\n",
      "100/100 [==============================] - 1s 7ms/step - loss: 0.0126 - val_loss: 0.0092\n",
      "Epoch 32/150\n",
      "100/100 [==============================] - 1s 7ms/step - loss: 0.0133 - val_loss: 0.0086\n",
      "Epoch 33/150\n",
      "100/100 [==============================] - 1s 7ms/step - loss: 0.0135 - val_loss: 0.0084\n",
      "Epoch 34/150\n",
      "100/100 [==============================] - 1s 7ms/step - loss: 0.0132 - val_loss: 0.0085\n",
      "Epoch 35/150\n",
      "100/100 [==============================] - 1s 7ms/step - loss: 0.0139 - val_loss: 0.0083\n",
      "Epoch 36/150\n",
      "100/100 [==============================] - 1s 7ms/step - loss: 0.0136 - val_loss: 0.0087\n",
      "Epoch 37/150\n",
      "100/100 [==============================] - 1s 7ms/step - loss: 0.0140 - val_loss: 0.0091\n",
      "Epoch 38/150\n",
      "100/100 [==============================] - 1s 7ms/step - loss: 0.0122 - val_loss: 0.0089\n",
      "Epoch 39/150\n",
      "100/100 [==============================] - 1s 7ms/step - loss: 0.0132 - val_loss: 0.0086\n",
      "Epoch 40/150\n",
      "100/100 [==============================] - 1s 6ms/step - loss: 0.0132 - val_loss: 0.0083\n",
      "Epoch 41/150\n",
      "100/100 [==============================] - 1s 7ms/step - loss: 0.0129 - val_loss: 0.0083\n",
      "Epoch 42/150\n",
      "100/100 [==============================] - 1s 7ms/step - loss: 0.0136 - val_loss: 0.0084\n",
      "Epoch 43/150\n",
      "100/100 [==============================] - 1s 6ms/step - loss: 0.0136 - val_loss: 0.0090\n",
      "Epoch 44/150\n",
      "100/100 [==============================] - 1s 7ms/step - loss: 0.0137 - val_loss: 0.0097\n",
      "Epoch 45/150\n",
      "100/100 [==============================] - 1s 7ms/step - loss: 0.0118 - val_loss: 0.0089\n",
      "Epoch 00045: early stopping\n"
     ]
    }
   ],
   "source": [
    "\n",
    "EVALUATION_INTERVAL = 100\n",
    "EPOCHS = 150\n",
    "history = model.fit(train_univariate, epochs=EPOCHS,steps_per_epoch=EVALUATION_INTERVAL,validation_data=val_univariate, validation_steps=50,verbose =1,\n",
    "                              callbacks =[tf.keras.callbacks.EarlyStopping(monitor='val_loss', min_delta=0, patience=10, verbose=1, mode='min'),tf.keras.callbacks.ModelCheckpoint(model_path,monitor='val_loss', save_best_only=True, mode='min', verbose=0)])"
   ]
  },
  {
   "cell_type": "code",
   "execution_count": 38,
   "metadata": {
    "ExecuteTime": {
     "end_time": "2020-03-01T07:40:58.473775Z",
     "start_time": "2020-03-01T07:40:57.848448Z"
    }
   },
   "outputs": [],
   "source": [
    "# Recreate the exact same model, including its weights and the optimizer\n",
    "Trained_model = tf.keras.models.load_model(model_path)"
   ]
  },
  {
   "cell_type": "code",
   "execution_count": 39,
   "metadata": {
    "ExecuteTime": {
     "end_time": "2020-03-01T07:40:59.443182Z",
     "start_time": "2020-03-01T07:40:59.433211Z"
    }
   },
   "outputs": [
    {
     "name": "stdout",
     "output_type": "stream",
     "text": [
      "Model: \"sequential_1\"\n",
      "_________________________________________________________________\n",
      "Layer (type)                 Output Shape              Param #   \n",
      "=================================================================\n",
      "conv1d_1 (Conv1D)            (None, 46, 64)            256       \n",
      "_________________________________________________________________\n",
      "max_pooling1d_1 (MaxPooling1 (None, 23, 64)            0         \n",
      "_________________________________________________________________\n",
      "dropout_2 (Dropout)          (None, 23, 64)            0         \n",
      "_________________________________________________________________\n",
      "flatten_1 (Flatten)          (None, 1472)              0         \n",
      "_________________________________________________________________\n",
      "dense_2 (Dense)              (None, 30)                44190     \n",
      "_________________________________________________________________\n",
      "dropout_3 (Dropout)          (None, 30)                0         \n",
      "_________________________________________________________________\n",
      "dense_3 (Dense)              (None, 1)                 31        \n",
      "=================================================================\n",
      "Total params: 44,477\n",
      "Trainable params: 44,477\n",
      "Non-trainable params: 0\n",
      "_________________________________________________________________\n"
     ]
    }
   ],
   "source": [
    "# Show the model architecture\n",
    "Trained_model.summary()"
   ]
  },
  {
   "cell_type": "code",
   "execution_count": 40,
   "metadata": {
    "ExecuteTime": {
     "end_time": "2020-03-01T07:41:03.293914Z",
     "start_time": "2020-03-01T07:41:03.067489Z"
    }
   },
   "outputs": [
    {
     "data": {
      "image/png": "[encoded data removed]",
      "text/plain": [
       "<Figure size 1152x648 with 1 Axes>"
      ]
     },
     "metadata": {
      "needs_background": "light"
     },
     "output_type": "display_data"
    }
   ],
   "source": [
    "plt.plot(history.history['loss'])\n",
    "plt.plot(history.history['val_loss'])\n",
    "plt.title('Model loss')\n",
    "plt.ylabel('loss')\n",
    "plt.xlabel('epoch')\n",
    "plt.legend(['train loss', 'validation loss'], loc='upper left')\n",
    "plt.rcParams[\"figure.figsize\"] = [16,9]\n",
    "plt.show()"
   ]
  },
  {
   "cell_type": "code",
   "execution_count": 41,
   "metadata": {
    "ExecuteTime": {
     "end_time": "2020-03-01T07:41:06.334767Z",
     "start_time": "2020-03-01T07:41:05.908918Z"
    }
   },
   "outputs": [
    {
     "name": "stdout",
     "output_type": "stream",
     "text": [
      "predicted : [[0.6318447]]\n",
      "[0.80830343 0.77960021 0.83000171 0.94020161 1.         0.91576969\n",
      " 0.81479583 0.67503844 0.54724073 0.46523151 0.40628737 0.54826585\n",
      " 0.23885187 0.09089356 0.03229113 0.00410046 0.01537673 0.06970784\n",
      " 0.17495302 0.29062019 0.46779429 0.57919016 0.63625491 0.69075688\n",
      " 0.73842474 0.72065607 0.73176149 0.72253545 0.75175124 0.77618315\n",
      " 0.72338971 0.51307022 0.44677943 0.388177   0.60157184 0.25474116\n",
      " 0.09994874 0.06167777 0.00495472 0.         0.01862293 0.07978814\n",
      " 0.14351615 0.28481121 0.43516146 0.5750897  0.63454639 0.6318447 ]\n",
      "predicted : [[0.63646483]]\n",
      "[0.77960021 0.83000171 0.94020161 1.         0.91576969 0.81479583\n",
      " 0.67503844 0.54724073 0.46523151 0.40628737 0.54826585 0.23885187\n",
      " 0.09089356 0.03229113 0.00410046 0.01537673 0.06970784 0.17495302\n",
      " 0.29062019 0.46779429 0.57919016 0.63625491 0.69075688 0.73842474\n",
      " 0.72065607 0.73176149 0.72253545 0.75175124 0.77618315 0.72338971\n",
      " 0.51307022 0.44677943 0.388177   0.60157184 0.25474116 0.09994874\n",
      " 0.06167777 0.00495472 0.         0.01862293 0.07978814 0.14351615\n",
      " 0.28481121 0.43516146 0.5750897  0.63454639 0.6318447  0.63646483]\n",
      "predicted : [[0.636981]]\n",
      "[0.83000171 0.94020161 1.         0.91576969 0.81479583 0.67503844\n",
      " 0.54724073 0.46523151 0.40628737 0.54826585 0.23885187 0.09089356\n",
      " 0.03229113 0.00410046 0.01537673 0.06970784 0.17495302 0.29062019\n",
      " 0.46779429 0.57919016 0.63625491 0.69075688 0.73842474 0.72065607\n",
      " 0.73176149 0.72253545 0.75175124 0.77618315 0.72338971 0.51307022\n",
      " 0.44677943 0.388177   0.60157184 0.25474116 0.09994874 0.06167777\n",
      " 0.00495472 0.         0.01862293 0.07978814 0.14351615 0.28481121\n",
      " 0.43516146 0.5750897  0.63454639 0.6318447  0.63646483 0.63698101]\n",
      "predicted : [[0.64134747]]\n",
      "[0.94020161 1.         0.91576969 0.81479583 0.67503844 0.54724073\n",
      " 0.46523151 0.40628737 0.54826585 0.23885187 0.09089356 0.03229113\n",
      " 0.00410046 0.01537673 0.06970784 0.17495302 0.29062019 0.46779429\n",
      " 0.57919016 0.63625491 0.69075688 0.73842474 0.72065607 0.73176149\n",
      " 0.72253545 0.75175124 0.77618315 0.72338971 0.51307022 0.44677943\n",
      " 0.388177   0.60157184 0.25474116 0.09994874 0.06167777 0.00495472\n",
      " 0.         0.01862293 0.07978814 0.14351615 0.28481121 0.43516146\n",
      " 0.5750897  0.63454639 0.6318447  0.63646483 0.63698101 0.64134747]\n",
      "predicted : [[0.64306074]]\n",
      "[1.         0.91576969 0.81479583 0.67503844 0.54724073 0.46523151\n",
      " 0.40628737 0.54826585 0.23885187 0.09089356 0.03229113 0.00410046\n",
      " 0.01537673 0.06970784 0.17495302 0.29062019 0.46779429 0.57919016\n",
      " 0.63625491 0.69075688 0.73842474 0.72065607 0.73176149 0.72253545\n",
      " 0.75175124 0.77618315 0.72338971 0.51307022 0.44677943 0.388177\n",
      " 0.60157184 0.25474116 0.09994874 0.06167777 0.00495472 0.\n",
      " 0.01862293 0.07978814 0.14351615 0.28481121 0.43516146 0.5750897\n",
      " 0.63454639 0.6318447  0.63646483 0.63698101 0.64134747 0.64306074]\n",
      "predicted : [[0.63976645]]\n",
      "[0.91576969 0.81479583 0.67503844 0.54724073 0.46523151 0.40628737\n",
      " 0.54826585 0.23885187 0.09089356 0.03229113 0.00410046 0.01537673\n",
      " 0.06970784 0.17495302 0.29062019 0.46779429 0.57919016 0.63625491\n",
      " 0.69075688 0.73842474 0.72065607 0.73176149 0.72253545 0.75175124\n",
      " 0.77618315 0.72338971 0.51307022 0.44677943 0.388177   0.60157184\n",
      " 0.25474116 0.09994874 0.06167777 0.00495472 0.         0.01862293\n",
      " 0.07978814 0.14351615 0.28481121 0.43516146 0.5750897  0.63454639\n",
      " 0.6318447  0.63646483 0.63698101 0.64134747 0.64306074 0.63976645]\n",
      "predicted : [[0.6252073]]\n",
      "[0.81479583 0.67503844 0.54724073 0.46523151 0.40628737 0.54826585\n",
      " 0.23885187 0.09089356 0.03229113 0.00410046 0.01537673 0.06970784\n",
      " 0.17495302 0.29062019 0.46779429 0.57919016 0.63625491 0.69075688\n",
      " 0.73842474 0.72065607 0.73176149 0.72253545 0.75175124 0.77618315\n",
      " 0.72338971 0.51307022 0.44677943 0.388177   0.60157184 0.25474116\n",
      " 0.09994874 0.06167777 0.00495472 0.         0.01862293 0.07978814\n",
      " 0.14351615 0.28481121 0.43516146 0.5750897  0.63454639 0.6318447\n",
      " 0.63646483 0.63698101 0.64134747 0.64306074 0.63976645 0.6252073 ]\n",
      "predicted : [[0.58515596]]\n",
      "[0.67503844 0.54724073 0.46523151 0.40628737 0.54826585 0.23885187\n",
      " 0.09089356 0.03229113 0.00410046 0.01537673 0.06970784 0.17495302\n",
      " 0.29062019 0.46779429 0.57919016 0.63625491 0.69075688 0.73842474\n",
      " 0.72065607 0.73176149 0.72253545 0.75175124 0.77618315 0.72338971\n",
      " 0.51307022 0.44677943 0.388177   0.60157184 0.25474116 0.09994874\n",
      " 0.06167777 0.00495472 0.         0.01862293 0.07978814 0.14351615\n",
      " 0.28481121 0.43516146 0.5750897  0.63454639 0.6318447  0.63646483\n",
      " 0.63698101 0.64134747 0.64306074 0.63976645 0.6252073  0.58515596]\n",
      "predicted : [[0.51567]]\n",
      "[0.54724073 0.46523151 0.40628737 0.54826585 0.23885187 0.09089356\n",
      " 0.03229113 0.00410046 0.01537673 0.06970784 0.17495302 0.29062019\n",
      " 0.46779429 0.57919016 0.63625491 0.69075688 0.73842474 0.72065607\n",
      " 0.73176149 0.72253545 0.75175124 0.77618315 0.72338971 0.51307022\n",
      " 0.44677943 0.388177   0.60157184 0.25474116 0.09994874 0.06167777\n",
      " 0.00495472 0.         0.01862293 0.07978814 0.14351615 0.28481121\n",
      " 0.43516146 0.5750897  0.63454639 0.6318447  0.63646483 0.63698101\n",
      " 0.64134747 0.64306074 0.63976645 0.6252073  0.58515596 0.51567   ]\n",
      "predicted : [[0.45601273]]\n",
      "[0.46523151 0.40628737 0.54826585 0.23885187 0.09089356 0.03229113\n",
      " 0.00410046 0.01537673 0.06970784 0.17495302 0.29062019 0.46779429\n",
      " 0.57919016 0.63625491 0.69075688 0.73842474 0.72065607 0.73176149\n",
      " 0.72253545 0.75175124 0.77618315 0.72338971 0.51307022 0.44677943\n",
      " 0.388177   0.60157184 0.25474116 0.09994874 0.06167777 0.00495472\n",
      " 0.         0.01862293 0.07978814 0.14351615 0.28481121 0.43516146\n",
      " 0.5750897  0.63454639 0.6318447  0.63646483 0.63698101 0.64134747\n",
      " 0.64306074 0.63976645 0.6252073  0.58515596 0.51567    0.45601273]\n"
     ]
    }
   ],
   "source": [
    "uni = df['traffic_volume']\n",
    "validatehori = uni.tail(48)\n",
    "validatehist = validatehori.values\n",
    "result = []\n",
    "# Define Forecast length here\n",
    "window_len = 10\n",
    "val_rescaled = scaler_x.fit_transform(validatehist.reshape(-1, 1))\n",
    "\n",
    "for i in range(1, window_len+1):\n",
    "    \n",
    "    val_rescaled = val_rescaled.reshape((1, val_rescaled.shape[0], 1))\n",
    "    Predicted_results = Trained_model.predict(val_rescaled)\n",
    "    print(f'predicted : {Predicted_results}')\n",
    "    result.append(Predicted_results[0])\n",
    "    val_rescaled = np.append(val_rescaled[:,1:],[[Predicted_results]])\n",
    "    print(val_rescaled)\n"
   ]
  },
  {
   "cell_type": "code",
   "execution_count": 42,
   "metadata": {
    "ExecuteTime": {
     "end_time": "2020-03-01T07:41:09.344691Z",
     "start_time": "2020-03-01T07:41:09.339704Z"
    }
   },
   "outputs": [],
   "source": [
    "result_inv_trans = scaler_x.inverse_transform(result)"
   ]
  },
  {
   "cell_type": "code",
   "execution_count": 43,
   "metadata": {
    "ExecuteTime": {
     "end_time": "2020-03-01T07:41:10.484637Z",
     "start_time": "2020-03-01T07:41:10.452724Z"
    }
   },
   "outputs": [],
   "source": [
    "from sklearn import metrics\n",
    "def timeseries_evaluation_metrics_func(y_true, y_pred):\n",
    "    \n",
    "    def mean_absolute_percentage_error(y_true, y_pred): \n",
    "        y_true, y_pred = np.array(y_true), np.array(y_pred)\n",
    "        return np.mean(np.abs((y_true - y_pred) / y_true)) * 100\n",
    "    print('Evaluation metric results:-')\n",
    "    print(f'MSE is : {metrics.mean_squared_error(y_true, y_pred)}')\n",
    "    print(f'MAE is : {metrics.mean_absolute_error(y_true, y_pred)}')\n",
    "    print(f'RMSE is : {np.sqrt(metrics.mean_squared_error(y_true, y_pred))}')\n",
    "    print(f'MAPE is : {mean_absolute_percentage_error(y_true, y_pred)}')\n",
    "    print(f'R2 is : {metrics.r2_score(y_true, y_pred)}',end='\\n\\n')"
   ]
  },
  {
   "cell_type": "code",
   "execution_count": 44,
   "metadata": {
    "ExecuteTime": {
     "end_time": "2020-03-01T07:41:13.542473Z",
     "start_time": "2020-03-01T07:41:13.535474Z"
    }
   },
   "outputs": [
    {
     "name": "stdout",
     "output_type": "stream",
     "text": [
      "Evaluation metric results:-\n",
      "MSE is : 1261474.818491242\n",
      "MAE is : 860.1430524706841\n",
      "RMSE is : 1123.1539602793741\n",
      "MAPE is : 65.10055031256107\n",
      "R2 is : 0.1810315601996233\n",
      "\n"
     ]
    }
   ],
   "source": [
    "timeseries_evaluation_metrics_func(validate,result_inv_trans)"
   ]
  },
  {
   "cell_type": "code",
   "execution_count": 45,
   "metadata": {
    "ExecuteTime": {
     "end_time": "2020-03-01T07:41:16.308057Z",
     "start_time": "2020-03-01T07:41:16.051743Z"
    }
   },
   "outputs": [
    {
     "data": {
      "image/png": "[encoded data removed]",
      "text/plain": [
       "<Figure size 1152x648 with 1 Axes>"
      ]
     },
     "metadata": {
      "needs_background": "light"
     },
     "output_type": "display_data"
    }
   ],
   "source": [
    "plt.plot( list(validate))\n",
    "plt.plot( list(result_inv_trans))\n",
    "plt.title(\"Actual vs Predicted\")\n",
    "plt.ylabel(\"Traffic volume\")\n",
    "plt.legend(('Actual','predicted'))\n",
    "plt.show()"
   ]
  },
  {
   "cell_type": "code",
   "execution_count": null,
   "metadata": {},
   "outputs": [],
   "source": []
  }
 ],
 "metadata": {
  "kernelspec": {
   "display_name": "Python 3",
   "language": "python",
   "name": "python3"
  },
  "language_info": {
   "codemirror_mode": {
    "name": "ipython",
    "version": 3
   },
   "file_extension": ".py",
   "mimetype": "text/x-python",
   "name": "python",
   "nbconvert_exporter": "python",
   "pygments_lexer": "ipython3",
   "version": "3.7.3"
  },
  "latex_envs": {
   "LaTeX_envs_menu_present": true,
   "autoclose": false,
   "autocomplete": true,
   "bibliofile": "biblio.bib",
   "cite_by": "apalike",
   "current_citInitial": 1,
   "eqLabelWithNumbers": true,
   "eqNumInitial": 1,
   "hotkeys": {
    "equation": "Ctrl-E",
    "itemize": "Ctrl-I"
   },
   "labels_anchors": false,
   "latex_user_defs": false,
   "report_style_numbering": false,
   "user_envs_cfg": false
  },
  "nbTranslate": {
   "displayLangs": [
    "*"
   ],
   "hotkey": "alt-t",
   "langInMainMenu": true,
   "sourceLang": "en",
   "targetLang": "fr",
   "useGoogleTranslate": true
  }
 },
 "nbformat": 4,
 "nbformat_minor": 2
}

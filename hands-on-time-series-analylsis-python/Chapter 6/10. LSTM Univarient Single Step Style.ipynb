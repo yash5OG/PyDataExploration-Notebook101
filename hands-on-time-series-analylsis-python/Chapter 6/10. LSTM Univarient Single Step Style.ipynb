{
 "cells": [
  {
   "cell_type": "code",
   "execution_count": 119,
   "metadata": {
    "ExecuteTime": {
     "end_time": "2020-03-01T07:08:49.627722Z",
     "start_time": "2020-03-01T07:08:49.589824Z"
    }
   },
   "outputs": [],
   "source": [
    "import pandas as pd\n",
    "import numpy as np\n",
    "import tensorflow as tf\n",
    "from sklearn import preprocessing\n",
    "import matplotlib.pyplot as plt\n",
    "tf.random.set_seed(123)\n",
    "np.random.seed(123)"
   ]
  },
  {
   "cell_type": "code",
   "execution_count": 120,
   "metadata": {
    "ExecuteTime": {
     "end_time": "2020-03-01T07:08:50.632036Z",
     "start_time": "2020-03-01T07:08:50.556237Z"
    }
   },
   "outputs": [],
   "source": [
    "df = pd.read_csv(r'\\Data\\Metro_Interstate_Traffic_Volume.csv')"
   ]
  },
  {
   "cell_type": "code",
   "execution_count": 121,
   "metadata": {
    "ExecuteTime": {
     "end_time": "2020-03-01T07:08:51.448846Z",
     "start_time": "2020-03-01T07:08:51.432892Z"
    }
   },
   "outputs": [
    {
     "data": {
      "text/html": [
       "<div>\n",
       "<style scoped>\n",
       "    .dataframe tbody tr th:only-of-type {\n",
       "        vertical-align: middle;\n",
       "    }\n",
       "\n",
       "    .dataframe tbody tr th {\n",
       "        vertical-align: top;\n",
       "    }\n",
       "\n",
       "    .dataframe thead th {\n",
       "        text-align: right;\n",
       "    }\n",
       "</style>\n",
       "<table border=\"1\" class=\"dataframe\">\n",
       "  <thead>\n",
       "    <tr style=\"text-align: right;\">\n",
       "      <th></th>\n",
       "      <th>holiday</th>\n",
       "      <th>temp</th>\n",
       "      <th>rain_1h</th>\n",
       "      <th>snow_1h</th>\n",
       "      <th>clouds_all</th>\n",
       "      <th>weather_main</th>\n",
       "      <th>weather_description</th>\n",
       "      <th>date_time</th>\n",
       "      <th>traffic_volume</th>\n",
       "    </tr>\n",
       "  </thead>\n",
       "  <tbody>\n",
       "    <tr>\n",
       "      <th>0</th>\n",
       "      <td>None</td>\n",
       "      <td>288.28</td>\n",
       "      <td>0.0</td>\n",
       "      <td>0.0</td>\n",
       "      <td>40</td>\n",
       "      <td>Clouds</td>\n",
       "      <td>scattered clouds</td>\n",
       "      <td>2012-10-02 09:00:00</td>\n",
       "      <td>5545</td>\n",
       "    </tr>\n",
       "    <tr>\n",
       "      <th>1</th>\n",
       "      <td>None</td>\n",
       "      <td>289.36</td>\n",
       "      <td>0.0</td>\n",
       "      <td>0.0</td>\n",
       "      <td>75</td>\n",
       "      <td>Clouds</td>\n",
       "      <td>broken clouds</td>\n",
       "      <td>2012-10-02 10:00:00</td>\n",
       "      <td>4516</td>\n",
       "    </tr>\n",
       "    <tr>\n",
       "      <th>2</th>\n",
       "      <td>None</td>\n",
       "      <td>289.58</td>\n",
       "      <td>0.0</td>\n",
       "      <td>0.0</td>\n",
       "      <td>90</td>\n",
       "      <td>Clouds</td>\n",
       "      <td>overcast clouds</td>\n",
       "      <td>2012-10-02 11:00:00</td>\n",
       "      <td>4767</td>\n",
       "    </tr>\n",
       "    <tr>\n",
       "      <th>3</th>\n",
       "      <td>None</td>\n",
       "      <td>290.13</td>\n",
       "      <td>0.0</td>\n",
       "      <td>0.0</td>\n",
       "      <td>90</td>\n",
       "      <td>Clouds</td>\n",
       "      <td>overcast clouds</td>\n",
       "      <td>2012-10-02 12:00:00</td>\n",
       "      <td>5026</td>\n",
       "    </tr>\n",
       "    <tr>\n",
       "      <th>4</th>\n",
       "      <td>None</td>\n",
       "      <td>291.14</td>\n",
       "      <td>0.0</td>\n",
       "      <td>0.0</td>\n",
       "      <td>75</td>\n",
       "      <td>Clouds</td>\n",
       "      <td>broken clouds</td>\n",
       "      <td>2012-10-02 13:00:00</td>\n",
       "      <td>4918</td>\n",
       "    </tr>\n",
       "  </tbody>\n",
       "</table>\n",
       "</div>"
      ],
      "text/plain": [
       "  holiday    temp  rain_1h  snow_1h  clouds_all weather_main  \\\n",
       "0    None  288.28      0.0      0.0          40       Clouds   \n",
       "1    None  289.36      0.0      0.0          75       Clouds   \n",
       "2    None  289.58      0.0      0.0          90       Clouds   \n",
       "3    None  290.13      0.0      0.0          90       Clouds   \n",
       "4    None  291.14      0.0      0.0          75       Clouds   \n",
       "\n",
       "  weather_description            date_time  traffic_volume  \n",
       "0    scattered clouds  2012-10-02 09:00:00            5545  \n",
       "1       broken clouds  2012-10-02 10:00:00            4516  \n",
       "2     overcast clouds  2012-10-02 11:00:00            4767  \n",
       "3     overcast clouds  2012-10-02 12:00:00            5026  \n",
       "4       broken clouds  2012-10-02 13:00:00            4918  "
      ]
     },
     "execution_count": 121,
     "metadata": {},
     "output_type": "execute_result"
    }
   ],
   "source": [
    "df.head()"
   ]
  },
  {
   "cell_type": "code",
   "execution_count": 122,
   "metadata": {
    "ExecuteTime": {
     "end_time": "2020-03-01T07:08:53.015653Z",
     "start_time": "2020-03-01T07:08:52.972772Z"
    }
   },
   "outputs": [
    {
     "data": {
      "text/html": [
       "<div>\n",
       "<style scoped>\n",
       "    .dataframe tbody tr th:only-of-type {\n",
       "        vertical-align: middle;\n",
       "    }\n",
       "\n",
       "    .dataframe tbody tr th {\n",
       "        vertical-align: top;\n",
       "    }\n",
       "\n",
       "    .dataframe thead th {\n",
       "        text-align: right;\n",
       "    }\n",
       "</style>\n",
       "<table border=\"1\" class=\"dataframe\">\n",
       "  <thead>\n",
       "    <tr style=\"text-align: right;\">\n",
       "      <th></th>\n",
       "      <th>temp</th>\n",
       "      <th>rain_1h</th>\n",
       "      <th>snow_1h</th>\n",
       "      <th>clouds_all</th>\n",
       "      <th>traffic_volume</th>\n",
       "    </tr>\n",
       "  </thead>\n",
       "  <tbody>\n",
       "    <tr>\n",
       "      <th>count</th>\n",
       "      <td>48204.000000</td>\n",
       "      <td>48204.000000</td>\n",
       "      <td>48204.000000</td>\n",
       "      <td>48204.000000</td>\n",
       "      <td>48204.000000</td>\n",
       "    </tr>\n",
       "    <tr>\n",
       "      <th>mean</th>\n",
       "      <td>281.205870</td>\n",
       "      <td>0.334264</td>\n",
       "      <td>0.000222</td>\n",
       "      <td>49.362231</td>\n",
       "      <td>3259.818355</td>\n",
       "    </tr>\n",
       "    <tr>\n",
       "      <th>std</th>\n",
       "      <td>13.338232</td>\n",
       "      <td>44.789133</td>\n",
       "      <td>0.008168</td>\n",
       "      <td>39.015750</td>\n",
       "      <td>1986.860670</td>\n",
       "    </tr>\n",
       "    <tr>\n",
       "      <th>min</th>\n",
       "      <td>0.000000</td>\n",
       "      <td>0.000000</td>\n",
       "      <td>0.000000</td>\n",
       "      <td>0.000000</td>\n",
       "      <td>0.000000</td>\n",
       "    </tr>\n",
       "    <tr>\n",
       "      <th>25%</th>\n",
       "      <td>272.160000</td>\n",
       "      <td>0.000000</td>\n",
       "      <td>0.000000</td>\n",
       "      <td>1.000000</td>\n",
       "      <td>1193.000000</td>\n",
       "    </tr>\n",
       "    <tr>\n",
       "      <th>50%</th>\n",
       "      <td>282.450000</td>\n",
       "      <td>0.000000</td>\n",
       "      <td>0.000000</td>\n",
       "      <td>64.000000</td>\n",
       "      <td>3380.000000</td>\n",
       "    </tr>\n",
       "    <tr>\n",
       "      <th>75%</th>\n",
       "      <td>291.806000</td>\n",
       "      <td>0.000000</td>\n",
       "      <td>0.000000</td>\n",
       "      <td>90.000000</td>\n",
       "      <td>4933.000000</td>\n",
       "    </tr>\n",
       "    <tr>\n",
       "      <th>max</th>\n",
       "      <td>310.070000</td>\n",
       "      <td>9831.300000</td>\n",
       "      <td>0.510000</td>\n",
       "      <td>100.000000</td>\n",
       "      <td>7280.000000</td>\n",
       "    </tr>\n",
       "  </tbody>\n",
       "</table>\n",
       "</div>"
      ],
      "text/plain": [
       "               temp       rain_1h       snow_1h    clouds_all  traffic_volume\n",
       "count  48204.000000  48204.000000  48204.000000  48204.000000    48204.000000\n",
       "mean     281.205870      0.334264      0.000222     49.362231     3259.818355\n",
       "std       13.338232     44.789133      0.008168     39.015750     1986.860670\n",
       "min        0.000000      0.000000      0.000000      0.000000        0.000000\n",
       "25%      272.160000      0.000000      0.000000      1.000000     1193.000000\n",
       "50%      282.450000      0.000000      0.000000     64.000000     3380.000000\n",
       "75%      291.806000      0.000000      0.000000     90.000000     4933.000000\n",
       "max      310.070000   9831.300000      0.510000    100.000000     7280.000000"
      ]
     },
     "execution_count": 122,
     "metadata": {},
     "output_type": "execute_result"
    }
   ],
   "source": [
    "df.describe()"
   ]
  },
  {
   "cell_type": "code",
   "execution_count": 123,
   "metadata": {
    "ExecuteTime": {
     "end_time": "2020-03-01T07:08:54.906595Z",
     "start_time": "2020-03-01T07:08:54.884653Z"
    }
   },
   "outputs": [],
   "source": [
    "df.drop_duplicates(subset=['date_time'], keep=False,inplace=True)"
   ]
  },
  {
   "cell_type": "code",
   "execution_count": 124,
   "metadata": {
    "ExecuteTime": {
     "end_time": "2020-03-01T07:09:00.143587Z",
     "start_time": "2020-03-01T07:09:00.131619Z"
    }
   },
   "outputs": [],
   "source": [
    "validate = df['traffic_volume'].tail(10)\n",
    "df.drop(df['traffic_volume'].tail(10).index,inplace=True)"
   ]
  },
  {
   "cell_type": "code",
   "execution_count": 125,
   "metadata": {
    "ExecuteTime": {
     "end_time": "2020-03-01T07:09:00.852684Z",
     "start_time": "2020-03-01T07:09:00.843710Z"
    }
   },
   "outputs": [
    {
     "data": {
      "text/plain": [
       "date_time\n",
       "2012-10-02 09:00:00    5545\n",
       "2012-10-02 10:00:00    4516\n",
       "2012-10-02 11:00:00    4767\n",
       "2012-10-02 12:00:00    5026\n",
       "2012-10-02 13:00:00    4918\n",
       "Name: traffic_volume, dtype: int64"
      ]
     },
     "execution_count": 125,
     "metadata": {},
     "output_type": "execute_result"
    }
   ],
   "source": [
    "uni_data = df['traffic_volume']\n",
    "uni_data.index = df['date_time']\n",
    "uni_data.head()"
   ]
  },
  {
   "cell_type": "code",
   "execution_count": 126,
   "metadata": {
    "ExecuteTime": {
     "end_time": "2020-03-01T07:09:02.349679Z",
     "start_time": "2020-03-01T07:09:02.342698Z"
    }
   },
   "outputs": [],
   "source": [
    "uni_data = uni_data.values\n",
    "scaler_x = preprocessing.MinMaxScaler()\n",
    "x_rescaled = scaler_x.fit_transform(uni_data.reshape(-1, 1))"
   ]
  },
  {
   "cell_type": "code",
   "execution_count": 127,
   "metadata": {
    "ExecuteTime": {
     "end_time": "2020-03-01T07:09:03.327065Z",
     "start_time": "2020-03-01T07:09:03.320082Z"
    }
   },
   "outputs": [],
   "source": [
    "def custom_ts_univariate_data_prep(dataset, start, end, window, horizon):\n",
    "  X = []\n",
    "  y = []\n",
    "\n",
    "  start = start + window\n",
    "  if end is None:\n",
    "    end = len(dataset) - horizon\n",
    "\n",
    "  for i in range(start, end):\n",
    "    indicesx = range(i-window, i)\n",
    "    X.append(np.reshape(dataset[indicesx], (window, 1)))\n",
    "    indicesy = range(i,i+horizon)\n",
    "    y.append(dataset[indicesy])\n",
    "  return np.array(X), np.array(y)"
   ]
  },
  {
   "cell_type": "code",
   "execution_count": 128,
   "metadata": {
    "ExecuteTime": {
     "end_time": "2020-03-01T07:09:15.321006Z",
     "start_time": "2020-03-01T07:09:14.260810Z"
    }
   },
   "outputs": [],
   "source": [
    "univar_hist_window = 48\n",
    "horizon = 1\n",
    "TRAIN_SPLIT = 30000\n",
    "x_train_uni, y_train_uni = custom_ts_univariate_data_prep(x_rescaled, 0, TRAIN_SPLIT,univar_hist_window, horizon)\n",
    "x_val_uni, y_val_uni = custom_ts_univariate_data_prep(x_rescaled, TRAIN_SPLIT, None,univar_hist_window,horizon)"
   ]
  },
  {
   "cell_type": "code",
   "execution_count": 129,
   "metadata": {
    "ExecuteTime": {
     "end_time": "2020-03-01T07:09:16.217610Z",
     "start_time": "2020-03-01T07:09:16.211588Z"
    }
   },
   "outputs": [
    {
     "name": "stdout",
     "output_type": "stream",
     "text": [
      "Single window of past history\n",
      "[[0.76167582]\n",
      " [0.62032967]\n",
      " [0.65480769]\n",
      " [0.69038462]\n",
      " [0.67554945]\n",
      " [0.71167582]\n",
      " [0.76703297]\n",
      " [0.82623626]\n",
      " [0.79546703]\n",
      " [0.65521978]\n",
      " [0.48612637]\n",
      " [0.38241758]\n",
      " [0.32431319]\n",
      " [0.21002747]\n",
      " [0.13228022]\n",
      " [0.06950549]\n",
      " [0.04409341]\n",
      " [0.0375    ]\n",
      " [0.05041209]\n",
      " [0.11181319]\n",
      " [0.37335165]\n",
      " [0.77925824]\n",
      " [0.89436813]\n",
      " [0.75151099]\n",
      " [0.70013736]\n",
      " [0.67129121]\n",
      " [0.7331044 ]\n",
      " [0.78186813]\n",
      " [0.84299451]\n",
      " [0.63502747]\n",
      " [0.49326923]\n",
      " [0.39807692]\n",
      " [0.36222527]\n",
      " [0.24409341]\n",
      " [0.13942308]\n",
      " [0.08214286]\n",
      " [0.05068681]\n",
      " [0.04285714]\n",
      " [0.05041209]\n",
      " [0.1146978 ]\n",
      " [0.37445055]\n",
      " [0.78145604]\n",
      " [0.96016484]\n",
      " [0.82211538]\n",
      " [0.72925824]\n",
      " [0.63228022]\n",
      " [0.67087912]\n",
      " [0.7010989 ]]\n",
      "\n",
      " Target horizon\n",
      "[[0.71126374]]\n"
     ]
    }
   ],
   "source": [
    "print ('Single window of past history')\n",
    "print (x_train_uni[0])\n",
    "print ('\\n Target horizon')\n",
    "print (y_train_uni[0])"
   ]
  },
  {
   "cell_type": "code",
   "execution_count": 130,
   "metadata": {
    "ExecuteTime": {
     "end_time": "2020-03-01T07:09:18.448602Z",
     "start_time": "2020-03-01T07:09:18.415690Z"
    }
   },
   "outputs": [],
   "source": [
    "BATCH_SIZE = 256\n",
    "BUFFER_SIZE = 150\n",
    "\n",
    "train_univariate = tf.data.Dataset.from_tensor_slices((x_train_uni, y_train_uni))\n",
    "train_univariate = train_univariate.cache().shuffle(BUFFER_SIZE).batch(BATCH_SIZE).repeat()\n",
    "\n",
    "val_univariate = tf.data.Dataset.from_tensor_slices((x_val_uni, y_val_uni))\n",
    "val_univariate = val_univariate.batch(BATCH_SIZE).repeat()"
   ]
  },
  {
   "cell_type": "code",
   "execution_count": 131,
   "metadata": {
    "ExecuteTime": {
     "end_time": "2020-03-01T07:09:19.736158Z",
     "start_time": "2020-03-01T07:09:19.731170Z"
    }
   },
   "outputs": [],
   "source": [
    "model_path = r'\\Chapter 6\\LSTM_Univarient_2.h5'"
   ]
  },
  {
   "cell_type": "code",
   "execution_count": 132,
   "metadata": {
    "ExecuteTime": {
     "end_time": "2020-03-01T07:09:21.696909Z",
     "start_time": "2020-03-01T07:09:21.119456Z"
    }
   },
   "outputs": [],
   "source": [
    "lstm_model = tf.keras.models.Sequential([\n",
    "    tf.keras.layers.LSTM(100, input_shape=x_train_uni.shape[-2:],return_sequences=True),\n",
    "    tf.keras.layers.Dropout(0.2),\n",
    "    tf.keras.layers.LSTM(units=50,return_sequences=False),\n",
    "    tf.keras.layers.Dropout(0.2),\n",
    "    tf.keras.layers.Dense(units=1),\n",
    "])\n",
    "lstm_model.compile(optimizer='adam', loss='mse')\n"
   ]
  },
  {
   "cell_type": "code",
   "execution_count": 133,
   "metadata": {
    "ExecuteTime": {
     "end_time": "2020-03-01T07:11:38.764154Z",
     "start_time": "2020-03-01T07:09:22.855810Z"
    }
   },
   "outputs": [
    {
     "name": "stdout",
     "output_type": "stream",
     "text": [
      "Train for 100 steps, validate for 50 steps\n",
      "Epoch 1/150\n",
      "100/100 [==============================] - 7s 66ms/step - loss: 0.0702 - val_loss: 0.0333\n",
      "Epoch 2/150\n",
      "100/100 [==============================] - 2s 17ms/step - loss: 0.0355 - val_loss: 0.0279\n",
      "Epoch 3/150\n",
      "100/100 [==============================] - 2s 17ms/step - loss: 0.0262 - val_loss: 0.0247\n",
      "Epoch 4/150\n",
      "100/100 [==============================] - 4s 37ms/step - loss: 0.0187 - val_loss: 0.0120\n",
      "Epoch 5/150\n",
      "100/100 [==============================] - 2s 16ms/step - loss: 0.0169 - val_loss: 0.0127\n",
      "Epoch 6/150\n",
      "100/100 [==============================] - 2s 16ms/step - loss: 0.0151 - val_loss: 0.0107\n",
      "Epoch 7/150\n",
      "100/100 [==============================] - 2s 16ms/step - loss: 0.0149 - val_loss: 0.0103\n",
      "Epoch 8/150\n",
      "100/100 [==============================] - 2s 17ms/step - loss: 0.0150 - val_loss: 0.0099\n",
      "Epoch 9/150\n",
      "100/100 [==============================] - 2s 16ms/step - loss: 0.0146 - val_loss: 0.0111\n",
      "Epoch 10/150\n",
      "100/100 [==============================] - 2s 16ms/step - loss: 0.0139 - val_loss: 0.0131\n",
      "Epoch 11/150\n",
      "100/100 [==============================] - 2s 16ms/step - loss: 0.0128 - val_loss: 0.0099\n",
      "Epoch 12/150\n",
      "100/100 [==============================] - 2s 16ms/step - loss: 0.0139 - val_loss: 0.0099\n",
      "Epoch 13/150\n",
      "100/100 [==============================] - 2s 16ms/step - loss: 0.0131 - val_loss: 0.0095\n",
      "Epoch 14/150\n",
      "100/100 [==============================] - 2s 16ms/step - loss: 0.0134 - val_loss: 0.0094\n",
      "Epoch 15/150\n",
      "100/100 [==============================] - 2s 16ms/step - loss: 0.0136 - val_loss: 0.0093\n",
      "Epoch 16/150\n",
      "100/100 [==============================] - 2s 16ms/step - loss: 0.0134 - val_loss: 0.0106\n",
      "Epoch 17/150\n",
      "100/100 [==============================] - 2s 16ms/step - loss: 0.0125 - val_loss: 0.0128\n",
      "Epoch 18/150\n",
      "100/100 [==============================] - 2s 16ms/step - loss: 0.0116 - val_loss: 0.0095\n",
      "Epoch 19/150\n",
      "100/100 [==============================] - 2s 16ms/step - loss: 0.0134 - val_loss: 0.0096\n",
      "Epoch 20/150\n",
      "100/100 [==============================] - 2s 16ms/step - loss: 0.0120 - val_loss: 0.0093\n",
      "Epoch 21/150\n",
      "100/100 [==============================] - 2s 17ms/step - loss: 0.0126 - val_loss: 0.0089\n",
      "Epoch 22/150\n",
      "100/100 [==============================] - 2s 17ms/step - loss: 0.0125 - val_loss: 0.0089\n",
      "Epoch 23/150\n",
      "100/100 [==============================] - 2s 16ms/step - loss: 0.0125 - val_loss: 0.0090\n",
      "Epoch 24/150\n",
      "100/100 [==============================] - 2s 16ms/step - loss: 0.0113 - val_loss: 0.0103\n",
      "Epoch 25/150\n",
      "100/100 [==============================] - 2s 16ms/step - loss: 0.0112 - val_loss: 0.0090\n",
      "Epoch 26/150\n",
      "100/100 [==============================] - 2s 16ms/step - loss: 0.0120 - val_loss: 0.0089\n",
      "Epoch 27/150\n",
      "100/100 [==============================] - 2s 17ms/step - loss: 0.0113 - val_loss: 0.0087\n",
      "Epoch 28/150\n",
      "100/100 [==============================] - 2s 16ms/step - loss: 0.0120 - val_loss: 0.0085\n",
      "Epoch 29/150\n",
      "100/100 [==============================] - 2s 16ms/step - loss: 0.0117 - val_loss: 0.0085\n",
      "Epoch 30/150\n",
      "100/100 [==============================] - 2s 16ms/step - loss: 0.0118 - val_loss: 0.0097\n",
      "Epoch 31/150\n",
      "100/100 [==============================] - 2s 16ms/step - loss: 0.0102 - val_loss: 0.0088\n",
      "Epoch 32/150\n",
      "100/100 [==============================] - 2s 23ms/step - loss: 0.0108 - val_loss: 0.0085\n",
      "Epoch 33/150\n",
      "100/100 [==============================] - 2s 16ms/step - loss: 0.0111 - val_loss: 0.0085\n",
      "Epoch 34/150\n",
      "100/100 [==============================] - 2s 16ms/step - loss: 0.0109 - val_loss: 0.0082\n",
      "Epoch 35/150\n",
      "100/100 [==============================] - 2s 16ms/step - loss: 0.0113 - val_loss: 0.0082\n",
      "Epoch 36/150\n",
      "100/100 [==============================] - 2s 16ms/step - loss: 0.0110 - val_loss: 0.0079\n",
      "Epoch 37/150\n",
      "100/100 [==============================] - 2s 16ms/step - loss: 0.0112 - val_loss: 0.0089\n",
      "Epoch 38/150\n",
      "100/100 [==============================] - 2s 16ms/step - loss: 0.0096 - val_loss: 0.0082\n",
      "Epoch 39/150\n",
      "100/100 [==============================] - 2s 16ms/step - loss: 0.0105 - val_loss: 0.0083\n",
      "Epoch 40/150\n",
      "100/100 [==============================] - 2s 17ms/step - loss: 0.0104 - val_loss: 0.0078\n",
      "Epoch 41/150\n",
      "100/100 [==============================] - 2s 16ms/step - loss: 0.0103 - val_loss: 0.0078\n",
      "Epoch 42/150\n",
      "100/100 [==============================] - 2s 16ms/step - loss: 0.0108 - val_loss: 0.0079\n",
      "Epoch 43/150\n",
      "100/100 [==============================] - 2s 16ms/step - loss: 0.0105 - val_loss: 0.0084\n",
      "Epoch 44/150\n",
      "100/100 [==============================] - 2s 16ms/step - loss: 0.0107 - val_loss: 0.0083\n",
      "Epoch 45/150\n",
      "100/100 [==============================] - 2s 16ms/step - loss: 0.0089 - val_loss: 0.0079\n",
      "Epoch 46/150\n",
      "100/100 [==============================] - 2s 16ms/step - loss: 0.0101 - val_loss: 0.0084\n",
      "Epoch 47/150\n",
      "100/100 [==============================] - 2s 23ms/step - loss: 0.0099 - val_loss: 0.0076\n",
      "Epoch 48/150\n",
      "100/100 [==============================] - 2s 16ms/step - loss: 0.0100 - val_loss: 0.0075\n",
      "Epoch 49/150\n",
      "100/100 [==============================] - 2s 16ms/step - loss: 0.0103 - val_loss: 0.0075\n",
      "Epoch 50/150\n",
      "100/100 [==============================] - 2s 16ms/step - loss: 0.0101 - val_loss: 0.0086\n",
      "Epoch 51/150\n",
      "100/100 [==============================] - 2s 16ms/step - loss: 0.0104 - val_loss: 0.0094\n",
      "Epoch 52/150\n",
      "100/100 [==============================] - 2s 16ms/step - loss: 0.0086 - val_loss: 0.0075\n",
      "Epoch 53/150\n",
      "100/100 [==============================] - 2s 16ms/step - loss: 0.0099 - val_loss: 0.0079\n",
      "Epoch 54/150\n",
      "100/100 [==============================] - 2s 17ms/step - loss: 0.0096 - val_loss: 0.0074\n",
      "Epoch 55/150\n",
      "100/100 [==============================] - 2s 16ms/step - loss: 0.0097 - val_loss: 0.0073\n",
      "Epoch 56/150\n",
      "100/100 [==============================] - 2s 16ms/step - loss: 0.0099 - val_loss: 0.0077\n",
      "Epoch 57/150\n",
      "100/100 [==============================] - 2s 16ms/step - loss: 0.0098 - val_loss: 0.0080\n",
      "Epoch 58/150\n",
      "100/100 [==============================] - 2s 16ms/step - loss: 0.0101 - val_loss: 0.0105\n",
      "Epoch 59/150\n",
      "100/100 [==============================] - 2s 16ms/step - loss: 0.0086 - val_loss: 0.0075\n",
      "Epoch 60/150\n",
      "100/100 [==============================] - 2s 16ms/step - loss: 0.0096 - val_loss: 0.0076\n",
      "Epoch 61/150\n",
      "100/100 [==============================] - 2s 16ms/step - loss: 0.0092 - val_loss: 0.0074\n",
      "Epoch 62/150\n",
      "100/100 [==============================] - 2s 16ms/step - loss: 0.0094 - val_loss: 0.0071\n",
      "Epoch 63/150\n",
      "100/100 [==============================] - 2s 16ms/step - loss: 0.0097 - val_loss: 0.0075\n",
      "Epoch 64/150\n",
      "100/100 [==============================] - 2s 16ms/step - loss: 0.0095 - val_loss: 0.0076\n",
      "Epoch 65/150\n",
      "100/100 [==============================] - 2s 16ms/step - loss: 0.0095 - val_loss: 0.0106\n",
      "Epoch 66/150\n",
      "100/100 [==============================] - 2s 16ms/step - loss: 0.0083 - val_loss: 0.0072\n",
      "Epoch 67/150\n",
      "100/100 [==============================] - 2s 16ms/step - loss: 0.0095 - val_loss: 0.0073\n",
      "Epoch 68/150\n",
      "100/100 [==============================] - 2s 16ms/step - loss: 0.0089 - val_loss: 0.0073\n",
      "Epoch 69/150\n",
      "100/100 [==============================] - 2s 17ms/step - loss: 0.0093 - val_loss: 0.0070\n",
      "Epoch 70/150\n",
      "100/100 [==============================] - 2s 16ms/step - loss: 0.0095 - val_loss: 0.0073\n",
      "Epoch 71/150\n",
      "100/100 [==============================] - 2s 16ms/step - loss: 0.0093 - val_loss: 0.0074\n",
      "Epoch 72/150\n",
      "100/100 [==============================] - 2s 16ms/step - loss: 0.0090 - val_loss: 0.0091\n",
      "Epoch 73/150\n",
      "100/100 [==============================] - 2s 16ms/step - loss: 0.0084 - val_loss: 0.0072\n",
      "Epoch 74/150\n",
      "100/100 [==============================] - 2s 16ms/step - loss: 0.0092 - val_loss: 0.0074\n",
      "Epoch 75/150\n",
      "100/100 [==============================] - 2s 16ms/step - loss: 0.0086 - val_loss: 0.0072\n",
      "Epoch 76/150\n",
      "100/100 [==============================] - 2s 16ms/step - loss: 0.0090 - val_loss: 0.0070\n",
      "Epoch 77/150\n",
      "100/100 [==============================] - 2s 16ms/step - loss: 0.0092 - val_loss: 0.0070\n",
      "Epoch 78/150\n",
      "100/100 [==============================] - 2s 16ms/step - loss: 0.0092 - val_loss: 0.0073\n",
      "Epoch 79/150\n",
      "100/100 [==============================] - 2s 16ms/step - loss: 0.0085 - val_loss: 0.0077\n",
      "Epoch 00079: early stopping\n"
     ]
    }
   ],
   "source": [
    "EVALUATION_INTERVAL = 100\n",
    "EPOCHS = 150\n",
    "history = lstm_model.fit(train_univariate, epochs=EPOCHS,steps_per_epoch=EVALUATION_INTERVAL,validation_data=val_univariate, validation_steps=50,verbose =1,\n",
    "                              callbacks =[tf.keras.callbacks.EarlyStopping(monitor='val_loss', min_delta=0, patience=10, verbose=1, mode='min'),tf.keras.callbacks.ModelCheckpoint(model_path,monitor='val_loss', save_best_only=True, mode='min', verbose=0)])"
   ]
  },
  {
   "cell_type": "code",
   "execution_count": 134,
   "metadata": {
    "ExecuteTime": {
     "end_time": "2020-03-01T07:11:45.916016Z",
     "start_time": "2020-03-01T07:11:42.500162Z"
    }
   },
   "outputs": [],
   "source": [
    "# Recreate the exact same model, including its weights and the optimizer\n",
    "Trained_model = tf.keras.models.load_model(model_path)"
   ]
  },
  {
   "cell_type": "code",
   "execution_count": 135,
   "metadata": {
    "ExecuteTime": {
     "end_time": "2020-03-01T07:11:45.926988Z",
     "start_time": "2020-03-01T07:11:45.918012Z"
    }
   },
   "outputs": [
    {
     "name": "stdout",
     "output_type": "stream",
     "text": [
      "Model: \"sequential_3\"\n",
      "_________________________________________________________________\n",
      "Layer (type)                 Output Shape              Param #   \n",
      "=================================================================\n",
      "lstm_6 (LSTM)                (None, 48, 100)           40800     \n",
      "_________________________________________________________________\n",
      "dropout_6 (Dropout)          (None, 48, 100)           0         \n",
      "_________________________________________________________________\n",
      "lstm_7 (LSTM)                (None, 50)                30200     \n",
      "_________________________________________________________________\n",
      "dropout_7 (Dropout)          (None, 50)                0         \n",
      "_________________________________________________________________\n",
      "dense_3 (Dense)              (None, 1)                 51        \n",
      "=================================================================\n",
      "Total params: 71,051\n",
      "Trainable params: 71,051\n",
      "Non-trainable params: 0\n",
      "_________________________________________________________________\n"
     ]
    }
   ],
   "source": [
    "# Show the model architecture\n",
    "Trained_model.summary()"
   ]
  },
  {
   "cell_type": "code",
   "execution_count": 136,
   "metadata": {
    "ExecuteTime": {
     "end_time": "2020-03-01T07:11:47.854830Z",
     "start_time": "2020-03-01T07:11:47.594526Z"
    }
   },
   "outputs": [
    {
     "data": {
      "image/png": "[encoded data removed]",
      "text/plain": [
       "<Figure size 1152x648 with 1 Axes>"
      ]
     },
     "metadata": {
      "needs_background": "light"
     },
     "output_type": "display_data"
    }
   ],
   "source": [
    "plt.plot(history.history['loss'])\n",
    "plt.plot(history.history['val_loss'])\n",
    "plt.title('Model loss')\n",
    "plt.ylabel('loss')\n",
    "plt.xlabel('epoch')\n",
    "plt.legend(['train loss', 'validation loss'], loc='upper left')\n",
    "plt.rcParams[\"figure.figsize\"] = [16,9]\n",
    "plt.show()"
   ]
  },
  {
   "cell_type": "code",
   "execution_count": 137,
   "metadata": {
    "ExecuteTime": {
     "end_time": "2020-03-01T07:11:51.023351Z",
     "start_time": "2020-03-01T07:11:50.191576Z"
    },
    "scrolled": true
   },
   "outputs": [
    {
     "name": "stdout",
     "output_type": "stream",
     "text": [
      "predicted : [[0.6664802]]\n",
      "[0.80830343 0.77960021 0.83000171 0.94020161 1.         0.91576969\n",
      " 0.81479583 0.67503844 0.54724073 0.46523151 0.40628737 0.54826585\n",
      " 0.23885187 0.09089356 0.03229113 0.00410046 0.01537673 0.06970784\n",
      " 0.17495302 0.29062019 0.46779429 0.57919016 0.63625491 0.69075688\n",
      " 0.73842474 0.72065607 0.73176149 0.72253545 0.75175124 0.77618315\n",
      " 0.72338971 0.51307022 0.44677943 0.388177   0.60157184 0.25474116\n",
      " 0.09994874 0.06167777 0.00495472 0.         0.01862293 0.07978814\n",
      " 0.14351615 0.28481121 0.43516146 0.5750897  0.63454639 0.66648018]\n",
      "predicted : [[0.67511845]]\n",
      "[0.77960021 0.83000171 0.94020161 1.         0.91576969 0.81479583\n",
      " 0.67503844 0.54724073 0.46523151 0.40628737 0.54826585 0.23885187\n",
      " 0.09089356 0.03229113 0.00410046 0.01537673 0.06970784 0.17495302\n",
      " 0.29062019 0.46779429 0.57919016 0.63625491 0.69075688 0.73842474\n",
      " 0.72065607 0.73176149 0.72253545 0.75175124 0.77618315 0.72338971\n",
      " 0.51307022 0.44677943 0.388177   0.60157184 0.25474116 0.09994874\n",
      " 0.06167777 0.00495472 0.         0.01862293 0.07978814 0.14351615\n",
      " 0.28481121 0.43516146 0.5750897  0.63454639 0.66648018 0.67511845]\n",
      "predicted : [[0.6600107]]\n",
      "[0.83000171 0.94020161 1.         0.91576969 0.81479583 0.67503844\n",
      " 0.54724073 0.46523151 0.40628737 0.54826585 0.23885187 0.09089356\n",
      " 0.03229113 0.00410046 0.01537673 0.06970784 0.17495302 0.29062019\n",
      " 0.46779429 0.57919016 0.63625491 0.69075688 0.73842474 0.72065607\n",
      " 0.73176149 0.72253545 0.75175124 0.77618315 0.72338971 0.51307022\n",
      " 0.44677943 0.388177   0.60157184 0.25474116 0.09994874 0.06167777\n",
      " 0.00495472 0.         0.01862293 0.07978814 0.14351615 0.28481121\n",
      " 0.43516146 0.5750897  0.63454639 0.66648018 0.67511845 0.6600107 ]\n",
      "predicted : [[0.6338788]]\n",
      "[0.94020161 1.         0.91576969 0.81479583 0.67503844 0.54724073\n",
      " 0.46523151 0.40628737 0.54826585 0.23885187 0.09089356 0.03229113\n",
      " 0.00410046 0.01537673 0.06970784 0.17495302 0.29062019 0.46779429\n",
      " 0.57919016 0.63625491 0.69075688 0.73842474 0.72065607 0.73176149\n",
      " 0.72253545 0.75175124 0.77618315 0.72338971 0.51307022 0.44677943\n",
      " 0.388177   0.60157184 0.25474116 0.09994874 0.06167777 0.00495472\n",
      " 0.         0.01862293 0.07978814 0.14351615 0.28481121 0.43516146\n",
      " 0.5750897  0.63454639 0.66648018 0.67511845 0.6600107  0.63387883]\n",
      "predicted : [[0.6049978]]\n",
      "[1.         0.91576969 0.81479583 0.67503844 0.54724073 0.46523151\n",
      " 0.40628737 0.54826585 0.23885187 0.09089356 0.03229113 0.00410046\n",
      " 0.01537673 0.06970784 0.17495302 0.29062019 0.46779429 0.57919016\n",
      " 0.63625491 0.69075688 0.73842474 0.72065607 0.73176149 0.72253545\n",
      " 0.75175124 0.77618315 0.72338971 0.51307022 0.44677943 0.388177\n",
      " 0.60157184 0.25474116 0.09994874 0.06167777 0.00495472 0.\n",
      " 0.01862293 0.07978814 0.14351615 0.28481121 0.43516146 0.5750897\n",
      " 0.63454639 0.66648018 0.67511845 0.6600107  0.63387883 0.60499781]\n",
      "predicted : [[0.57362354]]\n",
      "[0.91576969 0.81479583 0.67503844 0.54724073 0.46523151 0.40628737\n",
      " 0.54826585 0.23885187 0.09089356 0.03229113 0.00410046 0.01537673\n",
      " 0.06970784 0.17495302 0.29062019 0.46779429 0.57919016 0.63625491\n",
      " 0.69075688 0.73842474 0.72065607 0.73176149 0.72253545 0.75175124\n",
      " 0.77618315 0.72338971 0.51307022 0.44677943 0.388177   0.60157184\n",
      " 0.25474116 0.09994874 0.06167777 0.00495472 0.         0.01862293\n",
      " 0.07978814 0.14351615 0.28481121 0.43516146 0.5750897  0.63454639\n",
      " 0.66648018 0.67511845 0.6600107  0.63387883 0.60499781 0.57362354]\n",
      "predicted : [[0.535179]]\n",
      "[0.81479583 0.67503844 0.54724073 0.46523151 0.40628737 0.54826585\n",
      " 0.23885187 0.09089356 0.03229113 0.00410046 0.01537673 0.06970784\n",
      " 0.17495302 0.29062019 0.46779429 0.57919016 0.63625491 0.69075688\n",
      " 0.73842474 0.72065607 0.73176149 0.72253545 0.75175124 0.77618315\n",
      " 0.72338971 0.51307022 0.44677943 0.388177   0.60157184 0.25474116\n",
      " 0.09994874 0.06167777 0.00495472 0.         0.01862293 0.07978814\n",
      " 0.14351615 0.28481121 0.43516146 0.5750897  0.63454639 0.66648018\n",
      " 0.67511845 0.6600107  0.63387883 0.60499781 0.57362354 0.53517902]\n",
      "predicted : [[0.48661155]]\n",
      "[0.67503844 0.54724073 0.46523151 0.40628737 0.54826585 0.23885187\n",
      " 0.09089356 0.03229113 0.00410046 0.01537673 0.06970784 0.17495302\n",
      " 0.29062019 0.46779429 0.57919016 0.63625491 0.69075688 0.73842474\n",
      " 0.72065607 0.73176149 0.72253545 0.75175124 0.77618315 0.72338971\n",
      " 0.51307022 0.44677943 0.388177   0.60157184 0.25474116 0.09994874\n",
      " 0.06167777 0.00495472 0.         0.01862293 0.07978814 0.14351615\n",
      " 0.28481121 0.43516146 0.5750897  0.63454639 0.66648018 0.67511845\n",
      " 0.6600107  0.63387883 0.60499781 0.57362354 0.53517902 0.48661155]\n",
      "predicted : [[0.42633682]]\n",
      "[0.54724073 0.46523151 0.40628737 0.54826585 0.23885187 0.09089356\n",
      " 0.03229113 0.00410046 0.01537673 0.06970784 0.17495302 0.29062019\n",
      " 0.46779429 0.57919016 0.63625491 0.69075688 0.73842474 0.72065607\n",
      " 0.73176149 0.72253545 0.75175124 0.77618315 0.72338971 0.51307022\n",
      " 0.44677943 0.388177   0.60157184 0.25474116 0.09994874 0.06167777\n",
      " 0.00495472 0.         0.01862293 0.07978814 0.14351615 0.28481121\n",
      " 0.43516146 0.5750897  0.63454639 0.66648018 0.67511845 0.6600107\n",
      " 0.63387883 0.60499781 0.57362354 0.53517902 0.48661155 0.42633682]\n",
      "predicted : [[0.35467073]]\n",
      "[0.46523151 0.40628737 0.54826585 0.23885187 0.09089356 0.03229113\n",
      " 0.00410046 0.01537673 0.06970784 0.17495302 0.29062019 0.46779429\n",
      " 0.57919016 0.63625491 0.69075688 0.73842474 0.72065607 0.73176149\n",
      " 0.72253545 0.75175124 0.77618315 0.72338971 0.51307022 0.44677943\n",
      " 0.388177   0.60157184 0.25474116 0.09994874 0.06167777 0.00495472\n",
      " 0.         0.01862293 0.07978814 0.14351615 0.28481121 0.43516146\n",
      " 0.5750897  0.63454639 0.66648018 0.67511845 0.6600107  0.63387883\n",
      " 0.60499781 0.57362354 0.53517902 0.48661155 0.42633682 0.35467073]\n"
     ]
    }
   ],
   "source": [
    "uni = df['traffic_volume']\n",
    "validatehori = uni.tail(48)\n",
    "validatehist = validatehori.values\n",
    "result = []\n",
    "# Define Forecast length here\n",
    "window_len = 10\n",
    "val_rescaled = scaler_x.fit_transform(validatehist.reshape(-1, 1))\n",
    "\n",
    "for i in range(1, window_len+1):\n",
    "    \n",
    "    val_rescaled = val_rescaled.reshape((1, val_rescaled.shape[0], 1))\n",
    "    Predicted_results = Trained_model.predict(val_rescaled)\n",
    "    print(f'predicted : {Predicted_results}')\n",
    "    result.append(Predicted_results[0])\n",
    "    val_rescaled = np.append(val_rescaled[:,1:],[[Predicted_results]])\n",
    "    print(val_rescaled)\n"
   ]
  },
  {
   "cell_type": "code",
   "execution_count": 138,
   "metadata": {
    "ExecuteTime": {
     "end_time": "2020-03-01T07:11:52.671940Z",
     "start_time": "2020-03-01T07:11:52.666957Z"
    }
   },
   "outputs": [],
   "source": [
    "result_inv_trans = scaler_x.inverse_transform(result)"
   ]
  },
  {
   "cell_type": "code",
   "execution_count": 139,
   "metadata": {
    "ExecuteTime": {
     "end_time": "2020-03-01T07:11:53.827848Z",
     "start_time": "2020-03-01T07:11:53.819868Z"
    }
   },
   "outputs": [
    {
     "data": {
      "text/plain": [
       "array([[4235.90851462],\n",
       "       [4286.46826649],\n",
       "       [4198.04260051],\n",
       "       [4045.09277499],\n",
       "       [3876.0522036 ],\n",
       "       [3692.41856802],\n",
       "       [3467.40279806],\n",
       "       [3183.13737339],\n",
       "       [2830.3494361 ],\n",
       "       [2410.8878015 ]])"
      ]
     },
     "execution_count": 139,
     "metadata": {},
     "output_type": "execute_result"
    }
   ],
   "source": [
    "result_inv_trans"
   ]
  },
  {
   "cell_type": "code",
   "execution_count": 140,
   "metadata": {
    "ExecuteTime": {
     "end_time": "2020-03-01T07:11:55.878362Z",
     "start_time": "2020-03-01T07:11:55.871379Z"
    }
   },
   "outputs": [],
   "source": [
    "from sklearn import metrics\n",
    "def timeseries_evaluation_metrics_func(y_true, y_pred):\n",
    "    \n",
    "    def mean_absolute_percentage_error(y_true, y_pred): \n",
    "        y_true, y_pred = np.array(y_true), np.array(y_pred)\n",
    "        return np.mean(np.abs((y_true - y_pred) / y_true)) * 100\n",
    "    print('Evaluation metric results:-')\n",
    "    print(f'MSE is : {metrics.mean_squared_error(y_true, y_pred)}')\n",
    "    print(f'MAE is : {metrics.mean_absolute_error(y_true, y_pred)}')\n",
    "    print(f'RMSE is : {np.sqrt(metrics.mean_squared_error(y_true, y_pred))}')\n",
    "    print(f'MAPE is : {mean_absolute_percentage_error(y_true, y_pred)}')\n",
    "    print(f'R2 is : {metrics.r2_score(y_true, y_pred)}',end='\\n\\n')"
   ]
  },
  {
   "cell_type": "code",
   "execution_count": 141,
   "metadata": {
    "ExecuteTime": {
     "end_time": "2020-03-01T07:11:57.315518Z",
     "start_time": "2020-03-01T07:11:57.307536Z"
    }
   },
   "outputs": [
    {
     "name": "stdout",
     "output_type": "stream",
     "text": [
      "Evaluation metric results:-\n",
      "MSE is : 569518.4022320593\n",
      "MAE is : 539.3631616860628\n",
      "RMSE is : 754.6644302152177\n",
      "MAPE is : 62.643418764773706\n",
      "R2 is : 0.6302600809174763\n",
      "\n"
     ]
    }
   ],
   "source": [
    "timeseries_evaluation_metrics_func(validate,result_inv_trans)"
   ]
  },
  {
   "cell_type": "code",
   "execution_count": 142,
   "metadata": {
    "ExecuteTime": {
     "end_time": "2020-03-01T07:12:02.551505Z",
     "start_time": "2020-03-01T07:12:02.299179Z"
    }
   },
   "outputs": [
    {
     "data": {
      "image/png": "[encoded data removed]",
      "text/plain": [
       "<Figure size 1152x648 with 1 Axes>"
      ]
     },
     "metadata": {
      "needs_background": "light"
     },
     "output_type": "display_data"
    }
   ],
   "source": [
    "plt.plot( list(validate))\n",
    "plt.plot( list(result_inv_trans))\n",
    "plt.title(\"Actual vs Predicted\")\n",
    "plt.ylabel(\"Traffic volume\")\n",
    "plt.legend(('Actual','predicted'))\n",
    "plt.show()"
   ]
  }
 ],
 "metadata": {
  "kernelspec": {
   "display_name": "Python 3",
   "language": "python",
   "name": "python3"
  },
  "language_info": {
   "codemirror_mode": {
    "name": "ipython",
    "version": 3
   },
   "file_extension": ".py",
   "mimetype": "text/x-python",
   "name": "python",
   "nbconvert_exporter": "python",
   "pygments_lexer": "ipython3",
   "version": "3.7.3"
  },
  "latex_envs": {
   "LaTeX_envs_menu_present": true,
   "autoclose": false,
   "autocomplete": true,
   "bibliofile": "biblio.bib",
   "cite_by": "apalike",
   "current_citInitial": 1,
   "eqLabelWithNumbers": true,
   "eqNumInitial": 1,
   "hotkeys": {
    "equation": "Ctrl-E",
    "itemize": "Ctrl-I"
   },
   "labels_anchors": false,
   "latex_user_defs": false,
   "report_style_numbering": false,
   "user_envs_cfg": false
  },
  "nbTranslate": {
   "displayLangs": [
    "*"
   ],
   "hotkey": "alt-t",
   "langInMainMenu": true,
   "sourceLang": "en",
   "targetLang": "fr",
   "useGoogleTranslate": true
  }
 },
 "nbformat": 4,
 "nbformat_minor": 2
}

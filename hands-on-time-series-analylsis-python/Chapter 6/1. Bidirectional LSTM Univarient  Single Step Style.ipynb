{
 "cells": [
  {
   "cell_type": "code",
   "execution_count": 1,
   "metadata": {
    "ExecuteTime": {
     "end_time": "2020-03-02T15:59:21.339799Z",
     "start_time": "2020-03-02T15:59:16.401995Z"
    }
   },
   "outputs": [],
   "source": [
    "import pandas as pd\n",
    "import numpy as np\n",
    "import tensorflow as tf\n",
    "from sklearn import preprocessing\n",
    "import matplotlib.pyplot as plt\n",
    "tf.random.set_seed(123)\n",
    "np.random.seed(123)"
   ]
  },
  {
   "cell_type": "code",
   "execution_count": 2,
   "metadata": {
    "ExecuteTime": {
     "end_time": "2020-03-02T15:59:21.433549Z",
     "start_time": "2020-03-02T15:59:21.341794Z"
    }
   },
   "outputs": [],
   "source": [
    "df = pd.read_csv(r'\\Data\\Metro_Interstate_Traffic_Volume.csv')"
   ]
  },
  {
   "cell_type": "code",
   "execution_count": 3,
   "metadata": {
    "ExecuteTime": {
     "end_time": "2020-03-02T15:59:21.459481Z",
     "start_time": "2020-03-02T15:59:21.437538Z"
    }
   },
   "outputs": [
    {
     "data": {
      "text/html": [
       "<div>\n",
       "<style scoped>\n",
       "    .dataframe tbody tr th:only-of-type {\n",
       "        vertical-align: middle;\n",
       "    }\n",
       "\n",
       "    .dataframe tbody tr th {\n",
       "        vertical-align: top;\n",
       "    }\n",
       "\n",
       "    .dataframe thead th {\n",
       "        text-align: right;\n",
       "    }\n",
       "</style>\n",
       "<table border=\"1\" class=\"dataframe\">\n",
       "  <thead>\n",
       "    <tr style=\"text-align: right;\">\n",
       "      <th></th>\n",
       "      <th>holiday</th>\n",
       "      <th>temp</th>\n",
       "      <th>rain_1h</th>\n",
       "      <th>snow_1h</th>\n",
       "      <th>clouds_all</th>\n",
       "      <th>weather_main</th>\n",
       "      <th>weather_description</th>\n",
       "      <th>date_time</th>\n",
       "      <th>traffic_volume</th>\n",
       "    </tr>\n",
       "  </thead>\n",
       "  <tbody>\n",
       "    <tr>\n",
       "      <th>0</th>\n",
       "      <td>None</td>\n",
       "      <td>288.28</td>\n",
       "      <td>0.0</td>\n",
       "      <td>0.0</td>\n",
       "      <td>40</td>\n",
       "      <td>Clouds</td>\n",
       "      <td>scattered clouds</td>\n",
       "      <td>2012-10-02 09:00:00</td>\n",
       "      <td>5545</td>\n",
       "    </tr>\n",
       "    <tr>\n",
       "      <th>1</th>\n",
       "      <td>None</td>\n",
       "      <td>289.36</td>\n",
       "      <td>0.0</td>\n",
       "      <td>0.0</td>\n",
       "      <td>75</td>\n",
       "      <td>Clouds</td>\n",
       "      <td>broken clouds</td>\n",
       "      <td>2012-10-02 10:00:00</td>\n",
       "      <td>4516</td>\n",
       "    </tr>\n",
       "    <tr>\n",
       "      <th>2</th>\n",
       "      <td>None</td>\n",
       "      <td>289.58</td>\n",
       "      <td>0.0</td>\n",
       "      <td>0.0</td>\n",
       "      <td>90</td>\n",
       "      <td>Clouds</td>\n",
       "      <td>overcast clouds</td>\n",
       "      <td>2012-10-02 11:00:00</td>\n",
       "      <td>4767</td>\n",
       "    </tr>\n",
       "    <tr>\n",
       "      <th>3</th>\n",
       "      <td>None</td>\n",
       "      <td>290.13</td>\n",
       "      <td>0.0</td>\n",
       "      <td>0.0</td>\n",
       "      <td>90</td>\n",
       "      <td>Clouds</td>\n",
       "      <td>overcast clouds</td>\n",
       "      <td>2012-10-02 12:00:00</td>\n",
       "      <td>5026</td>\n",
       "    </tr>\n",
       "    <tr>\n",
       "      <th>4</th>\n",
       "      <td>None</td>\n",
       "      <td>291.14</td>\n",
       "      <td>0.0</td>\n",
       "      <td>0.0</td>\n",
       "      <td>75</td>\n",
       "      <td>Clouds</td>\n",
       "      <td>broken clouds</td>\n",
       "      <td>2012-10-02 13:00:00</td>\n",
       "      <td>4918</td>\n",
       "    </tr>\n",
       "  </tbody>\n",
       "</table>\n",
       "</div>"
      ],
      "text/plain": [
       "  holiday    temp  rain_1h  snow_1h  clouds_all weather_main  \\\n",
       "0    None  288.28      0.0      0.0          40       Clouds   \n",
       "1    None  289.36      0.0      0.0          75       Clouds   \n",
       "2    None  289.58      0.0      0.0          90       Clouds   \n",
       "3    None  290.13      0.0      0.0          90       Clouds   \n",
       "4    None  291.14      0.0      0.0          75       Clouds   \n",
       "\n",
       "  weather_description            date_time  traffic_volume  \n",
       "0    scattered clouds  2012-10-02 09:00:00            5545  \n",
       "1       broken clouds  2012-10-02 10:00:00            4516  \n",
       "2     overcast clouds  2012-10-02 11:00:00            4767  \n",
       "3     overcast clouds  2012-10-02 12:00:00            5026  \n",
       "4       broken clouds  2012-10-02 13:00:00            4918  "
      ]
     },
     "execution_count": 3,
     "metadata": {},
     "output_type": "execute_result"
    }
   ],
   "source": [
    "df.head()"
   ]
  },
  {
   "cell_type": "code",
   "execution_count": 4,
   "metadata": {
    "ExecuteTime": {
     "end_time": "2020-03-02T15:59:21.501378Z",
     "start_time": "2020-03-02T15:59:21.461474Z"
    }
   },
   "outputs": [
    {
     "data": {
      "text/html": [
       "<div>\n",
       "<style scoped>\n",
       "    .dataframe tbody tr th:only-of-type {\n",
       "        vertical-align: middle;\n",
       "    }\n",
       "\n",
       "    .dataframe tbody tr th {\n",
       "        vertical-align: top;\n",
       "    }\n",
       "\n",
       "    .dataframe thead th {\n",
       "        text-align: right;\n",
       "    }\n",
       "</style>\n",
       "<table border=\"1\" class=\"dataframe\">\n",
       "  <thead>\n",
       "    <tr style=\"text-align: right;\">\n",
       "      <th></th>\n",
       "      <th>temp</th>\n",
       "      <th>rain_1h</th>\n",
       "      <th>snow_1h</th>\n",
       "      <th>clouds_all</th>\n",
       "      <th>traffic_volume</th>\n",
       "    </tr>\n",
       "  </thead>\n",
       "  <tbody>\n",
       "    <tr>\n",
       "      <th>count</th>\n",
       "      <td>48204.000000</td>\n",
       "      <td>48204.000000</td>\n",
       "      <td>48204.000000</td>\n",
       "      <td>48204.000000</td>\n",
       "      <td>48204.000000</td>\n",
       "    </tr>\n",
       "    <tr>\n",
       "      <th>mean</th>\n",
       "      <td>281.205870</td>\n",
       "      <td>0.334264</td>\n",
       "      <td>0.000222</td>\n",
       "      <td>49.362231</td>\n",
       "      <td>3259.818355</td>\n",
       "    </tr>\n",
       "    <tr>\n",
       "      <th>std</th>\n",
       "      <td>13.338232</td>\n",
       "      <td>44.789133</td>\n",
       "      <td>0.008168</td>\n",
       "      <td>39.015750</td>\n",
       "      <td>1986.860670</td>\n",
       "    </tr>\n",
       "    <tr>\n",
       "      <th>min</th>\n",
       "      <td>0.000000</td>\n",
       "      <td>0.000000</td>\n",
       "      <td>0.000000</td>\n",
       "      <td>0.000000</td>\n",
       "      <td>0.000000</td>\n",
       "    </tr>\n",
       "    <tr>\n",
       "      <th>25%</th>\n",
       "      <td>272.160000</td>\n",
       "      <td>0.000000</td>\n",
       "      <td>0.000000</td>\n",
       "      <td>1.000000</td>\n",
       "      <td>1193.000000</td>\n",
       "    </tr>\n",
       "    <tr>\n",
       "      <th>50%</th>\n",
       "      <td>282.450000</td>\n",
       "      <td>0.000000</td>\n",
       "      <td>0.000000</td>\n",
       "      <td>64.000000</td>\n",
       "      <td>3380.000000</td>\n",
       "    </tr>\n",
       "    <tr>\n",
       "      <th>75%</th>\n",
       "      <td>291.806000</td>\n",
       "      <td>0.000000</td>\n",
       "      <td>0.000000</td>\n",
       "      <td>90.000000</td>\n",
       "      <td>4933.000000</td>\n",
       "    </tr>\n",
       "    <tr>\n",
       "      <th>max</th>\n",
       "      <td>310.070000</td>\n",
       "      <td>9831.300000</td>\n",
       "      <td>0.510000</td>\n",
       "      <td>100.000000</td>\n",
       "      <td>7280.000000</td>\n",
       "    </tr>\n",
       "  </tbody>\n",
       "</table>\n",
       "</div>"
      ],
      "text/plain": [
       "               temp       rain_1h       snow_1h    clouds_all  traffic_volume\n",
       "count  48204.000000  48204.000000  48204.000000  48204.000000    48204.000000\n",
       "mean     281.205870      0.334264      0.000222     49.362231     3259.818355\n",
       "std       13.338232     44.789133      0.008168     39.015750     1986.860670\n",
       "min        0.000000      0.000000      0.000000      0.000000        0.000000\n",
       "25%      272.160000      0.000000      0.000000      1.000000     1193.000000\n",
       "50%      282.450000      0.000000      0.000000     64.000000     3380.000000\n",
       "75%      291.806000      0.000000      0.000000     90.000000     4933.000000\n",
       "max      310.070000   9831.300000      0.510000    100.000000     7280.000000"
      ]
     },
     "execution_count": 4,
     "metadata": {},
     "output_type": "execute_result"
    }
   ],
   "source": [
    "df.describe()"
   ]
  },
  {
   "cell_type": "code",
   "execution_count": 6,
   "metadata": {
    "ExecuteTime": {
     "end_time": "2020-03-02T15:59:24.442508Z",
     "start_time": "2020-03-02T15:59:24.423597Z"
    }
   },
   "outputs": [],
   "source": [
    "df.drop_duplicates(subset=['date_time'], keep=False,inplace=True)"
   ]
  },
  {
   "cell_type": "code",
   "execution_count": 7,
   "metadata": {
    "ExecuteTime": {
     "end_time": "2020-03-02T15:59:25.185523Z",
     "start_time": "2020-03-02T15:59:25.173556Z"
    }
   },
   "outputs": [],
   "source": [
    "validate = df['traffic_volume'].tail(10)\n",
    "df.drop(df['traffic_volume'].tail(10).index,inplace=True)"
   ]
  },
  {
   "cell_type": "code",
   "execution_count": 8,
   "metadata": {
    "ExecuteTime": {
     "end_time": "2020-03-02T15:59:26.107062Z",
     "start_time": "2020-03-02T15:59:26.098083Z"
    }
   },
   "outputs": [
    {
     "data": {
      "text/plain": [
       "date_time\n",
       "2012-10-02 09:00:00    5545\n",
       "2012-10-02 10:00:00    4516\n",
       "2012-10-02 11:00:00    4767\n",
       "2012-10-02 12:00:00    5026\n",
       "2012-10-02 13:00:00    4918\n",
       "Name: traffic_volume, dtype: int64"
      ]
     },
     "execution_count": 8,
     "metadata": {},
     "output_type": "execute_result"
    }
   ],
   "source": [
    "uni_data = df['traffic_volume']\n",
    "uni_data.index = df['date_time']\n",
    "uni_data.head()"
   ]
  },
  {
   "cell_type": "code",
   "execution_count": 9,
   "metadata": {
    "ExecuteTime": {
     "end_time": "2020-03-02T15:59:27.399605Z",
     "start_time": "2020-03-02T15:59:27.393622Z"
    }
   },
   "outputs": [],
   "source": [
    "uni_data = uni_data.values\n",
    "scaler_x = preprocessing.MinMaxScaler()\n",
    "x_rescaled = scaler_x.fit_transform(uni_data.reshape(-1, 1))"
   ]
  },
  {
   "cell_type": "code",
   "execution_count": 10,
   "metadata": {
    "ExecuteTime": {
     "end_time": "2020-03-02T15:59:28.181517Z",
     "start_time": "2020-03-02T15:59:28.173541Z"
    }
   },
   "outputs": [],
   "source": [
    "def custom_ts_univariate_data_prep(dataset, start, end, window, horizon):\n",
    "  X = []\n",
    "  y = []\n",
    "\n",
    "  start = start + window\n",
    "  if end is None:\n",
    "    end = len(dataset) - horizon\n",
    "\n",
    "  for i in range(start, end):\n",
    "    indicesx = range(i-window, i)\n",
    "    X.append(np.reshape(dataset[indicesx], (window, 1)))\n",
    "    indicesy = range(i,i+horizon)\n",
    "    y.append(dataset[indicesy])\n",
    "  return np.array(X), np.array(y)"
   ]
  },
  {
   "cell_type": "code",
   "execution_count": 11,
   "metadata": {
    "ExecuteTime": {
     "end_time": "2020-03-02T15:59:30.555172Z",
     "start_time": "2020-03-02T15:59:29.541880Z"
    }
   },
   "outputs": [],
   "source": [
    "univar_hist_window = 48\n",
    "horizon = 1\n",
    "TRAIN_SPLIT = 30000\n",
    "x_train_uni, y_train_uni = custom_ts_univariate_data_prep(x_rescaled, 0, TRAIN_SPLIT,univar_hist_window, horizon)\n",
    "x_val_uni, y_val_uni = custom_ts_univariate_data_prep(x_rescaled, TRAIN_SPLIT, None,univar_hist_window,horizon)"
   ]
  },
  {
   "cell_type": "code",
   "execution_count": 12,
   "metadata": {
    "ExecuteTime": {
     "end_time": "2020-03-02T15:59:30.569137Z",
     "start_time": "2020-03-02T15:59:30.557169Z"
    }
   },
   "outputs": [
    {
     "name": "stdout",
     "output_type": "stream",
     "text": [
      "Single window of past history\n",
      "[[0.76167582]\n",
      " [0.62032967]\n",
      " [0.65480769]\n",
      " [0.69038462]\n",
      " [0.67554945]\n",
      " [0.71167582]\n",
      " [0.76703297]\n",
      " [0.82623626]\n",
      " [0.79546703]\n",
      " [0.65521978]\n",
      " [0.48612637]\n",
      " [0.38241758]\n",
      " [0.32431319]\n",
      " [0.21002747]\n",
      " [0.13228022]\n",
      " [0.06950549]\n",
      " [0.04409341]\n",
      " [0.0375    ]\n",
      " [0.05041209]\n",
      " [0.11181319]\n",
      " [0.37335165]\n",
      " [0.77925824]\n",
      " [0.89436813]\n",
      " [0.75151099]\n",
      " [0.70013736]\n",
      " [0.67129121]\n",
      " [0.7331044 ]\n",
      " [0.78186813]\n",
      " [0.84299451]\n",
      " [0.63502747]\n",
      " [0.49326923]\n",
      " [0.39807692]\n",
      " [0.36222527]\n",
      " [0.24409341]\n",
      " [0.13942308]\n",
      " [0.08214286]\n",
      " [0.05068681]\n",
      " [0.04285714]\n",
      " [0.05041209]\n",
      " [0.1146978 ]\n",
      " [0.37445055]\n",
      " [0.78145604]\n",
      " [0.96016484]\n",
      " [0.82211538]\n",
      " [0.72925824]\n",
      " [0.63228022]\n",
      " [0.67087912]\n",
      " [0.7010989 ]]\n",
      "\n",
      " Target horizon\n",
      "[[0.71126374]]\n"
     ]
    }
   ],
   "source": [
    "print ('Single window of past history')\n",
    "print (x_train_uni[0])\n",
    "print ('\\n Target horizon')\n",
    "print (y_train_uni[0])"
   ]
  },
  {
   "cell_type": "code",
   "execution_count": 13,
   "metadata": {
    "ExecuteTime": {
     "end_time": "2020-03-02T15:59:34.196476Z",
     "start_time": "2020-03-02T15:59:32.986678Z"
    }
   },
   "outputs": [],
   "source": [
    "BATCH_SIZE = 256\n",
    "BUFFER_SIZE = 150\n",
    "\n",
    "train_univariate = tf.data.Dataset.from_tensor_slices((x_train_uni, y_train_uni))\n",
    "train_univariate = train_univariate.cache().shuffle(BUFFER_SIZE).batch(BATCH_SIZE).repeat()\n",
    "\n",
    "val_univariate = tf.data.Dataset.from_tensor_slices((x_val_uni, y_val_uni))\n",
    "val_univariate = val_univariate.batch(BATCH_SIZE).repeat()"
   ]
  },
  {
   "cell_type": "code",
   "execution_count": 14,
   "metadata": {
    "ExecuteTime": {
     "end_time": "2020-03-02T15:59:35.559798Z",
     "start_time": "2020-03-02T15:59:34.198440Z"
    }
   },
   "outputs": [],
   "source": [
    "Bi_lstm_model = tf.keras.models.Sequential([\n",
    "  tf.keras.layers.Bidirectional(tf.keras.layers.LSTM(100, return_sequences=True), \n",
    "                               input_shape=x_train_uni.shape[-2:]),\n",
    "    tf.keras.layers.Bidirectional(tf.keras.layers.LSTM(50)),\n",
    "    tf.keras.layers.Dense(20, activation='softmax'),\n",
    "    tf.keras.layers.Dropout(0.2),\n",
    "    tf.keras.layers.Dense(units=1),\n",
    "])\n",
    "Bi_lstm_model.compile(optimizer='adam', loss='mse')\n"
   ]
  },
  {
   "cell_type": "code",
   "execution_count": 15,
   "metadata": {
    "ExecuteTime": {
     "end_time": "2020-03-02T15:59:35.566782Z",
     "start_time": "2020-03-02T15:59:35.561793Z"
    }
   },
   "outputs": [],
   "source": [
    "model_path = r'\\Chapter 6\\Bi_directional_LSTM_Univarient_2.h5'"
   ]
  },
  {
   "cell_type": "code",
   "execution_count": 16,
   "metadata": {
    "ExecuteTime": {
     "end_time": "2020-03-02T16:03:48.364244Z",
     "start_time": "2020-03-02T15:59:36.359662Z"
    },
    "scrolled": true
   },
   "outputs": [
    {
     "name": "stdout",
     "output_type": "stream",
     "text": [
      "Train for 100 steps, validate for 50 steps\n",
      "Epoch 1/150\n",
      "100/100 [==============================] - 13s 132ms/step - loss: 0.0979 - val_loss: 0.0731\n",
      "Epoch 2/150\n",
      "100/100 [==============================] - 3s 28ms/step - loss: 0.0663 - val_loss: 0.0373\n",
      "Epoch 3/150\n",
      "100/100 [==============================] - 3s 28ms/step - loss: 0.0388 - val_loss: 0.0254\n",
      "Epoch 4/150\n",
      "100/100 [==============================] - 3s 31ms/step - loss: 0.0268 - val_loss: 0.0163\n",
      "Epoch 5/150\n",
      "100/100 [==============================] - 3s 30ms/step - loss: 0.0233 - val_loss: 0.0151\n",
      "Epoch 6/150\n",
      "100/100 [==============================] - 3s 31ms/step - loss: 0.0199 - val_loss: 0.0130\n",
      "Epoch 7/150\n",
      "100/100 [==============================] - 3s 30ms/step - loss: 0.0193 - val_loss: 0.0118\n",
      "Epoch 8/150\n",
      "100/100 [==============================] - 3s 29ms/step - loss: 0.0188 - val_loss: 0.0111\n",
      "Epoch 9/150\n",
      "100/100 [==============================] - 3s 28ms/step - loss: 0.0182 - val_loss: 0.0110\n",
      "Epoch 10/150\n",
      "100/100 [==============================] - 3s 27ms/step - loss: 0.0179 - val_loss: 0.0149\n",
      "Epoch 11/150\n",
      "100/100 [==============================] - 3s 29ms/step - loss: 0.0159 - val_loss: 0.0102\n",
      "Epoch 12/150\n",
      "100/100 [==============================] - 3s 30ms/step - loss: 0.0168 - val_loss: 0.0099\n",
      "Epoch 13/150\n",
      "100/100 [==============================] - 3s 27ms/step - loss: 0.0158 - val_loss: 0.0102\n",
      "Epoch 14/150\n",
      "100/100 [==============================] - 3s 28ms/step - loss: 0.0158 - val_loss: 0.0093\n",
      "Epoch 15/150\n",
      "100/100 [==============================] - 3s 27ms/step - loss: 0.0159 - val_loss: 0.0094\n",
      "Epoch 16/150\n",
      "100/100 [==============================] - 3s 27ms/step - loss: 0.0154 - val_loss: 0.0102\n",
      "Epoch 17/150\n",
      "100/100 [==============================] - 3s 27ms/step - loss: 0.0148 - val_loss: 0.0118\n",
      "Epoch 18/150\n",
      "100/100 [==============================] - 3s 29ms/step - loss: 0.0137 - val_loss: 0.0093\n",
      "Epoch 19/150\n",
      "100/100 [==============================] - 3s 27ms/step - loss: 0.0152 - val_loss: 0.0101\n",
      "Epoch 20/150\n",
      "100/100 [==============================] - 3s 27ms/step - loss: 0.0142 - val_loss: 0.0093\n",
      "Epoch 21/150\n",
      "100/100 [==============================] - 3s 35ms/step - loss: 0.0147 - val_loss: 0.0085\n",
      "Epoch 22/150\n",
      "100/100 [==============================] - 3s 27ms/step - loss: 0.0146 - val_loss: 0.0087\n",
      "Epoch 23/150\n",
      "100/100 [==============================] - 3s 27ms/step - loss: 0.0145 - val_loss: 0.0100\n",
      "Epoch 24/150\n",
      "100/100 [==============================] - 3s 27ms/step - loss: 0.0168 - val_loss: 0.0142\n",
      "Epoch 25/150\n",
      "100/100 [==============================] - 3s 27ms/step - loss: 0.0153 - val_loss: 0.0099\n",
      "Epoch 26/150\n",
      "100/100 [==============================] - 3s 27ms/step - loss: 0.0154 - val_loss: 0.0091\n",
      "Epoch 27/150\n",
      "100/100 [==============================] - 3s 27ms/step - loss: 0.0143 - val_loss: 0.0097\n",
      "Epoch 28/150\n",
      "100/100 [==============================] - 3s 28ms/step - loss: 0.0149 - val_loss: 0.0084\n",
      "Epoch 29/150\n",
      "100/100 [==============================] - 3s 28ms/step - loss: 0.0145 - val_loss: 0.0083\n",
      "Epoch 30/150\n",
      "100/100 [==============================] - 3s 27ms/step - loss: 0.0144 - val_loss: 0.0102\n",
      "Epoch 31/150\n",
      "100/100 [==============================] - 3s 29ms/step - loss: 0.0129 - val_loss: 0.0082\n",
      "Epoch 32/150\n",
      "100/100 [==============================] - 3s 27ms/step - loss: 0.0133 - val_loss: 0.0082\n",
      "Epoch 33/150\n",
      "100/100 [==============================] - 3s 33ms/step - loss: 0.0135 - val_loss: 0.0078\n",
      "Epoch 34/150\n",
      "100/100 [==============================] - 3s 28ms/step - loss: 0.0133 - val_loss: 0.0077\n",
      "Epoch 35/150\n",
      "100/100 [==============================] - 3s 28ms/step - loss: 0.0140 - val_loss: 0.0078\n",
      "Epoch 36/150\n",
      "100/100 [==============================] - 3s 27ms/step - loss: 0.0134 - val_loss: 0.0083\n",
      "Epoch 37/150\n",
      "100/100 [==============================] - 3s 28ms/step - loss: 0.0136 - val_loss: 0.0081\n",
      "Epoch 38/150\n",
      "100/100 [==============================] - 3s 28ms/step - loss: 0.0123 - val_loss: 0.0077\n",
      "Epoch 39/150\n",
      "100/100 [==============================] - 3s 28ms/step - loss: 0.0128 - val_loss: 0.0076\n",
      "Epoch 40/150\n",
      "100/100 [==============================] - 3s 28ms/step - loss: 0.0126 - val_loss: 0.0077\n",
      "Epoch 41/150\n",
      "100/100 [==============================] - 3s 28ms/step - loss: 0.0128 - val_loss: 0.0075\n",
      "Epoch 42/150\n",
      "100/100 [==============================] - 3s 27ms/step - loss: 0.0131 - val_loss: 0.0076\n",
      "Epoch 43/150\n",
      "100/100 [==============================] - 3s 27ms/step - loss: 0.0129 - val_loss: 0.0090\n",
      "Epoch 44/150\n",
      "100/100 [==============================] - 3s 27ms/step - loss: 0.0127 - val_loss: 0.0083\n",
      "Epoch 45/150\n",
      "100/100 [==============================] - 3s 28ms/step - loss: 0.0115 - val_loss: 0.0075\n",
      "Epoch 46/150\n",
      "100/100 [==============================] - 3s 28ms/step - loss: 0.0123 - val_loss: 0.0076\n",
      "Epoch 47/150\n",
      "100/100 [==============================] - 3s 28ms/step - loss: 0.0120 - val_loss: 0.0075\n",
      "Epoch 48/150\n",
      "100/100 [==============================] - 3s 28ms/step - loss: 0.0123 - val_loss: 0.0073\n",
      "Epoch 49/150\n",
      "100/100 [==============================] - 3s 27ms/step - loss: 0.0125 - val_loss: 0.0081\n",
      "Epoch 50/150\n",
      "100/100 [==============================] - 3s 27ms/step - loss: 0.0123 - val_loss: 0.0082\n",
      "Epoch 51/150\n",
      "100/100 [==============================] - 3s 27ms/step - loss: 0.0125 - val_loss: 0.0083\n",
      "Epoch 52/150\n",
      "100/100 [==============================] - 3s 27ms/step - loss: 0.0111 - val_loss: 0.0075\n",
      "Epoch 53/150\n",
      "100/100 [==============================] - 3s 27ms/step - loss: 0.0120 - val_loss: 0.0081\n",
      "Epoch 54/150\n",
      "100/100 [==============================] - 4s 36ms/step - loss: 0.0118 - val_loss: 0.0073\n",
      "Epoch 55/150\n",
      "100/100 [==============================] - 3s 28ms/step - loss: 0.0120 - val_loss: 0.0073\n",
      "Epoch 56/150\n",
      "100/100 [==============================] - 3s 28ms/step - loss: 0.0123 - val_loss: 0.0077\n",
      "Epoch 57/150\n",
      "100/100 [==============================] - 3s 27ms/step - loss: 0.0123 - val_loss: 0.0078\n",
      "Epoch 58/150\n",
      "100/100 [==============================] - 3s 27ms/step - loss: 0.0124 - val_loss: 0.0078\n",
      "Epoch 59/150\n",
      "100/100 [==============================] - 3s 27ms/step - loss: 0.0109 - val_loss: 0.0073\n",
      "Epoch 60/150\n",
      "100/100 [==============================] - 3s 27ms/step - loss: 0.0117 - val_loss: 0.0077\n",
      "Epoch 61/150\n",
      "100/100 [==============================] - 3s 28ms/step - loss: 0.0116 - val_loss: 0.0072\n",
      "Epoch 62/150\n",
      "100/100 [==============================] - 3s 28ms/step - loss: 0.0117 - val_loss: 0.0071\n",
      "Epoch 63/150\n",
      "100/100 [==============================] - 3s 27ms/step - loss: 0.0120 - val_loss: 0.0072\n",
      "Epoch 64/150\n",
      "100/100 [==============================] - 3s 28ms/step - loss: 0.0120 - val_loss: 0.0076\n",
      "Epoch 65/150\n",
      "100/100 [==============================] - 3s 27ms/step - loss: 0.0119 - val_loss: 0.0096\n",
      "Epoch 66/150\n",
      "100/100 [==============================] - 3s 28ms/step - loss: 0.0108 - val_loss: 0.0071\n",
      "Epoch 67/150\n",
      "100/100 [==============================] - 3s 27ms/step - loss: 0.0116 - val_loss: 0.0079\n",
      "Epoch 68/150\n",
      "100/100 [==============================] - 3s 27ms/step - loss: 0.0110 - val_loss: 0.0072\n",
      "Epoch 69/150\n",
      "100/100 [==============================] - 3s 27ms/step - loss: 0.0114 - val_loss: 0.0071\n",
      "Epoch 70/150\n",
      "100/100 [==============================] - 3s 27ms/step - loss: 0.0117 - val_loss: 0.0071\n",
      "Epoch 71/150\n",
      "100/100 [==============================] - 3s 27ms/step - loss: 0.0117 - val_loss: 0.0085\n",
      "Epoch 72/150\n",
      "100/100 [==============================] - 3s 27ms/step - loss: 0.0112 - val_loss: 0.0092\n",
      "Epoch 73/150\n",
      "100/100 [==============================] - 3s 27ms/step - loss: 0.0108 - val_loss: 0.0071\n",
      "Epoch 74/150\n",
      "100/100 [==============================] - 3s 28ms/step - loss: 0.0116 - val_loss: 0.0081\n",
      "Epoch 75/150\n",
      "100/100 [==============================] - 3s 27ms/step - loss: 0.0108 - val_loss: 0.0072\n",
      "Epoch 76/150\n",
      "100/100 [==============================] - 3s 32ms/step - loss: 0.0110 - val_loss: 0.0069\n",
      "Epoch 77/150\n",
      "100/100 [==============================] - 3s 28ms/step - loss: 0.0114 - val_loss: 0.0070\n",
      "Epoch 78/150\n",
      "100/100 [==============================] - 3s 27ms/step - loss: 0.0114 - val_loss: 0.0081\n",
      "Epoch 79/150\n",
      "100/100 [==============================] - 3s 27ms/step - loss: 0.0107 - val_loss: 0.0086\n",
      "Epoch 80/150\n",
      "100/100 [==============================] - 3s 27ms/step - loss: 0.0106 - val_loss: 0.0070\n",
      "Epoch 81/150\n",
      "100/100 [==============================] - 3s 27ms/step - loss: 0.0113 - val_loss: 0.0071\n",
      "Epoch 82/150\n",
      "100/100 [==============================] - 3s 27ms/step - loss: 0.0106 - val_loss: 0.0069\n",
      "Epoch 83/150\n",
      "100/100 [==============================] - 3s 28ms/step - loss: 0.0113 - val_loss: 0.0070\n",
      "Epoch 84/150\n",
      "100/100 [==============================] - 3s 28ms/step - loss: 0.0111 - val_loss: 0.0072\n",
      "Epoch 85/150\n",
      "100/100 [==============================] - 3s 28ms/step - loss: 0.0115 - val_loss: 0.0084\n",
      "Epoch 86/150\n",
      "100/100 [==============================] - 3s 28ms/step - loss: 0.0105 - val_loss: 0.0071\n",
      "Epoch 00086: early stopping\n"
     ]
    }
   ],
   "source": [
    "EVALUATION_INTERVAL = 100\n",
    "EPOCHS = 150\n",
    "history = Bi_lstm_model.fit(train_univariate, epochs=EPOCHS,steps_per_epoch=EVALUATION_INTERVAL,validation_data=val_univariate, validation_steps=50,verbose =1,\n",
    "                              callbacks =[tf.keras.callbacks.EarlyStopping(monitor='val_loss', min_delta=0, patience=10, verbose=1, mode='min'),tf.keras.callbacks.ModelCheckpoint(model_path,monitor='val_loss', save_best_only=True, mode='min', verbose=0)])"
   ]
  },
  {
   "cell_type": "code",
   "execution_count": 17,
   "metadata": {
    "ExecuteTime": {
     "end_time": "2020-03-02T16:03:56.507514Z",
     "start_time": "2020-03-02T16:03:53.727908Z"
    }
   },
   "outputs": [],
   "source": [
    "# Recreate the exact same model, including its weights and the optimizer\n",
    "Trained_model = tf.keras.models.load_model(model_path)"
   ]
  },
  {
   "cell_type": "code",
   "execution_count": 18,
   "metadata": {
    "ExecuteTime": {
     "end_time": "2020-03-02T16:03:57.697302Z",
     "start_time": "2020-03-02T16:03:57.689322Z"
    }
   },
   "outputs": [
    {
     "name": "stdout",
     "output_type": "stream",
     "text": [
      "Model: \"sequential\"\n",
      "_________________________________________________________________\n",
      "Layer (type)                 Output Shape              Param #   \n",
      "=================================================================\n",
      "bidirectional (Bidirectional (None, 48, 200)           81600     \n",
      "_________________________________________________________________\n",
      "bidirectional_1 (Bidirection (None, 100)               100400    \n",
      "_________________________________________________________________\n",
      "dense (Dense)                (None, 20)                2020      \n",
      "_________________________________________________________________\n",
      "dropout (Dropout)            (None, 20)                0         \n",
      "_________________________________________________________________\n",
      "dense_1 (Dense)              (None, 1)                 21        \n",
      "=================================================================\n",
      "Total params: 184,041\n",
      "Trainable params: 184,041\n",
      "Non-trainable params: 0\n",
      "_________________________________________________________________\n"
     ]
    }
   ],
   "source": [
    "# Show the model architecture\n",
    "Trained_model.summary()"
   ]
  },
  {
   "cell_type": "code",
   "execution_count": 20,
   "metadata": {
    "ExecuteTime": {
     "end_time": "2020-03-02T16:04:00.744159Z",
     "start_time": "2020-03-02T16:04:00.518763Z"
    }
   },
   "outputs": [
    {
     "data": {
      "image/png": "[encoded data removed]",
      "text/plain": [
       "<Figure size 1152x648 with 1 Axes>"
      ]
     },
     "metadata": {
      "needs_background": "light"
     },
     "output_type": "display_data"
    }
   ],
   "source": [
    "plt.plot(history.history['loss'])\n",
    "plt.plot(history.history['val_loss'])\n",
    "plt.title('Model loss')\n",
    "plt.ylabel('loss')\n",
    "plt.xlabel('epoch')\n",
    "plt.legend(['train loss', 'validation loss'], loc='upper left')\n",
    "plt.rcParams[\"figure.figsize\"] = [16,9]\n",
    "plt.show()"
   ]
  },
  {
   "cell_type": "code",
   "execution_count": 21,
   "metadata": {
    "ExecuteTime": {
     "end_time": "2020-03-02T16:04:04.801318Z",
     "start_time": "2020-03-02T16:04:03.350195Z"
    }
   },
   "outputs": [
    {
     "name": "stdout",
     "output_type": "stream",
     "text": [
      "predicted : [[0.65775627]]\n",
      "[0.80830343 0.77960021 0.83000171 0.94020161 1.         0.91576969\n",
      " 0.81479583 0.67503844 0.54724073 0.46523151 0.40628737 0.54826585\n",
      " 0.23885187 0.09089356 0.03229113 0.00410046 0.01537673 0.06970784\n",
      " 0.17495302 0.29062019 0.46779429 0.57919016 0.63625491 0.69075688\n",
      " 0.73842474 0.72065607 0.73176149 0.72253545 0.75175124 0.77618315\n",
      " 0.72338971 0.51307022 0.44677943 0.388177   0.60157184 0.25474116\n",
      " 0.09994874 0.06167777 0.00495472 0.         0.01862293 0.07978814\n",
      " 0.14351615 0.28481121 0.43516146 0.5750897  0.63454639 0.65775627]\n",
      "predicted : [[0.6619818]]\n",
      "[0.77960021 0.83000171 0.94020161 1.         0.91576969 0.81479583\n",
      " 0.67503844 0.54724073 0.46523151 0.40628737 0.54826585 0.23885187\n",
      " 0.09089356 0.03229113 0.00410046 0.01537673 0.06970784 0.17495302\n",
      " 0.29062019 0.46779429 0.57919016 0.63625491 0.69075688 0.73842474\n",
      " 0.72065607 0.73176149 0.72253545 0.75175124 0.77618315 0.72338971\n",
      " 0.51307022 0.44677943 0.388177   0.60157184 0.25474116 0.09994874\n",
      " 0.06167777 0.00495472 0.         0.01862293 0.07978814 0.14351615\n",
      " 0.28481121 0.43516146 0.5750897  0.63454639 0.65775627 0.66198182]\n",
      "predicted : [[0.6552722]]\n",
      "[0.83000171 0.94020161 1.         0.91576969 0.81479583 0.67503844\n",
      " 0.54724073 0.46523151 0.40628737 0.54826585 0.23885187 0.09089356\n",
      " 0.03229113 0.00410046 0.01537673 0.06970784 0.17495302 0.29062019\n",
      " 0.46779429 0.57919016 0.63625491 0.69075688 0.73842474 0.72065607\n",
      " 0.73176149 0.72253545 0.75175124 0.77618315 0.72338971 0.51307022\n",
      " 0.44677943 0.388177   0.60157184 0.25474116 0.09994874 0.06167777\n",
      " 0.00495472 0.         0.01862293 0.07978814 0.14351615 0.28481121\n",
      " 0.43516146 0.5750897  0.63454639 0.65775627 0.66198182 0.65527219]\n",
      "predicted : [[0.6525612]]\n",
      "[0.94020161 1.         0.91576969 0.81479583 0.67503844 0.54724073\n",
      " 0.46523151 0.40628737 0.54826585 0.23885187 0.09089356 0.03229113\n",
      " 0.00410046 0.01537673 0.06970784 0.17495302 0.29062019 0.46779429\n",
      " 0.57919016 0.63625491 0.69075688 0.73842474 0.72065607 0.73176149\n",
      " 0.72253545 0.75175124 0.77618315 0.72338971 0.51307022 0.44677943\n",
      " 0.388177   0.60157184 0.25474116 0.09994874 0.06167777 0.00495472\n",
      " 0.         0.01862293 0.07978814 0.14351615 0.28481121 0.43516146\n",
      " 0.5750897  0.63454639 0.65775627 0.66198182 0.65527219 0.65256119]\n",
      "predicted : [[0.6495367]]\n",
      "[1.         0.91576969 0.81479583 0.67503844 0.54724073 0.46523151\n",
      " 0.40628737 0.54826585 0.23885187 0.09089356 0.03229113 0.00410046\n",
      " 0.01537673 0.06970784 0.17495302 0.29062019 0.46779429 0.57919016\n",
      " 0.63625491 0.69075688 0.73842474 0.72065607 0.73176149 0.72253545\n",
      " 0.75175124 0.77618315 0.72338971 0.51307022 0.44677943 0.388177\n",
      " 0.60157184 0.25474116 0.09994874 0.06167777 0.00495472 0.\n",
      " 0.01862293 0.07978814 0.14351615 0.28481121 0.43516146 0.5750897\n",
      " 0.63454639 0.65775627 0.66198182 0.65527219 0.65256119 0.64953673]\n",
      "predicted : [[0.6398502]]\n",
      "[0.91576969 0.81479583 0.67503844 0.54724073 0.46523151 0.40628737\n",
      " 0.54826585 0.23885187 0.09089356 0.03229113 0.00410046 0.01537673\n",
      " 0.06970784 0.17495302 0.29062019 0.46779429 0.57919016 0.63625491\n",
      " 0.69075688 0.73842474 0.72065607 0.73176149 0.72253545 0.75175124\n",
      " 0.77618315 0.72338971 0.51307022 0.44677943 0.388177   0.60157184\n",
      " 0.25474116 0.09994874 0.06167777 0.00495472 0.         0.01862293\n",
      " 0.07978814 0.14351615 0.28481121 0.43516146 0.5750897  0.63454639\n",
      " 0.65775627 0.66198182 0.65527219 0.65256119 0.64953673 0.6398502 ]\n",
      "predicted : [[0.6132419]]\n",
      "[0.81479583 0.67503844 0.54724073 0.46523151 0.40628737 0.54826585\n",
      " 0.23885187 0.09089356 0.03229113 0.00410046 0.01537673 0.06970784\n",
      " 0.17495302 0.29062019 0.46779429 0.57919016 0.63625491 0.69075688\n",
      " 0.73842474 0.72065607 0.73176149 0.72253545 0.75175124 0.77618315\n",
      " 0.72338971 0.51307022 0.44677943 0.388177   0.60157184 0.25474116\n",
      " 0.09994874 0.06167777 0.00495472 0.         0.01862293 0.07978814\n",
      " 0.14351615 0.28481121 0.43516146 0.5750897  0.63454639 0.65775627\n",
      " 0.66198182 0.65527219 0.65256119 0.64953673 0.6398502  0.61324191]\n",
      "predicted : [[0.5356899]]\n",
      "[0.67503844 0.54724073 0.46523151 0.40628737 0.54826585 0.23885187\n",
      " 0.09089356 0.03229113 0.00410046 0.01537673 0.06970784 0.17495302\n",
      " 0.29062019 0.46779429 0.57919016 0.63625491 0.69075688 0.73842474\n",
      " 0.72065607 0.73176149 0.72253545 0.75175124 0.77618315 0.72338971\n",
      " 0.51307022 0.44677943 0.388177   0.60157184 0.25474116 0.09994874\n",
      " 0.06167777 0.00495472 0.         0.01862293 0.07978814 0.14351615\n",
      " 0.28481121 0.43516146 0.5750897  0.63454639 0.65775627 0.66198182\n",
      " 0.65527219 0.65256119 0.64953673 0.6398502  0.61324191 0.53568989]\n",
      "predicted : [[0.44758958]]\n",
      "[0.54724073 0.46523151 0.40628737 0.54826585 0.23885187 0.09089356\n",
      " 0.03229113 0.00410046 0.01537673 0.06970784 0.17495302 0.29062019\n",
      " 0.46779429 0.57919016 0.63625491 0.69075688 0.73842474 0.72065607\n",
      " 0.73176149 0.72253545 0.75175124 0.77618315 0.72338971 0.51307022\n",
      " 0.44677943 0.388177   0.60157184 0.25474116 0.09994874 0.06167777\n",
      " 0.00495472 0.         0.01862293 0.07978814 0.14351615 0.28481121\n",
      " 0.43516146 0.5750897  0.63454639 0.65775627 0.66198182 0.65527219\n",
      " 0.65256119 0.64953673 0.6398502  0.61324191 0.53568989 0.44758958]\n",
      "predicted : [[0.39931208]]\n",
      "[0.46523151 0.40628737 0.54826585 0.23885187 0.09089356 0.03229113\n",
      " 0.00410046 0.01537673 0.06970784 0.17495302 0.29062019 0.46779429\n",
      " 0.57919016 0.63625491 0.69075688 0.73842474 0.72065607 0.73176149\n",
      " 0.72253545 0.75175124 0.77618315 0.72338971 0.51307022 0.44677943\n",
      " 0.388177   0.60157184 0.25474116 0.09994874 0.06167777 0.00495472\n",
      " 0.         0.01862293 0.07978814 0.14351615 0.28481121 0.43516146\n",
      " 0.5750897  0.63454639 0.65775627 0.66198182 0.65527219 0.65256119\n",
      " 0.64953673 0.6398502  0.61324191 0.53568989 0.44758958 0.39931208]\n"
     ]
    }
   ],
   "source": [
    "uni = df['traffic_volume']\n",
    "validatehori = uni.tail(48)\n",
    "validatehist = validatehori.values\n",
    "result = []\n",
    "# Define Forecast length here\n",
    "window_len = 10\n",
    "val_rescaled = scaler_x.fit_transform(validatehist.reshape(-1, 1))\n",
    "\n",
    "for i in range(1, window_len+1):\n",
    "    \n",
    "    val_rescaled = val_rescaled.reshape((1, val_rescaled.shape[0], 1))\n",
    "    Predicted_results = Trained_model.predict(val_rescaled)\n",
    "    print(f'predicted : {Predicted_results}')\n",
    "    result.append(Predicted_results[0])\n",
    "    val_rescaled = np.append(val_rescaled[:,1:],[[Predicted_results]])\n",
    "    print(val_rescaled)\n"
   ]
  },
  {
   "cell_type": "code",
   "execution_count": 22,
   "metadata": {
    "ExecuteTime": {
     "end_time": "2020-03-02T16:04:09.130748Z",
     "start_time": "2020-03-02T16:04:09.125761Z"
    }
   },
   "outputs": [],
   "source": [
    "result_inv_trans = scaler_x.inverse_transform(result)"
   ]
  },
  {
   "cell_type": "code",
   "execution_count": 23,
   "metadata": {
    "ExecuteTime": {
     "end_time": "2020-03-02T16:04:10.702587Z",
     "start_time": "2020-03-02T16:04:10.669636Z"
    }
   },
   "outputs": [],
   "source": [
    "from sklearn import metrics\n",
    "def timeseries_evaluation_metrics_func(y_true, y_pred):\n",
    "    \n",
    "    def mean_absolute_percentage_error(y_true, y_pred): \n",
    "        y_true, y_pred = np.array(y_true), np.array(y_pred)\n",
    "        return np.mean(np.abs((y_true - y_pred) / y_true)) * 100\n",
    "    print('Evaluation metric results:-')\n",
    "    print(f'MSE is : {metrics.mean_squared_error(y_true, y_pred)}')\n",
    "    print(f'MAE is : {metrics.mean_absolute_error(y_true, y_pred)}')\n",
    "    print(f'RMSE is : {np.sqrt(metrics.mean_squared_error(y_true, y_pred))}')\n",
    "    print(f'MAPE is : {mean_absolute_percentage_error(y_true, y_pred)}')\n",
    "    print(f'R2 is : {metrics.r2_score(y_true, y_pred)}',end='\\n\\n')"
   ]
  },
  {
   "cell_type": "code",
   "execution_count": 24,
   "metadata": {
    "ExecuteTime": {
     "end_time": "2020-03-02T16:04:12.860781Z",
     "start_time": "2020-03-02T16:04:12.853804Z"
    }
   },
   "outputs": [
    {
     "name": "stdout",
     "output_type": "stream",
     "text": [
      "Evaluation metric results:-\n",
      "MSE is : 875434.803348708\n",
      "MAE is : 712.1100398421288\n",
      "RMSE is : 935.6467299941297\n",
      "MAPE is : 64.99844083467826\n",
      "R2 is : 0.4316545486790321\n",
      "\n"
     ]
    }
   ],
   "source": [
    "timeseries_evaluation_metrics_func(validate,result_inv_trans)"
   ]
  },
  {
   "cell_type": "code",
   "execution_count": 25,
   "metadata": {
    "ExecuteTime": {
     "end_time": "2020-03-02T16:04:14.723803Z",
     "start_time": "2020-03-02T16:04:14.471477Z"
    }
   },
   "outputs": [
    {
     "data": {
      "image/png": "[encoded data removed]",
      "text/plain": [
       "<Figure size 1152x648 with 1 Axes>"
      ]
     },
     "metadata": {
      "needs_background": "light"
     },
     "output_type": "display_data"
    }
   ],
   "source": [
    "plt.plot( list(validate))\n",
    "plt.plot( list(result_inv_trans))\n",
    "plt.title(\"Actual vs Predicted\")\n",
    "plt.ylabel(\"Traffic volume\")\n",
    "plt.legend(('Actual','predicted'))\n",
    "plt.show()"
   ]
  },
  {
   "cell_type": "code",
   "execution_count": null,
   "metadata": {},
   "outputs": [],
   "source": []
  }
 ],
 "metadata": {
  "kernelspec": {
   "display_name": "Python 3",
   "language": "python",
   "name": "python3"
  },
  "language_info": {
   "codemirror_mode": {
    "name": "ipython",
    "version": 3
   },
   "file_extension": ".py",
   "mimetype": "text/x-python",
   "name": "python",
   "nbconvert_exporter": "python",
   "pygments_lexer": "ipython3",
   "version": "3.7.3"
  },
  "latex_envs": {
   "LaTeX_envs_menu_present": true,
   "autoclose": false,
   "autocomplete": true,
   "bibliofile": "biblio.bib",
   "cite_by": "apalike",
   "current_citInitial": 1,
   "eqLabelWithNumbers": true,
   "eqNumInitial": 1,
   "hotkeys": {
    "equation": "Ctrl-E",
    "itemize": "Ctrl-I"
   },
   "labels_anchors": false,
   "latex_user_defs": false,
   "report_style_numbering": false,
   "user_envs_cfg": false
  },
  "nbTranslate": {
   "displayLangs": [
    "*"
   ],
   "hotkey": "alt-t",
   "langInMainMenu": true,
   "sourceLang": "en",
   "targetLang": "fr",
   "useGoogleTranslate": true
  }
 },
 "nbformat": 4,
 "nbformat_minor": 2
}

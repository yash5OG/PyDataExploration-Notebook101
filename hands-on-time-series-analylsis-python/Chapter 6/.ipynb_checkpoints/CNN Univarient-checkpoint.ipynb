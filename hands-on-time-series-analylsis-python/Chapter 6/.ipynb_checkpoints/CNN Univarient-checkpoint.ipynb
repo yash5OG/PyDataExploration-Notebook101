{
 "cells": [
  {
   "cell_type": "code",
   "execution_count": 1,
   "metadata": {
    "ExecuteTime": {
     "end_time": "2020-02-02T10:22:54.069450Z",
     "start_time": "2020-02-02T10:22:49.551172Z"
    }
   },
   "outputs": [],
   "source": [
    "import pandas as pd\n",
    "import numpy as np\n",
    "import tensorflow as tf\n",
    "from sklearn import preprocessing\n",
    "import matplotlib.pyplot as plt\n",
    "from tensorflow.keras.models import Sequential\n",
    "from tensorflow.keras.layers import Dense\n",
    "from tensorflow.keras.layers import Flatten\n",
    "from tensorflow.keras.layers import Conv1D\n",
    "from tensorflow.keras.layers import MaxPool1D\n",
    "from tensorflow.keras.layers import Dropout"
   ]
  },
  {
   "cell_type": "code",
   "execution_count": 2,
   "metadata": {
    "ExecuteTime": {
     "end_time": "2020-02-02T10:22:54.083377Z",
     "start_time": "2020-02-02T10:22:54.070445Z"
    }
   },
   "outputs": [],
   "source": [
    "df = pd.read_csv(r'G:\\Study and WorkRelated\\Book Proposal\\book\\Code and Data\\Data\\FB_DL.csv')"
   ]
  },
  {
   "cell_type": "code",
   "execution_count": 3,
   "metadata": {
    "ExecuteTime": {
     "end_time": "2020-02-02T10:22:54.104322Z",
     "start_time": "2020-02-02T10:22:54.086371Z"
    }
   },
   "outputs": [
    {
     "data": {
      "text/html": [
       "<div>\n",
       "<style scoped>\n",
       "    .dataframe tbody tr th:only-of-type {\n",
       "        vertical-align: middle;\n",
       "    }\n",
       "\n",
       "    .dataframe tbody tr th {\n",
       "        vertical-align: top;\n",
       "    }\n",
       "\n",
       "    .dataframe thead th {\n",
       "        text-align: right;\n",
       "    }\n",
       "</style>\n",
       "<table border=\"1\" class=\"dataframe\">\n",
       "  <thead>\n",
       "    <tr style=\"text-align: right;\">\n",
       "      <th></th>\n",
       "      <th>Date</th>\n",
       "      <th>Open</th>\n",
       "      <th>High</th>\n",
       "      <th>Low</th>\n",
       "      <th>Close</th>\n",
       "      <th>Adj Close</th>\n",
       "      <th>Volume</th>\n",
       "    </tr>\n",
       "  </thead>\n",
       "  <tbody>\n",
       "    <tr>\n",
       "      <th>0</th>\n",
       "      <td>2013-01-28</td>\n",
       "      <td>31.879999</td>\n",
       "      <td>32.509998</td>\n",
       "      <td>31.809999</td>\n",
       "      <td>32.470001</td>\n",
       "      <td>32.470001</td>\n",
       "      <td>59682500</td>\n",
       "    </tr>\n",
       "    <tr>\n",
       "      <th>1</th>\n",
       "      <td>2013-01-29</td>\n",
       "      <td>32.000000</td>\n",
       "      <td>32.070000</td>\n",
       "      <td>30.709999</td>\n",
       "      <td>30.790001</td>\n",
       "      <td>30.790001</td>\n",
       "      <td>72976500</td>\n",
       "    </tr>\n",
       "    <tr>\n",
       "      <th>2</th>\n",
       "      <td>2013-01-30</td>\n",
       "      <td>30.980000</td>\n",
       "      <td>31.490000</td>\n",
       "      <td>30.879999</td>\n",
       "      <td>31.240000</td>\n",
       "      <td>31.240000</td>\n",
       "      <td>87682100</td>\n",
       "    </tr>\n",
       "    <tr>\n",
       "      <th>3</th>\n",
       "      <td>2013-01-31</td>\n",
       "      <td>29.150000</td>\n",
       "      <td>31.469999</td>\n",
       "      <td>28.740000</td>\n",
       "      <td>30.980000</td>\n",
       "      <td>30.980000</td>\n",
       "      <td>190744900</td>\n",
       "    </tr>\n",
       "    <tr>\n",
       "      <th>4</th>\n",
       "      <td>2013-02-01</td>\n",
       "      <td>31.010000</td>\n",
       "      <td>31.020000</td>\n",
       "      <td>29.629999</td>\n",
       "      <td>29.730000</td>\n",
       "      <td>29.730000</td>\n",
       "      <td>85856700</td>\n",
       "    </tr>\n",
       "  </tbody>\n",
       "</table>\n",
       "</div>"
      ],
      "text/plain": [
       "         Date       Open       High        Low      Close  Adj Close  \\\n",
       "0  2013-01-28  31.879999  32.509998  31.809999  32.470001  32.470001   \n",
       "1  2013-01-29  32.000000  32.070000  30.709999  30.790001  30.790001   \n",
       "2  2013-01-30  30.980000  31.490000  30.879999  31.240000  31.240000   \n",
       "3  2013-01-31  29.150000  31.469999  28.740000  30.980000  30.980000   \n",
       "4  2013-02-01  31.010000  31.020000  29.629999  29.730000  29.730000   \n",
       "\n",
       "      Volume  \n",
       "0   59682500  \n",
       "1   72976500  \n",
       "2   87682100  \n",
       "3  190744900  \n",
       "4   85856700  "
      ]
     },
     "execution_count": 3,
     "metadata": {},
     "output_type": "execute_result"
    }
   ],
   "source": [
    "df.head()"
   ]
  },
  {
   "cell_type": "code",
   "execution_count": 4,
   "metadata": {
    "ExecuteTime": {
     "end_time": "2020-02-02T10:22:54.145217Z",
     "start_time": "2020-02-02T10:22:54.106315Z"
    }
   },
   "outputs": [
    {
     "data": {
      "text/html": [
       "<div>\n",
       "<style scoped>\n",
       "    .dataframe tbody tr th:only-of-type {\n",
       "        vertical-align: middle;\n",
       "    }\n",
       "\n",
       "    .dataframe tbody tr th {\n",
       "        vertical-align: top;\n",
       "    }\n",
       "\n",
       "    .dataframe thead th {\n",
       "        text-align: right;\n",
       "    }\n",
       "</style>\n",
       "<table border=\"1\" class=\"dataframe\">\n",
       "  <thead>\n",
       "    <tr style=\"text-align: right;\">\n",
       "      <th></th>\n",
       "      <th>Open</th>\n",
       "      <th>High</th>\n",
       "      <th>Low</th>\n",
       "      <th>Close</th>\n",
       "      <th>Adj Close</th>\n",
       "      <th>Volume</th>\n",
       "    </tr>\n",
       "  </thead>\n",
       "  <tbody>\n",
       "    <tr>\n",
       "      <th>count</th>\n",
       "      <td>1761.000000</td>\n",
       "      <td>1761.000000</td>\n",
       "      <td>1761.000000</td>\n",
       "      <td>1761.000000</td>\n",
       "      <td>1761.000000</td>\n",
       "      <td>1.761000e+03</td>\n",
       "    </tr>\n",
       "    <tr>\n",
       "      <th>mean</th>\n",
       "      <td>118.781840</td>\n",
       "      <td>120.008399</td>\n",
       "      <td>117.500392</td>\n",
       "      <td>118.811113</td>\n",
       "      <td>118.811113</td>\n",
       "      <td>3.095813e+07</td>\n",
       "    </tr>\n",
       "    <tr>\n",
       "      <th>std</th>\n",
       "      <td>53.322957</td>\n",
       "      <td>53.748415</td>\n",
       "      <td>52.885288</td>\n",
       "      <td>53.354433</td>\n",
       "      <td>53.354433</td>\n",
       "      <td>2.520860e+07</td>\n",
       "    </tr>\n",
       "    <tr>\n",
       "      <th>min</th>\n",
       "      <td>22.990000</td>\n",
       "      <td>23.090000</td>\n",
       "      <td>22.670000</td>\n",
       "      <td>22.900000</td>\n",
       "      <td>22.900000</td>\n",
       "      <td>5.913100e+06</td>\n",
       "    </tr>\n",
       "    <tr>\n",
       "      <th>25%</th>\n",
       "      <td>75.589996</td>\n",
       "      <td>76.570000</td>\n",
       "      <td>74.779999</td>\n",
       "      <td>75.739998</td>\n",
       "      <td>75.739998</td>\n",
       "      <td>1.584980e+07</td>\n",
       "    </tr>\n",
       "    <tr>\n",
       "      <th>50%</th>\n",
       "      <td>118.629997</td>\n",
       "      <td>119.430000</td>\n",
       "      <td>117.610001</td>\n",
       "      <td>118.669998</td>\n",
       "      <td>118.669998</td>\n",
       "      <td>2.275120e+07</td>\n",
       "    </tr>\n",
       "    <tr>\n",
       "      <th>75%</th>\n",
       "      <td>169.820007</td>\n",
       "      <td>171.500000</td>\n",
       "      <td>168.250000</td>\n",
       "      <td>169.919998</td>\n",
       "      <td>169.919998</td>\n",
       "      <td>3.679600e+07</td>\n",
       "    </tr>\n",
       "    <tr>\n",
       "      <th>max</th>\n",
       "      <td>222.570007</td>\n",
       "      <td>222.750000</td>\n",
       "      <td>221.279999</td>\n",
       "      <td>222.139999</td>\n",
       "      <td>222.139999</td>\n",
       "      <td>3.654579e+08</td>\n",
       "    </tr>\n",
       "  </tbody>\n",
       "</table>\n",
       "</div>"
      ],
      "text/plain": [
       "              Open         High          Low        Close    Adj Close  \\\n",
       "count  1761.000000  1761.000000  1761.000000  1761.000000  1761.000000   \n",
       "mean    118.781840   120.008399   117.500392   118.811113   118.811113   \n",
       "std      53.322957    53.748415    52.885288    53.354433    53.354433   \n",
       "min      22.990000    23.090000    22.670000    22.900000    22.900000   \n",
       "25%      75.589996    76.570000    74.779999    75.739998    75.739998   \n",
       "50%     118.629997   119.430000   117.610001   118.669998   118.669998   \n",
       "75%     169.820007   171.500000   168.250000   169.919998   169.919998   \n",
       "max     222.570007   222.750000   221.279999   222.139999   222.139999   \n",
       "\n",
       "             Volume  \n",
       "count  1.761000e+03  \n",
       "mean   3.095813e+07  \n",
       "std    2.520860e+07  \n",
       "min    5.913100e+06  \n",
       "25%    1.584980e+07  \n",
       "50%    2.275120e+07  \n",
       "75%    3.679600e+07  \n",
       "max    3.654579e+08  "
      ]
     },
     "execution_count": 4,
     "metadata": {},
     "output_type": "execute_result"
    }
   ],
   "source": [
    "df.describe()"
   ]
  },
  {
   "cell_type": "code",
   "execution_count": 5,
   "metadata": {
    "ExecuteTime": {
     "end_time": "2020-02-02T10:22:55.849303Z",
     "start_time": "2020-02-02T10:22:55.842322Z"
    }
   },
   "outputs": [],
   "source": [
    "validate = df['Close'].tail(70)\n",
    "df.drop(df['Close'].tail(70).index,inplace=True)"
   ]
  },
  {
   "cell_type": "code",
   "execution_count": 6,
   "metadata": {
    "ExecuteTime": {
     "end_time": "2020-02-02T10:22:56.461853Z",
     "start_time": "2020-02-02T10:22:56.452879Z"
    }
   },
   "outputs": [
    {
     "data": {
      "text/plain": [
       "Date\n",
       "2013-01-28    32.470001\n",
       "2013-01-29    30.790001\n",
       "2013-01-30    31.240000\n",
       "2013-01-31    30.980000\n",
       "2013-02-01    29.730000\n",
       "Name: Close, dtype: float64"
      ]
     },
     "execution_count": 6,
     "metadata": {},
     "output_type": "execute_result"
    }
   ],
   "source": [
    "uni_data = df['Close']\n",
    "uni_data.index = df['Date']\n",
    "uni_data.head()"
   ]
  },
  {
   "cell_type": "code",
   "execution_count": 7,
   "metadata": {
    "ExecuteTime": {
     "end_time": "2020-02-02T10:22:58.104741Z",
     "start_time": "2020-02-02T10:22:58.100751Z"
    }
   },
   "outputs": [],
   "source": [
    "uni_data = uni_data.values\n",
    "scaler_x = preprocessing.MinMaxScaler()\n",
    "x_rescaled = scaler_x.fit_transform(uni_data.reshape(-1, 1))"
   ]
  },
  {
   "cell_type": "code",
   "execution_count": 8,
   "metadata": {
    "ExecuteTime": {
     "end_time": "2020-02-02T10:22:59.867979Z",
     "start_time": "2020-02-02T10:22:59.860961Z"
    }
   },
   "outputs": [],
   "source": [
    "\n",
    "def custom_ts_univariate_data_prep(dataset, start_index, end_index, window, horizon):\n",
    "  data = []\n",
    "  labels = []\n",
    "\n",
    "  start_index = start_index + window\n",
    "  if end_index is None:\n",
    "    end_index = len(dataset) - horizon\n",
    "\n",
    "  for i in range(start_index, end_index):\n",
    "    indicesx = range(i-window, i)\n",
    "    data.append(np.reshape(dataset[indicesx], (window, 1)))\n",
    "    indicesy = range(i,i+horizon)\n",
    "    labels.append(dataset[indicesy])\n",
    "  return np.array(data), np.array(labels)"
   ]
  },
  {
   "cell_type": "code",
   "execution_count": 9,
   "metadata": {
    "ExecuteTime": {
     "end_time": "2020-02-02T10:23:01.212451Z",
     "start_time": "2020-02-02T10:23:01.145633Z"
    }
   },
   "outputs": [],
   "source": [
    "univar_hist_window = 60\n",
    "horizon = 10\n",
    "TRAIN_SPLIT = 1000\n",
    "x_train_uni, y_train_uni = custom_ts_univariate_data_prep(x_rescaled, 0, TRAIN_SPLIT,univar_hist_window, horizon)\n",
    "x_val_uni, y_val_uni = custom_ts_univariate_data_prep(x_rescaled, TRAIN_SPLIT, None,univar_hist_window,horizon)"
   ]
  },
  {
   "cell_type": "code",
   "execution_count": 10,
   "metadata": {
    "ExecuteTime": {
     "end_time": "2020-02-02T10:23:03.191028Z",
     "start_time": "2020-02-02T10:23:03.181054Z"
    }
   },
   "outputs": [
    {
     "name": "stdout",
     "output_type": "stream",
     "text": [
      "Single window of past history\n",
      "[[0.04917781]\n",
      " [0.04054471]\n",
      " [0.04285714]\n",
      " [0.04152107]\n",
      " [0.03509764]\n",
      " [0.02677287]\n",
      " [0.0294964 ]\n",
      " [0.03160328]\n",
      " [0.02954779]\n",
      " [0.02903391]\n",
      " [0.02754368]\n",
      " [0.0229702 ]\n",
      " [0.02574512]\n",
      " [0.02877698]\n",
      " [0.027852  ]\n",
      " [0.03098664]\n",
      " [0.02857142]\n",
      " [0.02250771]\n",
      " [0.02173689]\n",
      " [0.02245632]\n",
      " [0.02307297]\n",
      " [0.02040083]\n",
      " [0.02235355]\n",
      " [0.02507709]\n",
      " [0.02476875]\n",
      " [0.02374101]\n",
      " [0.0233813 ]\n",
      " [0.02918808]\n",
      " [0.02600205]\n",
      " [0.02692702]\n",
      " [0.02533402]\n",
      " [0.02147996]\n",
      " [0.02127441]\n",
      " [0.0192703 ]\n",
      " [0.0184481 ]\n",
      " [0.01875642]\n",
      " [0.01521069]\n",
      " [0.01459404]\n",
      " [0.01454265]\n",
      " [0.0114594 ]\n",
      " [0.0118705 ]\n",
      " [0.0163926 ]\n",
      " [0.01377184]\n",
      " [0.01351491]\n",
      " [0.01294964]\n",
      " [0.0172148 ]\n",
      " [0.02142857]\n",
      " [0.02307297]\n",
      " [0.02029805]\n",
      " [0.01896197]\n",
      " [0.02399794]\n",
      " [0.02631038]\n",
      " [0.02312436]\n",
      " [0.01860226]\n",
      " [0.02065776]\n",
      " [0.01916752]\n",
      " [0.01433711]\n",
      " [0.01454265]\n",
      " [0.01577595]\n",
      " [0.01582734]]\n",
      "\n",
      " Target horizon\n",
      "[[0.01649538]\n",
      " [0.01664953]\n",
      " [0.02029805]\n",
      " [0.02096608]\n",
      " [0.02502569]\n",
      " [0.02327852]\n",
      " [0.03119218]\n",
      " [0.02780061]\n",
      " [0.02399794]\n",
      " [0.02050359]]\n"
     ]
    }
   ],
   "source": [
    "print ('Single window of past history')\n",
    "print (x_train_uni[0])\n",
    "print ('\\n Target horizon')\n",
    "print (y_train_uni[0])"
   ]
  },
  {
   "cell_type": "code",
   "execution_count": 11,
   "metadata": {
    "ExecuteTime": {
     "end_time": "2020-02-02T10:23:07.303461Z",
     "start_time": "2020-02-02T10:23:06.144913Z"
    }
   },
   "outputs": [],
   "source": [
    "BATCH_SIZE = 128\n",
    "BUFFER_SIZE = 150\n",
    "\n",
    "train_univariate = tf.data.Dataset.from_tensor_slices((x_train_uni, y_train_uni))\n",
    "train_univariate = train_univariate.cache().shuffle(BUFFER_SIZE).batch(BATCH_SIZE).repeat()\n",
    "\n",
    "val_univariate = tf.data.Dataset.from_tensor_slices((x_val_uni, y_val_uni))\n",
    "val_univariate = val_univariate.batch(BATCH_SIZE).repeat()"
   ]
  },
  {
   "cell_type": "code",
   "execution_count": 12,
   "metadata": {
    "ExecuteTime": {
     "end_time": "2020-02-02T10:23:09.147367Z",
     "start_time": "2020-02-02T10:23:08.788936Z"
    }
   },
   "outputs": [],
   "source": [
    "model = Sequential()\n",
    "model.add(Conv1D(filters=64, kernel_size=3, activation='relu', input_shape=(x_train_uni.shape[1], x_train_uni.shape[2])))\n",
    "model.add(MaxPool1D(pool_size=2))\n",
    "model.add(Dropout(0.2))\n",
    "model.add(Flatten())\n",
    "model.add(Dense(30, activation='relu'))\n",
    "model.add(Dropout(0.2))\n",
    "model.add(Dense(horizon))\n",
    "model.compile(optimizer='adam', loss='mse')"
   ]
  },
  {
   "cell_type": "code",
   "execution_count": 13,
   "metadata": {
    "ExecuteTime": {
     "end_time": "2020-02-02T10:23:10.437264Z",
     "start_time": "2020-02-02T10:23:10.433276Z"
    }
   },
   "outputs": [],
   "source": [
    "model_path = r'G:\\Study and WorkRelated\\Book Proposal\\book\\Code and Data\\Section 3\\Chapter 6\\CNN_Univarient.h5'"
   ]
  },
  {
   "cell_type": "code",
   "execution_count": 14,
   "metadata": {
    "ExecuteTime": {
     "end_time": "2020-02-02T10:23:33.205687Z",
     "start_time": "2020-02-02T10:23:12.129809Z"
    }
   },
   "outputs": [
    {
     "name": "stdout",
     "output_type": "stream",
     "text": [
      "Train for 100 steps, validate for 50 steps\n",
      "Epoch 1/150\n",
      "100/100 [==============================] - 3s 35ms/step - loss: 0.0125 - val_loss: 0.0205\n",
      "Epoch 2/150\n",
      "100/100 [==============================] - 1s 6ms/step - loss: 0.0082 - val_loss: 0.0063\n",
      "Epoch 3/150\n",
      "100/100 [==============================] - 1s 6ms/step - loss: 0.0044 - val_loss: 0.0123\n",
      "Epoch 4/150\n",
      "100/100 [==============================] - 1s 6ms/step - loss: 0.0041 - val_loss: 0.0072\n",
      "Epoch 5/150\n",
      "100/100 [==============================] - 3s 26ms/step - loss: 0.0029 - val_loss: 0.0038\n",
      "Epoch 6/150\n",
      "100/100 [==============================] - 1s 6ms/step - loss: 0.0027 - val_loss: 0.0051\n",
      "Epoch 7/150\n",
      "100/100 [==============================] - 1s 6ms/step - loss: 0.0022 - val_loss: 0.0142\n",
      "Epoch 8/150\n",
      "100/100 [==============================] - 1s 6ms/step - loss: 0.0020 - val_loss: 0.0054\n",
      "Epoch 9/150\n",
      "100/100 [==============================] - 1s 6ms/step - loss: 0.0018 - val_loss: 0.0068\n",
      "Epoch 10/150\n",
      "100/100 [==============================] - 1s 6ms/step - loss: 0.0021 - val_loss: 0.0088\n",
      "Epoch 11/150\n",
      "100/100 [==============================] - 1s 6ms/step - loss: 0.0020 - val_loss: 0.0038\n",
      "Epoch 12/150\n",
      "100/100 [==============================] - 1s 6ms/step - loss: 0.0015 - val_loss: 0.0060\n",
      "Epoch 13/150\n",
      "100/100 [==============================] - 1s 6ms/step - loss: 0.0014 - val_loss: 0.0043\n",
      "Epoch 14/150\n",
      "100/100 [==============================] - 1s 6ms/step - loss: 0.0013 - val_loss: 0.0051\n",
      "Epoch 15/150\n",
      "100/100 [==============================] - 1s 6ms/step - loss: 0.0022 - val_loss: 0.0087\n",
      "Epoch 16/150\n",
      "100/100 [==============================] - 1s 6ms/step - loss: 0.0013 - val_loss: 0.0070\n",
      "Epoch 17/150\n",
      "100/100 [==============================] - 1s 6ms/step - loss: 0.0015 - val_loss: 0.0032\n",
      "Epoch 18/150\n",
      "100/100 [==============================] - 1s 6ms/step - loss: 0.0013 - val_loss: 0.0058\n",
      "Epoch 19/150\n",
      "100/100 [==============================] - 1s 6ms/step - loss: 0.0013 - val_loss: 0.0090\n",
      "Epoch 20/150\n",
      "100/100 [==============================] - 1s 6ms/step - loss: 0.0015 - val_loss: 0.0092\n",
      "Epoch 21/150\n",
      "100/100 [==============================] - 1s 6ms/step - loss: 0.0012 - val_loss: 0.0045\n",
      "Epoch 22/150\n",
      "100/100 [==============================] - 1s 6ms/step - loss: 0.0016 - val_loss: 0.0052\n",
      "Epoch 23/150\n",
      "100/100 [==============================] - 1s 6ms/step - loss: 0.0013 - val_loss: 0.0050\n",
      "Epoch 24/150\n",
      "100/100 [==============================] - 1s 6ms/step - loss: 0.0012 - val_loss: 0.0067\n",
      "Epoch 25/150\n",
      "100/100 [==============================] - 1s 6ms/step - loss: 0.0014 - val_loss: 0.0048\n",
      "Epoch 26/150\n",
      "100/100 [==============================] - 1s 6ms/step - loss: 0.0012 - val_loss: 0.0054\n",
      "Epoch 27/150\n",
      "100/100 [==============================] - 1s 6ms/step - loss: 0.0014 - val_loss: 0.0109\n",
      "Epoch 00027: early stopping\n"
     ]
    }
   ],
   "source": [
    "\n",
    "EVALUATION_INTERVAL = 100\n",
    "EPOCHS = 150\n",
    "history = model.fit(train_univariate, epochs=EPOCHS,steps_per_epoch=EVALUATION_INTERVAL,validation_data=val_univariate, validation_steps=50,verbose =1,\n",
    "                              callbacks =[tf.keras.callbacks.EarlyStopping(monitor='val_loss', min_delta=0, patience=10, verbose=1, mode='min'),tf.keras.callbacks.ModelCheckpoint(model_path,monitor='val_loss', save_best_only=True, mode='min', verbose=0)])"
   ]
  },
  {
   "cell_type": "code",
   "execution_count": 15,
   "metadata": {
    "ExecuteTime": {
     "end_time": "2020-02-02T10:23:35.232376Z",
     "start_time": "2020-02-02T10:23:34.732878Z"
    }
   },
   "outputs": [],
   "source": [
    "# Recreate the exact same model, including its weights and the optimizer\n",
    "Trained_model = tf.keras.models.load_model(r'G:\\Study and WorkRelated\\Book Proposal\\book\\Code and Data\\Section 3\\Chapter 6\\CNN_Univarient.h5')\n"
   ]
  },
  {
   "cell_type": "code",
   "execution_count": 16,
   "metadata": {
    "ExecuteTime": {
     "end_time": "2020-02-02T10:23:36.282204Z",
     "start_time": "2020-02-02T10:23:36.276221Z"
    }
   },
   "outputs": [
    {
     "name": "stdout",
     "output_type": "stream",
     "text": [
      "Model: \"sequential\"\n",
      "_________________________________________________________________\n",
      "Layer (type)                 Output Shape              Param #   \n",
      "=================================================================\n",
      "conv1d (Conv1D)              (None, 58, 64)            256       \n",
      "_________________________________________________________________\n",
      "max_pooling1d (MaxPooling1D) (None, 29, 64)            0         \n",
      "_________________________________________________________________\n",
      "dropout (Dropout)            (None, 29, 64)            0         \n",
      "_________________________________________________________________\n",
      "flatten (Flatten)            (None, 1856)              0         \n",
      "_________________________________________________________________\n",
      "dense (Dense)                (None, 30)                55710     \n",
      "_________________________________________________________________\n",
      "dropout_1 (Dropout)          (None, 30)                0         \n",
      "_________________________________________________________________\n",
      "dense_1 (Dense)              (None, 10)                310       \n",
      "=================================================================\n",
      "Total params: 56,276\n",
      "Trainable params: 56,276\n",
      "Non-trainable params: 0\n",
      "_________________________________________________________________\n"
     ]
    }
   ],
   "source": [
    "# Show the model architecture\n",
    "Trained_model.summary()"
   ]
  },
  {
   "cell_type": "code",
   "execution_count": 18,
   "metadata": {
    "ExecuteTime": {
     "end_time": "2020-02-02T10:23:39.783318Z",
     "start_time": "2020-02-02T10:23:39.508667Z"
    }
   },
   "outputs": [
    {
     "data": {
      "image/png": "[encoded data removed]",
      "text/plain": [
       "<Figure size 1152x648 with 1 Axes>"
      ]
     },
     "metadata": {
      "needs_background": "light"
     },
     "output_type": "display_data"
    }
   ],
   "source": [
    "plt.plot(history.history['loss'])\n",
    "plt.plot(history.history['val_loss'])\n",
    "plt.title('Model loss')\n",
    "plt.ylabel('loss')\n",
    "plt.xlabel('epoch')\n",
    "plt.legend(['train loss', 'validation loss'], loc='upper left')\n",
    "plt.rcParams[\"figure.figsize\"] = [16,9]\n",
    "plt.show()"
   ]
  },
  {
   "cell_type": "code",
   "execution_count": 19,
   "metadata": {
    "ExecuteTime": {
     "end_time": "2020-02-02T10:23:42.298163Z",
     "start_time": "2020-02-02T10:23:42.293176Z"
    }
   },
   "outputs": [],
   "source": [
    "validatehist = validate.head(60)\n",
    "validatehori = validate.tail(10)"
   ]
  },
  {
   "cell_type": "code",
   "execution_count": 20,
   "metadata": {
    "ExecuteTime": {
     "end_time": "2020-02-02T10:23:43.837671Z",
     "start_time": "2020-02-02T10:23:43.832684Z"
    }
   },
   "outputs": [],
   "source": [
    "validatehist = validatehist.values\n",
    "scaler_val = preprocessing.StandardScaler()\n",
    "val_rescaled = scaler_x.fit_transform(validatehist.reshape(-1, 1))"
   ]
  },
  {
   "cell_type": "code",
   "execution_count": 21,
   "metadata": {
    "ExecuteTime": {
     "end_time": "2020-02-02T10:23:44.709328Z",
     "start_time": "2020-02-02T10:23:44.704660Z"
    }
   },
   "outputs": [],
   "source": [
    "val_rescaled = val_rescaled.reshape((1, val_rescaled.shape[0], 1))"
   ]
  },
  {
   "cell_type": "code",
   "execution_count": 22,
   "metadata": {
    "ExecuteTime": {
     "end_time": "2020-02-02T10:23:45.924643Z",
     "start_time": "2020-02-02T10:23:45.808582Z"
    }
   },
   "outputs": [],
   "source": [
    "Predicted_results = Trained_model.predict(val_rescaled)"
   ]
  },
  {
   "cell_type": "code",
   "execution_count": 23,
   "metadata": {
    "ExecuteTime": {
     "end_time": "2020-02-02T10:23:47.146679Z",
     "start_time": "2020-02-02T10:23:47.140695Z"
    }
   },
   "outputs": [
    {
     "data": {
      "text/plain": [
       "array([[0.64143634, 0.6376202 , 0.6423304 , 0.64780265, 0.62379926,\n",
       "        0.6240903 , 0.60159874, 0.61214876, 0.6240028 , 0.6194862 ]],\n",
       "      dtype=float32)"
      ]
     },
     "execution_count": 23,
     "metadata": {},
     "output_type": "execute_result"
    }
   ],
   "source": [
    "Predicted_results"
   ]
  },
  {
   "cell_type": "code",
   "execution_count": 24,
   "metadata": {
    "ExecuteTime": {
     "end_time": "2020-02-02T10:23:49.388837Z",
     "start_time": "2020-02-02T10:23:49.384882Z"
    }
   },
   "outputs": [],
   "source": [
    "Predicted_inver_res = scaler_x.inverse_transform(Predicted_results)"
   ]
  },
  {
   "cell_type": "code",
   "execution_count": 25,
   "metadata": {
    "ExecuteTime": {
     "end_time": "2020-02-02T10:23:50.894605Z",
     "start_time": "2020-02-02T10:23:50.888621Z"
    }
   },
   "outputs": [
    {
     "data": {
      "text/plain": [
       "array([[205.40607, 205.26883, 205.43822, 205.635  , 204.77182, 204.78229,\n",
       "        203.9735 , 204.35287, 204.77914, 204.61673]], dtype=float32)"
      ]
     },
     "execution_count": 25,
     "metadata": {},
     "output_type": "execute_result"
    }
   ],
   "source": [
    "Predicted_inver_res"
   ]
  },
  {
   "cell_type": "code",
   "execution_count": 26,
   "metadata": {
    "ExecuteTime": {
     "end_time": "2020-02-02T10:23:54.807445Z",
     "start_time": "2020-02-02T10:23:54.791787Z"
    }
   },
   "outputs": [
    {
     "data": {
      "text/plain": [
       "1751    218.059998\n",
       "1752    221.910004\n",
       "1753    219.059998\n",
       "1754    221.149994\n",
       "1755    221.770004\n",
       "1756    222.139999\n",
       "1757    221.440002\n",
       "1758    221.320007\n",
       "1759    219.759995\n",
       "1760    217.940002\n",
       "Name: Close, dtype: float64"
      ]
     },
     "execution_count": 26,
     "metadata": {},
     "output_type": "execute_result"
    }
   ],
   "source": [
    "validatehori"
   ]
  },
  {
   "cell_type": "code",
   "execution_count": 27,
   "metadata": {
    "ExecuteTime": {
     "end_time": "2020-02-02T10:23:56.875758Z",
     "start_time": "2020-02-02T10:23:56.844877Z"
    }
   },
   "outputs": [],
   "source": [
    "from sklearn import metrics\n",
    "def timeseries_evaluation_metrics_func(y_true, y_pred):\n",
    "    \n",
    "    def mean_absolute_percentage_error(y_true, y_pred): \n",
    "        y_true, y_pred = np.array(y_true), np.array(y_pred)\n",
    "        return np.mean(np.abs((y_true - y_pred) / y_true)) * 100\n",
    "    print('Evaluation metric results:-')\n",
    "    print(f'MSE is : {metrics.mean_squared_error(y_true, y_pred)}')\n",
    "    print(f'MAE is : {metrics.mean_absolute_error(y_true, y_pred)}')\n",
    "    print(f'RMSE is : {np.sqrt(metrics.mean_squared_error(y_true, y_pred))}')\n",
    "    print(f'MAPE is : {mean_absolute_percentage_error(y_true, y_pred)}')\n",
    "    #print(f'R2 is : {metrics.r2_score(y_true, y_pred)}',end='\\n\\n')"
   ]
  },
  {
   "cell_type": "code",
   "execution_count": 28,
   "metadata": {
    "ExecuteTime": {
     "end_time": "2020-02-02T10:23:58.782873Z",
     "start_time": "2020-02-02T10:23:58.776846Z"
    }
   },
   "outputs": [
    {
     "name": "stdout",
     "output_type": "stream",
     "text": [
      "Evaluation metric results:-\n",
      "MSE is : 244.84450892179888\n",
      "MAE is : 15.552554316113284\n",
      "RMSE is : 15.647508073869107\n",
      "MAPE is : 7.04987695497198\n"
     ]
    }
   ],
   "source": [
    "timeseries_evaluation_metrics_func(validatehori,Predicted_inver_res[0])"
   ]
  },
  {
   "cell_type": "code",
   "execution_count": null,
   "metadata": {},
   "outputs": [],
   "source": []
  },
  {
   "cell_type": "code",
   "execution_count": null,
   "metadata": {},
   "outputs": [],
   "source": []
  },
  {
   "cell_type": "code",
   "execution_count": null,
   "metadata": {},
   "outputs": [],
   "source": []
  },
  {
   "cell_type": "code",
   "execution_count": null,
   "metadata": {},
   "outputs": [],
   "source": []
  },
  {
   "cell_type": "code",
   "execution_count": null,
   "metadata": {},
   "outputs": [],
   "source": []
  },
  {
   "cell_type": "code",
   "execution_count": null,
   "metadata": {},
   "outputs": [],
   "source": []
  },
  {
   "cell_type": "code",
   "execution_count": null,
   "metadata": {},
   "outputs": [],
   "source": []
  },
  {
   "cell_type": "code",
   "execution_count": null,
   "metadata": {},
   "outputs": [],
   "source": []
  },
  {
   "cell_type": "code",
   "execution_count": null,
   "metadata": {},
   "outputs": [],
   "source": []
  },
  {
   "cell_type": "code",
   "execution_count": null,
   "metadata": {},
   "outputs": [],
   "source": []
  },
  {
   "cell_type": "code",
   "execution_count": null,
   "metadata": {},
   "outputs": [],
   "source": []
  },
  {
   "cell_type": "code",
   "execution_count": null,
   "metadata": {},
   "outputs": [],
   "source": []
  },
  {
   "cell_type": "code",
   "execution_count": null,
   "metadata": {},
   "outputs": [],
   "source": []
  },
  {
   "cell_type": "code",
   "execution_count": null,
   "metadata": {},
   "outputs": [],
   "source": []
  },
  {
   "cell_type": "code",
   "execution_count": null,
   "metadata": {},
   "outputs": [],
   "source": []
  },
  {
   "cell_type": "code",
   "execution_count": null,
   "metadata": {},
   "outputs": [],
   "source": []
  },
  {
   "cell_type": "code",
   "execution_count": null,
   "metadata": {},
   "outputs": [],
   "source": []
  },
  {
   "cell_type": "code",
   "execution_count": null,
   "metadata": {},
   "outputs": [],
   "source": []
  }
 ],
 "metadata": {
  "kernelspec": {
   "display_name": "Python 3",
   "language": "python",
   "name": "python3"
  },
  "language_info": {
   "codemirror_mode": {
    "name": "ipython",
    "version": 3
   },
   "file_extension": ".py",
   "mimetype": "text/x-python",
   "name": "python",
   "nbconvert_exporter": "python",
   "pygments_lexer": "ipython3",
   "version": "3.7.6"
  },
  "latex_envs": {
   "LaTeX_envs_menu_present": true,
   "autoclose": false,
   "autocomplete": true,
   "bibliofile": "biblio.bib",
   "cite_by": "apalike",
   "current_citInitial": 1,
   "eqLabelWithNumbers": true,
   "eqNumInitial": 1,
   "hotkeys": {
    "equation": "Ctrl-E",
    "itemize": "Ctrl-I"
   },
   "labels_anchors": false,
   "latex_user_defs": false,
   "report_style_numbering": false,
   "user_envs_cfg": false
  }
 },
 "nbformat": 4,
 "nbformat_minor": 2
}

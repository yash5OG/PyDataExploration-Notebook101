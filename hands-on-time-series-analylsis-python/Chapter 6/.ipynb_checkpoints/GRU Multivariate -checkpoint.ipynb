{
 "cells": [
  {
   "cell_type": "code",
   "execution_count": 1,
   "metadata": {
    "ExecuteTime": {
     "end_time": "2020-02-02T14:50:57.619664Z",
     "start_time": "2020-02-02T14:50:53.181164Z"
    }
   },
   "outputs": [],
   "source": [
    "import pandas as pd\n",
    "import numpy as np\n",
    "import tensorflow as tf\n",
    "from sklearn import preprocessing\n",
    "import matplotlib.pyplot as plt\n",
    "tf.random.set_seed(123)"
   ]
  },
  {
   "cell_type": "code",
   "execution_count": 2,
   "metadata": {
    "ExecuteTime": {
     "end_time": "2020-02-02T14:50:57.638580Z",
     "start_time": "2020-02-02T14:50:57.621624Z"
    }
   },
   "outputs": [],
   "source": [
    "df = pd.read_csv(r'G:\\Study and WorkRelated\\Book Proposal\\book\\Code and Data\\Data\\FB_DL.csv')"
   ]
  },
  {
   "cell_type": "code",
   "execution_count": 3,
   "metadata": {
    "ExecuteTime": {
     "end_time": "2020-02-02T14:50:57.661519Z",
     "start_time": "2020-02-02T14:50:57.641571Z"
    }
   },
   "outputs": [
    {
     "data": {
      "text/html": [
       "<div>\n",
       "<style scoped>\n",
       "    .dataframe tbody tr th:only-of-type {\n",
       "        vertical-align: middle;\n",
       "    }\n",
       "\n",
       "    .dataframe tbody tr th {\n",
       "        vertical-align: top;\n",
       "    }\n",
       "\n",
       "    .dataframe thead th {\n",
       "        text-align: right;\n",
       "    }\n",
       "</style>\n",
       "<table border=\"1\" class=\"dataframe\">\n",
       "  <thead>\n",
       "    <tr style=\"text-align: right;\">\n",
       "      <th></th>\n",
       "      <th>Date</th>\n",
       "      <th>Open</th>\n",
       "      <th>High</th>\n",
       "      <th>Low</th>\n",
       "      <th>Close</th>\n",
       "      <th>Adj Close</th>\n",
       "      <th>Volume</th>\n",
       "    </tr>\n",
       "  </thead>\n",
       "  <tbody>\n",
       "    <tr>\n",
       "      <th>0</th>\n",
       "      <td>2013-01-28</td>\n",
       "      <td>31.879999</td>\n",
       "      <td>32.509998</td>\n",
       "      <td>31.809999</td>\n",
       "      <td>32.470001</td>\n",
       "      <td>32.470001</td>\n",
       "      <td>59682500</td>\n",
       "    </tr>\n",
       "    <tr>\n",
       "      <th>1</th>\n",
       "      <td>2013-01-29</td>\n",
       "      <td>32.000000</td>\n",
       "      <td>32.070000</td>\n",
       "      <td>30.709999</td>\n",
       "      <td>30.790001</td>\n",
       "      <td>30.790001</td>\n",
       "      <td>72976500</td>\n",
       "    </tr>\n",
       "    <tr>\n",
       "      <th>2</th>\n",
       "      <td>2013-01-30</td>\n",
       "      <td>30.980000</td>\n",
       "      <td>31.490000</td>\n",
       "      <td>30.879999</td>\n",
       "      <td>31.240000</td>\n",
       "      <td>31.240000</td>\n",
       "      <td>87682100</td>\n",
       "    </tr>\n",
       "    <tr>\n",
       "      <th>3</th>\n",
       "      <td>2013-01-31</td>\n",
       "      <td>29.150000</td>\n",
       "      <td>31.469999</td>\n",
       "      <td>28.740000</td>\n",
       "      <td>30.980000</td>\n",
       "      <td>30.980000</td>\n",
       "      <td>190744900</td>\n",
       "    </tr>\n",
       "    <tr>\n",
       "      <th>4</th>\n",
       "      <td>2013-02-01</td>\n",
       "      <td>31.010000</td>\n",
       "      <td>31.020000</td>\n",
       "      <td>29.629999</td>\n",
       "      <td>29.730000</td>\n",
       "      <td>29.730000</td>\n",
       "      <td>85856700</td>\n",
       "    </tr>\n",
       "  </tbody>\n",
       "</table>\n",
       "</div>"
      ],
      "text/plain": [
       "         Date       Open       High        Low      Close  Adj Close  \\\n",
       "0  2013-01-28  31.879999  32.509998  31.809999  32.470001  32.470001   \n",
       "1  2013-01-29  32.000000  32.070000  30.709999  30.790001  30.790001   \n",
       "2  2013-01-30  30.980000  31.490000  30.879999  31.240000  31.240000   \n",
       "3  2013-01-31  29.150000  31.469999  28.740000  30.980000  30.980000   \n",
       "4  2013-02-01  31.010000  31.020000  29.629999  29.730000  29.730000   \n",
       "\n",
       "      Volume  \n",
       "0   59682500  \n",
       "1   72976500  \n",
       "2   87682100  \n",
       "3  190744900  \n",
       "4   85856700  "
      ]
     },
     "execution_count": 3,
     "metadata": {},
     "output_type": "execute_result"
    }
   ],
   "source": [
    "df.head()"
   ]
  },
  {
   "cell_type": "code",
   "execution_count": 4,
   "metadata": {
    "ExecuteTime": {
     "end_time": "2020-02-02T14:50:57.700413Z",
     "start_time": "2020-02-02T14:50:57.663545Z"
    }
   },
   "outputs": [
    {
     "data": {
      "text/html": [
       "<div>\n",
       "<style scoped>\n",
       "    .dataframe tbody tr th:only-of-type {\n",
       "        vertical-align: middle;\n",
       "    }\n",
       "\n",
       "    .dataframe tbody tr th {\n",
       "        vertical-align: top;\n",
       "    }\n",
       "\n",
       "    .dataframe thead th {\n",
       "        text-align: right;\n",
       "    }\n",
       "</style>\n",
       "<table border=\"1\" class=\"dataframe\">\n",
       "  <thead>\n",
       "    <tr style=\"text-align: right;\">\n",
       "      <th></th>\n",
       "      <th>Open</th>\n",
       "      <th>High</th>\n",
       "      <th>Low</th>\n",
       "      <th>Close</th>\n",
       "      <th>Adj Close</th>\n",
       "      <th>Volume</th>\n",
       "    </tr>\n",
       "  </thead>\n",
       "  <tbody>\n",
       "    <tr>\n",
       "      <th>count</th>\n",
       "      <td>1761.000000</td>\n",
       "      <td>1761.000000</td>\n",
       "      <td>1761.000000</td>\n",
       "      <td>1761.000000</td>\n",
       "      <td>1761.000000</td>\n",
       "      <td>1.761000e+03</td>\n",
       "    </tr>\n",
       "    <tr>\n",
       "      <th>mean</th>\n",
       "      <td>118.781840</td>\n",
       "      <td>120.008399</td>\n",
       "      <td>117.500392</td>\n",
       "      <td>118.811113</td>\n",
       "      <td>118.811113</td>\n",
       "      <td>3.095813e+07</td>\n",
       "    </tr>\n",
       "    <tr>\n",
       "      <th>std</th>\n",
       "      <td>53.322957</td>\n",
       "      <td>53.748415</td>\n",
       "      <td>52.885288</td>\n",
       "      <td>53.354433</td>\n",
       "      <td>53.354433</td>\n",
       "      <td>2.520860e+07</td>\n",
       "    </tr>\n",
       "    <tr>\n",
       "      <th>min</th>\n",
       "      <td>22.990000</td>\n",
       "      <td>23.090000</td>\n",
       "      <td>22.670000</td>\n",
       "      <td>22.900000</td>\n",
       "      <td>22.900000</td>\n",
       "      <td>5.913100e+06</td>\n",
       "    </tr>\n",
       "    <tr>\n",
       "      <th>25%</th>\n",
       "      <td>75.589996</td>\n",
       "      <td>76.570000</td>\n",
       "      <td>74.779999</td>\n",
       "      <td>75.739998</td>\n",
       "      <td>75.739998</td>\n",
       "      <td>1.584980e+07</td>\n",
       "    </tr>\n",
       "    <tr>\n",
       "      <th>50%</th>\n",
       "      <td>118.629997</td>\n",
       "      <td>119.430000</td>\n",
       "      <td>117.610001</td>\n",
       "      <td>118.669998</td>\n",
       "      <td>118.669998</td>\n",
       "      <td>2.275120e+07</td>\n",
       "    </tr>\n",
       "    <tr>\n",
       "      <th>75%</th>\n",
       "      <td>169.820007</td>\n",
       "      <td>171.500000</td>\n",
       "      <td>168.250000</td>\n",
       "      <td>169.919998</td>\n",
       "      <td>169.919998</td>\n",
       "      <td>3.679600e+07</td>\n",
       "    </tr>\n",
       "    <tr>\n",
       "      <th>max</th>\n",
       "      <td>222.570007</td>\n",
       "      <td>222.750000</td>\n",
       "      <td>221.279999</td>\n",
       "      <td>222.139999</td>\n",
       "      <td>222.139999</td>\n",
       "      <td>3.654579e+08</td>\n",
       "    </tr>\n",
       "  </tbody>\n",
       "</table>\n",
       "</div>"
      ],
      "text/plain": [
       "              Open         High          Low        Close    Adj Close  \\\n",
       "count  1761.000000  1761.000000  1761.000000  1761.000000  1761.000000   \n",
       "mean    118.781840   120.008399   117.500392   118.811113   118.811113   \n",
       "std      53.322957    53.748415    52.885288    53.354433    53.354433   \n",
       "min      22.990000    23.090000    22.670000    22.900000    22.900000   \n",
       "25%      75.589996    76.570000    74.779999    75.739998    75.739998   \n",
       "50%     118.629997   119.430000   117.610001   118.669998   118.669998   \n",
       "75%     169.820007   171.500000   168.250000   169.919998   169.919998   \n",
       "max     222.570007   222.750000   221.279999   222.139999   222.139999   \n",
       "\n",
       "             Volume  \n",
       "count  1.761000e+03  \n",
       "mean   3.095813e+07  \n",
       "std    2.520860e+07  \n",
       "min    5.913100e+06  \n",
       "25%    1.584980e+07  \n",
       "50%    2.275120e+07  \n",
       "75%    3.679600e+07  \n",
       "max    3.654579e+08  "
      ]
     },
     "execution_count": 4,
     "metadata": {},
     "output_type": "execute_result"
    }
   ],
   "source": [
    "df.describe()"
   ]
  },
  {
   "cell_type": "code",
   "execution_count": 6,
   "metadata": {
    "ExecuteTime": {
     "end_time": "2020-02-02T14:50:59.254456Z",
     "start_time": "2020-02-02T14:50:59.247474Z"
    }
   },
   "outputs": [],
   "source": [
    "def custom_ts_multi_data_prep(dataset, target, start_index, end_index, window, horizon):\n",
    "    data = []\n",
    "    labels = []\n",
    "\n",
    "    start_index = start_index + window\n",
    "    if end_index is None:\n",
    "        end_index = len(dataset) - horizon\n",
    "\n",
    "    for i in range(start_index, end_index):\n",
    "        indices = range(i-window, i)\n",
    "        data.append(dataset[indices])\n",
    "\n",
    "        indicey = range(i+1, i+1+horizon)\n",
    "        labels.append(target[indicey])\n",
    "    return np.array(data), np.array(labels)"
   ]
  },
  {
   "cell_type": "code",
   "execution_count": 7,
   "metadata": {
    "ExecuteTime": {
     "end_time": "2020-02-02T14:51:00.617129Z",
     "start_time": "2020-02-02T14:51:00.611144Z"
    }
   },
   "outputs": [],
   "source": [
    "validate = df[['Open', 'High','Low','Close']].tail(70)\n",
    "df.drop(df.tail(70).index,inplace=True)"
   ]
  },
  {
   "cell_type": "code",
   "execution_count": 8,
   "metadata": {
    "ExecuteTime": {
     "end_time": "2020-02-02T14:51:01.359471Z",
     "start_time": "2020-02-02T14:51:01.347457Z"
    }
   },
   "outputs": [],
   "source": [
    "x_scaler = preprocessing.MinMaxScaler()\n",
    "y_scaler = preprocessing.MinMaxScaler()\n",
    "dataX = x_scaler.fit_transform(df[['Open', 'High','Low']])\n",
    "dataY = y_scaler.fit_transform(df[['Close']])"
   ]
  },
  {
   "cell_type": "code",
   "execution_count": 9,
   "metadata": {
    "ExecuteTime": {
     "end_time": "2020-02-02T14:51:02.774123Z",
     "start_time": "2020-02-02T14:51:02.711292Z"
    }
   },
   "outputs": [],
   "source": [
    "hist_window = 60\n",
    "horizon = 10\n",
    "TRAIN_SPLIT = 1000\n",
    "x_train_multi, y_train_multi = custom_ts_multi_data_prep(\n",
    "    dataX, dataY, 0, TRAIN_SPLIT, hist_window, horizon)\n",
    "x_val_multi, y_val_multi= custom_ts_multi_data_prep(\n",
    "    dataX, dataY, TRAIN_SPLIT, None, hist_window, horizon)"
   ]
  },
  {
   "cell_type": "code",
   "execution_count": 10,
   "metadata": {
    "ExecuteTime": {
     "end_time": "2020-02-02T14:51:03.709479Z",
     "start_time": "2020-02-02T14:51:03.700504Z"
    },
    "scrolled": true
   },
   "outputs": [
    {
     "data": {
      "text/plain": [
       "array([[0.0461267 , 0.04817674, 0.04770354],\n",
       "       [0.04674934, 0.04592646, 0.04196242],\n",
       "       [0.04145696, 0.04296016, 0.04284968],\n",
       "       [0.03196181, 0.04285787, 0.03168058],\n",
       "       [0.04161262, 0.04055644, 0.03632567],\n",
       "       [0.03149483, 0.03124841, 0.02787056],\n",
       "       [0.02734395, 0.03002096, 0.02802714],\n",
       "       [0.02983448, 0.0317087 , 0.03126305],\n",
       "       [0.03175427, 0.03099269, 0.02922756],\n",
       "       [0.03061277, 0.03109497, 0.03048017],\n",
       "       [0.02915997, 0.02858896, 0.02802714],\n",
       "       [0.02428268, 0.02592953, 0.02312109],\n",
       "       [0.02267421, 0.02674781, 0.02421711],\n",
       "       [0.02609869, 0.02833324, 0.02787056],\n",
       "       [0.02869299, 0.02894697, 0.0282881 ],\n",
       "       [0.02718829, 0.03063469, 0.02844468],\n",
       "       [0.03076843, 0.03048125, 0.02954071],\n",
       "       [0.02744773, 0.0279241 , 0.02338205],\n",
       "       [0.02402325, 0.02321894, 0.02165971],\n",
       "       [0.02163649, 0.02327008, 0.02338205],\n",
       "       [0.02267421, 0.02234951, 0.02103341],\n",
       "       [0.02257044, 0.0217358 , 0.02066805],\n",
       "       [0.01997613, 0.02153122, 0.01915449],\n",
       "       [0.02106573, 0.02572496, 0.02160751],\n",
       "       [0.02474965, 0.02541809, 0.02489562],\n",
       "       [0.02537228, 0.02603181, 0.02369519],\n",
       "       [0.02651378, 0.02577609, 0.02442589],\n",
       "       [0.02376381, 0.02858896, 0.02505219],\n",
       "       [0.02822602, 0.02751495, 0.02640919],\n",
       "       [0.0260468 , 0.02838439, 0.02693111],\n",
       "       [0.02651378, 0.02674781, 0.02573069],\n",
       "       [0.02402325, 0.02332123, 0.02218163],\n",
       "       [0.02132517, 0.02219608, 0.0217119 ],\n",
       "       [0.02096197, 0.02030379, 0.02030271],\n",
       "       [0.01753749, 0.01892293, 0.01623174],\n",
       "       [0.01836767, 0.0194855 , 0.01847599],\n",
       "       [0.01914596, 0.0184115 , 0.01623174],\n",
       "       [0.01385358, 0.01544521, 0.0150835 ],\n",
       "       [0.01457998, 0.01493377, 0.01544885],\n",
       "       [0.01432055, 0.01385976, 0.01257829],\n",
       "       [0.01084419, 0.01222319, 0.01231733],\n",
       "       [0.0104291 , 0.01631464, 0.01069937],\n",
       "       [0.01608468, 0.01575206, 0.01487474],\n",
       "       [0.01369791, 0.01432005, 0.01362213],\n",
       "       [0.01442432, 0.01549635, 0.01372651],\n",
       "       [0.01473564, 0.0168772 , 0.0158142 ],\n",
       "       [0.01883464, 0.02117322, 0.01795408],\n",
       "       [0.02007991, 0.02408837, 0.02056368],\n",
       "       [0.02179215, 0.0210198 , 0.02066805],\n",
       "       [0.01862709, 0.01943435, 0.01957202],\n",
       "       [0.0208582 , 0.02429295, 0.02207724],\n",
       "       [0.02329684, 0.02562267, 0.02390397],\n",
       "       [0.02599492, 0.02511124, 0.02385177],\n",
       "       [0.02163649, 0.0224518 , 0.01925888],\n",
       "       [0.01982047, 0.02055951, 0.01946764],\n",
       "       [0.0189903 , 0.0210198 , 0.01941544],\n",
       "       [0.01987236, 0.01907636, 0.01294363],\n",
       "       [0.01364604, 0.01467805, 0.01388309],\n",
       "       [0.01463186, 0.01672378, 0.0158142 ],\n",
       "       [0.01675919, 0.01657035, 0.01617954]])"
      ]
     },
     "execution_count": 10,
     "metadata": {},
     "output_type": "execute_result"
    }
   ],
   "source": [
    "x_train_multi[0]"
   ]
  },
  {
   "cell_type": "code",
   "execution_count": 11,
   "metadata": {
    "ExecuteTime": {
     "end_time": "2020-02-02T14:51:05.173106Z",
     "start_time": "2020-02-02T14:51:05.167121Z"
    }
   },
   "outputs": [
    {
     "data": {
      "text/plain": [
       "array([[0.01664953],\n",
       "       [0.02029805],\n",
       "       [0.02096608],\n",
       "       [0.02502569],\n",
       "       [0.02327852],\n",
       "       [0.03119218],\n",
       "       [0.02780061],\n",
       "       [0.02399794],\n",
       "       [0.02050359],\n",
       "       [0.02168551]])"
      ]
     },
     "execution_count": 11,
     "metadata": {},
     "output_type": "execute_result"
    }
   ],
   "source": [
    "y_train_multi[0]"
   ]
  },
  {
   "cell_type": "code",
   "execution_count": 12,
   "metadata": {
    "ExecuteTime": {
     "end_time": "2020-02-02T14:51:07.211119Z",
     "start_time": "2020-02-02T14:51:05.786830Z"
    }
   },
   "outputs": [],
   "source": [
    "BATCH_SIZE = 128\n",
    "BUFFER_SIZE = 150\n",
    "\n",
    "train_data_multi = tf.data.Dataset.from_tensor_slices((x_train_multi, y_train_multi))\n",
    "train_data_multi = train_data_multi.cache().shuffle(BUFFER_SIZE).batch(BATCH_SIZE).repeat()\n",
    "\n",
    "val_data_multi = tf.data.Dataset.from_tensor_slices((x_val_multi, y_val_multi))\n",
    "val_data_multi = val_data_multi.batch(BATCH_SIZE).repeat()"
   ]
  },
  {
   "cell_type": "code",
   "execution_count": 13,
   "metadata": {
    "ExecuteTime": {
     "end_time": "2020-02-02T14:51:07.926311Z",
     "start_time": "2020-02-02T14:51:07.240265Z"
    }
   },
   "outputs": [],
   "source": [
    "simple_GRU_model = tf.keras.models.Sequential([\n",
    "    tf.keras.layers.GRU(100, input_shape=x_train_multi.shape[-2:],return_sequences=True),\n",
    "    tf.keras.layers.Dropout(0.2),\n",
    "    tf.keras.layers.GRU(units=50,return_sequences=False),\n",
    "    tf.keras.layers.Dropout(0.2),\n",
    "    tf.keras.layers.Dense(units=horizon),\n",
    "])\n",
    "simple_GRU_model.compile(optimizer='adam', loss='mse')\n"
   ]
  },
  {
   "cell_type": "code",
   "execution_count": 14,
   "metadata": {
    "ExecuteTime": {
     "end_time": "2020-02-02T14:51:09.257070Z",
     "start_time": "2020-02-02T14:51:09.252083Z"
    }
   },
   "outputs": [],
   "source": [
    "model_path = r'G:\\Study and WorkRelated\\Book Proposal\\book\\Code and Data\\Section 3\\Chapter 6\\GRU_Multivariate.h5'"
   ]
  },
  {
   "cell_type": "code",
   "execution_count": 15,
   "metadata": {
    "ExecuteTime": {
     "end_time": "2020-02-02T14:52:16.940256Z",
     "start_time": "2020-02-02T14:51:10.441350Z"
    }
   },
   "outputs": [
    {
     "name": "stdout",
     "output_type": "stream",
     "text": [
      "Train for 100 steps, validate for 50 steps\n",
      "Epoch 1/150\n",
      "100/100 [==============================] - 9s 95ms/step - loss: 0.0095 - val_loss: 0.0040\n",
      "Epoch 2/150\n",
      "100/100 [==============================] - 2s 16ms/step - loss: 0.0038 - val_loss: 0.0025\n",
      "Epoch 3/150\n",
      "100/100 [==============================] - 2s 15ms/step - loss: 0.0027 - val_loss: 0.0022\n",
      "Epoch 4/150\n",
      "100/100 [==============================] - 1s 15ms/step - loss: 0.0022 - val_loss: 0.0023\n",
      "Epoch 5/150\n",
      "100/100 [==============================] - 2s 17ms/step - loss: 0.0019 - val_loss: 0.0021\n",
      "Epoch 6/150\n",
      "100/100 [==============================] - 2s 16ms/step - loss: 0.0016 - val_loss: 0.0020\n",
      "Epoch 7/150\n",
      "100/100 [==============================] - 1s 14ms/step - loss: 0.0015 - val_loss: 0.0033\n",
      "Epoch 8/150\n",
      "100/100 [==============================] - 1s 15ms/step - loss: 0.0014 - val_loss: 0.0024\n",
      "Epoch 9/150\n",
      "100/100 [==============================] - 1s 15ms/step - loss: 0.0012 - val_loss: 0.0023\n",
      "Epoch 10/150\n",
      "100/100 [==============================] - 2s 15ms/step - loss: 0.0012 - val_loss: 0.0019\n",
      "Epoch 11/150\n",
      "100/100 [==============================] - 1s 15ms/step - loss: 0.0012 - val_loss: 0.0020\n",
      "Epoch 12/150\n",
      "100/100 [==============================] - 1s 15ms/step - loss: 9.8716e-04 - val_loss: 0.0020\n",
      "Epoch 13/150\n",
      "100/100 [==============================] - 1s 15ms/step - loss: 9.4589e-04 - val_loss: 0.0020\n",
      "Epoch 14/150\n",
      "100/100 [==============================] - 2s 15ms/step - loss: 0.0010 - val_loss: 0.0019\n",
      "Epoch 15/150\n",
      "100/100 [==============================] - 1s 14ms/step - loss: 9.2101e-04 - val_loss: 0.0039\n",
      "Epoch 16/150\n",
      "100/100 [==============================] - 1s 15ms/step - loss: 9.9943e-04 - val_loss: 0.0021\n",
      "Epoch 17/150\n",
      "100/100 [==============================] - 1s 15ms/step - loss: 8.3728e-04 - val_loss: 0.0023\n",
      "Epoch 18/150\n",
      "100/100 [==============================] - 2s 15ms/step - loss: 7.7394e-04 - val_loss: 0.0018\n",
      "Epoch 19/150\n",
      "100/100 [==============================] - 1s 15ms/step - loss: 9.2705e-04 - val_loss: 0.0020\n",
      "Epoch 20/150\n",
      "100/100 [==============================] - 1s 15ms/step - loss: 7.2337e-04 - val_loss: 0.0019\n",
      "Epoch 21/150\n",
      "100/100 [==============================] - 1s 15ms/step - loss: 7.2197e-04 - val_loss: 0.0025\n",
      "Epoch 22/150\n",
      "100/100 [==============================] - 1s 15ms/step - loss: 0.0010 - val_loss: 0.0024\n",
      "Epoch 23/150\n",
      "100/100 [==============================] - 1s 15ms/step - loss: 7.0427e-04 - val_loss: 0.0029\n",
      "Epoch 24/150\n",
      "100/100 [==============================] - 2s 15ms/step - loss: 6.7771e-04 - val_loss: 0.0019\n",
      "Epoch 25/150\n",
      "100/100 [==============================] - 1s 15ms/step - loss: 6.6446e-04 - val_loss: 0.0026\n",
      "Epoch 26/150\n",
      "100/100 [==============================] - 1s 15ms/step - loss: 6.6307e-04 - val_loss: 0.0021\n",
      "Epoch 27/150\n",
      "100/100 [==============================] - 2s 15ms/step - loss: 7.3073e-04 - val_loss: 0.0018\n",
      "Epoch 28/150\n",
      "100/100 [==============================] - 2s 15ms/step - loss: 6.8407e-04 - val_loss: 0.0020\n",
      "Epoch 29/150\n",
      "100/100 [==============================] - 2s 15ms/step - loss: 8.2076e-04 - val_loss: 0.0018\n",
      "Epoch 30/150\n",
      "100/100 [==============================] - 1s 15ms/step - loss: 6.2596e-04 - val_loss: 0.0020\n",
      "Epoch 31/150\n",
      "100/100 [==============================] - 1s 15ms/step - loss: 6.6258e-04 - val_loss: 0.0019\n",
      "Epoch 32/150\n",
      "100/100 [==============================] - 1s 15ms/step - loss: 7.8234e-04 - val_loss: 0.0026\n",
      "Epoch 33/150\n",
      "100/100 [==============================] - 1s 15ms/step - loss: 7.1085e-04 - val_loss: 0.0033\n",
      "Epoch 34/150\n",
      "100/100 [==============================] - 1s 15ms/step - loss: 0.0011 - val_loss: 0.0021\n",
      "Epoch 35/150\n",
      "100/100 [==============================] - 1s 15ms/step - loss: 0.0015 - val_loss: 0.0143\n",
      "Epoch 36/150\n",
      "100/100 [==============================] - 2s 15ms/step - loss: 9.0577e-04 - val_loss: 0.0024\n",
      "Epoch 37/150\n",
      "100/100 [==============================] - 1s 15ms/step - loss: 5.4882e-04 - val_loss: 0.0032\n",
      "Epoch 38/150\n",
      "100/100 [==============================] - 1s 15ms/step - loss: 5.6348e-04 - val_loss: 0.0024\n",
      "Epoch 39/150\n",
      "100/100 [==============================] - 1s 15ms/step - loss: 5.3970e-04 - val_loss: 0.0025\n",
      "Epoch 00039: early stopping\n"
     ]
    }
   ],
   "source": [
    "EVALUATION_INTERVAL = 100\n",
    "EPOCHS = 150\n",
    "history = simple_GRU_model.fit(train_data_multi, epochs=EPOCHS,steps_per_epoch=EVALUATION_INTERVAL,validation_data=val_data_multi, validation_steps=50,verbose =1,\n",
    "                              callbacks =[tf.keras.callbacks.EarlyStopping(monitor='val_loss', min_delta=0, patience=10, verbose=1, mode='min'),tf.keras.callbacks.ModelCheckpoint(model_path,monitor='val_loss', save_best_only=True, mode='min', verbose=0)])"
   ]
  },
  {
   "cell_type": "code",
   "execution_count": 16,
   "metadata": {
    "ExecuteTime": {
     "end_time": "2020-02-02T14:52:25.837296Z",
     "start_time": "2020-02-02T14:52:24.132147Z"
    }
   },
   "outputs": [],
   "source": [
    "Trained_model = tf.keras.models.load_model(r'G:\\Study and WorkRelated\\Book Proposal\\book\\Code and Data\\Section 3\\Chapter 6\\GRU_Multivariate.h5')"
   ]
  },
  {
   "cell_type": "code",
   "execution_count": 17,
   "metadata": {
    "ExecuteTime": {
     "end_time": "2020-02-02T14:52:26.606128Z",
     "start_time": "2020-02-02T14:52:26.599146Z"
    }
   },
   "outputs": [
    {
     "name": "stdout",
     "output_type": "stream",
     "text": [
      "Model: \"sequential\"\n",
      "_________________________________________________________________\n",
      "Layer (type)                 Output Shape              Param #   \n",
      "=================================================================\n",
      "gru (GRU)                    (None, 60, 100)           31500     \n",
      "_________________________________________________________________\n",
      "dropout (Dropout)            (None, 60, 100)           0         \n",
      "_________________________________________________________________\n",
      "gru_1 (GRU)                  (None, 50)                22800     \n",
      "_________________________________________________________________\n",
      "dropout_1 (Dropout)          (None, 50)                0         \n",
      "_________________________________________________________________\n",
      "dense (Dense)                (None, 10)                510       \n",
      "=================================================================\n",
      "Total params: 54,810\n",
      "Trainable params: 54,810\n",
      "Non-trainable params: 0\n",
      "_________________________________________________________________\n"
     ]
    }
   ],
   "source": [
    "# Show the model architecture\n",
    "Trained_model.summary()"
   ]
  },
  {
   "cell_type": "code",
   "execution_count": 24,
   "metadata": {
    "ExecuteTime": {
     "end_time": "2020-02-02T14:52:42.592355Z",
     "start_time": "2020-02-02T14:52:42.571690Z"
    }
   },
   "outputs": [],
   "source": [
    "validatehist = validate[['Open', 'High','Low']].head(60)\n",
    "validatehori = validate[['Open', 'High','Low','Close']].tail(10)"
   ]
  },
  {
   "cell_type": "code",
   "execution_count": 25,
   "metadata": {
    "ExecuteTime": {
     "end_time": "2020-02-02T14:52:44.015456Z",
     "start_time": "2020-02-02T14:52:44.001493Z"
    },
    "scrolled": true
   },
   "outputs": [
    {
     "data": {
      "text/html": [
       "<div>\n",
       "<style scoped>\n",
       "    .dataframe tbody tr th:only-of-type {\n",
       "        vertical-align: middle;\n",
       "    }\n",
       "\n",
       "    .dataframe tbody tr th {\n",
       "        vertical-align: top;\n",
       "    }\n",
       "\n",
       "    .dataframe thead th {\n",
       "        text-align: right;\n",
       "    }\n",
       "</style>\n",
       "<table border=\"1\" class=\"dataframe\">\n",
       "  <thead>\n",
       "    <tr style=\"text-align: right;\">\n",
       "      <th></th>\n",
       "      <th>Open</th>\n",
       "      <th>High</th>\n",
       "      <th>Low</th>\n",
       "    </tr>\n",
       "  </thead>\n",
       "  <tbody>\n",
       "    <tr>\n",
       "      <th>1691</th>\n",
       "      <td>183.800003</td>\n",
       "      <td>190.380005</td>\n",
       "      <td>183.660004</td>\n",
       "    </tr>\n",
       "    <tr>\n",
       "      <th>1692</th>\n",
       "      <td>188.320007</td>\n",
       "      <td>189.699997</td>\n",
       "      <td>186.899994</td>\n",
       "    </tr>\n",
       "    <tr>\n",
       "      <th>1693</th>\n",
       "      <td>190.300003</td>\n",
       "      <td>190.839996</td>\n",
       "      <td>188.770004</td>\n",
       "    </tr>\n",
       "    <tr>\n",
       "      <th>1694</th>\n",
       "      <td>190.229996</td>\n",
       "      <td>191.490005</td>\n",
       "      <td>183.919998</td>\n",
       "    </tr>\n",
       "    <tr>\n",
       "      <th>1695</th>\n",
       "      <td>187.039993</td>\n",
       "      <td>189.910004</td>\n",
       "      <td>186.750000</td>\n",
       "    </tr>\n",
       "    <tr>\n",
       "      <th>1696</th>\n",
       "      <td>190.000000</td>\n",
       "      <td>190.649994</td>\n",
       "      <td>181.500000</td>\n",
       "    </tr>\n",
       "    <tr>\n",
       "      <th>1697</th>\n",
       "      <td>182.009995</td>\n",
       "      <td>186.380005</td>\n",
       "      <td>182.000000</td>\n",
       "    </tr>\n",
       "    <tr>\n",
       "      <th>1698</th>\n",
       "      <td>184.619995</td>\n",
       "      <td>186.729996</td>\n",
       "      <td>182.800003</td>\n",
       "    </tr>\n",
       "    <tr>\n",
       "      <th>1699</th>\n",
       "      <td>185.830002</td>\n",
       "      <td>189.000000</td>\n",
       "      <td>185.089996</td>\n",
       "    </tr>\n",
       "    <tr>\n",
       "      <th>1700</th>\n",
       "      <td>187.199997</td>\n",
       "      <td>189.529999</td>\n",
       "      <td>185.080002</td>\n",
       "    </tr>\n",
       "    <tr>\n",
       "      <th>1701</th>\n",
       "      <td>191.690002</td>\n",
       "      <td>192.529999</td>\n",
       "      <td>188.470001</td>\n",
       "    </tr>\n",
       "    <tr>\n",
       "      <th>1702</th>\n",
       "      <td>189.559998</td>\n",
       "      <td>190.449997</td>\n",
       "      <td>185.979996</td>\n",
       "    </tr>\n",
       "    <tr>\n",
       "      <th>1703</th>\n",
       "      <td>196.699997</td>\n",
       "      <td>198.089996</td>\n",
       "      <td>188.250000</td>\n",
       "    </tr>\n",
       "    <tr>\n",
       "      <th>1704</th>\n",
       "      <td>192.850006</td>\n",
       "      <td>194.110001</td>\n",
       "      <td>189.910004</td>\n",
       "    </tr>\n",
       "    <tr>\n",
       "      <th>1705</th>\n",
       "      <td>194.550003</td>\n",
       "      <td>197.369995</td>\n",
       "      <td>193.809998</td>\n",
       "    </tr>\n",
       "    <tr>\n",
       "      <th>1706</th>\n",
       "      <td>195.369995</td>\n",
       "      <td>195.750000</td>\n",
       "      <td>193.600006</td>\n",
       "    </tr>\n",
       "    <tr>\n",
       "      <th>1707</th>\n",
       "      <td>194.029999</td>\n",
       "      <td>194.369995</td>\n",
       "      <td>191.350006</td>\n",
       "    </tr>\n",
       "    <tr>\n",
       "      <th>1708</th>\n",
       "      <td>191.910004</td>\n",
       "      <td>193.440002</td>\n",
       "      <td>189.470001</td>\n",
       "    </tr>\n",
       "    <tr>\n",
       "      <th>1709</th>\n",
       "      <td>190.000000</td>\n",
       "      <td>192.339996</td>\n",
       "      <td>189.699997</td>\n",
       "    </tr>\n",
       "    <tr>\n",
       "      <th>1710</th>\n",
       "      <td>189.929993</td>\n",
       "      <td>190.080002</td>\n",
       "      <td>188.539993</td>\n",
       "    </tr>\n",
       "    <tr>\n",
       "      <th>1711</th>\n",
       "      <td>190.000000</td>\n",
       "      <td>195.059998</td>\n",
       "      <td>189.740005</td>\n",
       "    </tr>\n",
       "    <tr>\n",
       "      <th>1712</th>\n",
       "      <td>194.699997</td>\n",
       "      <td>195.699997</td>\n",
       "      <td>192.740005</td>\n",
       "    </tr>\n",
       "    <tr>\n",
       "      <th>1713</th>\n",
       "      <td>192.929993</td>\n",
       "      <td>194.029999</td>\n",
       "      <td>191.449997</td>\n",
       "    </tr>\n",
       "    <tr>\n",
       "      <th>1714</th>\n",
       "      <td>194.259995</td>\n",
       "      <td>195.300003</td>\n",
       "      <td>193.380005</td>\n",
       "    </tr>\n",
       "    <tr>\n",
       "      <th>1715</th>\n",
       "      <td>194.559998</td>\n",
       "      <td>198.630005</td>\n",
       "      <td>193.050003</td>\n",
       "    </tr>\n",
       "    <tr>\n",
       "      <th>1716</th>\n",
       "      <td>197.399994</td>\n",
       "      <td>200.000000</td>\n",
       "      <td>196.860001</td>\n",
       "    </tr>\n",
       "    <tr>\n",
       "      <th>1717</th>\n",
       "      <td>198.580002</td>\n",
       "      <td>199.589996</td>\n",
       "      <td>195.429993</td>\n",
       "    </tr>\n",
       "    <tr>\n",
       "      <th>1718</th>\n",
       "      <td>197.419998</td>\n",
       "      <td>199.089996</td>\n",
       "      <td>196.860001</td>\n",
       "    </tr>\n",
       "    <tr>\n",
       "      <th>1719</th>\n",
       "      <td>198.380005</td>\n",
       "      <td>199.300003</td>\n",
       "      <td>197.619995</td>\n",
       "    </tr>\n",
       "    <tr>\n",
       "      <th>1720</th>\n",
       "      <td>199.520004</td>\n",
       "      <td>200.970001</td>\n",
       "      <td>199.250000</td>\n",
       "    </tr>\n",
       "    <tr>\n",
       "      <th>1721</th>\n",
       "      <td>200.000000</td>\n",
       "      <td>200.149994</td>\n",
       "      <td>198.039993</td>\n",
       "    </tr>\n",
       "    <tr>\n",
       "      <th>1722</th>\n",
       "      <td>199.899994</td>\n",
       "      <td>203.139999</td>\n",
       "      <td>199.419998</td>\n",
       "    </tr>\n",
       "    <tr>\n",
       "      <th>1723</th>\n",
       "      <td>201.600006</td>\n",
       "      <td>203.800003</td>\n",
       "      <td>201.210007</td>\n",
       "    </tr>\n",
       "    <tr>\n",
       "      <th>1724</th>\n",
       "      <td>202.130005</td>\n",
       "      <td>202.179993</td>\n",
       "      <td>198.050003</td>\n",
       "    </tr>\n",
       "    <tr>\n",
       "      <th>1725</th>\n",
       "      <td>197.600006</td>\n",
       "      <td>198.929993</td>\n",
       "      <td>195.080002</td>\n",
       "    </tr>\n",
       "    <tr>\n",
       "      <th>1726</th>\n",
       "      <td>200.000000</td>\n",
       "      <td>200.029999</td>\n",
       "      <td>198.050003</td>\n",
       "    </tr>\n",
       "    <tr>\n",
       "      <th>1727</th>\n",
       "      <td>199.860001</td>\n",
       "      <td>201.289993</td>\n",
       "      <td>198.210007</td>\n",
       "    </tr>\n",
       "    <tr>\n",
       "      <th>1728</th>\n",
       "      <td>200.500000</td>\n",
       "      <td>201.570007</td>\n",
       "      <td>200.059998</td>\n",
       "    </tr>\n",
       "    <tr>\n",
       "      <th>1729</th>\n",
       "      <td>200.649994</td>\n",
       "      <td>203.139999</td>\n",
       "      <td>200.210007</td>\n",
       "    </tr>\n",
       "    <tr>\n",
       "      <th>1730</th>\n",
       "      <td>201.660004</td>\n",
       "      <td>202.050003</td>\n",
       "      <td>200.149994</td>\n",
       "    </tr>\n",
       "    <tr>\n",
       "      <th>1731</th>\n",
       "      <td>200.279999</td>\n",
       "      <td>202.630005</td>\n",
       "      <td>200.279999</td>\n",
       "    </tr>\n",
       "    <tr>\n",
       "      <th>1732</th>\n",
       "      <td>202.350006</td>\n",
       "      <td>203.660004</td>\n",
       "      <td>194.100006</td>\n",
       "    </tr>\n",
       "    <tr>\n",
       "      <th>1733</th>\n",
       "      <td>196.399994</td>\n",
       "      <td>196.800003</td>\n",
       "      <td>193.169998</td>\n",
       "    </tr>\n",
       "    <tr>\n",
       "      <th>1734</th>\n",
       "      <td>195.270004</td>\n",
       "      <td>199.119995</td>\n",
       "      <td>194.809998</td>\n",
       "    </tr>\n",
       "    <tr>\n",
       "      <th>1735</th>\n",
       "      <td>198.839996</td>\n",
       "      <td>199.000000</td>\n",
       "      <td>196.130005</td>\n",
       "    </tr>\n",
       "    <tr>\n",
       "      <th>1736</th>\n",
       "      <td>200.089996</td>\n",
       "      <td>204.300003</td>\n",
       "      <td>200.089996</td>\n",
       "    </tr>\n",
       "    <tr>\n",
       "      <th>1737</th>\n",
       "      <td>202.779999</td>\n",
       "      <td>206.300003</td>\n",
       "      <td>202.509995</td>\n",
       "    </tr>\n",
       "    <tr>\n",
       "      <th>1738</th>\n",
       "      <td>207.479996</td>\n",
       "      <td>207.710007</td>\n",
       "      <td>203.429993</td>\n",
       "    </tr>\n",
       "    <tr>\n",
       "      <th>1739</th>\n",
       "      <td>206.699997</td>\n",
       "      <td>208.589996</td>\n",
       "      <td>205.679993</td>\n",
       "    </tr>\n",
       "    <tr>\n",
       "      <th>1740</th>\n",
       "      <td>206.300003</td>\n",
       "      <td>206.789993</td>\n",
       "      <td>205.000000</td>\n",
       "    </tr>\n",
       "    <tr>\n",
       "      <th>1741</th>\n",
       "      <td>205.570007</td>\n",
       "      <td>207.820007</td>\n",
       "      <td>205.309998</td>\n",
       "    </tr>\n",
       "    <tr>\n",
       "      <th>1742</th>\n",
       "      <td>208.669998</td>\n",
       "      <td>208.929993</td>\n",
       "      <td>206.589996</td>\n",
       "    </tr>\n",
       "    <tr>\n",
       "      <th>1743</th>\n",
       "      <td>207.860001</td>\n",
       "      <td>207.899994</td>\n",
       "      <td>203.899994</td>\n",
       "    </tr>\n",
       "    <tr>\n",
       "      <th>1744</th>\n",
       "      <td>204.000000</td>\n",
       "      <td>205.559998</td>\n",
       "      <td>203.600006</td>\n",
       "    </tr>\n",
       "    <tr>\n",
       "      <th>1745</th>\n",
       "      <td>206.750000</td>\n",
       "      <td>209.789993</td>\n",
       "      <td>206.270004</td>\n",
       "    </tr>\n",
       "    <tr>\n",
       "      <th>1746</th>\n",
       "      <td>207.210007</td>\n",
       "      <td>210.399994</td>\n",
       "      <td>206.949997</td>\n",
       "    </tr>\n",
       "    <tr>\n",
       "      <th>1747</th>\n",
       "      <td>206.699997</td>\n",
       "      <td>212.779999</td>\n",
       "      <td>206.520004</td>\n",
       "    </tr>\n",
       "    <tr>\n",
       "      <th>1748</th>\n",
       "      <td>212.820007</td>\n",
       "      <td>214.580002</td>\n",
       "      <td>211.750000</td>\n",
       "    </tr>\n",
       "    <tr>\n",
       "      <th>1749</th>\n",
       "      <td>213.000000</td>\n",
       "      <td>216.240005</td>\n",
       "      <td>212.610001</td>\n",
       "    </tr>\n",
       "    <tr>\n",
       "      <th>1750</th>\n",
       "      <td>217.539993</td>\n",
       "      <td>218.380005</td>\n",
       "      <td>216.279999</td>\n",
       "    </tr>\n",
       "  </tbody>\n",
       "</table>\n",
       "</div>"
      ],
      "text/plain": [
       "            Open        High         Low\n",
       "1691  183.800003  190.380005  183.660004\n",
       "1692  188.320007  189.699997  186.899994\n",
       "1693  190.300003  190.839996  188.770004\n",
       "1694  190.229996  191.490005  183.919998\n",
       "1695  187.039993  189.910004  186.750000\n",
       "1696  190.000000  190.649994  181.500000\n",
       "1697  182.009995  186.380005  182.000000\n",
       "1698  184.619995  186.729996  182.800003\n",
       "1699  185.830002  189.000000  185.089996\n",
       "1700  187.199997  189.529999  185.080002\n",
       "1701  191.690002  192.529999  188.470001\n",
       "1702  189.559998  190.449997  185.979996\n",
       "1703  196.699997  198.089996  188.250000\n",
       "1704  192.850006  194.110001  189.910004\n",
       "1705  194.550003  197.369995  193.809998\n",
       "1706  195.369995  195.750000  193.600006\n",
       "1707  194.029999  194.369995  191.350006\n",
       "1708  191.910004  193.440002  189.470001\n",
       "1709  190.000000  192.339996  189.699997\n",
       "1710  189.929993  190.080002  188.539993\n",
       "1711  190.000000  195.059998  189.740005\n",
       "1712  194.699997  195.699997  192.740005\n",
       "1713  192.929993  194.029999  191.449997\n",
       "1714  194.259995  195.300003  193.380005\n",
       "1715  194.559998  198.630005  193.050003\n",
       "1716  197.399994  200.000000  196.860001\n",
       "1717  198.580002  199.589996  195.429993\n",
       "1718  197.419998  199.089996  196.860001\n",
       "1719  198.380005  199.300003  197.619995\n",
       "1720  199.520004  200.970001  199.250000\n",
       "1721  200.000000  200.149994  198.039993\n",
       "1722  199.899994  203.139999  199.419998\n",
       "1723  201.600006  203.800003  201.210007\n",
       "1724  202.130005  202.179993  198.050003\n",
       "1725  197.600006  198.929993  195.080002\n",
       "1726  200.000000  200.029999  198.050003\n",
       "1727  199.860001  201.289993  198.210007\n",
       "1728  200.500000  201.570007  200.059998\n",
       "1729  200.649994  203.139999  200.210007\n",
       "1730  201.660004  202.050003  200.149994\n",
       "1731  200.279999  202.630005  200.279999\n",
       "1732  202.350006  203.660004  194.100006\n",
       "1733  196.399994  196.800003  193.169998\n",
       "1734  195.270004  199.119995  194.809998\n",
       "1735  198.839996  199.000000  196.130005\n",
       "1736  200.089996  204.300003  200.089996\n",
       "1737  202.779999  206.300003  202.509995\n",
       "1738  207.479996  207.710007  203.429993\n",
       "1739  206.699997  208.589996  205.679993\n",
       "1740  206.300003  206.789993  205.000000\n",
       "1741  205.570007  207.820007  205.309998\n",
       "1742  208.669998  208.929993  206.589996\n",
       "1743  207.860001  207.899994  203.899994\n",
       "1744  204.000000  205.559998  203.600006\n",
       "1745  206.750000  209.789993  206.270004\n",
       "1746  207.210007  210.399994  206.949997\n",
       "1747  206.699997  212.779999  206.520004\n",
       "1748  212.820007  214.580002  211.750000\n",
       "1749  213.000000  216.240005  212.610001\n",
       "1750  217.539993  218.380005  216.279999"
      ]
     },
     "execution_count": 25,
     "metadata": {},
     "output_type": "execute_result"
    }
   ],
   "source": [
    "validatehist"
   ]
  },
  {
   "cell_type": "code",
   "execution_count": 26,
   "metadata": {
    "ExecuteTime": {
     "end_time": "2020-02-02T14:52:45.297985Z",
     "start_time": "2020-02-02T14:52:45.291002Z"
    }
   },
   "outputs": [],
   "source": [
    "validatehist_x = x_scaler.fit_transform(validatehist[['Open', 'High','Low']])\n",
    "#dataY = y_scaler.fit_transform(df[['Close']])"
   ]
  },
  {
   "cell_type": "code",
   "execution_count": 27,
   "metadata": {
    "ExecuteTime": {
     "end_time": "2020-02-02T14:52:46.832076Z",
     "start_time": "2020-02-02T14:52:46.828085Z"
    }
   },
   "outputs": [],
   "source": [
    "val_rescaled = validatehist_x.reshape(1, validatehist_x.shape[0], validatehist_x.shape[1])"
   ]
  },
  {
   "cell_type": "code",
   "execution_count": 28,
   "metadata": {
    "ExecuteTime": {
     "end_time": "2020-02-02T14:52:47.912440Z",
     "start_time": "2020-02-02T14:52:47.495348Z"
    }
   },
   "outputs": [],
   "source": [
    "Predicted_results = Trained_model.predict(val_rescaled)"
   ]
  },
  {
   "cell_type": "code",
   "execution_count": 29,
   "metadata": {
    "ExecuteTime": {
     "end_time": "2020-02-02T14:52:48.904231Z",
     "start_time": "2020-02-02T14:52:48.899243Z"
    }
   },
   "outputs": [
    {
     "data": {
      "text/plain": [
       "array([[0.85437167, 0.825097  , 0.85728365, 0.8246887 , 0.83759046,\n",
       "        0.83964086, 0.84814143, 0.8378514 , 0.8242008 , 0.8411345 ]],\n",
       "      dtype=float32)"
      ]
     },
     "execution_count": 29,
     "metadata": {},
     "output_type": "execute_result"
    }
   ],
   "source": [
    "Predicted_results"
   ]
  },
  {
   "cell_type": "code",
   "execution_count": 30,
   "metadata": {
    "ExecuteTime": {
     "end_time": "2020-02-02T14:52:49.924539Z",
     "start_time": "2020-02-02T14:52:49.919555Z"
    }
   },
   "outputs": [],
   "source": [
    "Predicted_results_Inv_trans = y_scaler.inverse_transform(Predicted_results)"
   ]
  },
  {
   "cell_type": "code",
   "execution_count": 31,
   "metadata": {
    "ExecuteTime": {
     "end_time": "2020-02-02T14:52:51.425177Z",
     "start_time": "2020-02-02T14:52:51.419193Z"
    }
   },
   "outputs": [
    {
     "data": {
      "text/plain": [
       "array([[189.16072, 183.46388, 189.7274 , 183.38441, 185.8951 , 186.29411,\n",
       "        187.94832, 185.94588, 183.28947, 186.58476]], dtype=float32)"
      ]
     },
     "execution_count": 31,
     "metadata": {},
     "output_type": "execute_result"
    }
   ],
   "source": [
    "Predicted_results_Inv_trans"
   ]
  },
  {
   "cell_type": "code",
   "execution_count": 32,
   "metadata": {
    "ExecuteTime": {
     "end_time": "2020-02-02T14:52:52.906417Z",
     "start_time": "2020-02-02T14:52:52.895438Z"
    },
    "scrolled": true
   },
   "outputs": [
    {
     "data": {
      "text/html": [
       "<div>\n",
       "<style scoped>\n",
       "    .dataframe tbody tr th:only-of-type {\n",
       "        vertical-align: middle;\n",
       "    }\n",
       "\n",
       "    .dataframe tbody tr th {\n",
       "        vertical-align: top;\n",
       "    }\n",
       "\n",
       "    .dataframe thead th {\n",
       "        text-align: right;\n",
       "    }\n",
       "</style>\n",
       "<table border=\"1\" class=\"dataframe\">\n",
       "  <thead>\n",
       "    <tr style=\"text-align: right;\">\n",
       "      <th></th>\n",
       "      <th>Open</th>\n",
       "      <th>High</th>\n",
       "      <th>Low</th>\n",
       "      <th>Close</th>\n",
       "    </tr>\n",
       "  </thead>\n",
       "  <tbody>\n",
       "    <tr>\n",
       "      <th>1751</th>\n",
       "      <td>219.199997</td>\n",
       "      <td>219.880005</td>\n",
       "      <td>217.419998</td>\n",
       "      <td>218.059998</td>\n",
       "    </tr>\n",
       "    <tr>\n",
       "      <th>1752</th>\n",
       "      <td>219.600006</td>\n",
       "      <td>221.970001</td>\n",
       "      <td>219.210007</td>\n",
       "      <td>221.910004</td>\n",
       "    </tr>\n",
       "    <tr>\n",
       "      <th>1753</th>\n",
       "      <td>221.610001</td>\n",
       "      <td>222.380005</td>\n",
       "      <td>218.630005</td>\n",
       "      <td>219.059998</td>\n",
       "    </tr>\n",
       "    <tr>\n",
       "      <th>1754</th>\n",
       "      <td>220.610001</td>\n",
       "      <td>221.679993</td>\n",
       "      <td>220.139999</td>\n",
       "      <td>221.149994</td>\n",
       "    </tr>\n",
       "    <tr>\n",
       "      <th>1755</th>\n",
       "      <td>222.570007</td>\n",
       "      <td>222.630005</td>\n",
       "      <td>220.389999</td>\n",
       "      <td>221.770004</td>\n",
       "    </tr>\n",
       "    <tr>\n",
       "      <th>1756</th>\n",
       "      <td>222.029999</td>\n",
       "      <td>222.289993</td>\n",
       "      <td>220.529999</td>\n",
       "      <td>222.139999</td>\n",
       "    </tr>\n",
       "    <tr>\n",
       "      <th>1757</th>\n",
       "      <td>222.160004</td>\n",
       "      <td>222.369995</td>\n",
       "      <td>219.119995</td>\n",
       "      <td>221.440002</td>\n",
       "    </tr>\n",
       "    <tr>\n",
       "      <th>1758</th>\n",
       "      <td>222.309998</td>\n",
       "      <td>222.750000</td>\n",
       "      <td>221.279999</td>\n",
       "      <td>221.320007</td>\n",
       "    </tr>\n",
       "    <tr>\n",
       "      <th>1759</th>\n",
       "      <td>220.750000</td>\n",
       "      <td>221.490005</td>\n",
       "      <td>219.270004</td>\n",
       "      <td>219.759995</td>\n",
       "    </tr>\n",
       "    <tr>\n",
       "      <th>1760</th>\n",
       "      <td>220.800003</td>\n",
       "      <td>221.779999</td>\n",
       "      <td>216.110001</td>\n",
       "      <td>217.940002</td>\n",
       "    </tr>\n",
       "  </tbody>\n",
       "</table>\n",
       "</div>"
      ],
      "text/plain": [
       "            Open        High         Low       Close\n",
       "1751  219.199997  219.880005  217.419998  218.059998\n",
       "1752  219.600006  221.970001  219.210007  221.910004\n",
       "1753  221.610001  222.380005  218.630005  219.059998\n",
       "1754  220.610001  221.679993  220.139999  221.149994\n",
       "1755  222.570007  222.630005  220.389999  221.770004\n",
       "1756  222.029999  222.289993  220.529999  222.139999\n",
       "1757  222.160004  222.369995  219.119995  221.440002\n",
       "1758  222.309998  222.750000  221.279999  221.320007\n",
       "1759  220.750000  221.490005  219.270004  219.759995\n",
       "1760  220.800003  221.779999  216.110001  217.940002"
      ]
     },
     "execution_count": 32,
     "metadata": {},
     "output_type": "execute_result"
    }
   ],
   "source": [
    "validatehori"
   ]
  },
  {
   "cell_type": "code",
   "execution_count": 33,
   "metadata": {
    "ExecuteTime": {
     "end_time": "2020-02-02T14:52:54.806368Z",
     "start_time": "2020-02-02T14:52:54.775451Z"
    }
   },
   "outputs": [],
   "source": [
    "from sklearn import metrics\n",
    "def timeseries_evaluation_metrics_func(y_true, y_pred):\n",
    "    \n",
    "    def mean_absolute_percentage_error(y_true, y_pred): \n",
    "        y_true, y_pred = np.array(y_true), np.array(y_pred)\n",
    "        return np.mean(np.abs((y_true - y_pred) / y_true)) * 100\n",
    "    print('Evaluation metric results:-')\n",
    "    print(f'MSE is : {metrics.mean_squared_error(y_true, y_pred)}')\n",
    "    print(f'MAE is : {metrics.mean_absolute_error(y_true, y_pred)}')\n",
    "    print(f'RMSE is : {np.sqrt(metrics.mean_squared_error(y_true, y_pred))}')\n",
    "    print(f'MAPE is : {mean_absolute_percentage_error(y_true, y_pred)}')\n",
    "    #print(f'R2 is : {metrics.r2_score(y_true, y_pred)}',end='\\n\\n')"
   ]
  },
  {
   "cell_type": "code",
   "execution_count": 34,
   "metadata": {
    "ExecuteTime": {
     "end_time": "2020-02-02T14:52:56.441500Z",
     "start_time": "2020-02-02T14:52:56.434520Z"
    }
   },
   "outputs": [
    {
     "name": "stdout",
     "output_type": "stream",
     "text": [
      "Evaluation metric results:-\n",
      "MSE is : 1185.8121076487512\n",
      "MAE is : 34.28559417207031\n",
      "RMSE is : 34.43562265516265\n",
      "MAPE is : 15.544881990813813\n"
     ]
    }
   ],
   "source": [
    "timeseries_evaluation_metrics_func(validatehori['Close'],Predicted_results_Inv_trans[0])"
   ]
  },
  {
   "cell_type": "code",
   "execution_count": null,
   "metadata": {},
   "outputs": [],
   "source": []
  },
  {
   "cell_type": "code",
   "execution_count": null,
   "metadata": {},
   "outputs": [],
   "source": []
  },
  {
   "cell_type": "code",
   "execution_count": null,
   "metadata": {},
   "outputs": [],
   "source": []
  },
  {
   "cell_type": "code",
   "execution_count": null,
   "metadata": {},
   "outputs": [],
   "source": []
  },
  {
   "cell_type": "code",
   "execution_count": null,
   "metadata": {},
   "outputs": [],
   "source": []
  },
  {
   "cell_type": "code",
   "execution_count": null,
   "metadata": {},
   "outputs": [],
   "source": []
  },
  {
   "cell_type": "code",
   "execution_count": null,
   "metadata": {},
   "outputs": [],
   "source": []
  },
  {
   "cell_type": "code",
   "execution_count": null,
   "metadata": {},
   "outputs": [],
   "source": []
  },
  {
   "cell_type": "code",
   "execution_count": null,
   "metadata": {},
   "outputs": [],
   "source": []
  }
 ],
 "metadata": {
  "kernelspec": {
   "display_name": "Python 3",
   "language": "python",
   "name": "python3"
  },
  "language_info": {
   "codemirror_mode": {
    "name": "ipython",
    "version": 3
   },
   "file_extension": ".py",
   "mimetype": "text/x-python",
   "name": "python",
   "nbconvert_exporter": "python",
   "pygments_lexer": "ipython3",
   "version": "3.7.6"
  },
  "latex_envs": {
   "LaTeX_envs_menu_present": true,
   "autoclose": false,
   "autocomplete": true,
   "bibliofile": "biblio.bib",
   "cite_by": "apalike",
   "current_citInitial": 1,
   "eqLabelWithNumbers": true,
   "eqNumInitial": 1,
   "hotkeys": {
    "equation": "Ctrl-E",
    "itemize": "Ctrl-I"
   },
   "labels_anchors": false,
   "latex_user_defs": false,
   "report_style_numbering": false,
   "user_envs_cfg": false
  }
 },
 "nbformat": 4,
 "nbformat_minor": 2
}

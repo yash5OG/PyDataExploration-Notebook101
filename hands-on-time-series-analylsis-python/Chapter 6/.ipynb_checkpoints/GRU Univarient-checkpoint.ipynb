{
 "cells": [
  {
   "cell_type": "code",
   "execution_count": 1,
   "metadata": {
    "ExecuteTime": {
     "end_time": "2020-02-02T10:26:32.648291Z",
     "start_time": "2020-02-02T10:26:28.338762Z"
    }
   },
   "outputs": [],
   "source": [
    "import pandas as pd\n",
    "import numpy as np\n",
    "import tensorflow as tf\n",
    "from sklearn import preprocessing\n",
    "import matplotlib.pyplot as plt"
   ]
  },
  {
   "cell_type": "code",
   "execution_count": 2,
   "metadata": {
    "ExecuteTime": {
     "end_time": "2020-02-02T10:26:32.662252Z",
     "start_time": "2020-02-02T10:26:32.650252Z"
    }
   },
   "outputs": [],
   "source": [
    "df = pd.read_csv(r'G:\\Study and WorkRelated\\Book Proposal\\book\\Code and Data\\Data\\FB_DL.csv')"
   ]
  },
  {
   "cell_type": "code",
   "execution_count": 3,
   "metadata": {
    "ExecuteTime": {
     "end_time": "2020-02-02T10:26:33.796800Z",
     "start_time": "2020-02-02T10:26:33.777814Z"
    }
   },
   "outputs": [
    {
     "data": {
      "text/html": [
       "<div>\n",
       "<style scoped>\n",
       "    .dataframe tbody tr th:only-of-type {\n",
       "        vertical-align: middle;\n",
       "    }\n",
       "\n",
       "    .dataframe tbody tr th {\n",
       "        vertical-align: top;\n",
       "    }\n",
       "\n",
       "    .dataframe thead th {\n",
       "        text-align: right;\n",
       "    }\n",
       "</style>\n",
       "<table border=\"1\" class=\"dataframe\">\n",
       "  <thead>\n",
       "    <tr style=\"text-align: right;\">\n",
       "      <th></th>\n",
       "      <th>Date</th>\n",
       "      <th>Open</th>\n",
       "      <th>High</th>\n",
       "      <th>Low</th>\n",
       "      <th>Close</th>\n",
       "      <th>Adj Close</th>\n",
       "      <th>Volume</th>\n",
       "    </tr>\n",
       "  </thead>\n",
       "  <tbody>\n",
       "    <tr>\n",
       "      <th>0</th>\n",
       "      <td>2013-01-28</td>\n",
       "      <td>31.879999</td>\n",
       "      <td>32.509998</td>\n",
       "      <td>31.809999</td>\n",
       "      <td>32.470001</td>\n",
       "      <td>32.470001</td>\n",
       "      <td>59682500</td>\n",
       "    </tr>\n",
       "    <tr>\n",
       "      <th>1</th>\n",
       "      <td>2013-01-29</td>\n",
       "      <td>32.000000</td>\n",
       "      <td>32.070000</td>\n",
       "      <td>30.709999</td>\n",
       "      <td>30.790001</td>\n",
       "      <td>30.790001</td>\n",
       "      <td>72976500</td>\n",
       "    </tr>\n",
       "    <tr>\n",
       "      <th>2</th>\n",
       "      <td>2013-01-30</td>\n",
       "      <td>30.980000</td>\n",
       "      <td>31.490000</td>\n",
       "      <td>30.879999</td>\n",
       "      <td>31.240000</td>\n",
       "      <td>31.240000</td>\n",
       "      <td>87682100</td>\n",
       "    </tr>\n",
       "    <tr>\n",
       "      <th>3</th>\n",
       "      <td>2013-01-31</td>\n",
       "      <td>29.150000</td>\n",
       "      <td>31.469999</td>\n",
       "      <td>28.740000</td>\n",
       "      <td>30.980000</td>\n",
       "      <td>30.980000</td>\n",
       "      <td>190744900</td>\n",
       "    </tr>\n",
       "    <tr>\n",
       "      <th>4</th>\n",
       "      <td>2013-02-01</td>\n",
       "      <td>31.010000</td>\n",
       "      <td>31.020000</td>\n",
       "      <td>29.629999</td>\n",
       "      <td>29.730000</td>\n",
       "      <td>29.730000</td>\n",
       "      <td>85856700</td>\n",
       "    </tr>\n",
       "  </tbody>\n",
       "</table>\n",
       "</div>"
      ],
      "text/plain": [
       "         Date       Open       High        Low      Close  Adj Close  \\\n",
       "0  2013-01-28  31.879999  32.509998  31.809999  32.470001  32.470001   \n",
       "1  2013-01-29  32.000000  32.070000  30.709999  30.790001  30.790001   \n",
       "2  2013-01-30  30.980000  31.490000  30.879999  31.240000  31.240000   \n",
       "3  2013-01-31  29.150000  31.469999  28.740000  30.980000  30.980000   \n",
       "4  2013-02-01  31.010000  31.020000  29.629999  29.730000  29.730000   \n",
       "\n",
       "      Volume  \n",
       "0   59682500  \n",
       "1   72976500  \n",
       "2   87682100  \n",
       "3  190744900  \n",
       "4   85856700  "
      ]
     },
     "execution_count": 3,
     "metadata": {},
     "output_type": "execute_result"
    }
   ],
   "source": [
    "df.head()"
   ]
  },
  {
   "cell_type": "code",
   "execution_count": 4,
   "metadata": {
    "ExecuteTime": {
     "end_time": "2020-02-02T10:26:35.515417Z",
     "start_time": "2020-02-02T10:26:35.477552Z"
    }
   },
   "outputs": [
    {
     "data": {
      "text/html": [
       "<div>\n",
       "<style scoped>\n",
       "    .dataframe tbody tr th:only-of-type {\n",
       "        vertical-align: middle;\n",
       "    }\n",
       "\n",
       "    .dataframe tbody tr th {\n",
       "        vertical-align: top;\n",
       "    }\n",
       "\n",
       "    .dataframe thead th {\n",
       "        text-align: right;\n",
       "    }\n",
       "</style>\n",
       "<table border=\"1\" class=\"dataframe\">\n",
       "  <thead>\n",
       "    <tr style=\"text-align: right;\">\n",
       "      <th></th>\n",
       "      <th>Open</th>\n",
       "      <th>High</th>\n",
       "      <th>Low</th>\n",
       "      <th>Close</th>\n",
       "      <th>Adj Close</th>\n",
       "      <th>Volume</th>\n",
       "    </tr>\n",
       "  </thead>\n",
       "  <tbody>\n",
       "    <tr>\n",
       "      <th>count</th>\n",
       "      <td>1761.000000</td>\n",
       "      <td>1761.000000</td>\n",
       "      <td>1761.000000</td>\n",
       "      <td>1761.000000</td>\n",
       "      <td>1761.000000</td>\n",
       "      <td>1.761000e+03</td>\n",
       "    </tr>\n",
       "    <tr>\n",
       "      <th>mean</th>\n",
       "      <td>118.781840</td>\n",
       "      <td>120.008399</td>\n",
       "      <td>117.500392</td>\n",
       "      <td>118.811113</td>\n",
       "      <td>118.811113</td>\n",
       "      <td>3.095813e+07</td>\n",
       "    </tr>\n",
       "    <tr>\n",
       "      <th>std</th>\n",
       "      <td>53.322957</td>\n",
       "      <td>53.748415</td>\n",
       "      <td>52.885288</td>\n",
       "      <td>53.354433</td>\n",
       "      <td>53.354433</td>\n",
       "      <td>2.520860e+07</td>\n",
       "    </tr>\n",
       "    <tr>\n",
       "      <th>min</th>\n",
       "      <td>22.990000</td>\n",
       "      <td>23.090000</td>\n",
       "      <td>22.670000</td>\n",
       "      <td>22.900000</td>\n",
       "      <td>22.900000</td>\n",
       "      <td>5.913100e+06</td>\n",
       "    </tr>\n",
       "    <tr>\n",
       "      <th>25%</th>\n",
       "      <td>75.589996</td>\n",
       "      <td>76.570000</td>\n",
       "      <td>74.779999</td>\n",
       "      <td>75.739998</td>\n",
       "      <td>75.739998</td>\n",
       "      <td>1.584980e+07</td>\n",
       "    </tr>\n",
       "    <tr>\n",
       "      <th>50%</th>\n",
       "      <td>118.629997</td>\n",
       "      <td>119.430000</td>\n",
       "      <td>117.610001</td>\n",
       "      <td>118.669998</td>\n",
       "      <td>118.669998</td>\n",
       "      <td>2.275120e+07</td>\n",
       "    </tr>\n",
       "    <tr>\n",
       "      <th>75%</th>\n",
       "      <td>169.820007</td>\n",
       "      <td>171.500000</td>\n",
       "      <td>168.250000</td>\n",
       "      <td>169.919998</td>\n",
       "      <td>169.919998</td>\n",
       "      <td>3.679600e+07</td>\n",
       "    </tr>\n",
       "    <tr>\n",
       "      <th>max</th>\n",
       "      <td>222.570007</td>\n",
       "      <td>222.750000</td>\n",
       "      <td>221.279999</td>\n",
       "      <td>222.139999</td>\n",
       "      <td>222.139999</td>\n",
       "      <td>3.654579e+08</td>\n",
       "    </tr>\n",
       "  </tbody>\n",
       "</table>\n",
       "</div>"
      ],
      "text/plain": [
       "              Open         High          Low        Close    Adj Close  \\\n",
       "count  1761.000000  1761.000000  1761.000000  1761.000000  1761.000000   \n",
       "mean    118.781840   120.008399   117.500392   118.811113   118.811113   \n",
       "std      53.322957    53.748415    52.885288    53.354433    53.354433   \n",
       "min      22.990000    23.090000    22.670000    22.900000    22.900000   \n",
       "25%      75.589996    76.570000    74.779999    75.739998    75.739998   \n",
       "50%     118.629997   119.430000   117.610001   118.669998   118.669998   \n",
       "75%     169.820007   171.500000   168.250000   169.919998   169.919998   \n",
       "max     222.570007   222.750000   221.279999   222.139999   222.139999   \n",
       "\n",
       "             Volume  \n",
       "count  1.761000e+03  \n",
       "mean   3.095813e+07  \n",
       "std    2.520860e+07  \n",
       "min    5.913100e+06  \n",
       "25%    1.584980e+07  \n",
       "50%    2.275120e+07  \n",
       "75%    3.679600e+07  \n",
       "max    3.654579e+08  "
      ]
     },
     "execution_count": 4,
     "metadata": {},
     "output_type": "execute_result"
    }
   ],
   "source": [
    "df.describe()"
   ]
  },
  {
   "cell_type": "code",
   "execution_count": 5,
   "metadata": {
    "ExecuteTime": {
     "end_time": "2020-02-02T10:26:41.482035Z",
     "start_time": "2020-02-02T10:26:41.477021Z"
    }
   },
   "outputs": [],
   "source": [
    "validate = df['Close'].tail(70)\n",
    "df.drop(df['Close'].tail(70).index,inplace=True)"
   ]
  },
  {
   "cell_type": "code",
   "execution_count": 6,
   "metadata": {
    "ExecuteTime": {
     "end_time": "2020-02-02T10:26:42.056351Z",
     "start_time": "2020-02-02T10:26:42.048375Z"
    }
   },
   "outputs": [
    {
     "data": {
      "text/plain": [
       "Date\n",
       "2013-01-28    32.470001\n",
       "2013-01-29    30.790001\n",
       "2013-01-30    31.240000\n",
       "2013-01-31    30.980000\n",
       "2013-02-01    29.730000\n",
       "Name: Close, dtype: float64"
      ]
     },
     "execution_count": 6,
     "metadata": {},
     "output_type": "execute_result"
    }
   ],
   "source": [
    "uni_data = df['Close']\n",
    "uni_data.index = df['Date']\n",
    "uni_data.head()"
   ]
  },
  {
   "cell_type": "code",
   "execution_count": 7,
   "metadata": {
    "ExecuteTime": {
     "end_time": "2020-02-02T10:26:43.069520Z",
     "start_time": "2020-02-02T10:26:43.064532Z"
    }
   },
   "outputs": [],
   "source": [
    "uni_data = uni_data.values\n",
    "scaler_x = preprocessing.MinMaxScaler()\n",
    "x_rescaled = scaler_x.fit_transform(uni_data.reshape(-1, 1))"
   ]
  },
  {
   "cell_type": "code",
   "execution_count": 8,
   "metadata": {
    "ExecuteTime": {
     "end_time": "2020-02-02T10:26:43.992310Z",
     "start_time": "2020-02-02T10:26:43.984914Z"
    }
   },
   "outputs": [],
   "source": [
    "\n",
    "def custom_ts_univariate_data_prep(dataset, start_index, end_index, window, horizon):\n",
    "  data = []\n",
    "  labels = []\n",
    "\n",
    "  start_index = start_index + window\n",
    "  if end_index is None:\n",
    "    end_index = len(dataset) - horizon\n",
    "\n",
    "  for i in range(start_index, end_index):\n",
    "    indicesx = range(i-window, i)\n",
    "    data.append(np.reshape(dataset[indicesx], (window, 1)))\n",
    "    indicesy = range(i,i+horizon)\n",
    "    labels.append(dataset[indicesy])\n",
    "  return np.array(data), np.array(labels)"
   ]
  },
  {
   "cell_type": "code",
   "execution_count": 9,
   "metadata": {
    "ExecuteTime": {
     "end_time": "2020-02-02T10:26:45.472372Z",
     "start_time": "2020-02-02T10:26:45.400594Z"
    }
   },
   "outputs": [],
   "source": [
    "univar_hist_window = 60\n",
    "horizon = 10\n",
    "TRAIN_SPLIT = 1000\n",
    "x_train_uni, y_train_uni = custom_ts_univariate_data_prep(x_rescaled, 0, TRAIN_SPLIT,univar_hist_window, horizon)\n",
    "x_val_uni, y_val_uni = custom_ts_univariate_data_prep(x_rescaled, TRAIN_SPLIT, None,univar_hist_window,horizon)"
   ]
  },
  {
   "cell_type": "code",
   "execution_count": 10,
   "metadata": {
    "ExecuteTime": {
     "end_time": "2020-02-02T10:26:46.402822Z",
     "start_time": "2020-02-02T10:26:46.392849Z"
    }
   },
   "outputs": [
    {
     "name": "stdout",
     "output_type": "stream",
     "text": [
      "Single window of past history\n",
      "[[0.04917781]\n",
      " [0.04054471]\n",
      " [0.04285714]\n",
      " [0.04152107]\n",
      " [0.03509764]\n",
      " [0.02677287]\n",
      " [0.0294964 ]\n",
      " [0.03160328]\n",
      " [0.02954779]\n",
      " [0.02903391]\n",
      " [0.02754368]\n",
      " [0.0229702 ]\n",
      " [0.02574512]\n",
      " [0.02877698]\n",
      " [0.027852  ]\n",
      " [0.03098664]\n",
      " [0.02857142]\n",
      " [0.02250771]\n",
      " [0.02173689]\n",
      " [0.02245632]\n",
      " [0.02307297]\n",
      " [0.02040083]\n",
      " [0.02235355]\n",
      " [0.02507709]\n",
      " [0.02476875]\n",
      " [0.02374101]\n",
      " [0.0233813 ]\n",
      " [0.02918808]\n",
      " [0.02600205]\n",
      " [0.02692702]\n",
      " [0.02533402]\n",
      " [0.02147996]\n",
      " [0.02127441]\n",
      " [0.0192703 ]\n",
      " [0.0184481 ]\n",
      " [0.01875642]\n",
      " [0.01521069]\n",
      " [0.01459404]\n",
      " [0.01454265]\n",
      " [0.0114594 ]\n",
      " [0.0118705 ]\n",
      " [0.0163926 ]\n",
      " [0.01377184]\n",
      " [0.01351491]\n",
      " [0.01294964]\n",
      " [0.0172148 ]\n",
      " [0.02142857]\n",
      " [0.02307297]\n",
      " [0.02029805]\n",
      " [0.01896197]\n",
      " [0.02399794]\n",
      " [0.02631038]\n",
      " [0.02312436]\n",
      " [0.01860226]\n",
      " [0.02065776]\n",
      " [0.01916752]\n",
      " [0.01433711]\n",
      " [0.01454265]\n",
      " [0.01577595]\n",
      " [0.01582734]]\n",
      "\n",
      " Target horizon\n",
      "[[0.01649538]\n",
      " [0.01664953]\n",
      " [0.02029805]\n",
      " [0.02096608]\n",
      " [0.02502569]\n",
      " [0.02327852]\n",
      " [0.03119218]\n",
      " [0.02780061]\n",
      " [0.02399794]\n",
      " [0.02050359]]\n"
     ]
    }
   ],
   "source": [
    "print ('Single window of past history')\n",
    "print (x_train_uni[0])\n",
    "print ('\\n Target horizon')\n",
    "print (y_train_uni[0])"
   ]
  },
  {
   "cell_type": "code",
   "execution_count": 11,
   "metadata": {
    "ExecuteTime": {
     "end_time": "2020-02-02T10:26:50.184567Z",
     "start_time": "2020-02-02T10:26:48.980876Z"
    }
   },
   "outputs": [],
   "source": [
    "BATCH_SIZE = 128\n",
    "BUFFER_SIZE = 150\n",
    "\n",
    "train_univariate = tf.data.Dataset.from_tensor_slices((x_train_uni, y_train_uni))\n",
    "train_univariate = train_univariate.cache().shuffle(BUFFER_SIZE).batch(BATCH_SIZE).repeat()\n",
    "\n",
    "val_univariate = tf.data.Dataset.from_tensor_slices((x_val_uni, y_val_uni))\n",
    "val_univariate = val_univariate.batch(BATCH_SIZE).repeat()"
   ]
  },
  {
   "cell_type": "code",
   "execution_count": 12,
   "metadata": {
    "ExecuteTime": {
     "end_time": "2020-02-02T10:26:51.317466Z",
     "start_time": "2020-02-02T10:26:50.442910Z"
    }
   },
   "outputs": [],
   "source": [
    "simple_GRU_model = tf.keras.models.Sequential([\n",
    "    tf.keras.layers.GRU(100, input_shape=x_train_uni.shape[-2:],return_sequences=True),\n",
    "    tf.keras.layers.Dropout(0.2),\n",
    "    tf.keras.layers.GRU(units=50,return_sequences=False),\n",
    "    tf.keras.layers.Dropout(0.2),\n",
    "    tf.keras.layers.Dense(units=horizon),\n",
    "])\n",
    "simple_GRU_model.compile(optimizer='adam', loss='mse')\n"
   ]
  },
  {
   "cell_type": "code",
   "execution_count": 13,
   "metadata": {
    "ExecuteTime": {
     "end_time": "2020-02-02T10:26:52.112742Z",
     "start_time": "2020-02-02T10:26:52.108750Z"
    }
   },
   "outputs": [],
   "source": [
    "model_path = r'G:\\Study and WorkRelated\\Book Proposal\\book\\Code and Data\\Section 3\\Chapter 6\\GRU_Univarient.h5'"
   ]
  },
  {
   "cell_type": "code",
   "execution_count": 14,
   "metadata": {
    "ExecuteTime": {
     "end_time": "2020-02-02T10:28:12.400782Z",
     "start_time": "2020-02-02T10:26:54.570058Z"
    }
   },
   "outputs": [
    {
     "name": "stdout",
     "output_type": "stream",
     "text": [
      "Train for 100 steps, validate for 50 steps\n",
      "Epoch 1/150\n",
      "100/100 [==============================] - 10s 102ms/step - loss: 0.0131 - val_loss: 0.0034\n",
      "Epoch 2/150\n",
      "100/100 [==============================] - 2s 17ms/step - loss: 0.0038 - val_loss: 0.0024\n",
      "Epoch 3/150\n",
      "100/100 [==============================] - 2s 15ms/step - loss: 0.0027 - val_loss: 0.0050\n",
      "Epoch 4/150\n",
      "100/100 [==============================] - 2s 17ms/step - loss: 0.0023 - val_loss: 0.0018\n",
      "Epoch 5/150\n",
      "100/100 [==============================] - 2s 18ms/step - loss: 0.0019 - val_loss: 0.0018\n",
      "Epoch 6/150\n",
      "100/100 [==============================] - 2s 17ms/step - loss: 0.0018 - val_loss: 0.0017\n",
      "Epoch 7/150\n",
      "100/100 [==============================] - 2s 15ms/step - loss: 0.0018 - val_loss: 0.0017\n",
      "Epoch 8/150\n",
      "100/100 [==============================] - 1s 15ms/step - loss: 0.0014 - val_loss: 0.0018\n",
      "Epoch 9/150\n",
      "100/100 [==============================] - 1s 15ms/step - loss: 0.0012 - val_loss: 0.0032\n",
      "Epoch 10/150\n",
      "100/100 [==============================] - 2s 16ms/step - loss: 0.0014 - val_loss: 0.0017\n",
      "Epoch 11/150\n",
      "100/100 [==============================] - 2s 15ms/step - loss: 0.0010 - val_loss: 0.0025\n",
      "Epoch 12/150\n",
      "100/100 [==============================] - 2s 25ms/step - loss: 9.9726e-04 - val_loss: 0.0016\n",
      "Epoch 13/150\n",
      "100/100 [==============================] - 2s 15ms/step - loss: 0.0012 - val_loss: 0.0033\n",
      "Epoch 14/150\n",
      "100/100 [==============================] - 1s 15ms/step - loss: 0.0012 - val_loss: 0.0016\n",
      "Epoch 15/150\n",
      "100/100 [==============================] - 1s 15ms/step - loss: 8.1284e-04 - val_loss: 0.0018\n",
      "Epoch 16/150\n",
      "100/100 [==============================] - 1s 15ms/step - loss: 8.5704e-04 - val_loss: 0.0017\n",
      "Epoch 17/150\n",
      "100/100 [==============================] - 2s 15ms/step - loss: 8.1624e-04 - val_loss: 0.0056\n",
      "Epoch 18/150\n",
      "100/100 [==============================] - 1s 14ms/step - loss: 9.4377e-04 - val_loss: 0.0017\n",
      "Epoch 19/150\n",
      "100/100 [==============================] - 1s 15ms/step - loss: 7.1075e-04 - val_loss: 0.0020\n",
      "Epoch 20/150\n",
      "100/100 [==============================] - 1s 15ms/step - loss: 7.8874e-04 - val_loss: 0.0016\n",
      "Epoch 21/150\n",
      "100/100 [==============================] - 1s 15ms/step - loss: 8.8474e-04 - val_loss: 0.0019\n",
      "Epoch 22/150\n",
      "100/100 [==============================] - 2s 15ms/step - loss: 7.5607e-04 - val_loss: 0.0016\n",
      "Epoch 23/150\n",
      "100/100 [==============================] - 2s 19ms/step - loss: 6.6091e-04 - val_loss: 0.0015\n",
      "Epoch 24/150\n",
      "100/100 [==============================] - 1s 14ms/step - loss: 6.5577e-04 - val_loss: 0.0018\n",
      "Epoch 25/150\n",
      "100/100 [==============================] - 1s 15ms/step - loss: 8.8057e-04 - val_loss: 0.0035\n",
      "Epoch 26/150\n",
      "100/100 [==============================] - 1s 15ms/step - loss: 7.1892e-04 - val_loss: 0.0015\n",
      "Epoch 27/150\n",
      "100/100 [==============================] - 1s 15ms/step - loss: 5.9040e-04 - val_loss: 0.0016\n",
      "Epoch 28/150\n",
      "100/100 [==============================] - 1s 15ms/step - loss: 7.2242e-04 - val_loss: 0.0018\n",
      "Epoch 29/150\n",
      "100/100 [==============================] - 1s 14ms/step - loss: 7.0077e-04 - val_loss: 0.0030\n",
      "Epoch 30/150\n",
      "100/100 [==============================] - 2s 15ms/step - loss: 6.7135e-04 - val_loss: 0.0016\n",
      "Epoch 31/150\n",
      "100/100 [==============================] - 1s 15ms/step - loss: 5.4660e-04 - val_loss: 0.0016\n",
      "Epoch 32/150\n",
      "100/100 [==============================] - 1s 14ms/step - loss: 7.6880e-04 - val_loss: 0.0017\n",
      "Epoch 33/150\n",
      "100/100 [==============================] - 1s 15ms/step - loss: 5.9216e-04 - val_loss: 0.0017\n",
      "Epoch 34/150\n",
      "100/100 [==============================] - 1s 15ms/step - loss: 5.5227e-04 - val_loss: 0.0015\n",
      "Epoch 35/150\n",
      "100/100 [==============================] - 2s 15ms/step - loss: 7.4059e-04 - val_loss: 0.0015\n",
      "Epoch 36/150\n",
      "100/100 [==============================] - 1s 15ms/step - loss: 5.5131e-04 - val_loss: 0.0017\n",
      "Epoch 37/150\n",
      "100/100 [==============================] - 1s 15ms/step - loss: 5.4586e-04 - val_loss: 0.0016\n",
      "Epoch 38/150\n",
      "100/100 [==============================] - 1s 15ms/step - loss: 5.4129e-04 - val_loss: 0.0016\n",
      "Epoch 39/150\n",
      "100/100 [==============================] - 1s 15ms/step - loss: 5.9808e-04 - val_loss: 0.0016\n",
      "Epoch 40/150\n",
      "100/100 [==============================] - 1s 15ms/step - loss: 6.6497e-04 - val_loss: 0.0015\n",
      "Epoch 41/150\n",
      "100/100 [==============================] - 1s 15ms/step - loss: 6.0862e-04 - val_loss: 0.0016\n",
      "Epoch 42/150\n",
      "100/100 [==============================] - 1s 15ms/step - loss: 5.5150e-04 - val_loss: 0.0018\n",
      "Epoch 43/150\n",
      "100/100 [==============================] - 1s 15ms/step - loss: 4.9551e-04 - val_loss: 0.0019\n",
      "Epoch 44/150\n",
      "100/100 [==============================] - 1s 14ms/step - loss: 7.5133e-04 - val_loss: 0.0016\n",
      "Epoch 45/150\n",
      "100/100 [==============================] - 2s 15ms/step - loss: 4.8536e-04 - val_loss: 0.0019\n",
      "Epoch 00045: early stopping\n"
     ]
    }
   ],
   "source": [
    "EVALUATION_INTERVAL = 100\n",
    "EPOCHS = 150\n",
    "history = simple_GRU_model.fit(train_univariate, epochs=EPOCHS,steps_per_epoch=EVALUATION_INTERVAL,validation_data=val_univariate, validation_steps=50,verbose =1,\n",
    "                              callbacks =[tf.keras.callbacks.EarlyStopping(monitor='val_loss', min_delta=0, patience=10, verbose=1, mode='min'),tf.keras.callbacks.ModelCheckpoint(model_path,monitor='val_loss', save_best_only=True, mode='min', verbose=0)])"
   ]
  },
  {
   "cell_type": "code",
   "execution_count": 15,
   "metadata": {
    "ExecuteTime": {
     "end_time": "2020-02-02T10:28:33.526979Z",
     "start_time": "2020-02-02T10:28:31.770053Z"
    }
   },
   "outputs": [],
   "source": [
    "# Recreate the exact same model, including its weights and the optimizer\n",
    "Trained_model = tf.keras.models.load_model(r'G:\\Study and WorkRelated\\Book Proposal\\book\\Code and Data\\Section 3\\Chapter 6\\GRU_Univarient.h5')\n"
   ]
  },
  {
   "cell_type": "code",
   "execution_count": 16,
   "metadata": {
    "ExecuteTime": {
     "end_time": "2020-02-02T10:28:35.272118Z",
     "start_time": "2020-02-02T10:28:35.256497Z"
    }
   },
   "outputs": [
    {
     "name": "stdout",
     "output_type": "stream",
     "text": [
      "Model: \"sequential\"\n",
      "_________________________________________________________________\n",
      "Layer (type)                 Output Shape              Param #   \n",
      "=================================================================\n",
      "gru (GRU)                    (None, 60, 100)           30900     \n",
      "_________________________________________________________________\n",
      "dropout (Dropout)            (None, 60, 100)           0         \n",
      "_________________________________________________________________\n",
      "gru_1 (GRU)                  (None, 50)                22800     \n",
      "_________________________________________________________________\n",
      "dropout_1 (Dropout)          (None, 50)                0         \n",
      "_________________________________________________________________\n",
      "dense (Dense)                (None, 10)                510       \n",
      "=================================================================\n",
      "Total params: 54,210\n",
      "Trainable params: 54,210\n",
      "Non-trainable params: 0\n",
      "_________________________________________________________________\n"
     ]
    }
   ],
   "source": [
    "# Show the model architecture\n",
    "Trained_model.summary()"
   ]
  },
  {
   "cell_type": "code",
   "execution_count": 29,
   "metadata": {
    "ExecuteTime": {
     "end_time": "2020-02-02T10:30:13.774101Z",
     "start_time": "2020-02-02T10:30:13.527234Z"
    }
   },
   "outputs": [
    {
     "data": {
      "image/png": "[encoded data removed]",
      "text/plain": [
       "<Figure size 1152x648 with 1 Axes>"
      ]
     },
     "metadata": {
      "needs_background": "light"
     },
     "output_type": "display_data"
    }
   ],
   "source": [
    "plt.plot(history.history['loss'])\n",
    "plt.plot(history.history['val_loss'])\n",
    "plt.title('Model loss')\n",
    "plt.ylabel('loss')\n",
    "plt.xlabel('epoch')\n",
    "plt.legend(['train loss', 'validation loss'], loc='upper left')\n",
    "plt.rcParams[\"figure.figsize\"] = [16,9]\n",
    "plt.show()"
   ]
  },
  {
   "cell_type": "code",
   "execution_count": 18,
   "metadata": {
    "ExecuteTime": {
     "end_time": "2020-02-02T10:28:42.821564Z",
     "start_time": "2020-02-02T10:28:42.817573Z"
    }
   },
   "outputs": [],
   "source": [
    "validatehist = validate.head(60)\n",
    "validatehori = validate.tail(10)"
   ]
  },
  {
   "cell_type": "code",
   "execution_count": 19,
   "metadata": {
    "ExecuteTime": {
     "end_time": "2020-02-02T10:28:43.937717Z",
     "start_time": "2020-02-02T10:28:43.932731Z"
    }
   },
   "outputs": [],
   "source": [
    "validatehist = validatehist.values\n",
    "scaler_val = preprocessing.StandardScaler()\n",
    "val_rescaled = scaler_x.fit_transform(validatehist.reshape(-1, 1))"
   ]
  },
  {
   "cell_type": "code",
   "execution_count": 20,
   "metadata": {
    "ExecuteTime": {
     "end_time": "2020-02-02T10:28:45.344711Z",
     "start_time": "2020-02-02T10:28:45.340722Z"
    }
   },
   "outputs": [],
   "source": [
    "val_rescaled = val_rescaled.reshape((1, val_rescaled.shape[0], 1))"
   ]
  },
  {
   "cell_type": "code",
   "execution_count": 21,
   "metadata": {
    "ExecuteTime": {
     "end_time": "2020-02-02T10:28:46.532331Z",
     "start_time": "2020-02-02T10:28:46.083962Z"
    }
   },
   "outputs": [],
   "source": [
    "Predicted_results = Trained_model.predict(val_rescaled)"
   ]
  },
  {
   "cell_type": "code",
   "execution_count": 22,
   "metadata": {
    "ExecuteTime": {
     "end_time": "2020-02-02T10:28:46.812579Z",
     "start_time": "2020-02-02T10:28:46.805599Z"
    }
   },
   "outputs": [
    {
     "data": {
      "text/plain": [
       "array([[0.8985679 , 0.90071887, 0.8698223 , 0.8760884 , 0.87354743,\n",
       "        0.88170505, 0.86847603, 0.8799815 , 0.86700404, 0.8870734 ]],\n",
       "      dtype=float32)"
      ]
     },
     "execution_count": 22,
     "metadata": {},
     "output_type": "execute_result"
    }
   ],
   "source": [
    "Predicted_results"
   ]
  },
  {
   "cell_type": "code",
   "execution_count": 23,
   "metadata": {
    "ExecuteTime": {
     "end_time": "2020-02-02T10:28:48.104617Z",
     "start_time": "2020-02-02T10:28:48.088992Z"
    }
   },
   "outputs": [],
   "source": [
    "Predicted_inver_res = scaler_x.inverse_transform(Predicted_results)"
   ]
  },
  {
   "cell_type": "code",
   "execution_count": 24,
   "metadata": {
    "ExecuteTime": {
     "end_time": "2020-02-02T10:28:49.850592Z",
     "start_time": "2020-02-02T10:28:49.844609Z"
    }
   },
   "outputs": [
    {
     "data": {
      "text/plain": [
       "array([[214.65251, 214.72984, 213.61882, 213.84415, 213.75278, 214.04613,\n",
       "        213.57039, 213.98413, 213.51746, 214.23917]], dtype=float32)"
      ]
     },
     "execution_count": 24,
     "metadata": {},
     "output_type": "execute_result"
    }
   ],
   "source": [
    "Predicted_inver_res"
   ]
  },
  {
   "cell_type": "code",
   "execution_count": 25,
   "metadata": {
    "ExecuteTime": {
     "end_time": "2020-02-02T10:28:52.167457Z",
     "start_time": "2020-02-02T10:28:52.160475Z"
    }
   },
   "outputs": [
    {
     "data": {
      "text/plain": [
       "1751    218.059998\n",
       "1752    221.910004\n",
       "1753    219.059998\n",
       "1754    221.149994\n",
       "1755    221.770004\n",
       "1756    222.139999\n",
       "1757    221.440002\n",
       "1758    221.320007\n",
       "1759    219.759995\n",
       "1760    217.940002\n",
       "Name: Close, dtype: float64"
      ]
     },
     "execution_count": 25,
     "metadata": {},
     "output_type": "execute_result"
    }
   ],
   "source": [
    "validatehori"
   ]
  },
  {
   "cell_type": "code",
   "execution_count": 26,
   "metadata": {
    "ExecuteTime": {
     "end_time": "2020-02-02T10:28:54.110680Z",
     "start_time": "2020-02-02T10:28:54.076734Z"
    }
   },
   "outputs": [],
   "source": [
    "from sklearn import metrics\n",
    "def timeseries_evaluation_metrics_func(y_true, y_pred):\n",
    "    \n",
    "    def mean_absolute_percentage_error(y_true, y_pred): \n",
    "        y_true, y_pred = np.array(y_true), np.array(y_pred)\n",
    "        return np.mean(np.abs((y_true - y_pred) / y_true)) * 100\n",
    "    print('Evaluation metric results:-')\n",
    "    print(f'MSE is : {metrics.mean_squared_error(y_true, y_pred)}')\n",
    "    print(f'MAE is : {metrics.mean_absolute_error(y_true, y_pred)}')\n",
    "    print(f'RMSE is : {np.sqrt(metrics.mean_squared_error(y_true, y_pred))}')\n",
    "    print(f'MAPE is : {mean_absolute_percentage_error(y_true, y_pred)}')\n",
    "    #print(f'R2 is : {metrics.r2_score(y_true, y_pred)}',end='\\n\\n')"
   ]
  },
  {
   "cell_type": "code",
   "execution_count": 27,
   "metadata": {
    "ExecuteTime": {
     "end_time": "2020-02-02T10:28:56.123308Z",
     "start_time": "2020-02-02T10:28:56.116360Z"
    }
   },
   "outputs": [
    {
     "name": "stdout",
     "output_type": "stream",
     "text": [
      "Evaluation metric results:-\n",
      "MSE is : 44.43455482577974\n",
      "MAE is : 6.459463495800785\n",
      "RMSE is : 6.665924904000925\n",
      "MAPE is : 2.925155322475654\n"
     ]
    }
   ],
   "source": [
    "timeseries_evaluation_metrics_func(validatehori,Predicted_inver_res[0])"
   ]
  },
  {
   "cell_type": "code",
   "execution_count": null,
   "metadata": {},
   "outputs": [],
   "source": []
  },
  {
   "cell_type": "code",
   "execution_count": null,
   "metadata": {},
   "outputs": [],
   "source": []
  },
  {
   "cell_type": "code",
   "execution_count": null,
   "metadata": {},
   "outputs": [],
   "source": []
  },
  {
   "cell_type": "code",
   "execution_count": null,
   "metadata": {},
   "outputs": [],
   "source": []
  },
  {
   "cell_type": "code",
   "execution_count": null,
   "metadata": {},
   "outputs": [],
   "source": []
  }
 ],
 "metadata": {
  "kernelspec": {
   "display_name": "Python 3",
   "language": "python",
   "name": "python3"
  },
  "language_info": {
   "codemirror_mode": {
    "name": "ipython",
    "version": 3
   },
   "file_extension": ".py",
   "mimetype": "text/x-python",
   "name": "python",
   "nbconvert_exporter": "python",
   "pygments_lexer": "ipython3",
   "version": "3.7.6"
  },
  "latex_envs": {
   "LaTeX_envs_menu_present": true,
   "autoclose": false,
   "autocomplete": true,
   "bibliofile": "biblio.bib",
   "cite_by": "apalike",
   "current_citInitial": 1,
   "eqLabelWithNumbers": true,
   "eqNumInitial": 1,
   "hotkeys": {
    "equation": "Ctrl-E",
    "itemize": "Ctrl-I"
   },
   "labels_anchors": false,
   "latex_user_defs": false,
   "report_style_numbering": false,
   "user_envs_cfg": false
  }
 },
 "nbformat": 4,
 "nbformat_minor": 2
}

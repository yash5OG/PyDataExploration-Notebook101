{
 "cells": [
  {
   "cell_type": "code",
   "execution_count": 1,
   "metadata": {
    "ExecuteTime": {
     "end_time": "2020-02-02T10:34:08.251689Z",
     "start_time": "2020-02-02T10:34:03.643627Z"
    }
   },
   "outputs": [],
   "source": [
    "import pandas as pd\n",
    "import numpy as np\n",
    "import tensorflow as tf\n",
    "from sklearn import preprocessing\n",
    "import matplotlib.pyplot as plt"
   ]
  },
  {
   "cell_type": "code",
   "execution_count": 2,
   "metadata": {
    "ExecuteTime": {
     "end_time": "2020-02-02T10:34:08.523349Z",
     "start_time": "2020-02-02T10:34:08.511381Z"
    }
   },
   "outputs": [],
   "source": [
    "df = pd.read_csv(r'G:\\Study and WorkRelated\\Book Proposal\\book\\Code and Data\\Data\\FB_DL.csv')"
   ]
  },
  {
   "cell_type": "code",
   "execution_count": 3,
   "metadata": {
    "ExecuteTime": {
     "end_time": "2020-02-02T10:34:08.545257Z",
     "start_time": "2020-02-02T10:34:08.527306Z"
    }
   },
   "outputs": [
    {
     "data": {
      "text/html": [
       "<div>\n",
       "<style scoped>\n",
       "    .dataframe tbody tr th:only-of-type {\n",
       "        vertical-align: middle;\n",
       "    }\n",
       "\n",
       "    .dataframe tbody tr th {\n",
       "        vertical-align: top;\n",
       "    }\n",
       "\n",
       "    .dataframe thead th {\n",
       "        text-align: right;\n",
       "    }\n",
       "</style>\n",
       "<table border=\"1\" class=\"dataframe\">\n",
       "  <thead>\n",
       "    <tr style=\"text-align: right;\">\n",
       "      <th></th>\n",
       "      <th>Date</th>\n",
       "      <th>Open</th>\n",
       "      <th>High</th>\n",
       "      <th>Low</th>\n",
       "      <th>Close</th>\n",
       "      <th>Adj Close</th>\n",
       "      <th>Volume</th>\n",
       "    </tr>\n",
       "  </thead>\n",
       "  <tbody>\n",
       "    <tr>\n",
       "      <th>0</th>\n",
       "      <td>2013-01-28</td>\n",
       "      <td>31.879999</td>\n",
       "      <td>32.509998</td>\n",
       "      <td>31.809999</td>\n",
       "      <td>32.470001</td>\n",
       "      <td>32.470001</td>\n",
       "      <td>59682500</td>\n",
       "    </tr>\n",
       "    <tr>\n",
       "      <th>1</th>\n",
       "      <td>2013-01-29</td>\n",
       "      <td>32.000000</td>\n",
       "      <td>32.070000</td>\n",
       "      <td>30.709999</td>\n",
       "      <td>30.790001</td>\n",
       "      <td>30.790001</td>\n",
       "      <td>72976500</td>\n",
       "    </tr>\n",
       "    <tr>\n",
       "      <th>2</th>\n",
       "      <td>2013-01-30</td>\n",
       "      <td>30.980000</td>\n",
       "      <td>31.490000</td>\n",
       "      <td>30.879999</td>\n",
       "      <td>31.240000</td>\n",
       "      <td>31.240000</td>\n",
       "      <td>87682100</td>\n",
       "    </tr>\n",
       "    <tr>\n",
       "      <th>3</th>\n",
       "      <td>2013-01-31</td>\n",
       "      <td>29.150000</td>\n",
       "      <td>31.469999</td>\n",
       "      <td>28.740000</td>\n",
       "      <td>30.980000</td>\n",
       "      <td>30.980000</td>\n",
       "      <td>190744900</td>\n",
       "    </tr>\n",
       "    <tr>\n",
       "      <th>4</th>\n",
       "      <td>2013-02-01</td>\n",
       "      <td>31.010000</td>\n",
       "      <td>31.020000</td>\n",
       "      <td>29.629999</td>\n",
       "      <td>29.730000</td>\n",
       "      <td>29.730000</td>\n",
       "      <td>85856700</td>\n",
       "    </tr>\n",
       "  </tbody>\n",
       "</table>\n",
       "</div>"
      ],
      "text/plain": [
       "         Date       Open       High        Low      Close  Adj Close  \\\n",
       "0  2013-01-28  31.879999  32.509998  31.809999  32.470001  32.470001   \n",
       "1  2013-01-29  32.000000  32.070000  30.709999  30.790001  30.790001   \n",
       "2  2013-01-30  30.980000  31.490000  30.879999  31.240000  31.240000   \n",
       "3  2013-01-31  29.150000  31.469999  28.740000  30.980000  30.980000   \n",
       "4  2013-02-01  31.010000  31.020000  29.629999  29.730000  29.730000   \n",
       "\n",
       "      Volume  \n",
       "0   59682500  \n",
       "1   72976500  \n",
       "2   87682100  \n",
       "3  190744900  \n",
       "4   85856700  "
      ]
     },
     "execution_count": 3,
     "metadata": {},
     "output_type": "execute_result"
    }
   ],
   "source": [
    "df.head()"
   ]
  },
  {
   "cell_type": "code",
   "execution_count": 4,
   "metadata": {
    "ExecuteTime": {
     "end_time": "2020-02-02T10:34:08.591006Z",
     "start_time": "2020-02-02T10:34:08.547254Z"
    }
   },
   "outputs": [
    {
     "data": {
      "text/html": [
       "<div>\n",
       "<style scoped>\n",
       "    .dataframe tbody tr th:only-of-type {\n",
       "        vertical-align: middle;\n",
       "    }\n",
       "\n",
       "    .dataframe tbody tr th {\n",
       "        vertical-align: top;\n",
       "    }\n",
       "\n",
       "    .dataframe thead th {\n",
       "        text-align: right;\n",
       "    }\n",
       "</style>\n",
       "<table border=\"1\" class=\"dataframe\">\n",
       "  <thead>\n",
       "    <tr style=\"text-align: right;\">\n",
       "      <th></th>\n",
       "      <th>Open</th>\n",
       "      <th>High</th>\n",
       "      <th>Low</th>\n",
       "      <th>Close</th>\n",
       "      <th>Adj Close</th>\n",
       "      <th>Volume</th>\n",
       "    </tr>\n",
       "  </thead>\n",
       "  <tbody>\n",
       "    <tr>\n",
       "      <th>count</th>\n",
       "      <td>1761.000000</td>\n",
       "      <td>1761.000000</td>\n",
       "      <td>1761.000000</td>\n",
       "      <td>1761.000000</td>\n",
       "      <td>1761.000000</td>\n",
       "      <td>1.761000e+03</td>\n",
       "    </tr>\n",
       "    <tr>\n",
       "      <th>mean</th>\n",
       "      <td>118.781840</td>\n",
       "      <td>120.008399</td>\n",
       "      <td>117.500392</td>\n",
       "      <td>118.811113</td>\n",
       "      <td>118.811113</td>\n",
       "      <td>3.095813e+07</td>\n",
       "    </tr>\n",
       "    <tr>\n",
       "      <th>std</th>\n",
       "      <td>53.322957</td>\n",
       "      <td>53.748415</td>\n",
       "      <td>52.885288</td>\n",
       "      <td>53.354433</td>\n",
       "      <td>53.354433</td>\n",
       "      <td>2.520860e+07</td>\n",
       "    </tr>\n",
       "    <tr>\n",
       "      <th>min</th>\n",
       "      <td>22.990000</td>\n",
       "      <td>23.090000</td>\n",
       "      <td>22.670000</td>\n",
       "      <td>22.900000</td>\n",
       "      <td>22.900000</td>\n",
       "      <td>5.913100e+06</td>\n",
       "    </tr>\n",
       "    <tr>\n",
       "      <th>25%</th>\n",
       "      <td>75.589996</td>\n",
       "      <td>76.570000</td>\n",
       "      <td>74.779999</td>\n",
       "      <td>75.739998</td>\n",
       "      <td>75.739998</td>\n",
       "      <td>1.584980e+07</td>\n",
       "    </tr>\n",
       "    <tr>\n",
       "      <th>50%</th>\n",
       "      <td>118.629997</td>\n",
       "      <td>119.430000</td>\n",
       "      <td>117.610001</td>\n",
       "      <td>118.669998</td>\n",
       "      <td>118.669998</td>\n",
       "      <td>2.275120e+07</td>\n",
       "    </tr>\n",
       "    <tr>\n",
       "      <th>75%</th>\n",
       "      <td>169.820007</td>\n",
       "      <td>171.500000</td>\n",
       "      <td>168.250000</td>\n",
       "      <td>169.919998</td>\n",
       "      <td>169.919998</td>\n",
       "      <td>3.679600e+07</td>\n",
       "    </tr>\n",
       "    <tr>\n",
       "      <th>max</th>\n",
       "      <td>222.570007</td>\n",
       "      <td>222.750000</td>\n",
       "      <td>221.279999</td>\n",
       "      <td>222.139999</td>\n",
       "      <td>222.139999</td>\n",
       "      <td>3.654579e+08</td>\n",
       "    </tr>\n",
       "  </tbody>\n",
       "</table>\n",
       "</div>"
      ],
      "text/plain": [
       "              Open         High          Low        Close    Adj Close  \\\n",
       "count  1761.000000  1761.000000  1761.000000  1761.000000  1761.000000   \n",
       "mean    118.781840   120.008399   117.500392   118.811113   118.811113   \n",
       "std      53.322957    53.748415    52.885288    53.354433    53.354433   \n",
       "min      22.990000    23.090000    22.670000    22.900000    22.900000   \n",
       "25%      75.589996    76.570000    74.779999    75.739998    75.739998   \n",
       "50%     118.629997   119.430000   117.610001   118.669998   118.669998   \n",
       "75%     169.820007   171.500000   168.250000   169.919998   169.919998   \n",
       "max     222.570007   222.750000   221.279999   222.139999   222.139999   \n",
       "\n",
       "             Volume  \n",
       "count  1.761000e+03  \n",
       "mean   3.095813e+07  \n",
       "std    2.520860e+07  \n",
       "min    5.913100e+06  \n",
       "25%    1.584980e+07  \n",
       "50%    2.275120e+07  \n",
       "75%    3.679600e+07  \n",
       "max    3.654579e+08  "
      ]
     },
     "execution_count": 4,
     "metadata": {},
     "output_type": "execute_result"
    }
   ],
   "source": [
    "df.describe()"
   ]
  },
  {
   "cell_type": "code",
   "execution_count": 5,
   "metadata": {
    "ExecuteTime": {
     "end_time": "2020-02-02T10:34:08.602938Z",
     "start_time": "2020-02-02T10:34:08.593963Z"
    }
   },
   "outputs": [],
   "source": [
    "validate = df['Close'].tail(70)\n",
    "df.drop(df['Close'].tail(70).index,inplace=True)"
   ]
  },
  {
   "cell_type": "code",
   "execution_count": 8,
   "metadata": {
    "ExecuteTime": {
     "end_time": "2020-02-02T10:34:10.323787Z",
     "start_time": "2020-02-02T10:34:10.316770Z"
    }
   },
   "outputs": [
    {
     "data": {
      "text/plain": [
       "Date\n",
       "2013-01-28    32.470001\n",
       "2013-01-29    30.790001\n",
       "2013-01-30    31.240000\n",
       "2013-01-31    30.980000\n",
       "2013-02-01    29.730000\n",
       "Name: Close, dtype: float64"
      ]
     },
     "execution_count": 8,
     "metadata": {},
     "output_type": "execute_result"
    }
   ],
   "source": [
    "uni_data = df['Close']\n",
    "uni_data.index = df['Date']\n",
    "uni_data.head()"
   ]
  },
  {
   "cell_type": "code",
   "execution_count": 9,
   "metadata": {
    "ExecuteTime": {
     "end_time": "2020-02-02T10:34:12.145965Z",
     "start_time": "2020-02-02T10:34:12.140977Z"
    }
   },
   "outputs": [],
   "source": [
    "uni_data = uni_data.values\n",
    "scaler_x = preprocessing.MinMaxScaler()\n",
    "x_rescaled = scaler_x.fit_transform(uni_data.reshape(-1, 1))"
   ]
  },
  {
   "cell_type": "code",
   "execution_count": 10,
   "metadata": {
    "ExecuteTime": {
     "end_time": "2020-02-02T10:34:13.035859Z",
     "start_time": "2020-02-02T10:34:13.028877Z"
    }
   },
   "outputs": [],
   "source": [
    "\n",
    "def custom_ts_univariate_data_prep(dataset, start_index, end_index, window, horizon):\n",
    "  data = []\n",
    "  labels = []\n",
    "\n",
    "  start_index = start_index + window\n",
    "  if end_index is None:\n",
    "    end_index = len(dataset) - horizon\n",
    "\n",
    "  for i in range(start_index, end_index):\n",
    "    indicesx = range(i-window, i)\n",
    "    data.append(np.reshape(dataset[indicesx], (window, 1)))\n",
    "    indicesy = range(i,i+horizon)\n",
    "    labels.append(dataset[indicesy])\n",
    "  return np.array(data), np.array(labels)"
   ]
  },
  {
   "cell_type": "code",
   "execution_count": 11,
   "metadata": {
    "ExecuteTime": {
     "end_time": "2020-02-02T10:34:14.500780Z",
     "start_time": "2020-02-02T10:34:14.436951Z"
    }
   },
   "outputs": [],
   "source": [
    "univar_hist_window = 60\n",
    "horizon = 10\n",
    "TRAIN_SPLIT = 1000\n",
    "x_train_uni, y_train_uni = custom_ts_univariate_data_prep(x_rescaled, 0, TRAIN_SPLIT,univar_hist_window, horizon)\n",
    "x_val_uni, y_val_uni = custom_ts_univariate_data_prep(x_rescaled, TRAIN_SPLIT, None,univar_hist_window,horizon)"
   ]
  },
  {
   "cell_type": "code",
   "execution_count": 12,
   "metadata": {
    "ExecuteTime": {
     "end_time": "2020-02-02T10:34:16.783399Z",
     "start_time": "2020-02-02T10:34:16.773395Z"
    }
   },
   "outputs": [
    {
     "name": "stdout",
     "output_type": "stream",
     "text": [
      "Single window of past history\n",
      "[[0.04917781]\n",
      " [0.04054471]\n",
      " [0.04285714]\n",
      " [0.04152107]\n",
      " [0.03509764]\n",
      " [0.02677287]\n",
      " [0.0294964 ]\n",
      " [0.03160328]\n",
      " [0.02954779]\n",
      " [0.02903391]\n",
      " [0.02754368]\n",
      " [0.0229702 ]\n",
      " [0.02574512]\n",
      " [0.02877698]\n",
      " [0.027852  ]\n",
      " [0.03098664]\n",
      " [0.02857142]\n",
      " [0.02250771]\n",
      " [0.02173689]\n",
      " [0.02245632]\n",
      " [0.02307297]\n",
      " [0.02040083]\n",
      " [0.02235355]\n",
      " [0.02507709]\n",
      " [0.02476875]\n",
      " [0.02374101]\n",
      " [0.0233813 ]\n",
      " [0.02918808]\n",
      " [0.02600205]\n",
      " [0.02692702]\n",
      " [0.02533402]\n",
      " [0.02147996]\n",
      " [0.02127441]\n",
      " [0.0192703 ]\n",
      " [0.0184481 ]\n",
      " [0.01875642]\n",
      " [0.01521069]\n",
      " [0.01459404]\n",
      " [0.01454265]\n",
      " [0.0114594 ]\n",
      " [0.0118705 ]\n",
      " [0.0163926 ]\n",
      " [0.01377184]\n",
      " [0.01351491]\n",
      " [0.01294964]\n",
      " [0.0172148 ]\n",
      " [0.02142857]\n",
      " [0.02307297]\n",
      " [0.02029805]\n",
      " [0.01896197]\n",
      " [0.02399794]\n",
      " [0.02631038]\n",
      " [0.02312436]\n",
      " [0.01860226]\n",
      " [0.02065776]\n",
      " [0.01916752]\n",
      " [0.01433711]\n",
      " [0.01454265]\n",
      " [0.01577595]\n",
      " [0.01582734]]\n",
      "\n",
      " Target horizon\n",
      "[[0.01649538]\n",
      " [0.01664953]\n",
      " [0.02029805]\n",
      " [0.02096608]\n",
      " [0.02502569]\n",
      " [0.02327852]\n",
      " [0.03119218]\n",
      " [0.02780061]\n",
      " [0.02399794]\n",
      " [0.02050359]]\n"
     ]
    }
   ],
   "source": [
    "print ('Single window of past history')\n",
    "print (x_train_uni[0])\n",
    "print ('\\n Target horizon')\n",
    "print (y_train_uni[0])"
   ]
  },
  {
   "cell_type": "code",
   "execution_count": 13,
   "metadata": {
    "ExecuteTime": {
     "end_time": "2020-02-02T10:34:20.627744Z",
     "start_time": "2020-02-02T10:34:19.433942Z"
    }
   },
   "outputs": [],
   "source": [
    "BATCH_SIZE = 128\n",
    "BUFFER_SIZE = 150\n",
    "\n",
    "train_univariate = tf.data.Dataset.from_tensor_slices((x_train_uni, y_train_uni))\n",
    "train_univariate = train_univariate.cache().shuffle(BUFFER_SIZE).batch(BATCH_SIZE).repeat()\n",
    "\n",
    "val_univariate = tf.data.Dataset.from_tensor_slices((x_val_uni, y_val_uni))\n",
    "val_univariate = val_univariate.batch(BATCH_SIZE).repeat()"
   ]
  },
  {
   "cell_type": "code",
   "execution_count": 14,
   "metadata": {
    "ExecuteTime": {
     "end_time": "2020-02-02T10:34:23.078562Z",
     "start_time": "2020-02-02T10:34:21.381018Z"
    }
   },
   "outputs": [],
   "source": [
    "simple_bi_lstm_model = tf.keras.models.Sequential([\n",
    "  tf.keras.layers.Bidirectional(tf.keras.layers.LSTM(100, return_sequences=True), \n",
    "                               input_shape=x_train_uni.shape[-2:]),\n",
    "    tf.keras.layers.Bidirectional(tf.keras.layers.LSTM(50)),\n",
    "    tf.keras.layers.Dense(20, activation='softmax'),\n",
    "    tf.keras.layers.Dropout(0.2),\n",
    "    tf.keras.layers.Dense(units=horizon),\n",
    "])\n",
    "simple_bi_lstm_model.compile(optimizer='adam', loss='mse')\n"
   ]
  },
  {
   "cell_type": "code",
   "execution_count": 15,
   "metadata": {
    "ExecuteTime": {
     "end_time": "2020-02-02T10:34:24.324672Z",
     "start_time": "2020-02-02T10:34:24.320682Z"
    }
   },
   "outputs": [],
   "source": [
    "model_path = r'G:\\Study and WorkRelated\\Book Proposal\\book\\Code and Data\\Section 3\\Chapter 6\\Bidirectional_LSTM_Univarient.h5'"
   ]
  },
  {
   "cell_type": "code",
   "execution_count": 16,
   "metadata": {
    "ExecuteTime": {
     "end_time": "2020-02-02T10:36:25.103465Z",
     "start_time": "2020-02-02T10:34:25.258266Z"
    },
    "scrolled": true
   },
   "outputs": [
    {
     "name": "stdout",
     "output_type": "stream",
     "text": [
      "Train for 100 steps, validate for 50 steps\n",
      "Epoch 1/100\n",
      "100/100 [==============================] - 15s 147ms/step - loss: 0.0545 - val_loss: 0.2852\n",
      "Epoch 2/100\n",
      "100/100 [==============================] - 3s 26ms/step - loss: 0.0284 - val_loss: 0.2053\n",
      "Epoch 3/100\n",
      "100/100 [==============================] - 3s 26ms/step - loss: 0.0170 - val_loss: 0.1553\n",
      "Epoch 4/100\n",
      "100/100 [==============================] - 3s 28ms/step - loss: 0.0087 - val_loss: 0.1255\n",
      "Epoch 5/100\n",
      "100/100 [==============================] - 3s 31ms/step - loss: 0.0055 - val_loss: 0.1051\n",
      "Epoch 6/100\n",
      "100/100 [==============================] - 2s 24ms/step - loss: 0.0047 - val_loss: 0.0904\n",
      "Epoch 7/100\n",
      "100/100 [==============================] - 2s 24ms/step - loss: 0.0050 - val_loss: 0.0822\n",
      "Epoch 8/100\n",
      "100/100 [==============================] - 3s 25ms/step - loss: 0.0035 - val_loss: 0.0769\n",
      "Epoch 9/100\n",
      "100/100 [==============================] - 3s 25ms/step - loss: 0.0030 - val_loss: 0.0715\n",
      "Epoch 10/100\n",
      "100/100 [==============================] - 2s 25ms/step - loss: 0.0030 - val_loss: 0.0698\n",
      "Epoch 11/100\n",
      "100/100 [==============================] - 3s 28ms/step - loss: 0.0028 - val_loss: 0.0697\n",
      "Epoch 12/100\n",
      "100/100 [==============================] - 2s 24ms/step - loss: 0.0025 - val_loss: 0.0666\n",
      "Epoch 13/100\n",
      "100/100 [==============================] - 2s 24ms/step - loss: 0.0023 - val_loss: 0.0676\n",
      "Epoch 14/100\n",
      "100/100 [==============================] - 2s 24ms/step - loss: 0.0024 - val_loss: 0.0666\n",
      "Epoch 15/100\n",
      "100/100 [==============================] - 2s 23ms/step - loss: 0.0019 - val_loss: 0.0685\n",
      "Epoch 16/100\n",
      "100/100 [==============================] - 2s 23ms/step - loss: 0.0018 - val_loss: 0.0692\n",
      "Epoch 17/100\n",
      "100/100 [==============================] - 2s 24ms/step - loss: 0.0016 - val_loss: 0.0631\n",
      "Epoch 18/100\n",
      "100/100 [==============================] - 2s 24ms/step - loss: 0.0026 - val_loss: 0.0581\n",
      "Epoch 19/100\n",
      "100/100 [==============================] - 2s 24ms/step - loss: 0.0015 - val_loss: 0.0576\n",
      "Epoch 20/100\n",
      "100/100 [==============================] - 2s 24ms/step - loss: 0.0015 - val_loss: 0.0577\n",
      "Epoch 21/100\n",
      "100/100 [==============================] - 2s 23ms/step - loss: 0.0015 - val_loss: 0.0582\n",
      "Epoch 22/100\n",
      "100/100 [==============================] - 2s 24ms/step - loss: 0.0014 - val_loss: 0.0594\n",
      "Epoch 23/100\n",
      "100/100 [==============================] - 2s 24ms/step - loss: 0.0013 - val_loss: 0.0618\n",
      "Epoch 24/100\n",
      "100/100 [==============================] - 2s 24ms/step - loss: 0.0017 - val_loss: 0.0583\n",
      "Epoch 25/100\n",
      "100/100 [==============================] - 2s 24ms/step - loss: 0.0013 - val_loss: 0.0605\n",
      "Epoch 26/100\n",
      "100/100 [==============================] - 2s 24ms/step - loss: 0.0012 - val_loss: 0.0559\n",
      "Epoch 27/100\n",
      "100/100 [==============================] - 3s 25ms/step - loss: 0.0011 - val_loss: 0.0385\n",
      "Epoch 28/100\n",
      "100/100 [==============================] - 2s 24ms/step - loss: 0.0015 - val_loss: 0.0501\n",
      "Epoch 29/100\n",
      "100/100 [==============================] - 2s 25ms/step - loss: 0.0012 - val_loss: 0.0445\n",
      "Epoch 30/100\n",
      "100/100 [==============================] - 2s 23ms/step - loss: 0.0012 - val_loss: 0.0390\n",
      "Epoch 31/100\n",
      "100/100 [==============================] - 2s 24ms/step - loss: 0.0011 - val_loss: 0.0376\n",
      "Epoch 32/100\n",
      "100/100 [==============================] - 2s 23ms/step - loss: 0.0012 - val_loss: 0.0382\n",
      "Epoch 33/100\n",
      "100/100 [==============================] - 2s 24ms/step - loss: 0.0012 - val_loss: 0.0454\n",
      "Epoch 34/100\n",
      "100/100 [==============================] - 2s 24ms/step - loss: 0.0012 - val_loss: 0.0366\n",
      "Epoch 35/100\n",
      "100/100 [==============================] - 2s 24ms/step - loss: 0.0010 - val_loss: 0.0483\n",
      "Epoch 36/100\n",
      "100/100 [==============================] - 2s 24ms/step - loss: 9.9024e-04 - val_loss: 0.0526\n",
      "Epoch 37/100\n",
      "100/100 [==============================] - 2s 24ms/step - loss: 0.0013 - val_loss: 0.0536\n",
      "Epoch 38/100\n",
      "100/100 [==============================] - 2s 24ms/step - loss: 0.0012 - val_loss: 0.0588\n",
      "Epoch 39/100\n",
      "100/100 [==============================] - 2s 24ms/step - loss: 9.8797e-04 - val_loss: 0.0534\n",
      "Epoch 40/100\n",
      "100/100 [==============================] - 2s 24ms/step - loss: 0.0010 - val_loss: 0.0530\n",
      "Epoch 41/100\n",
      "100/100 [==============================] - 2s 24ms/step - loss: 0.0011 - val_loss: 0.0546\n",
      "Epoch 42/100\n",
      "100/100 [==============================] - 2s 24ms/step - loss: 0.0010 - val_loss: 0.0529\n",
      "Epoch 43/100\n",
      "100/100 [==============================] - 2s 24ms/step - loss: 9.8689e-04 - val_loss: 0.0464\n",
      "Epoch 44/100\n",
      "100/100 [==============================] - 2s 24ms/step - loss: 0.0010 - val_loss: 0.0520\n",
      "Epoch 00044: early stopping\n"
     ]
    }
   ],
   "source": [
    "EVALUATION_INTERVAL = 100\n",
    "EPOCHS = 100\n",
    "history = simple_bi_lstm_model.fit(train_univariate, epochs=EPOCHS,steps_per_epoch=EVALUATION_INTERVAL,validation_data=val_univariate, validation_steps=50,verbose =1,\n",
    "                              callbacks =[tf.keras.callbacks.EarlyStopping(monitor='val_loss', min_delta=0, patience=10, verbose=1, mode='min'),tf.keras.callbacks.ModelCheckpoint(model_path,monitor='val_loss', save_best_only=True, mode='min', verbose=0)])"
   ]
  },
  {
   "cell_type": "code",
   "execution_count": 17,
   "metadata": {
    "ExecuteTime": {
     "end_time": "2020-02-02T10:36:31.419914Z",
     "start_time": "2020-02-02T10:36:28.624663Z"
    }
   },
   "outputs": [],
   "source": [
    "# Recreate the exact same model, including its weights and the optimizer\n",
    "Trained_model = tf.keras.models.load_model(r'G:\\Study and WorkRelated\\Book Proposal\\book\\Code and Data\\Section 3\\Chapter 6\\Bidirectional_LSTM_Univarient.h5')\n"
   ]
  },
  {
   "cell_type": "code",
   "execution_count": 18,
   "metadata": {
    "ExecuteTime": {
     "end_time": "2020-02-02T10:36:32.111700Z",
     "start_time": "2020-02-02T10:36:32.104716Z"
    }
   },
   "outputs": [
    {
     "name": "stdout",
     "output_type": "stream",
     "text": [
      "Model: \"sequential\"\n",
      "_________________________________________________________________\n",
      "Layer (type)                 Output Shape              Param #   \n",
      "=================================================================\n",
      "bidirectional (Bidirectional (None, 60, 200)           81600     \n",
      "_________________________________________________________________\n",
      "bidirectional_1 (Bidirection (None, 100)               100400    \n",
      "_________________________________________________________________\n",
      "dense (Dense)                (None, 20)                2020      \n",
      "_________________________________________________________________\n",
      "dropout (Dropout)            (None, 20)                0         \n",
      "_________________________________________________________________\n",
      "dense_1 (Dense)              (None, 10)                210       \n",
      "=================================================================\n",
      "Total params: 184,230\n",
      "Trainable params: 184,230\n",
      "Non-trainable params: 0\n",
      "_________________________________________________________________\n"
     ]
    }
   ],
   "source": [
    "# Show the model architecture\n",
    "Trained_model.summary()"
   ]
  },
  {
   "cell_type": "code",
   "execution_count": 20,
   "metadata": {
    "ExecuteTime": {
     "end_time": "2020-02-02T10:36:46.843709Z",
     "start_time": "2020-02-02T10:36:46.612494Z"
    }
   },
   "outputs": [
    {
     "data": {
      "image/png": "[encoded data removed]",
      "text/plain": [
       "<Figure size 1152x648 with 1 Axes>"
      ]
     },
     "metadata": {
      "needs_background": "light"
     },
     "output_type": "display_data"
    }
   ],
   "source": [
    "plt.plot(history.history['loss'])\n",
    "plt.plot(history.history['val_loss'])\n",
    "plt.title('Model loss')\n",
    "plt.ylabel('loss')\n",
    "plt.xlabel('epoch')\n",
    "plt.legend(['train loss', 'validation loss'], loc='upper left')\n",
    "plt.rcParams[\"figure.figsize\"] = [16,9]\n",
    "plt.show()"
   ]
  },
  {
   "cell_type": "code",
   "execution_count": 21,
   "metadata": {
    "ExecuteTime": {
     "end_time": "2020-02-02T10:36:48.798497Z",
     "start_time": "2020-02-02T10:36:48.792550Z"
    }
   },
   "outputs": [],
   "source": [
    "validatehist = validate.head(60)\n",
    "validatehori = validate.tail(10)"
   ]
  },
  {
   "cell_type": "code",
   "execution_count": 22,
   "metadata": {
    "ExecuteTime": {
     "end_time": "2020-02-02T10:36:49.808697Z",
     "start_time": "2020-02-02T10:36:49.793038Z"
    }
   },
   "outputs": [],
   "source": [
    "validatehist = validatehist.values\n",
    "scaler_val = preprocessing.StandardScaler()\n",
    "val_rescaled = scaler_x.fit_transform(validatehist.reshape(-1, 1))"
   ]
  },
  {
   "cell_type": "code",
   "execution_count": 23,
   "metadata": {
    "ExecuteTime": {
     "end_time": "2020-02-02T10:36:50.764920Z",
     "start_time": "2020-02-02T10:36:50.760929Z"
    }
   },
   "outputs": [],
   "source": [
    "val_rescaled = val_rescaled.reshape((1, val_rescaled.shape[0], 1))"
   ]
  },
  {
   "cell_type": "code",
   "execution_count": 24,
   "metadata": {
    "ExecuteTime": {
     "end_time": "2020-02-02T10:36:53.372034Z",
     "start_time": "2020-02-02T10:36:52.489606Z"
    }
   },
   "outputs": [],
   "source": [
    "Predicted_results = Trained_model.predict(val_rescaled)"
   ]
  },
  {
   "cell_type": "code",
   "execution_count": 25,
   "metadata": {
    "ExecuteTime": {
     "end_time": "2020-02-02T10:36:54.553976Z",
     "start_time": "2020-02-02T10:36:54.547992Z"
    }
   },
   "outputs": [
    {
     "data": {
      "text/plain": [
       "array([[0.57443315, 0.5791188 , 0.6069125 , 0.59460187, 0.6139157 ,\n",
       "        0.59841156, 0.5582608 , 0.5852263 , 0.59342587, 0.5895103 ]],\n",
       "      dtype=float32)"
      ]
     },
     "execution_count": 25,
     "metadata": {},
     "output_type": "execute_result"
    }
   ],
   "source": [
    "Predicted_results"
   ]
  },
  {
   "cell_type": "code",
   "execution_count": 26,
   "metadata": {
    "ExecuteTime": {
     "end_time": "2020-02-02T10:36:55.849485Z",
     "start_time": "2020-02-02T10:36:55.844499Z"
    }
   },
   "outputs": [],
   "source": [
    "Predicted_inver_res = scaler_x.inverse_transform(Predicted_results)"
   ]
  },
  {
   "cell_type": "code",
   "execution_count": 27,
   "metadata": {
    "ExecuteTime": {
     "end_time": "2020-02-02T10:36:57.127417Z",
     "start_time": "2020-02-02T10:36:57.121035Z"
    }
   },
   "outputs": [
    {
     "data": {
      "text/plain": [
       "array([[202.99663, 203.16512, 204.16458, 203.7219 , 204.41641, 203.85889,\n",
       "        202.41507, 203.38475, 203.6796 , 203.53879]], dtype=float32)"
      ]
     },
     "execution_count": 27,
     "metadata": {},
     "output_type": "execute_result"
    }
   ],
   "source": [
    "Predicted_inver_res"
   ]
  },
  {
   "cell_type": "code",
   "execution_count": 28,
   "metadata": {
    "ExecuteTime": {
     "end_time": "2020-02-02T10:36:58.455588Z",
     "start_time": "2020-02-02T10:36:58.448607Z"
    }
   },
   "outputs": [
    {
     "data": {
      "text/plain": [
       "1751    218.059998\n",
       "1752    221.910004\n",
       "1753    219.059998\n",
       "1754    221.149994\n",
       "1755    221.770004\n",
       "1756    222.139999\n",
       "1757    221.440002\n",
       "1758    221.320007\n",
       "1759    219.759995\n",
       "1760    217.940002\n",
       "Name: Close, dtype: float64"
      ]
     },
     "execution_count": 28,
     "metadata": {},
     "output_type": "execute_result"
    }
   ],
   "source": [
    "validatehori"
   ]
  },
  {
   "cell_type": "code",
   "execution_count": 29,
   "metadata": {
    "ExecuteTime": {
     "end_time": "2020-02-02T10:37:00.086930Z",
     "start_time": "2020-02-02T10:37:00.052984Z"
    }
   },
   "outputs": [],
   "source": [
    "from sklearn import metrics\n",
    "def timeseries_evaluation_metrics_func(y_true, y_pred):\n",
    "    \n",
    "    def mean_absolute_percentage_error(y_true, y_pred): \n",
    "        y_true, y_pred = np.array(y_true), np.array(y_pred)\n",
    "        return np.mean(np.abs((y_true - y_pred) / y_true)) * 100\n",
    "    print('Evaluation metric results:-')\n",
    "    print(f'MSE is : {metrics.mean_squared_error(y_true, y_pred)}')\n",
    "    print(f'MAE is : {metrics.mean_absolute_error(y_true, y_pred)}')\n",
    "    print(f'RMSE is : {np.sqrt(metrics.mean_squared_error(y_true, y_pred))}')\n",
    "    print(f'MAPE is : {mean_absolute_percentage_error(y_true, y_pred)}')\n",
    "    #print(f'R2 is : {metrics.r2_score(y_true, y_pred)}',end='\\n\\n')"
   ]
  },
  {
   "cell_type": "code",
   "execution_count": 30,
   "metadata": {
    "ExecuteTime": {
     "end_time": "2020-02-02T10:37:02.275371Z",
     "start_time": "2020-02-02T10:37:02.268390Z"
    }
   },
   "outputs": [
    {
     "name": "stdout",
     "output_type": "stream",
     "text": [
      "Evaluation metric results:-\n",
      "MSE is : 288.8830000455982\n",
      "MAE is : 16.920828241894533\n",
      "RMSE is : 16.996558476515126\n",
      "MAPE is : 7.671028515330831\n"
     ]
    }
   ],
   "source": [
    "timeseries_evaluation_metrics_func(validatehori,Predicted_inver_res[0])"
   ]
  },
  {
   "cell_type": "code",
   "execution_count": null,
   "metadata": {},
   "outputs": [],
   "source": []
  },
  {
   "cell_type": "code",
   "execution_count": null,
   "metadata": {},
   "outputs": [],
   "source": []
  },
  {
   "cell_type": "code",
   "execution_count": null,
   "metadata": {},
   "outputs": [],
   "source": []
  },
  {
   "cell_type": "code",
   "execution_count": null,
   "metadata": {},
   "outputs": [],
   "source": []
  },
  {
   "cell_type": "code",
   "execution_count": null,
   "metadata": {},
   "outputs": [],
   "source": []
  },
  {
   "cell_type": "code",
   "execution_count": null,
   "metadata": {},
   "outputs": [],
   "source": []
  },
  {
   "cell_type": "code",
   "execution_count": null,
   "metadata": {},
   "outputs": [],
   "source": []
  },
  {
   "cell_type": "code",
   "execution_count": null,
   "metadata": {},
   "outputs": [],
   "source": []
  },
  {
   "cell_type": "code",
   "execution_count": null,
   "metadata": {},
   "outputs": [],
   "source": []
  },
  {
   "cell_type": "code",
   "execution_count": null,
   "metadata": {},
   "outputs": [],
   "source": []
  },
  {
   "cell_type": "code",
   "execution_count": null,
   "metadata": {},
   "outputs": [],
   "source": []
  },
  {
   "cell_type": "code",
   "execution_count": null,
   "metadata": {},
   "outputs": [],
   "source": []
  },
  {
   "cell_type": "code",
   "execution_count": null,
   "metadata": {},
   "outputs": [],
   "source": []
  },
  {
   "cell_type": "code",
   "execution_count": null,
   "metadata": {},
   "outputs": [],
   "source": []
  },
  {
   "cell_type": "code",
   "execution_count": null,
   "metadata": {},
   "outputs": [],
   "source": []
  },
  {
   "cell_type": "code",
   "execution_count": null,
   "metadata": {},
   "outputs": [],
   "source": []
  },
  {
   "cell_type": "code",
   "execution_count": null,
   "metadata": {},
   "outputs": [],
   "source": []
  },
  {
   "cell_type": "code",
   "execution_count": null,
   "metadata": {},
   "outputs": [],
   "source": []
  }
 ],
 "metadata": {
  "kernelspec": {
   "display_name": "Python 3",
   "language": "python",
   "name": "python3"
  },
  "language_info": {
   "codemirror_mode": {
    "name": "ipython",
    "version": 3
   },
   "file_extension": ".py",
   "mimetype": "text/x-python",
   "name": "python",
   "nbconvert_exporter": "python",
   "pygments_lexer": "ipython3",
   "version": "3.7.6"
  },
  "latex_envs": {
   "LaTeX_envs_menu_present": true,
   "autoclose": false,
   "autocomplete": true,
   "bibliofile": "biblio.bib",
   "cite_by": "apalike",
   "current_citInitial": 1,
   "eqLabelWithNumbers": true,
   "eqNumInitial": 1,
   "hotkeys": {
    "equation": "Ctrl-E",
    "itemize": "Ctrl-I"
   },
   "labels_anchors": false,
   "latex_user_defs": false,
   "report_style_numbering": false,
   "user_envs_cfg": false
  }
 },
 "nbformat": 4,
 "nbformat_minor": 2
}

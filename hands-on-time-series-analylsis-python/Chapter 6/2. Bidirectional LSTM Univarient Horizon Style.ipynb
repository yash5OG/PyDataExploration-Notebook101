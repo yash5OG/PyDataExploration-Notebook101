{
 "cells": [
  {
   "cell_type": "code",
   "execution_count": 1,
   "metadata": {
    "ExecuteTime": {
     "end_time": "2020-03-02T15:30:23.724935Z",
     "start_time": "2020-03-02T15:30:18.765192Z"
    }
   },
   "outputs": [],
   "source": [
    "import pandas as pd\n",
    "import numpy as np\n",
    "import tensorflow as tf\n",
    "from sklearn import preprocessing\n",
    "import matplotlib.pyplot as plt\n",
    "tf.random.set_seed(123)\n",
    "np.random.seed(123)"
   ]
  },
  {
   "cell_type": "code",
   "execution_count": 2,
   "metadata": {
    "ExecuteTime": {
     "end_time": "2020-03-02T15:30:24.632509Z",
     "start_time": "2020-03-02T15:30:24.556713Z"
    }
   },
   "outputs": [],
   "source": [
    "df = pd.read_csv(r'\\Data\\Metro_Interstate_Traffic_Volume.csv')"
   ]
  },
  {
   "cell_type": "code",
   "execution_count": 3,
   "metadata": {
    "ExecuteTime": {
     "end_time": "2020-03-02T15:30:27.008162Z",
     "start_time": "2020-03-02T15:30:26.988251Z"
    }
   },
   "outputs": [
    {
     "data": {
      "text/html": [
       "<div>\n",
       "<style scoped>\n",
       "    .dataframe tbody tr th:only-of-type {\n",
       "        vertical-align: middle;\n",
       "    }\n",
       "\n",
       "    .dataframe tbody tr th {\n",
       "        vertical-align: top;\n",
       "    }\n",
       "\n",
       "    .dataframe thead th {\n",
       "        text-align: right;\n",
       "    }\n",
       "</style>\n",
       "<table border=\"1\" class=\"dataframe\">\n",
       "  <thead>\n",
       "    <tr style=\"text-align: right;\">\n",
       "      <th></th>\n",
       "      <th>holiday</th>\n",
       "      <th>temp</th>\n",
       "      <th>rain_1h</th>\n",
       "      <th>snow_1h</th>\n",
       "      <th>clouds_all</th>\n",
       "      <th>weather_main</th>\n",
       "      <th>weather_description</th>\n",
       "      <th>date_time</th>\n",
       "      <th>traffic_volume</th>\n",
       "    </tr>\n",
       "  </thead>\n",
       "  <tbody>\n",
       "    <tr>\n",
       "      <th>0</th>\n",
       "      <td>None</td>\n",
       "      <td>288.28</td>\n",
       "      <td>0.0</td>\n",
       "      <td>0.0</td>\n",
       "      <td>40</td>\n",
       "      <td>Clouds</td>\n",
       "      <td>scattered clouds</td>\n",
       "      <td>2012-10-02 09:00:00</td>\n",
       "      <td>5545</td>\n",
       "    </tr>\n",
       "    <tr>\n",
       "      <th>1</th>\n",
       "      <td>None</td>\n",
       "      <td>289.36</td>\n",
       "      <td>0.0</td>\n",
       "      <td>0.0</td>\n",
       "      <td>75</td>\n",
       "      <td>Clouds</td>\n",
       "      <td>broken clouds</td>\n",
       "      <td>2012-10-02 10:00:00</td>\n",
       "      <td>4516</td>\n",
       "    </tr>\n",
       "    <tr>\n",
       "      <th>2</th>\n",
       "      <td>None</td>\n",
       "      <td>289.58</td>\n",
       "      <td>0.0</td>\n",
       "      <td>0.0</td>\n",
       "      <td>90</td>\n",
       "      <td>Clouds</td>\n",
       "      <td>overcast clouds</td>\n",
       "      <td>2012-10-02 11:00:00</td>\n",
       "      <td>4767</td>\n",
       "    </tr>\n",
       "    <tr>\n",
       "      <th>3</th>\n",
       "      <td>None</td>\n",
       "      <td>290.13</td>\n",
       "      <td>0.0</td>\n",
       "      <td>0.0</td>\n",
       "      <td>90</td>\n",
       "      <td>Clouds</td>\n",
       "      <td>overcast clouds</td>\n",
       "      <td>2012-10-02 12:00:00</td>\n",
       "      <td>5026</td>\n",
       "    </tr>\n",
       "    <tr>\n",
       "      <th>4</th>\n",
       "      <td>None</td>\n",
       "      <td>291.14</td>\n",
       "      <td>0.0</td>\n",
       "      <td>0.0</td>\n",
       "      <td>75</td>\n",
       "      <td>Clouds</td>\n",
       "      <td>broken clouds</td>\n",
       "      <td>2012-10-02 13:00:00</td>\n",
       "      <td>4918</td>\n",
       "    </tr>\n",
       "  </tbody>\n",
       "</table>\n",
       "</div>"
      ],
      "text/plain": [
       "  holiday    temp  rain_1h  snow_1h  clouds_all weather_main  \\\n",
       "0    None  288.28      0.0      0.0          40       Clouds   \n",
       "1    None  289.36      0.0      0.0          75       Clouds   \n",
       "2    None  289.58      0.0      0.0          90       Clouds   \n",
       "3    None  290.13      0.0      0.0          90       Clouds   \n",
       "4    None  291.14      0.0      0.0          75       Clouds   \n",
       "\n",
       "  weather_description            date_time  traffic_volume  \n",
       "0    scattered clouds  2012-10-02 09:00:00            5545  \n",
       "1       broken clouds  2012-10-02 10:00:00            4516  \n",
       "2     overcast clouds  2012-10-02 11:00:00            4767  \n",
       "3     overcast clouds  2012-10-02 12:00:00            5026  \n",
       "4       broken clouds  2012-10-02 13:00:00            4918  "
      ]
     },
     "execution_count": 3,
     "metadata": {},
     "output_type": "execute_result"
    }
   ],
   "source": [
    "df.head()"
   ]
  },
  {
   "cell_type": "code",
   "execution_count": 4,
   "metadata": {
    "ExecuteTime": {
     "end_time": "2020-03-02T15:30:28.410420Z",
     "start_time": "2020-03-02T15:30:28.371521Z"
    }
   },
   "outputs": [
    {
     "data": {
      "text/html": [
       "<div>\n",
       "<style scoped>\n",
       "    .dataframe tbody tr th:only-of-type {\n",
       "        vertical-align: middle;\n",
       "    }\n",
       "\n",
       "    .dataframe tbody tr th {\n",
       "        vertical-align: top;\n",
       "    }\n",
       "\n",
       "    .dataframe thead th {\n",
       "        text-align: right;\n",
       "    }\n",
       "</style>\n",
       "<table border=\"1\" class=\"dataframe\">\n",
       "  <thead>\n",
       "    <tr style=\"text-align: right;\">\n",
       "      <th></th>\n",
       "      <th>temp</th>\n",
       "      <th>rain_1h</th>\n",
       "      <th>snow_1h</th>\n",
       "      <th>clouds_all</th>\n",
       "      <th>traffic_volume</th>\n",
       "    </tr>\n",
       "  </thead>\n",
       "  <tbody>\n",
       "    <tr>\n",
       "      <th>count</th>\n",
       "      <td>48204.000000</td>\n",
       "      <td>48204.000000</td>\n",
       "      <td>48204.000000</td>\n",
       "      <td>48204.000000</td>\n",
       "      <td>48204.000000</td>\n",
       "    </tr>\n",
       "    <tr>\n",
       "      <th>mean</th>\n",
       "      <td>281.205870</td>\n",
       "      <td>0.334264</td>\n",
       "      <td>0.000222</td>\n",
       "      <td>49.362231</td>\n",
       "      <td>3259.818355</td>\n",
       "    </tr>\n",
       "    <tr>\n",
       "      <th>std</th>\n",
       "      <td>13.338232</td>\n",
       "      <td>44.789133</td>\n",
       "      <td>0.008168</td>\n",
       "      <td>39.015750</td>\n",
       "      <td>1986.860670</td>\n",
       "    </tr>\n",
       "    <tr>\n",
       "      <th>min</th>\n",
       "      <td>0.000000</td>\n",
       "      <td>0.000000</td>\n",
       "      <td>0.000000</td>\n",
       "      <td>0.000000</td>\n",
       "      <td>0.000000</td>\n",
       "    </tr>\n",
       "    <tr>\n",
       "      <th>25%</th>\n",
       "      <td>272.160000</td>\n",
       "      <td>0.000000</td>\n",
       "      <td>0.000000</td>\n",
       "      <td>1.000000</td>\n",
       "      <td>1193.000000</td>\n",
       "    </tr>\n",
       "    <tr>\n",
       "      <th>50%</th>\n",
       "      <td>282.450000</td>\n",
       "      <td>0.000000</td>\n",
       "      <td>0.000000</td>\n",
       "      <td>64.000000</td>\n",
       "      <td>3380.000000</td>\n",
       "    </tr>\n",
       "    <tr>\n",
       "      <th>75%</th>\n",
       "      <td>291.806000</td>\n",
       "      <td>0.000000</td>\n",
       "      <td>0.000000</td>\n",
       "      <td>90.000000</td>\n",
       "      <td>4933.000000</td>\n",
       "    </tr>\n",
       "    <tr>\n",
       "      <th>max</th>\n",
       "      <td>310.070000</td>\n",
       "      <td>9831.300000</td>\n",
       "      <td>0.510000</td>\n",
       "      <td>100.000000</td>\n",
       "      <td>7280.000000</td>\n",
       "    </tr>\n",
       "  </tbody>\n",
       "</table>\n",
       "</div>"
      ],
      "text/plain": [
       "               temp       rain_1h       snow_1h    clouds_all  traffic_volume\n",
       "count  48204.000000  48204.000000  48204.000000  48204.000000    48204.000000\n",
       "mean     281.205870      0.334264      0.000222     49.362231     3259.818355\n",
       "std       13.338232     44.789133      0.008168     39.015750     1986.860670\n",
       "min        0.000000      0.000000      0.000000      0.000000        0.000000\n",
       "25%      272.160000      0.000000      0.000000      1.000000     1193.000000\n",
       "50%      282.450000      0.000000      0.000000     64.000000     3380.000000\n",
       "75%      291.806000      0.000000      0.000000     90.000000     4933.000000\n",
       "max      310.070000   9831.300000      0.510000    100.000000     7280.000000"
      ]
     },
     "execution_count": 4,
     "metadata": {},
     "output_type": "execute_result"
    }
   ],
   "source": [
    "df.describe()"
   ]
  },
  {
   "cell_type": "code",
   "execution_count": 5,
   "metadata": {
    "ExecuteTime": {
     "end_time": "2020-03-02T15:30:30.576626Z",
     "start_time": "2020-03-02T15:30:30.555685Z"
    }
   },
   "outputs": [],
   "source": [
    "df.drop_duplicates(subset=['date_time'], keep=False,inplace=True)"
   ]
  },
  {
   "cell_type": "code",
   "execution_count": 6,
   "metadata": {
    "ExecuteTime": {
     "end_time": "2020-03-02T15:30:31.251821Z",
     "start_time": "2020-03-02T15:30:31.240855Z"
    }
   },
   "outputs": [],
   "source": [
    "validate = df['traffic_volume'].tail(10)\n",
    "df.drop(df['traffic_volume'].tail(10).index,inplace=True)"
   ]
  },
  {
   "cell_type": "code",
   "execution_count": 7,
   "metadata": {
    "ExecuteTime": {
     "end_time": "2020-03-02T15:30:32.179344Z",
     "start_time": "2020-03-02T15:30:32.171367Z"
    }
   },
   "outputs": [
    {
     "data": {
      "text/plain": [
       "date_time\n",
       "2012-10-02 09:00:00    5545\n",
       "2012-10-02 10:00:00    4516\n",
       "2012-10-02 11:00:00    4767\n",
       "2012-10-02 12:00:00    5026\n",
       "2012-10-02 13:00:00    4918\n",
       "Name: traffic_volume, dtype: int64"
      ]
     },
     "execution_count": 7,
     "metadata": {},
     "output_type": "execute_result"
    }
   ],
   "source": [
    "uni_data = df['traffic_volume']\n",
    "uni_data.index = df['date_time']\n",
    "uni_data.head()"
   ]
  },
  {
   "cell_type": "code",
   "execution_count": 8,
   "metadata": {
    "ExecuteTime": {
     "end_time": "2020-03-02T15:30:34.845219Z",
     "start_time": "2020-03-02T15:30:34.839236Z"
    }
   },
   "outputs": [],
   "source": [
    "uni_data = uni_data.values\n",
    "scaler_x = preprocessing.MinMaxScaler()\n",
    "x_rescaled = scaler_x.fit_transform(uni_data.reshape(-1, 1))"
   ]
  },
  {
   "cell_type": "code",
   "execution_count": 9,
   "metadata": {
    "ExecuteTime": {
     "end_time": "2020-03-02T15:30:41.283051Z",
     "start_time": "2020-03-02T15:30:41.276040Z"
    }
   },
   "outputs": [],
   "source": [
    "def custom_ts_univariate_data_prep(dataset, start, end, window, horizon):\n",
    "  X = []\n",
    "  y = []\n",
    "\n",
    "  start = start + window\n",
    "  if end is None:\n",
    "    end = len(dataset) - horizon\n",
    "\n",
    "  for i in range(start, end):\n",
    "    indicesx = range(i-window, i)\n",
    "    X.append(np.reshape(dataset[indicesx], (window, 1)))\n",
    "    indicesy = range(i,i+horizon)\n",
    "    y.append(dataset[indicesy])\n",
    "  return np.array(X), np.array(y)"
   ]
  },
  {
   "cell_type": "code",
   "execution_count": 10,
   "metadata": {
    "ExecuteTime": {
     "end_time": "2020-03-02T15:30:44.121464Z",
     "start_time": "2020-03-02T15:30:43.080216Z"
    }
   },
   "outputs": [],
   "source": [
    "univar_hist_window = 48\n",
    "horizon = 10\n",
    "TRAIN_SPLIT = 30000\n",
    "x_train_uni, y_train_uni = custom_ts_univariate_data_prep(x_rescaled, 0, TRAIN_SPLIT,univar_hist_window, horizon)\n",
    "x_val_uni, y_val_uni = custom_ts_univariate_data_prep(x_rescaled, TRAIN_SPLIT, None,univar_hist_window,horizon)"
   ]
  },
  {
   "cell_type": "code",
   "execution_count": 11,
   "metadata": {
    "ExecuteTime": {
     "end_time": "2020-03-02T15:30:45.741102Z",
     "start_time": "2020-03-02T15:30:45.731129Z"
    }
   },
   "outputs": [
    {
     "name": "stdout",
     "output_type": "stream",
     "text": [
      "Single window of past history\n",
      "[[0.76167582]\n",
      " [0.62032967]\n",
      " [0.65480769]\n",
      " [0.69038462]\n",
      " [0.67554945]\n",
      " [0.71167582]\n",
      " [0.76703297]\n",
      " [0.82623626]\n",
      " [0.79546703]\n",
      " [0.65521978]\n",
      " [0.48612637]\n",
      " [0.38241758]\n",
      " [0.32431319]\n",
      " [0.21002747]\n",
      " [0.13228022]\n",
      " [0.06950549]\n",
      " [0.04409341]\n",
      " [0.0375    ]\n",
      " [0.05041209]\n",
      " [0.11181319]\n",
      " [0.37335165]\n",
      " [0.77925824]\n",
      " [0.89436813]\n",
      " [0.75151099]\n",
      " [0.70013736]\n",
      " [0.67129121]\n",
      " [0.7331044 ]\n",
      " [0.78186813]\n",
      " [0.84299451]\n",
      " [0.63502747]\n",
      " [0.49326923]\n",
      " [0.39807692]\n",
      " [0.36222527]\n",
      " [0.24409341]\n",
      " [0.13942308]\n",
      " [0.08214286]\n",
      " [0.05068681]\n",
      " [0.04285714]\n",
      " [0.05041209]\n",
      " [0.1146978 ]\n",
      " [0.37445055]\n",
      " [0.78145604]\n",
      " [0.96016484]\n",
      " [0.82211538]\n",
      " [0.72925824]\n",
      " [0.63228022]\n",
      " [0.67087912]\n",
      " [0.7010989 ]]\n",
      "\n",
      " Target horizon\n",
      "[[0.71126374]\n",
      " [0.75563187]\n",
      " [0.78475275]\n",
      " [0.86428571]\n",
      " [0.83200549]\n",
      " [0.67403846]\n",
      " [0.48118132]\n",
      " [0.41717033]\n",
      " [0.38763736]\n",
      " [0.27362637]]\n"
     ]
    }
   ],
   "source": [
    "print ('Single window of past history')\n",
    "print (x_train_uni[0])\n",
    "print ('\\n Target horizon')\n",
    "print (y_train_uni[0])"
   ]
  },
  {
   "cell_type": "code",
   "execution_count": 12,
   "metadata": {
    "ExecuteTime": {
     "end_time": "2020-03-02T15:30:49.106110Z",
     "start_time": "2020-03-02T15:30:47.963168Z"
    }
   },
   "outputs": [],
   "source": [
    "BATCH_SIZE = 256\n",
    "BUFFER_SIZE = 150\n",
    "\n",
    "train_univariate = tf.data.Dataset.from_tensor_slices((x_train_uni, y_train_uni))\n",
    "train_univariate = train_univariate.cache().shuffle(BUFFER_SIZE).batch(BATCH_SIZE).repeat()\n",
    "\n",
    "val_univariate = tf.data.Dataset.from_tensor_slices((x_val_uni, y_val_uni))\n",
    "val_univariate = val_univariate.batch(BATCH_SIZE).repeat()"
   ]
  },
  {
   "cell_type": "code",
   "execution_count": 13,
   "metadata": {
    "ExecuteTime": {
     "end_time": "2020-03-02T15:30:51.614443Z",
     "start_time": "2020-03-02T15:30:50.241079Z"
    }
   },
   "outputs": [],
   "source": [
    "Bi_lstm_model = tf.keras.models.Sequential([\n",
    "  tf.keras.layers.Bidirectional(tf.keras.layers.LSTM(100, return_sequences=True), \n",
    "                               input_shape=x_train_uni.shape[-2:]),\n",
    "    tf.keras.layers.Bidirectional(tf.keras.layers.LSTM(50)),\n",
    "    tf.keras.layers.Dense(20, activation='softmax'),\n",
    "    tf.keras.layers.Dropout(0.2),\n",
    "    tf.keras.layers.Dense(units=horizon),\n",
    "])\n",
    "Bi_lstm_model.compile(optimizer='adam', loss='mse')\n"
   ]
  },
  {
   "cell_type": "code",
   "execution_count": 14,
   "metadata": {
    "ExecuteTime": {
     "end_time": "2020-03-02T15:32:28.956286Z",
     "start_time": "2020-03-02T15:32:28.952299Z"
    }
   },
   "outputs": [],
   "source": [
    "model_path = r'\\Chapter 6\\Bidirectional_LSTM_Univarient_1.h5'"
   ]
  },
  {
   "cell_type": "code",
   "execution_count": 15,
   "metadata": {
    "ExecuteTime": {
     "end_time": "2020-03-02T15:36:24.459987Z",
     "start_time": "2020-03-02T15:32:31.100555Z"
    },
    "scrolled": true
   },
   "outputs": [
    {
     "name": "stdout",
     "output_type": "stream",
     "text": [
      "Train for 100 steps, validate for 50 steps\n",
      "Epoch 1/100\n",
      "100/100 [==============================] - 12s 123ms/step - loss: 0.1805 - val_loss: 0.1294\n",
      "Epoch 2/100\n",
      "100/100 [==============================] - 5s 49ms/step - loss: 0.1019 - val_loss: 0.0849\n",
      "Epoch 3/100\n",
      "100/100 [==============================] - 3s 29ms/step - loss: 0.0819 - val_loss: 0.0723\n",
      "Epoch 4/100\n",
      "100/100 [==============================] - 3s 33ms/step - loss: 0.0738 - val_loss: 0.0666\n",
      "Epoch 5/100\n",
      "100/100 [==============================] - 3s 29ms/step - loss: 0.0715 - val_loss: 0.0652\n",
      "Epoch 6/100\n",
      "100/100 [==============================] - 3s 29ms/step - loss: 0.0694 - val_loss: 0.0633\n",
      "Epoch 7/100\n",
      "100/100 [==============================] - 3s 30ms/step - loss: 0.0679 - val_loss: 0.0612\n",
      "Epoch 8/100\n",
      "100/100 [==============================] - 3s 28ms/step - loss: 0.0666 - val_loss: 0.0583\n",
      "Epoch 9/100\n",
      "100/100 [==============================] - 3s 29ms/step - loss: 0.0618 - val_loss: 0.0525\n",
      "Epoch 10/100\n",
      "100/100 [==============================] - 3s 27ms/step - loss: 0.0564 - val_loss: 0.0683\n",
      "Epoch 11/100\n",
      "100/100 [==============================] - 3s 28ms/step - loss: 0.0543 - val_loss: 0.0413\n",
      "Epoch 12/100\n",
      "100/100 [==============================] - 3s 29ms/step - loss: 0.0522 - val_loss: 0.0399\n",
      "Epoch 13/100\n",
      "100/100 [==============================] - 3s 27ms/step - loss: 0.0488 - val_loss: 0.0407\n",
      "Epoch 14/100\n",
      "100/100 [==============================] - 3s 28ms/step - loss: 0.0485 - val_loss: 0.0366\n",
      "Epoch 15/100\n",
      "100/100 [==============================] - 3s 27ms/step - loss: 0.0483 - val_loss: 0.0392\n",
      "Epoch 16/100\n",
      "100/100 [==============================] - 3s 27ms/step - loss: 0.0468 - val_loss: 0.0433\n",
      "Epoch 17/100\n",
      "100/100 [==============================] - 3s 27ms/step - loss: 0.0438 - val_loss: 0.0479\n",
      "Epoch 18/100\n",
      "100/100 [==============================] - 3s 28ms/step - loss: 0.0431 - val_loss: 0.0361\n",
      "Epoch 19/100\n",
      "100/100 [==============================] - 3s 29ms/step - loss: 0.0446 - val_loss: 0.0337\n",
      "Epoch 20/100\n",
      "100/100 [==============================] - 3s 27ms/step - loss: 0.0420 - val_loss: 0.0363\n",
      "Epoch 21/100\n",
      "100/100 [==============================] - 3s 29ms/step - loss: 0.0424 - val_loss: 0.0318\n",
      "Epoch 22/100\n",
      "100/100 [==============================] - 3s 27ms/step - loss: 0.0422 - val_loss: 0.0337\n",
      "Epoch 23/100\n",
      "100/100 [==============================] - 3s 27ms/step - loss: 0.0415 - val_loss: 0.0354\n",
      "Epoch 24/100\n",
      "100/100 [==============================] - 3s 27ms/step - loss: 0.0383 - val_loss: 0.0333\n",
      "Epoch 25/100\n",
      "100/100 [==============================] - 3s 28ms/step - loss: 0.0380 - val_loss: 0.0309\n",
      "Epoch 26/100\n",
      "100/100 [==============================] - 3s 29ms/step - loss: 0.0392 - val_loss: 0.0293\n",
      "Epoch 27/100\n",
      "100/100 [==============================] - 3s 27ms/step - loss: 0.0375 - val_loss: 0.0315\n",
      "Epoch 28/100\n",
      "100/100 [==============================] - 3s 28ms/step - loss: 0.0384 - val_loss: 0.0288\n",
      "Epoch 29/100\n",
      "100/100 [==============================] - 3s 27ms/step - loss: 0.0377 - val_loss: 0.0303\n",
      "Epoch 30/100\n",
      "100/100 [==============================] - 3s 27ms/step - loss: 0.0378 - val_loss: 0.0323\n",
      "Epoch 31/100\n",
      "100/100 [==============================] - 4s 40ms/step - loss: 0.0338 - val_loss: 0.0278\n",
      "Epoch 32/100\n",
      "100/100 [==============================] - 3s 27ms/step - loss: 0.0355 - val_loss: 0.0290\n",
      "Epoch 33/100\n",
      "100/100 [==============================] - 3s 28ms/step - loss: 0.0356 - val_loss: 0.0277\n",
      "Epoch 34/100\n",
      "100/100 [==============================] - 3s 27ms/step - loss: 0.0347 - val_loss: 0.0286\n",
      "Epoch 35/100\n",
      "100/100 [==============================] - 3s 29ms/step - loss: 0.0360 - val_loss: 0.0273\n",
      "Epoch 36/100\n",
      "100/100 [==============================] - 3s 27ms/step - loss: 0.0355 - val_loss: 0.0296\n",
      "Epoch 37/100\n",
      "100/100 [==============================] - 3s 27ms/step - loss: 0.0353 - val_loss: 0.0316\n",
      "Epoch 38/100\n",
      "100/100 [==============================] - 3s 32ms/step - loss: 0.0316 - val_loss: 0.0266\n",
      "Epoch 39/100\n",
      "100/100 [==============================] - 3s 27ms/step - loss: 0.0341 - val_loss: 0.0282\n",
      "Epoch 40/100\n",
      "100/100 [==============================] - 3s 28ms/step - loss: 0.0331 - val_loss: 0.0260\n",
      "Epoch 41/100\n",
      "100/100 [==============================] - 3s 27ms/step - loss: 0.0323 - val_loss: 0.0268\n",
      "Epoch 42/100\n",
      "100/100 [==============================] - 3s 28ms/step - loss: 0.0338 - val_loss: 0.0257\n",
      "Epoch 43/100\n",
      "100/100 [==============================] - 3s 27ms/step - loss: 0.0330 - val_loss: 0.0280\n",
      "Epoch 44/100\n",
      "100/100 [==============================] - 3s 27ms/step - loss: 0.0334 - val_loss: 0.0319\n",
      "Epoch 45/100\n",
      "100/100 [==============================] - 3s 29ms/step - loss: 0.0294 - val_loss: 0.0256\n",
      "Epoch 46/100\n",
      "100/100 [==============================] - 3s 27ms/step - loss: 0.0325 - val_loss: 0.0262\n",
      "Epoch 47/100\n",
      "100/100 [==============================] - 3s 28ms/step - loss: 0.0311 - val_loss: 0.0250\n",
      "Epoch 48/100\n",
      "100/100 [==============================] - 3s 28ms/step - loss: 0.0308 - val_loss: 0.0247\n",
      "Epoch 49/100\n",
      "100/100 [==============================] - 3s 28ms/step - loss: 0.0318 - val_loss: 0.0244\n",
      "Epoch 50/100\n",
      "100/100 [==============================] - 3s 27ms/step - loss: 0.0317 - val_loss: 0.0261\n",
      "Epoch 51/100\n",
      "100/100 [==============================] - 3s 27ms/step - loss: 0.0321 - val_loss: 0.0302\n",
      "Epoch 52/100\n",
      "100/100 [==============================] - 3s 27ms/step - loss: 0.0294 - val_loss: 0.0257\n",
      "Epoch 53/100\n",
      "100/100 [==============================] - 3s 28ms/step - loss: 0.0321 - val_loss: 0.0257\n",
      "Epoch 54/100\n",
      "100/100 [==============================] - 3s 27ms/step - loss: 0.0298 - val_loss: 0.0247\n",
      "Epoch 55/100\n",
      "100/100 [==============================] - 3s 28ms/step - loss: 0.0297 - val_loss: 0.0241\n",
      "Epoch 56/100\n",
      "100/100 [==============================] - 3s 28ms/step - loss: 0.0307 - val_loss: 0.0241\n",
      "Epoch 57/100\n",
      "100/100 [==============================] - 3s 27ms/step - loss: 0.0303 - val_loss: 0.0255\n",
      "Epoch 58/100\n",
      "100/100 [==============================] - 3s 27ms/step - loss: 0.0312 - val_loss: 0.0294\n",
      "Epoch 59/100\n",
      "100/100 [==============================] - 3s 28ms/step - loss: 0.0272 - val_loss: 0.0236\n",
      "Epoch 60/100\n",
      "100/100 [==============================] - 3s 28ms/step - loss: 0.0302 - val_loss: 0.0247\n",
      "Epoch 61/100\n",
      "100/100 [==============================] - 3s 27ms/step - loss: 0.0282 - val_loss: 0.0245\n",
      "Epoch 62/100\n",
      "100/100 [==============================] - 3s 28ms/step - loss: 0.0286 - val_loss: 0.0232\n",
      "Epoch 63/100\n",
      "100/100 [==============================] - 3s 27ms/step - loss: 0.0296 - val_loss: 0.0241\n",
      "Epoch 64/100\n",
      "100/100 [==============================] - 3s 27ms/step - loss: 0.0294 - val_loss: 0.0260\n",
      "Epoch 65/100\n",
      "100/100 [==============================] - 3s 27ms/step - loss: 0.0297 - val_loss: 0.0248\n",
      "Epoch 66/100\n",
      "100/100 [==============================] - 3s 27ms/step - loss: 0.0266 - val_loss: 0.0243\n",
      "Epoch 67/100\n",
      "100/100 [==============================] - 3s 28ms/step - loss: 0.0291 - val_loss: 0.0244\n",
      "Epoch 68/100\n",
      "100/100 [==============================] - 3s 27ms/step - loss: 0.0273 - val_loss: 0.0253\n",
      "Epoch 69/100\n",
      "100/100 [==============================] - 3s 28ms/step - loss: 0.0277 - val_loss: 0.0229\n",
      "Epoch 70/100\n",
      "100/100 [==============================] - 3s 27ms/step - loss: 0.0282 - val_loss: 0.0236\n",
      "Epoch 71/100\n",
      "100/100 [==============================] - 3s 27ms/step - loss: 0.0279 - val_loss: 0.0257\n",
      "Epoch 72/100\n",
      "100/100 [==============================] - 3s 27ms/step - loss: 0.0274 - val_loss: 0.0254\n",
      "Epoch 73/100\n",
      "100/100 [==============================] - 3s 27ms/step - loss: 0.0261 - val_loss: 0.0242\n",
      "Epoch 74/100\n",
      "100/100 [==============================] - 3s 27ms/step - loss: 0.0277 - val_loss: 0.0246\n",
      "Epoch 75/100\n",
      "100/100 [==============================] - 3s 27ms/step - loss: 0.0259 - val_loss: 0.0246\n",
      "Epoch 76/100\n",
      "100/100 [==============================] - 3s 27ms/step - loss: 0.0267 - val_loss: 0.0237\n",
      "Epoch 77/100\n",
      "100/100 [==============================] - 3s 27ms/step - loss: 0.0270 - val_loss: 0.0247\n",
      "Epoch 78/100\n",
      "100/100 [==============================] - 3s 27ms/step - loss: 0.0274 - val_loss: 0.0262\n",
      "Epoch 79/100\n",
      "100/100 [==============================] - 3s 27ms/step - loss: 0.0262 - val_loss: 0.0250\n",
      "Epoch 00079: early stopping\n"
     ]
    }
   ],
   "source": [
    "EVALUATION_INTERVAL = 100\n",
    "EPOCHS = 100\n",
    "history = Bi_lstm_model.fit(train_univariate, epochs=EPOCHS,steps_per_epoch=EVALUATION_INTERVAL,validation_data=val_univariate, validation_steps=50,verbose =1,\n",
    "                              callbacks =[tf.keras.callbacks.EarlyStopping(monitor='val_loss', min_delta=0, patience=10, verbose=1, mode='min'),tf.keras.callbacks.ModelCheckpoint(model_path,monitor='val_loss', save_best_only=True, mode='min', verbose=0)])"
   ]
  },
  {
   "cell_type": "code",
   "execution_count": 16,
   "metadata": {
    "ExecuteTime": {
     "end_time": "2020-03-02T15:36:31.851237Z",
     "start_time": "2020-03-02T15:36:28.857214Z"
    }
   },
   "outputs": [],
   "source": [
    "# Recreate the exact same model, including its weights and the optimizer\n",
    "Trained_model = tf.keras.models.load_model(model_path)"
   ]
  },
  {
   "cell_type": "code",
   "execution_count": 17,
   "metadata": {
    "ExecuteTime": {
     "end_time": "2020-03-02T15:36:32.754794Z",
     "start_time": "2020-03-02T15:36:32.746817Z"
    }
   },
   "outputs": [
    {
     "name": "stdout",
     "output_type": "stream",
     "text": [
      "Model: \"sequential\"\n",
      "_________________________________________________________________\n",
      "Layer (type)                 Output Shape              Param #   \n",
      "=================================================================\n",
      "bidirectional (Bidirectional (None, 48, 200)           81600     \n",
      "_________________________________________________________________\n",
      "bidirectional_1 (Bidirection (None, 100)               100400    \n",
      "_________________________________________________________________\n",
      "dense (Dense)                (None, 20)                2020      \n",
      "_________________________________________________________________\n",
      "dropout (Dropout)            (None, 20)                0         \n",
      "_________________________________________________________________\n",
      "dense_1 (Dense)              (None, 10)                210       \n",
      "=================================================================\n",
      "Total params: 184,230\n",
      "Trainable params: 184,230\n",
      "Non-trainable params: 0\n",
      "_________________________________________________________________\n"
     ]
    }
   ],
   "source": [
    "# Show the model architecture\n",
    "Trained_model.summary()"
   ]
  },
  {
   "cell_type": "code",
   "execution_count": 19,
   "metadata": {
    "ExecuteTime": {
     "end_time": "2020-03-02T15:36:36.371130Z",
     "start_time": "2020-03-02T15:36:36.115847Z"
    }
   },
   "outputs": [
    {
     "data": {
      "image/png": "[encoded data removed]",
      "text/plain": [
       "<Figure size 1152x648 with 1 Axes>"
      ]
     },
     "metadata": {
      "needs_background": "light"
     },
     "output_type": "display_data"
    }
   ],
   "source": [
    "plt.plot(history.history['loss'])\n",
    "plt.plot(history.history['val_loss'])\n",
    "plt.title('Model loss')\n",
    "plt.ylabel('loss')\n",
    "plt.xlabel('epoch')\n",
    "plt.legend(['train loss', 'validation loss'], loc='upper left')\n",
    "plt.rcParams[\"figure.figsize\"] = [16,9]\n",
    "plt.show()"
   ]
  },
  {
   "cell_type": "code",
   "execution_count": 20,
   "metadata": {
    "ExecuteTime": {
     "end_time": "2020-03-02T15:36:38.087546Z",
     "start_time": "2020-03-02T15:36:38.083556Z"
    }
   },
   "outputs": [],
   "source": [
    "uni = df['traffic_volume']\n",
    "validatehori = uni.tail(48)"
   ]
  },
  {
   "cell_type": "code",
   "execution_count": 21,
   "metadata": {
    "ExecuteTime": {
     "end_time": "2020-03-02T15:36:39.123809Z",
     "start_time": "2020-03-02T15:36:39.118787Z"
    }
   },
   "outputs": [],
   "source": [
    "validatehist = validatehori.values\n",
    "scaler_val = preprocessing.StandardScaler()\n",
    "val_rescaled = scaler_x.fit_transform(validatehist.reshape(-1, 1))"
   ]
  },
  {
   "cell_type": "code",
   "execution_count": 22,
   "metadata": {
    "ExecuteTime": {
     "end_time": "2020-03-02T15:36:40.447271Z",
     "start_time": "2020-03-02T15:36:40.441257Z"
    }
   },
   "outputs": [],
   "source": [
    "val_rescaled = val_rescaled.reshape((1, val_rescaled.shape[0], 1))"
   ]
  },
  {
   "cell_type": "code",
   "execution_count": 23,
   "metadata": {
    "ExecuteTime": {
     "end_time": "2020-03-02T15:36:42.026055Z",
     "start_time": "2020-03-02T15:36:41.371772Z"
    }
   },
   "outputs": [],
   "source": [
    "Predicted_results = Trained_model.predict(val_rescaled)"
   ]
  },
  {
   "cell_type": "code",
   "execution_count": 24,
   "metadata": {
    "ExecuteTime": {
     "end_time": "2020-03-02T15:36:43.422288Z",
     "start_time": "2020-03-02T15:36:43.415311Z"
    }
   },
   "outputs": [
    {
     "data": {
      "text/plain": [
       "array([[0.5834908 , 0.58690774, 0.59064263, 0.6029938 , 0.6163158 ,\n",
       "        0.60863507, 0.57046133, 0.5115059 , 0.4549055 , 0.4061918 ]],\n",
       "      dtype=float32)"
      ]
     },
     "execution_count": 24,
     "metadata": {},
     "output_type": "execute_result"
    }
   ],
   "source": [
    "Predicted_results"
   ]
  },
  {
   "cell_type": "code",
   "execution_count": 25,
   "metadata": {
    "ExecuteTime": {
     "end_time": "2020-03-02T15:36:45.544619Z",
     "start_time": "2020-03-02T15:36:45.540653Z"
    }
   },
   "outputs": [],
   "source": [
    "Predicted_inver_res = scaler_x.inverse_transform(Predicted_results)"
   ]
  },
  {
   "cell_type": "code",
   "execution_count": 26,
   "metadata": {
    "ExecuteTime": {
     "end_time": "2020-03-02T15:36:47.113424Z",
     "start_time": "2020-03-02T15:36:47.107439Z"
    }
   },
   "outputs": [
    {
     "data": {
      "text/plain": [
       "array([[3750.1716, 3770.171 , 3792.0312, 3864.3225, 3942.2961, 3897.341 ,\n",
       "        3673.9102, 3328.844 , 2997.562 , 2712.4404]], dtype=float32)"
      ]
     },
     "execution_count": 26,
     "metadata": {},
     "output_type": "execute_result"
    }
   ],
   "source": [
    "Predicted_inver_res"
   ]
  },
  {
   "cell_type": "code",
   "execution_count": 27,
   "metadata": {
    "ExecuteTime": {
     "end_time": "2020-03-02T15:36:48.664279Z",
     "start_time": "2020-03-02T15:36:48.632370Z"
    }
   },
   "outputs": [],
   "source": [
    "from sklearn import metrics\n",
    "def timeseries_evaluation_metrics_func(y_true, y_pred):\n",
    "    \n",
    "    def mean_absolute_percentage_error(y_true, y_pred): \n",
    "        y_true, y_pred = np.array(y_true), np.array(y_pred)\n",
    "        return np.mean(np.abs((y_true - y_pred) / y_true)) * 100\n",
    "    print('Evaluation metric results:-')\n",
    "    print(f'MSE is : {metrics.mean_squared_error(y_true, y_pred)}')\n",
    "    print(f'MAE is : {metrics.mean_absolute_error(y_true, y_pred)}')\n",
    "    print(f'RMSE is : {np.sqrt(metrics.mean_squared_error(y_true, y_pred))}')\n",
    "    print(f'MAPE is : {mean_absolute_percentage_error(y_true, y_pred)}')\n",
    "    print(f'R2 is : {metrics.r2_score(y_true, y_pred)}',end='\\n\\n')"
   ]
  },
  {
   "cell_type": "code",
   "execution_count": 28,
   "metadata": {
    "ExecuteTime": {
     "end_time": "2020-03-02T15:36:50.195189Z",
     "start_time": "2020-03-02T15:36:50.187213Z"
    }
   },
   "outputs": [
    {
     "name": "stdout",
     "output_type": "stream",
     "text": [
      "Evaluation metric results:-\n",
      "MSE is : 915543.7118907511\n",
      "MAE is : 794.2105224609375\n",
      "RMSE is : 956.8404840362635\n",
      "MAPE is : 43.781638221483625\n",
      "R2 is : 0.40561524153688866\n",
      "\n"
     ]
    }
   ],
   "source": [
    "timeseries_evaluation_metrics_func(validate,Predicted_inver_res[0])"
   ]
  },
  {
   "cell_type": "code",
   "execution_count": 29,
   "metadata": {
    "ExecuteTime": {
     "end_time": "2020-03-02T15:36:52.955849Z",
     "start_time": "2020-03-02T15:36:52.715460Z"
    }
   },
   "outputs": [
    {
     "data": {
      "image/png": "[encoded data removed]",
      "text/plain": [
       "<Figure size 1152x648 with 1 Axes>"
      ]
     },
     "metadata": {
      "needs_background": "light"
     },
     "output_type": "display_data"
    }
   ],
   "source": [
    "plt.plot( list(validate))\n",
    "plt.plot( list(Predicted_inver_res[0]))\n",
    "plt.title(\"Actual vs Predicted\")\n",
    "plt.ylabel(\"Traffic volume\")\n",
    "plt.legend(('Actual','predicted'))\n",
    "plt.show()"
   ]
  },
  {
   "cell_type": "code",
   "execution_count": null,
   "metadata": {},
   "outputs": [],
   "source": []
  }
 ],
 "metadata": {
  "kernelspec": {
   "display_name": "Python 3",
   "language": "python",
   "name": "python3"
  },
  "language_info": {
   "codemirror_mode": {
    "name": "ipython",
    "version": 3
   },
   "file_extension": ".py",
   "mimetype": "text/x-python",
   "name": "python",
   "nbconvert_exporter": "python",
   "pygments_lexer": "ipython3",
   "version": "3.7.3"
  },
  "latex_envs": {
   "LaTeX_envs_menu_present": true,
   "autoclose": false,
   "autocomplete": true,
   "bibliofile": "biblio.bib",
   "cite_by": "apalike",
   "current_citInitial": 1,
   "eqLabelWithNumbers": true,
   "eqNumInitial": 1,
   "hotkeys": {
    "equation": "Ctrl-E",
    "itemize": "Ctrl-I"
   },
   "labels_anchors": false,
   "latex_user_defs": false,
   "report_style_numbering": false,
   "user_envs_cfg": false
  },
  "nbTranslate": {
   "displayLangs": [
    "*"
   ],
   "hotkey": "alt-t",
   "langInMainMenu": true,
   "sourceLang": "en",
   "targetLang": "fr",
   "useGoogleTranslate": true
  }
 },
 "nbformat": 4,
 "nbformat_minor": 2
}

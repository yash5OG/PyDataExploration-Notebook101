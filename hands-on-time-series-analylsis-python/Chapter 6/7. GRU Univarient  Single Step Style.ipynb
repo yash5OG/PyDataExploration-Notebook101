{
 "cells": [
  {
   "cell_type": "code",
   "execution_count": 1,
   "metadata": {
    "ExecuteTime": {
     "end_time": "2020-03-01T09:18:17.489639Z",
     "start_time": "2020-03-01T09:18:12.550854Z"
    }
   },
   "outputs": [],
   "source": [
    "import pandas as pd\n",
    "import numpy as np\n",
    "import tensorflow as tf\n",
    "from sklearn import preprocessing\n",
    "import matplotlib.pyplot as plt\n",
    "tf.random.set_seed(123)\n",
    "np.random.seed(123)"
   ]
  },
  {
   "cell_type": "code",
   "execution_count": 2,
   "metadata": {
    "ExecuteTime": {
     "end_time": "2020-03-01T09:18:18.561807Z",
     "start_time": "2020-03-01T09:18:18.484974Z"
    }
   },
   "outputs": [],
   "source": [
    "df = pd.read_csv(r'\\Data\\Metro_Interstate_Traffic_Volume.csv')"
   ]
  },
  {
   "cell_type": "code",
   "execution_count": 3,
   "metadata": {
    "ExecuteTime": {
     "end_time": "2020-03-01T09:18:19.950057Z",
     "start_time": "2020-03-01T09:18:19.929112Z"
    }
   },
   "outputs": [
    {
     "data": {
      "text/html": [
       "<div>\n",
       "<style scoped>\n",
       "    .dataframe tbody tr th:only-of-type {\n",
       "        vertical-align: middle;\n",
       "    }\n",
       "\n",
       "    .dataframe tbody tr th {\n",
       "        vertical-align: top;\n",
       "    }\n",
       "\n",
       "    .dataframe thead th {\n",
       "        text-align: right;\n",
       "    }\n",
       "</style>\n",
       "<table border=\"1\" class=\"dataframe\">\n",
       "  <thead>\n",
       "    <tr style=\"text-align: right;\">\n",
       "      <th></th>\n",
       "      <th>holiday</th>\n",
       "      <th>temp</th>\n",
       "      <th>rain_1h</th>\n",
       "      <th>snow_1h</th>\n",
       "      <th>clouds_all</th>\n",
       "      <th>weather_main</th>\n",
       "      <th>weather_description</th>\n",
       "      <th>date_time</th>\n",
       "      <th>traffic_volume</th>\n",
       "    </tr>\n",
       "  </thead>\n",
       "  <tbody>\n",
       "    <tr>\n",
       "      <th>0</th>\n",
       "      <td>None</td>\n",
       "      <td>288.28</td>\n",
       "      <td>0.0</td>\n",
       "      <td>0.0</td>\n",
       "      <td>40</td>\n",
       "      <td>Clouds</td>\n",
       "      <td>scattered clouds</td>\n",
       "      <td>2012-10-02 09:00:00</td>\n",
       "      <td>5545</td>\n",
       "    </tr>\n",
       "    <tr>\n",
       "      <th>1</th>\n",
       "      <td>None</td>\n",
       "      <td>289.36</td>\n",
       "      <td>0.0</td>\n",
       "      <td>0.0</td>\n",
       "      <td>75</td>\n",
       "      <td>Clouds</td>\n",
       "      <td>broken clouds</td>\n",
       "      <td>2012-10-02 10:00:00</td>\n",
       "      <td>4516</td>\n",
       "    </tr>\n",
       "    <tr>\n",
       "      <th>2</th>\n",
       "      <td>None</td>\n",
       "      <td>289.58</td>\n",
       "      <td>0.0</td>\n",
       "      <td>0.0</td>\n",
       "      <td>90</td>\n",
       "      <td>Clouds</td>\n",
       "      <td>overcast clouds</td>\n",
       "      <td>2012-10-02 11:00:00</td>\n",
       "      <td>4767</td>\n",
       "    </tr>\n",
       "    <tr>\n",
       "      <th>3</th>\n",
       "      <td>None</td>\n",
       "      <td>290.13</td>\n",
       "      <td>0.0</td>\n",
       "      <td>0.0</td>\n",
       "      <td>90</td>\n",
       "      <td>Clouds</td>\n",
       "      <td>overcast clouds</td>\n",
       "      <td>2012-10-02 12:00:00</td>\n",
       "      <td>5026</td>\n",
       "    </tr>\n",
       "    <tr>\n",
       "      <th>4</th>\n",
       "      <td>None</td>\n",
       "      <td>291.14</td>\n",
       "      <td>0.0</td>\n",
       "      <td>0.0</td>\n",
       "      <td>75</td>\n",
       "      <td>Clouds</td>\n",
       "      <td>broken clouds</td>\n",
       "      <td>2012-10-02 13:00:00</td>\n",
       "      <td>4918</td>\n",
       "    </tr>\n",
       "  </tbody>\n",
       "</table>\n",
       "</div>"
      ],
      "text/plain": [
       "  holiday    temp  rain_1h  snow_1h  clouds_all weather_main  \\\n",
       "0    None  288.28      0.0      0.0          40       Clouds   \n",
       "1    None  289.36      0.0      0.0          75       Clouds   \n",
       "2    None  289.58      0.0      0.0          90       Clouds   \n",
       "3    None  290.13      0.0      0.0          90       Clouds   \n",
       "4    None  291.14      0.0      0.0          75       Clouds   \n",
       "\n",
       "  weather_description            date_time  traffic_volume  \n",
       "0    scattered clouds  2012-10-02 09:00:00            5545  \n",
       "1       broken clouds  2012-10-02 10:00:00            4516  \n",
       "2     overcast clouds  2012-10-02 11:00:00            4767  \n",
       "3     overcast clouds  2012-10-02 12:00:00            5026  \n",
       "4       broken clouds  2012-10-02 13:00:00            4918  "
      ]
     },
     "execution_count": 3,
     "metadata": {},
     "output_type": "execute_result"
    }
   ],
   "source": [
    "df.head()"
   ]
  },
  {
   "cell_type": "code",
   "execution_count": 4,
   "metadata": {
    "ExecuteTime": {
     "end_time": "2020-03-01T09:18:21.751272Z",
     "start_time": "2020-03-01T09:18:21.711343Z"
    }
   },
   "outputs": [
    {
     "data": {
      "text/html": [
       "<div>\n",
       "<style scoped>\n",
       "    .dataframe tbody tr th:only-of-type {\n",
       "        vertical-align: middle;\n",
       "    }\n",
       "\n",
       "    .dataframe tbody tr th {\n",
       "        vertical-align: top;\n",
       "    }\n",
       "\n",
       "    .dataframe thead th {\n",
       "        text-align: right;\n",
       "    }\n",
       "</style>\n",
       "<table border=\"1\" class=\"dataframe\">\n",
       "  <thead>\n",
       "    <tr style=\"text-align: right;\">\n",
       "      <th></th>\n",
       "      <th>temp</th>\n",
       "      <th>rain_1h</th>\n",
       "      <th>snow_1h</th>\n",
       "      <th>clouds_all</th>\n",
       "      <th>traffic_volume</th>\n",
       "    </tr>\n",
       "  </thead>\n",
       "  <tbody>\n",
       "    <tr>\n",
       "      <th>count</th>\n",
       "      <td>48204.000000</td>\n",
       "      <td>48204.000000</td>\n",
       "      <td>48204.000000</td>\n",
       "      <td>48204.000000</td>\n",
       "      <td>48204.000000</td>\n",
       "    </tr>\n",
       "    <tr>\n",
       "      <th>mean</th>\n",
       "      <td>281.205870</td>\n",
       "      <td>0.334264</td>\n",
       "      <td>0.000222</td>\n",
       "      <td>49.362231</td>\n",
       "      <td>3259.818355</td>\n",
       "    </tr>\n",
       "    <tr>\n",
       "      <th>std</th>\n",
       "      <td>13.338232</td>\n",
       "      <td>44.789133</td>\n",
       "      <td>0.008168</td>\n",
       "      <td>39.015750</td>\n",
       "      <td>1986.860670</td>\n",
       "    </tr>\n",
       "    <tr>\n",
       "      <th>min</th>\n",
       "      <td>0.000000</td>\n",
       "      <td>0.000000</td>\n",
       "      <td>0.000000</td>\n",
       "      <td>0.000000</td>\n",
       "      <td>0.000000</td>\n",
       "    </tr>\n",
       "    <tr>\n",
       "      <th>25%</th>\n",
       "      <td>272.160000</td>\n",
       "      <td>0.000000</td>\n",
       "      <td>0.000000</td>\n",
       "      <td>1.000000</td>\n",
       "      <td>1193.000000</td>\n",
       "    </tr>\n",
       "    <tr>\n",
       "      <th>50%</th>\n",
       "      <td>282.450000</td>\n",
       "      <td>0.000000</td>\n",
       "      <td>0.000000</td>\n",
       "      <td>64.000000</td>\n",
       "      <td>3380.000000</td>\n",
       "    </tr>\n",
       "    <tr>\n",
       "      <th>75%</th>\n",
       "      <td>291.806000</td>\n",
       "      <td>0.000000</td>\n",
       "      <td>0.000000</td>\n",
       "      <td>90.000000</td>\n",
       "      <td>4933.000000</td>\n",
       "    </tr>\n",
       "    <tr>\n",
       "      <th>max</th>\n",
       "      <td>310.070000</td>\n",
       "      <td>9831.300000</td>\n",
       "      <td>0.510000</td>\n",
       "      <td>100.000000</td>\n",
       "      <td>7280.000000</td>\n",
       "    </tr>\n",
       "  </tbody>\n",
       "</table>\n",
       "</div>"
      ],
      "text/plain": [
       "               temp       rain_1h       snow_1h    clouds_all  traffic_volume\n",
       "count  48204.000000  48204.000000  48204.000000  48204.000000    48204.000000\n",
       "mean     281.205870      0.334264      0.000222     49.362231     3259.818355\n",
       "std       13.338232     44.789133      0.008168     39.015750     1986.860670\n",
       "min        0.000000      0.000000      0.000000      0.000000        0.000000\n",
       "25%      272.160000      0.000000      0.000000      1.000000     1193.000000\n",
       "50%      282.450000      0.000000      0.000000     64.000000     3380.000000\n",
       "75%      291.806000      0.000000      0.000000     90.000000     4933.000000\n",
       "max      310.070000   9831.300000      0.510000    100.000000     7280.000000"
      ]
     },
     "execution_count": 4,
     "metadata": {},
     "output_type": "execute_result"
    }
   ],
   "source": [
    "df.describe()"
   ]
  },
  {
   "cell_type": "code",
   "execution_count": 5,
   "metadata": {
    "ExecuteTime": {
     "end_time": "2020-03-01T09:18:37.933968Z",
     "start_time": "2020-03-01T09:18:37.912993Z"
    }
   },
   "outputs": [],
   "source": [
    "df.drop_duplicates(subset=['date_time'], keep=False,inplace=True)"
   ]
  },
  {
   "cell_type": "code",
   "execution_count": 6,
   "metadata": {
    "ExecuteTime": {
     "end_time": "2020-03-01T09:18:44.224146Z",
     "start_time": "2020-03-01T09:18:44.213134Z"
    }
   },
   "outputs": [],
   "source": [
    "validate = df['traffic_volume'].tail(10)\n",
    "df.drop(df['traffic_volume'].tail(10).index,inplace=True)"
   ]
  },
  {
   "cell_type": "code",
   "execution_count": 7,
   "metadata": {
    "ExecuteTime": {
     "end_time": "2020-03-01T09:18:49.900949Z",
     "start_time": "2020-03-01T09:18:49.893966Z"
    }
   },
   "outputs": [
    {
     "data": {
      "text/plain": [
       "date_time\n",
       "2012-10-02 09:00:00    5545\n",
       "2012-10-02 10:00:00    4516\n",
       "2012-10-02 11:00:00    4767\n",
       "2012-10-02 12:00:00    5026\n",
       "2012-10-02 13:00:00    4918\n",
       "Name: traffic_volume, dtype: int64"
      ]
     },
     "execution_count": 7,
     "metadata": {},
     "output_type": "execute_result"
    }
   ],
   "source": [
    "uni_data = df['traffic_volume']\n",
    "uni_data.index = df['date_time']\n",
    "uni_data.head()"
   ]
  },
  {
   "cell_type": "code",
   "execution_count": 8,
   "metadata": {
    "ExecuteTime": {
     "end_time": "2020-03-01T09:18:51.742988Z",
     "start_time": "2020-03-01T09:18:51.737007Z"
    }
   },
   "outputs": [],
   "source": [
    "uni_data = uni_data.values\n",
    "scaler_x = preprocessing.MinMaxScaler()\n",
    "x_rescaled = scaler_x.fit_transform(uni_data.reshape(-1, 1))"
   ]
  },
  {
   "cell_type": "code",
   "execution_count": 9,
   "metadata": {
    "ExecuteTime": {
     "end_time": "2020-03-01T09:18:52.531874Z",
     "start_time": "2020-03-01T09:18:52.524922Z"
    }
   },
   "outputs": [],
   "source": [
    "def custom_ts_univariate_data_prep(dataset, start, end, window, horizon):\n",
    "  X = []\n",
    "  y = []\n",
    "\n",
    "  start = start + window\n",
    "  if end is None:\n",
    "    end = len(dataset) - horizon\n",
    "\n",
    "  for i in range(start, end):\n",
    "    indicesx = range(i-window, i)\n",
    "    X.append(np.reshape(dataset[indicesx], (window, 1)))\n",
    "    indicesy = range(i,i+horizon)\n",
    "    y.append(dataset[indicesy])\n",
    "  return np.array(X), np.array(y)"
   ]
  },
  {
   "cell_type": "code",
   "execution_count": 10,
   "metadata": {
    "ExecuteTime": {
     "end_time": "2020-03-01T09:19:01.913772Z",
     "start_time": "2020-03-01T09:19:00.909496Z"
    }
   },
   "outputs": [],
   "source": [
    "univar_hist_window = 48\n",
    "horizon = 1\n",
    "TRAIN_SPLIT = 30000\n",
    "x_train_uni, y_train_uni = custom_ts_univariate_data_prep(x_rescaled, 0, TRAIN_SPLIT,univar_hist_window, horizon)\n",
    "x_val_uni, y_val_uni = custom_ts_univariate_data_prep(x_rescaled, TRAIN_SPLIT, None,univar_hist_window,horizon)"
   ]
  },
  {
   "cell_type": "code",
   "execution_count": 11,
   "metadata": {
    "ExecuteTime": {
     "end_time": "2020-03-01T09:19:02.886199Z",
     "start_time": "2020-03-01T09:19:02.876197Z"
    }
   },
   "outputs": [
    {
     "name": "stdout",
     "output_type": "stream",
     "text": [
      "Single window of past history\n",
      "[[0.76167582]\n",
      " [0.62032967]\n",
      " [0.65480769]\n",
      " [0.69038462]\n",
      " [0.67554945]\n",
      " [0.71167582]\n",
      " [0.76703297]\n",
      " [0.82623626]\n",
      " [0.79546703]\n",
      " [0.65521978]\n",
      " [0.48612637]\n",
      " [0.38241758]\n",
      " [0.32431319]\n",
      " [0.21002747]\n",
      " [0.13228022]\n",
      " [0.06950549]\n",
      " [0.04409341]\n",
      " [0.0375    ]\n",
      " [0.05041209]\n",
      " [0.11181319]\n",
      " [0.37335165]\n",
      " [0.77925824]\n",
      " [0.89436813]\n",
      " [0.75151099]\n",
      " [0.70013736]\n",
      " [0.67129121]\n",
      " [0.7331044 ]\n",
      " [0.78186813]\n",
      " [0.84299451]\n",
      " [0.63502747]\n",
      " [0.49326923]\n",
      " [0.39807692]\n",
      " [0.36222527]\n",
      " [0.24409341]\n",
      " [0.13942308]\n",
      " [0.08214286]\n",
      " [0.05068681]\n",
      " [0.04285714]\n",
      " [0.05041209]\n",
      " [0.1146978 ]\n",
      " [0.37445055]\n",
      " [0.78145604]\n",
      " [0.96016484]\n",
      " [0.82211538]\n",
      " [0.72925824]\n",
      " [0.63228022]\n",
      " [0.67087912]\n",
      " [0.7010989 ]]\n",
      "\n",
      " Target horizon\n",
      "[[0.71126374]]\n"
     ]
    }
   ],
   "source": [
    "print ('Single window of past history')\n",
    "print (x_train_uni[0])\n",
    "print ('\\n Target horizon')\n",
    "print (y_train_uni[0])"
   ]
  },
  {
   "cell_type": "code",
   "execution_count": 12,
   "metadata": {
    "ExecuteTime": {
     "end_time": "2020-03-01T09:19:15.668998Z",
     "start_time": "2020-03-01T09:19:14.457209Z"
    }
   },
   "outputs": [],
   "source": [
    "BATCH_SIZE = 256\n",
    "BUFFER_SIZE = 150\n",
    "\n",
    "train_univariate = tf.data.Dataset.from_tensor_slices((x_train_uni, y_train_uni))\n",
    "train_univariate = train_univariate.cache().shuffle(BUFFER_SIZE).batch(BATCH_SIZE).repeat()\n",
    "\n",
    "val_univariate = tf.data.Dataset.from_tensor_slices((x_val_uni, y_val_uni))\n",
    "val_univariate = val_univariate.batch(BATCH_SIZE).repeat()"
   ]
  },
  {
   "cell_type": "code",
   "execution_count": 13,
   "metadata": {
    "ExecuteTime": {
     "end_time": "2020-03-01T09:19:32.524901Z",
     "start_time": "2020-03-01T09:19:31.853660Z"
    }
   },
   "outputs": [],
   "source": [
    "GRU_model = tf.keras.models.Sequential([\n",
    "    tf.keras.layers.GRU(100, input_shape=x_train_uni.shape[-2:],return_sequences=True),\n",
    "    tf.keras.layers.Dropout(0.2),\n",
    "    tf.keras.layers.GRU(units=50,return_sequences=False),\n",
    "    tf.keras.layers.Dropout(0.2),\n",
    "    tf.keras.layers.Dense(units=1),\n",
    "])\n",
    "GRU_model.compile(optimizer='adam', loss='mse')\n"
   ]
  },
  {
   "cell_type": "code",
   "execution_count": 14,
   "metadata": {
    "ExecuteTime": {
     "end_time": "2020-03-01T09:19:38.453004Z",
     "start_time": "2020-03-01T09:19:38.448017Z"
    }
   },
   "outputs": [],
   "source": [
    "model_path = r'\\Chapter 6\\GRU_Univarient_2.h5'"
   ]
  },
  {
   "cell_type": "code",
   "execution_count": 15,
   "metadata": {
    "ExecuteTime": {
     "end_time": "2020-03-01T09:22:00.851007Z",
     "start_time": "2020-03-01T09:19:39.860236Z"
    }
   },
   "outputs": [
    {
     "name": "stdout",
     "output_type": "stream",
     "text": [
      "Train for 100 steps, validate for 50 steps\n",
      "Epoch 1/150\n",
      "100/100 [==============================] - 7s 75ms/step - loss: 0.0445 - val_loss: 0.0200\n",
      "Epoch 2/150\n",
      "100/100 [==============================] - 4s 41ms/step - loss: 0.0207 - val_loss: 0.0130\n",
      "Epoch 3/150\n",
      "100/100 [==============================] - 2s 15ms/step - loss: 0.0173 - val_loss: 0.0131\n",
      "Epoch 4/150\n",
      "100/100 [==============================] - 2s 16ms/step - loss: 0.0147 - val_loss: 0.0111\n",
      "Epoch 5/150\n",
      "100/100 [==============================] - 2s 17ms/step - loss: 0.0154 - val_loss: 0.0108\n",
      "Epoch 6/150\n",
      "100/100 [==============================] - 2s 16ms/step - loss: 0.0141 - val_loss: 0.0102\n",
      "Epoch 7/150\n",
      "100/100 [==============================] - 2s 16ms/step - loss: 0.0141 - val_loss: 0.0102\n",
      "Epoch 8/150\n",
      "100/100 [==============================] - 2s 15ms/step - loss: 0.0144 - val_loss: 0.0105\n",
      "Epoch 9/150\n",
      "100/100 [==============================] - 2s 15ms/step - loss: 0.0140 - val_loss: 0.0104\n",
      "Epoch 10/150\n",
      "100/100 [==============================] - 2s 15ms/step - loss: 0.0135 - val_loss: 0.0155\n",
      "Epoch 11/150\n",
      "100/100 [==============================] - 2s 16ms/step - loss: 0.0125 - val_loss: 0.0101ETA: 0s - \n",
      "Epoch 12/150\n",
      "100/100 [==============================] - 2s 15ms/step - loss: 0.0136 - val_loss: 0.0103\n",
      "Epoch 13/150\n",
      "100/100 [==============================] - 1s 15ms/step - loss: 0.0129 - val_loss: 0.0103\n",
      "Epoch 14/150\n",
      "100/100 [==============================] - 2s 16ms/step - loss: 0.0132 - val_loss: 0.0098\n",
      "Epoch 15/150\n",
      "100/100 [==============================] - 1s 15ms/step - loss: 0.0136 - val_loss: 0.0099\n",
      "Epoch 16/150\n",
      "100/100 [==============================] - 2s 15ms/step - loss: 0.0133 - val_loss: 0.0110\n",
      "Epoch 17/150\n",
      "100/100 [==============================] - 2s 15ms/step - loss: 0.0125 - val_loss: 0.0140\n",
      "Epoch 18/150\n",
      "100/100 [==============================] - 2s 16ms/step - loss: 0.0118 - val_loss: 0.0097\n",
      "Epoch 19/150\n",
      "100/100 [==============================] - 2s 16ms/step - loss: 0.0133 - val_loss: 0.0105\n",
      "Epoch 20/150\n",
      "100/100 [==============================] - 1s 15ms/step - loss: 0.0121 - val_loss: 0.0098\n",
      "Epoch 21/150\n",
      "100/100 [==============================] - 2s 17ms/step - loss: 0.0127 - val_loss: 0.0094\n",
      "Epoch 22/150\n",
      "100/100 [==============================] - 2s 16ms/step - loss: 0.0126 - val_loss: 0.0094\n",
      "Epoch 23/150\n",
      "100/100 [==============================] - 2s 15ms/step - loss: 0.0128 - val_loss: 0.0098\n",
      "Epoch 24/150\n",
      "100/100 [==============================] - 2s 15ms/step - loss: 0.0117 - val_loss: 0.0108\n",
      "Epoch 25/150\n",
      "100/100 [==============================] - 2s 16ms/step - loss: 0.0115 - val_loss: 0.0092\n",
      "Epoch 26/150\n",
      "100/100 [==============================] - 2s 15ms/step - loss: 0.0123 - val_loss: 0.0094\n",
      "Epoch 27/150\n",
      "100/100 [==============================] - 2s 16ms/step - loss: 0.0117 - val_loss: 0.0091\n",
      "Epoch 28/150\n",
      "100/100 [==============================] - 2s 16ms/step - loss: 0.0123 - val_loss: 0.0087\n",
      "Epoch 29/150\n",
      "100/100 [==============================] - 2s 15ms/step - loss: 0.0120 - val_loss: 0.0090\n",
      "Epoch 30/150\n",
      "100/100 [==============================] - 2s 15ms/step - loss: 0.0121 - val_loss: 0.0107\n",
      "Epoch 31/150\n",
      "100/100 [==============================] - 2s 16ms/step - loss: 0.0105 - val_loss: 0.0086\n",
      "Epoch 32/150\n",
      "100/100 [==============================] - 2s 15ms/step - loss: 0.0112 - val_loss: 0.0087\n",
      "Epoch 33/150\n",
      "100/100 [==============================] - 2s 15ms/step - loss: 0.0113 - val_loss: 0.0084\n",
      "Epoch 34/150\n",
      "100/100 [==============================] - 2s 15ms/step - loss: 0.0112 - val_loss: 0.0086\n",
      "Epoch 35/150\n",
      "100/100 [==============================] - 2s 16ms/step - loss: 0.0118 - val_loss: 0.0084\n",
      "Epoch 36/150\n",
      "100/100 [==============================] - 2s 16ms/step - loss: 0.0113 - val_loss: 0.0082\n",
      "Epoch 37/150\n",
      "100/100 [==============================] - 2s 15ms/step - loss: 0.0114 - val_loss: 0.0095\n",
      "Epoch 38/150\n",
      "100/100 [==============================] - 2s 15ms/step - loss: 0.0099 - val_loss: 0.0082\n",
      "Epoch 39/150\n",
      "100/100 [==============================] - 2s 15ms/step - loss: 0.0108 - val_loss: 0.0083\n",
      "Epoch 40/150\n",
      "100/100 [==============================] - 2s 23ms/step - loss: 0.0106 - val_loss: 0.0079\n",
      "Epoch 41/150\n",
      "100/100 [==============================] - 2s 15ms/step - loss: 0.0107 - val_loss: 0.0081\n",
      "Epoch 42/150\n",
      "100/100 [==============================] - 1s 15ms/step - loss: 0.0111 - val_loss: 0.0081\n",
      "Epoch 43/150\n",
      "100/100 [==============================] - 2s 15ms/step - loss: 0.0108 - val_loss: 0.0083\n",
      "Epoch 44/150\n",
      "100/100 [==============================] - 2s 15ms/step - loss: 0.0109 - val_loss: 0.0083\n",
      "Epoch 45/150\n",
      "100/100 [==============================] - 2s 16ms/step - loss: 0.0091 - val_loss: 0.0078\n",
      "Epoch 46/150\n",
      "100/100 [==============================] - 2s 15ms/step - loss: 0.0104 - val_loss: 0.0081\n",
      "Epoch 47/150\n",
      "100/100 [==============================] - 2s 15ms/step - loss: 0.0100 - val_loss: 0.0075\n",
      "Epoch 48/150\n",
      "100/100 [==============================] - 1s 15ms/step - loss: 0.0101 - val_loss: 0.0075\n",
      "Epoch 49/150\n",
      "100/100 [==============================] - 2s 15ms/step - loss: 0.0104 - val_loss: 0.0075\n",
      "Epoch 50/150\n",
      "100/100 [==============================] - 1s 15ms/step - loss: 0.0103 - val_loss: 0.0085\n",
      "Epoch 51/150\n",
      "100/100 [==============================] - 2s 15ms/step - loss: 0.0104 - val_loss: 0.0093\n",
      "Epoch 52/150\n",
      "100/100 [==============================] - 2s 16ms/step - loss: 0.0086 - val_loss: 0.0073\n",
      "Epoch 53/150\n",
      "100/100 [==============================] - 1s 15ms/step - loss: 0.0100 - val_loss: 0.0080\n",
      "Epoch 54/150\n",
      "100/100 [==============================] - 2s 15ms/step - loss: 0.0095 - val_loss: 0.0073\n",
      "Epoch 55/150\n",
      "100/100 [==============================] - 2s 15ms/step - loss: 0.0096 - val_loss: 0.0072\n",
      "Epoch 56/150\n",
      "100/100 [==============================] - 2s 15ms/step - loss: 0.0100 - val_loss: 0.0073\n",
      "Epoch 57/150\n",
      "100/100 [==============================] - 1s 15ms/step - loss: 0.0098 - val_loss: 0.0083\n",
      "Epoch 58/150\n",
      "100/100 [==============================] - 1s 15ms/step - loss: 0.0100 - val_loss: 0.0106\n",
      "Epoch 59/150\n",
      "100/100 [==============================] - 1s 15ms/step - loss: 0.0084 - val_loss: 0.0073\n",
      "Epoch 60/150\n",
      "100/100 [==============================] - 2s 15ms/step - loss: 0.0096 - val_loss: 0.0077\n",
      "Epoch 61/150\n",
      "100/100 [==============================] - 2s 15ms/step - loss: 0.0092 - val_loss: 0.0073\n",
      "Epoch 62/150\n",
      "100/100 [==============================] - 2s 15ms/step - loss: 0.0093 - val_loss: 0.0071\n",
      "Epoch 63/150\n",
      "100/100 [==============================] - 2s 15ms/step - loss: 0.0097 - val_loss: 0.0076\n",
      "Epoch 64/150\n",
      "100/100 [==============================] - 1s 15ms/step - loss: 0.0096 - val_loss: 0.0077\n",
      "Epoch 65/150\n",
      "100/100 [==============================] - 2s 15ms/step - loss: 0.0095 - val_loss: 0.0110\n",
      "Epoch 66/150\n",
      "100/100 [==============================] - 1s 15ms/step - loss: 0.0083 - val_loss: 0.0074\n",
      "Epoch 67/150\n",
      "100/100 [==============================] - 2s 15ms/step - loss: 0.0096 - val_loss: 0.0075\n",
      "Epoch 68/150\n",
      "100/100 [==============================] - 1s 15ms/step - loss: 0.0089 - val_loss: 0.0075\n",
      "Epoch 69/150\n",
      "100/100 [==============================] - 2s 15ms/step - loss: 0.0092 - val_loss: 0.0070\n",
      "Epoch 70/150\n",
      "100/100 [==============================] - 2s 15ms/step - loss: 0.0095 - val_loss: 0.0074\n",
      "Epoch 71/150\n",
      "100/100 [==============================] - 2s 15ms/step - loss: 0.0094 - val_loss: 0.0075\n",
      "Epoch 72/150\n",
      "100/100 [==============================] - 2s 15ms/step - loss: 0.0089 - val_loss: 0.0096\n",
      "Epoch 73/150\n",
      "100/100 [==============================] - 1s 15ms/step - loss: 0.0085 - val_loss: 0.0074\n",
      "Epoch 74/150\n",
      "100/100 [==============================] - 2s 15ms/step - loss: 0.0093 - val_loss: 0.0075\n",
      "Epoch 75/150\n",
      "100/100 [==============================] - 2s 15ms/step - loss: 0.0087 - val_loss: 0.0074\n",
      "Epoch 76/150\n",
      "100/100 [==============================] - 2s 15ms/step - loss: 0.0091 - val_loss: 0.0070\n",
      "Epoch 77/150\n",
      "100/100 [==============================] - 1s 15ms/step - loss: 0.0093 - val_loss: 0.0071\n",
      "Epoch 78/150\n",
      "100/100 [==============================] - 2s 15ms/step - loss: 0.0093 - val_loss: 0.0073\n",
      "Epoch 79/150\n",
      "100/100 [==============================] - 1s 15ms/step - loss: 0.0085 - val_loss: 0.0083\n",
      "Epoch 80/150\n"
     ]
    },
    {
     "name": "stdout",
     "output_type": "stream",
     "text": [
      "100/100 [==============================] - 1s 15ms/step - loss: 0.0083 - val_loss: 0.0073\n",
      "Epoch 81/150\n",
      "100/100 [==============================] - 1s 15ms/step - loss: 0.0092 - val_loss: 0.0073\n",
      "Epoch 82/150\n",
      "100/100 [==============================] - 2s 15ms/step - loss: 0.0085 - val_loss: 0.0073\n",
      "Epoch 83/150\n",
      "100/100 [==============================] - 2s 16ms/step - loss: 0.0091 - val_loss: 0.0070\n",
      "Epoch 84/150\n",
      "100/100 [==============================] - 2s 15ms/step - loss: 0.0090 - val_loss: 0.0071\n",
      "Epoch 85/150\n",
      "100/100 [==============================] - 2s 15ms/step - loss: 0.0091 - val_loss: 0.0073\n",
      "Epoch 86/150\n",
      "100/100 [==============================] - 2s 15ms/step - loss: 0.0081 - val_loss: 0.0075\n",
      "Epoch 00086: early stopping\n"
     ]
    }
   ],
   "source": [
    "EVALUATION_INTERVAL = 100\n",
    "EPOCHS = 150\n",
    "history = GRU_model.fit(train_univariate, epochs=EPOCHS,steps_per_epoch=EVALUATION_INTERVAL,validation_data=val_univariate, validation_steps=50,verbose =1,\n",
    "                              callbacks =[tf.keras.callbacks.EarlyStopping(monitor='val_loss', min_delta=0, patience=10, verbose=1, mode='min'),tf.keras.callbacks.ModelCheckpoint(model_path,monitor='val_loss', save_best_only=True, mode='min', verbose=0)])"
   ]
  },
  {
   "cell_type": "code",
   "execution_count": 16,
   "metadata": {
    "ExecuteTime": {
     "end_time": "2020-03-01T09:22:06.303425Z",
     "start_time": "2020-03-01T09:22:04.436423Z"
    }
   },
   "outputs": [],
   "source": [
    "# Recreate the exact same model, including its weights and the optimizer\n",
    "Trained_model = tf.keras.models.load_model(model_path)"
   ]
  },
  {
   "cell_type": "code",
   "execution_count": 17,
   "metadata": {
    "ExecuteTime": {
     "end_time": "2020-03-01T09:22:12.646423Z",
     "start_time": "2020-03-01T09:22:12.639438Z"
    }
   },
   "outputs": [
    {
     "name": "stdout",
     "output_type": "stream",
     "text": [
      "Model: \"sequential\"\n",
      "_________________________________________________________________\n",
      "Layer (type)                 Output Shape              Param #   \n",
      "=================================================================\n",
      "gru (GRU)                    (None, 48, 100)           30900     \n",
      "_________________________________________________________________\n",
      "dropout (Dropout)            (None, 48, 100)           0         \n",
      "_________________________________________________________________\n",
      "gru_1 (GRU)                  (None, 50)                22800     \n",
      "_________________________________________________________________\n",
      "dropout_1 (Dropout)          (None, 50)                0         \n",
      "_________________________________________________________________\n",
      "dense (Dense)                (None, 1)                 51        \n",
      "=================================================================\n",
      "Total params: 53,751\n",
      "Trainable params: 53,751\n",
      "Non-trainable params: 0\n",
      "_________________________________________________________________\n"
     ]
    }
   ],
   "source": [
    "# Show the model architecture\n",
    "Trained_model.summary()"
   ]
  },
  {
   "cell_type": "code",
   "execution_count": 19,
   "metadata": {
    "ExecuteTime": {
     "end_time": "2020-03-01T09:22:15.922655Z",
     "start_time": "2020-03-01T09:22:15.676313Z"
    }
   },
   "outputs": [
    {
     "data": {
      "image/png": "[encoded data removed]",
      "text/plain": [
       "<Figure size 1152x648 with 1 Axes>"
      ]
     },
     "metadata": {
      "needs_background": "light"
     },
     "output_type": "display_data"
    }
   ],
   "source": [
    "plt.plot(history.history['loss'])\n",
    "plt.plot(history.history['val_loss'])\n",
    "plt.title('Model loss')\n",
    "plt.ylabel('loss')\n",
    "plt.xlabel('epoch')\n",
    "plt.legend(['train loss', 'validation loss'], loc='upper left')\n",
    "plt.rcParams[\"figure.figsize\"] = [16,9]\n",
    "plt.show()"
   ]
  },
  {
   "cell_type": "code",
   "execution_count": 20,
   "metadata": {
    "ExecuteTime": {
     "end_time": "2020-03-01T09:22:18.537657Z",
     "start_time": "2020-03-01T09:22:17.580245Z"
    }
   },
   "outputs": [
    {
     "name": "stdout",
     "output_type": "stream",
     "text": [
      "predicted : [[0.6352098]]\n",
      "[0.80830343 0.77960021 0.83000171 0.94020161 1.         0.91576969\n",
      " 0.81479583 0.67503844 0.54724073 0.46523151 0.40628737 0.54826585\n",
      " 0.23885187 0.09089356 0.03229113 0.00410046 0.01537673 0.06970784\n",
      " 0.17495302 0.29062019 0.46779429 0.57919016 0.63625491 0.69075688\n",
      " 0.73842474 0.72065607 0.73176149 0.72253545 0.75175124 0.77618315\n",
      " 0.72338971 0.51307022 0.44677943 0.388177   0.60157184 0.25474116\n",
      " 0.09994874 0.06167777 0.00495472 0.         0.01862293 0.07978814\n",
      " 0.14351615 0.28481121 0.43516146 0.5750897  0.63454639 0.6352098 ]\n",
      "predicted : [[0.6275835]]\n",
      "[0.77960021 0.83000171 0.94020161 1.         0.91576969 0.81479583\n",
      " 0.67503844 0.54724073 0.46523151 0.40628737 0.54826585 0.23885187\n",
      " 0.09089356 0.03229113 0.00410046 0.01537673 0.06970784 0.17495302\n",
      " 0.29062019 0.46779429 0.57919016 0.63625491 0.69075688 0.73842474\n",
      " 0.72065607 0.73176149 0.72253545 0.75175124 0.77618315 0.72338971\n",
      " 0.51307022 0.44677943 0.388177   0.60157184 0.25474116 0.09994874\n",
      " 0.06167777 0.00495472 0.         0.01862293 0.07978814 0.14351615\n",
      " 0.28481121 0.43516146 0.5750897  0.63454639 0.6352098  0.6275835 ]\n",
      "predicted : [[0.62403286]]\n",
      "[0.83000171 0.94020161 1.         0.91576969 0.81479583 0.67503844\n",
      " 0.54724073 0.46523151 0.40628737 0.54826585 0.23885187 0.09089356\n",
      " 0.03229113 0.00410046 0.01537673 0.06970784 0.17495302 0.29062019\n",
      " 0.46779429 0.57919016 0.63625491 0.69075688 0.73842474 0.72065607\n",
      " 0.73176149 0.72253545 0.75175124 0.77618315 0.72338971 0.51307022\n",
      " 0.44677943 0.388177   0.60157184 0.25474116 0.09994874 0.06167777\n",
      " 0.00495472 0.         0.01862293 0.07978814 0.14351615 0.28481121\n",
      " 0.43516146 0.5750897  0.63454639 0.6352098  0.6275835  0.62403286]\n",
      "predicted : [[0.6255683]]\n",
      "[0.94020161 1.         0.91576969 0.81479583 0.67503844 0.54724073\n",
      " 0.46523151 0.40628737 0.54826585 0.23885187 0.09089356 0.03229113\n",
      " 0.00410046 0.01537673 0.06970784 0.17495302 0.29062019 0.46779429\n",
      " 0.57919016 0.63625491 0.69075688 0.73842474 0.72065607 0.73176149\n",
      " 0.72253545 0.75175124 0.77618315 0.72338971 0.51307022 0.44677943\n",
      " 0.388177   0.60157184 0.25474116 0.09994874 0.06167777 0.00495472\n",
      " 0.         0.01862293 0.07978814 0.14351615 0.28481121 0.43516146\n",
      " 0.5750897  0.63454639 0.6352098  0.6275835  0.62403286 0.62556827]\n",
      "predicted : [[0.621732]]\n",
      "[1.         0.91576969 0.81479583 0.67503844 0.54724073 0.46523151\n",
      " 0.40628737 0.54826585 0.23885187 0.09089356 0.03229113 0.00410046\n",
      " 0.01537673 0.06970784 0.17495302 0.29062019 0.46779429 0.57919016\n",
      " 0.63625491 0.69075688 0.73842474 0.72065607 0.73176149 0.72253545\n",
      " 0.75175124 0.77618315 0.72338971 0.51307022 0.44677943 0.388177\n",
      " 0.60157184 0.25474116 0.09994874 0.06167777 0.00495472 0.\n",
      " 0.01862293 0.07978814 0.14351615 0.28481121 0.43516146 0.5750897\n",
      " 0.63454639 0.6352098  0.6275835  0.62403286 0.62556827 0.621732  ]\n",
      "predicted : [[0.6073155]]\n",
      "[0.91576969 0.81479583 0.67503844 0.54724073 0.46523151 0.40628737\n",
      " 0.54826585 0.23885187 0.09089356 0.03229113 0.00410046 0.01537673\n",
      " 0.06970784 0.17495302 0.29062019 0.46779429 0.57919016 0.63625491\n",
      " 0.69075688 0.73842474 0.72065607 0.73176149 0.72253545 0.75175124\n",
      " 0.77618315 0.72338971 0.51307022 0.44677943 0.388177   0.60157184\n",
      " 0.25474116 0.09994874 0.06167777 0.00495472 0.         0.01862293\n",
      " 0.07978814 0.14351615 0.28481121 0.43516146 0.5750897  0.63454639\n",
      " 0.6352098  0.6275835  0.62403286 0.62556827 0.621732   0.60731548]\n",
      "predicted : [[0.585571]]\n",
      "[0.81479583 0.67503844 0.54724073 0.46523151 0.40628737 0.54826585\n",
      " 0.23885187 0.09089356 0.03229113 0.00410046 0.01537673 0.06970784\n",
      " 0.17495302 0.29062019 0.46779429 0.57919016 0.63625491 0.69075688\n",
      " 0.73842474 0.72065607 0.73176149 0.72253545 0.75175124 0.77618315\n",
      " 0.72338971 0.51307022 0.44677943 0.388177   0.60157184 0.25474116\n",
      " 0.09994874 0.06167777 0.00495472 0.         0.01862293 0.07978814\n",
      " 0.14351615 0.28481121 0.43516146 0.5750897  0.63454639 0.6352098\n",
      " 0.6275835  0.62403286 0.62556827 0.621732   0.60731548 0.58557099]\n",
      "predicted : [[0.5583089]]\n",
      "[0.67503844 0.54724073 0.46523151 0.40628737 0.54826585 0.23885187\n",
      " 0.09089356 0.03229113 0.00410046 0.01537673 0.06970784 0.17495302\n",
      " 0.29062019 0.46779429 0.57919016 0.63625491 0.69075688 0.73842474\n",
      " 0.72065607 0.73176149 0.72253545 0.75175124 0.77618315 0.72338971\n",
      " 0.51307022 0.44677943 0.388177   0.60157184 0.25474116 0.09994874\n",
      " 0.06167777 0.00495472 0.         0.01862293 0.07978814 0.14351615\n",
      " 0.28481121 0.43516146 0.5750897  0.63454639 0.6352098  0.6275835\n",
      " 0.62403286 0.62556827 0.621732   0.60731548 0.58557099 0.5583089 ]\n",
      "predicted : [[0.5226172]]\n",
      "[0.54724073 0.46523151 0.40628737 0.54826585 0.23885187 0.09089356\n",
      " 0.03229113 0.00410046 0.01537673 0.06970784 0.17495302 0.29062019\n",
      " 0.46779429 0.57919016 0.63625491 0.69075688 0.73842474 0.72065607\n",
      " 0.73176149 0.72253545 0.75175124 0.77618315 0.72338971 0.51307022\n",
      " 0.44677943 0.388177   0.60157184 0.25474116 0.09994874 0.06167777\n",
      " 0.00495472 0.         0.01862293 0.07978814 0.14351615 0.28481121\n",
      " 0.43516146 0.5750897  0.63454639 0.6352098  0.6275835  0.62403286\n",
      " 0.62556827 0.621732   0.60731548 0.58557099 0.5583089  0.52261722]\n",
      "predicted : [[0.4750312]]\n",
      "[0.46523151 0.40628737 0.54826585 0.23885187 0.09089356 0.03229113\n",
      " 0.00410046 0.01537673 0.06970784 0.17495302 0.29062019 0.46779429\n",
      " 0.57919016 0.63625491 0.69075688 0.73842474 0.72065607 0.73176149\n",
      " 0.72253545 0.75175124 0.77618315 0.72338971 0.51307022 0.44677943\n",
      " 0.388177   0.60157184 0.25474116 0.09994874 0.06167777 0.00495472\n",
      " 0.         0.01862293 0.07978814 0.14351615 0.28481121 0.43516146\n",
      " 0.5750897  0.63454639 0.6352098  0.6275835  0.62403286 0.62556827\n",
      " 0.621732   0.60731548 0.58557099 0.5583089  0.52261722 0.4750312 ]\n"
     ]
    }
   ],
   "source": [
    "uni = df['traffic_volume']\n",
    "validatehori = uni.tail(48)\n",
    "validatehist = validatehori.values\n",
    "result = []\n",
    "# Define Forecast length here\n",
    "window_len = 10\n",
    "val_rescaled = scaler_x.fit_transform(validatehist.reshape(-1, 1))\n",
    "\n",
    "for i in range(1, window_len+1):\n",
    "    \n",
    "    val_rescaled = val_rescaled.reshape((1, val_rescaled.shape[0], 1))\n",
    "    Predicted_results = Trained_model.predict(val_rescaled)\n",
    "    print(f'predicted : {Predicted_results}')\n",
    "    result.append(Predicted_results[0])\n",
    "    val_rescaled = np.append(val_rescaled[:,1:],[[Predicted_results]])\n",
    "    print(val_rescaled)\n"
   ]
  },
  {
   "cell_type": "code",
   "execution_count": 21,
   "metadata": {
    "ExecuteTime": {
     "end_time": "2020-03-01T09:22:21.479818Z",
     "start_time": "2020-03-01T09:22:21.475795Z"
    }
   },
   "outputs": [],
   "source": [
    "result_inv_trans = scaler_x.inverse_transform(result)"
   ]
  },
  {
   "cell_type": "code",
   "execution_count": 22,
   "metadata": {
    "ExecuteTime": {
     "end_time": "2020-03-01T09:22:22.354445Z",
     "start_time": "2020-03-01T09:22:22.323525Z"
    }
   },
   "outputs": [],
   "source": [
    "from sklearn import metrics\n",
    "def timeseries_evaluation_metrics_func(y_true, y_pred):\n",
    "    \n",
    "    def mean_absolute_percentage_error(y_true, y_pred): \n",
    "        y_true, y_pred = np.array(y_true), np.array(y_pred)\n",
    "        return np.mean(np.abs((y_true - y_pred) / y_true)) * 100\n",
    "    print('Evaluation metric results:-')\n",
    "    print(f'MSE is : {metrics.mean_squared_error(y_true, y_pred)}')\n",
    "    print(f'MAE is : {metrics.mean_absolute_error(y_true, y_pred)}')\n",
    "    print(f'RMSE is : {np.sqrt(metrics.mean_squared_error(y_true, y_pred))}')\n",
    "    print(f'MAPE is : {mean_absolute_percentage_error(y_true, y_pred)}')\n",
    "    print(f'R2 is : {metrics.r2_score(y_true, y_pred)}',end='\\n\\n')"
   ]
  },
  {
   "cell_type": "code",
   "execution_count": 23,
   "metadata": {
    "ExecuteTime": {
     "end_time": "2020-03-01T09:22:24.734110Z",
     "start_time": "2020-03-01T09:22:24.728128Z"
    }
   },
   "outputs": [
    {
     "name": "stdout",
     "output_type": "stream",
     "text": [
      "Evaluation metric results:-\n",
      "MSE is : 1215598.608399074\n",
      "MAE is : 824.993548476696\n",
      "RMSE is : 1102.5418850996427\n",
      "MAPE is : 63.50363024711859\n",
      "R2 is : 0.21081508631715062\n",
      "\n"
     ]
    }
   ],
   "source": [
    "timeseries_evaluation_metrics_func(validate,result_inv_trans)"
   ]
  },
  {
   "cell_type": "code",
   "execution_count": 24,
   "metadata": {
    "ExecuteTime": {
     "end_time": "2020-03-01T09:22:26.245032Z",
     "start_time": "2020-03-01T09:22:26.003680Z"
    }
   },
   "outputs": [
    {
     "data": {
      "image/png": "[encoded data removed]",
      "text/plain": [
       "<Figure size 1152x648 with 1 Axes>"
      ]
     },
     "metadata": {
      "needs_background": "light"
     },
     "output_type": "display_data"
    }
   ],
   "source": [
    "plt.plot( list(validate))\n",
    "plt.plot( list(result_inv_trans))\n",
    "plt.title(\"Actual vs Predicted\")\n",
    "plt.ylabel(\"Traffic volume\")\n",
    "plt.legend(('Actual','predicted'))\n",
    "plt.show()"
   ]
  },
  {
   "cell_type": "code",
   "execution_count": null,
   "metadata": {},
   "outputs": [],
   "source": []
  },
  {
   "cell_type": "code",
   "execution_count": null,
   "metadata": {},
   "outputs": [],
   "source": []
  },
  {
   "cell_type": "code",
   "execution_count": null,
   "metadata": {},
   "outputs": [],
   "source": []
  },
  {
   "cell_type": "code",
   "execution_count": null,
   "metadata": {},
   "outputs": [],
   "source": []
  }
 ],
 "metadata": {
  "kernelspec": {
   "display_name": "Python 3",
   "language": "python",
   "name": "python3"
  },
  "language_info": {
   "codemirror_mode": {
    "name": "ipython",
    "version": 3
   },
   "file_extension": ".py",
   "mimetype": "text/x-python",
   "name": "python",
   "nbconvert_exporter": "python",
   "pygments_lexer": "ipython3",
   "version": "3.7.3"
  },
  "latex_envs": {
   "LaTeX_envs_menu_present": true,
   "autoclose": false,
   "autocomplete": true,
   "bibliofile": "biblio.bib",
   "cite_by": "apalike",
   "current_citInitial": 1,
   "eqLabelWithNumbers": true,
   "eqNumInitial": 1,
   "hotkeys": {
    "equation": "Ctrl-E",
    "itemize": "Ctrl-I"
   },
   "labels_anchors": false,
   "latex_user_defs": false,
   "report_style_numbering": false,
   "user_envs_cfg": false
  },
  "nbTranslate": {
   "displayLangs": [
    "*"
   ],
   "hotkey": "alt-t",
   "langInMainMenu": true,
   "sourceLang": "en",
   "targetLang": "fr",
   "useGoogleTranslate": true
  }
 },
 "nbformat": 4,
 "nbformat_minor": 2
}

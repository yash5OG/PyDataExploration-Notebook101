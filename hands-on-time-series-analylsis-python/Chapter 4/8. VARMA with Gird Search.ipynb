{
 "cells": [
  {
   "cell_type": "code",
   "execution_count": 1,
   "metadata": {
    "ExecuteTime": {
     "end_time": "2020-01-16T14:43:40.846673Z",
     "start_time": "2020-01-16T14:43:32.869380Z"
    }
   },
   "outputs": [],
   "source": [
    "import pandas as pd\n",
    "import matplotlib.pyplot as plt\n",
    "from statsmodels.tsa.statespace.varmax import VARMAX\n",
    "import numpy as np\n",
    "from statsmodels.tsa.stattools import adfuller\n",
    "from sklearn import metrics\n",
    "from timeit import default_timer as timer\n",
    "import warnings\n",
    "warnings.filterwarnings(\"ignore\")"
   ]
  },
  {
   "cell_type": "code",
   "execution_count": 2,
   "metadata": {
    "ExecuteTime": {
     "end_time": "2020-01-16T14:43:42.824787Z",
     "start_time": "2020-01-16T14:43:40.846673Z"
    }
   },
   "outputs": [],
   "source": [
    "df = pd.read_csv(r'\\Data\\Dow_Jones_Industrial_Average.csv', parse_dates= True)"
   ]
  },
  {
   "cell_type": "code",
   "execution_count": 3,
   "metadata": {
    "ExecuteTime": {
     "end_time": "2020-01-16T14:44:36.504408Z",
     "start_time": "2020-01-16T14:44:36.493463Z"
    }
   },
   "outputs": [],
   "source": [
    "df = df[(df['Date'] > '2016-01-14') & (df['Date'] <= '2017-01-30')]"
   ]
  },
  {
   "cell_type": "code",
   "execution_count": 4,
   "metadata": {
    "ExecuteTime": {
     "end_time": "2020-01-16T14:44:47.100140Z",
     "start_time": "2020-01-16T14:44:47.063357Z"
    }
   },
   "outputs": [
    {
     "data": {
      "text/html": [
       "<div>\n",
       "<style scoped>\n",
       "    .dataframe tbody tr th:only-of-type {\n",
       "        vertical-align: middle;\n",
       "    }\n",
       "\n",
       "    .dataframe tbody tr th {\n",
       "        vertical-align: top;\n",
       "    }\n",
       "\n",
       "    .dataframe thead th {\n",
       "        text-align: right;\n",
       "    }\n",
       "</style>\n",
       "<table border=\"1\" class=\"dataframe\">\n",
       "  <thead>\n",
       "    <tr style=\"text-align: right;\">\n",
       "      <th></th>\n",
       "      <th>Date</th>\n",
       "      <th>Open</th>\n",
       "      <th>High</th>\n",
       "      <th>Low</th>\n",
       "      <th>Close</th>\n",
       "      <th>Adj Close</th>\n",
       "      <th>Volume</th>\n",
       "    </tr>\n",
       "  </thead>\n",
       "  <tbody>\n",
       "    <tr>\n",
       "      <th>1</th>\n",
       "      <td>2016-01-15</td>\n",
       "      <td>16354.330078</td>\n",
       "      <td>16354.330078</td>\n",
       "      <td>15842.110352</td>\n",
       "      <td>15988.080078</td>\n",
       "      <td>15988.080078</td>\n",
       "      <td>239210000</td>\n",
       "    </tr>\n",
       "    <tr>\n",
       "      <th>2</th>\n",
       "      <td>2016-01-19</td>\n",
       "      <td>16009.450195</td>\n",
       "      <td>16171.959961</td>\n",
       "      <td>15900.250000</td>\n",
       "      <td>16016.019531</td>\n",
       "      <td>16016.019531</td>\n",
       "      <td>144360000</td>\n",
       "    </tr>\n",
       "    <tr>\n",
       "      <th>3</th>\n",
       "      <td>2016-01-20</td>\n",
       "      <td>15989.450195</td>\n",
       "      <td>15989.450195</td>\n",
       "      <td>15450.559570</td>\n",
       "      <td>15766.740234</td>\n",
       "      <td>15766.740234</td>\n",
       "      <td>191870000</td>\n",
       "    </tr>\n",
       "    <tr>\n",
       "      <th>4</th>\n",
       "      <td>2016-01-21</td>\n",
       "      <td>15768.870117</td>\n",
       "      <td>16038.589844</td>\n",
       "      <td>15704.660156</td>\n",
       "      <td>15882.679688</td>\n",
       "      <td>15882.679688</td>\n",
       "      <td>145140000</td>\n",
       "    </tr>\n",
       "    <tr>\n",
       "      <th>5</th>\n",
       "      <td>2016-01-22</td>\n",
       "      <td>15921.099609</td>\n",
       "      <td>16136.790039</td>\n",
       "      <td>15921.099609</td>\n",
       "      <td>16093.509766</td>\n",
       "      <td>16093.509766</td>\n",
       "      <td>145850000</td>\n",
       "    </tr>\n",
       "    <tr>\n",
       "      <th>6</th>\n",
       "      <td>2016-01-25</td>\n",
       "      <td>16086.459961</td>\n",
       "      <td>16086.459961</td>\n",
       "      <td>15880.150391</td>\n",
       "      <td>15885.219727</td>\n",
       "      <td>15885.219727</td>\n",
       "      <td>123250000</td>\n",
       "    </tr>\n",
       "    <tr>\n",
       "      <th>7</th>\n",
       "      <td>2016-01-26</td>\n",
       "      <td>15893.160156</td>\n",
       "      <td>16185.790039</td>\n",
       "      <td>15893.160156</td>\n",
       "      <td>16167.230469</td>\n",
       "      <td>16167.230469</td>\n",
       "      <td>118210000</td>\n",
       "    </tr>\n",
       "    <tr>\n",
       "      <th>8</th>\n",
       "      <td>2016-01-27</td>\n",
       "      <td>16168.740234</td>\n",
       "      <td>16235.030273</td>\n",
       "      <td>15878.299805</td>\n",
       "      <td>15944.459961</td>\n",
       "      <td>15944.459961</td>\n",
       "      <td>138350000</td>\n",
       "    </tr>\n",
       "    <tr>\n",
       "      <th>9</th>\n",
       "      <td>2016-01-28</td>\n",
       "      <td>15960.280273</td>\n",
       "      <td>16102.139648</td>\n",
       "      <td>15863.719727</td>\n",
       "      <td>16069.639648</td>\n",
       "      <td>16069.639648</td>\n",
       "      <td>130120000</td>\n",
       "    </tr>\n",
       "    <tr>\n",
       "      <th>10</th>\n",
       "      <td>2016-01-29</td>\n",
       "      <td>16090.259766</td>\n",
       "      <td>16466.300781</td>\n",
       "      <td>16090.259766</td>\n",
       "      <td>16466.300781</td>\n",
       "      <td>16466.300781</td>\n",
       "      <td>217940000</td>\n",
       "    </tr>\n",
       "  </tbody>\n",
       "</table>\n",
       "</div>"
      ],
      "text/plain": [
       "          Date          Open          High           Low         Close  \\\n",
       "1   2016-01-15  16354.330078  16354.330078  15842.110352  15988.080078   \n",
       "2   2016-01-19  16009.450195  16171.959961  15900.250000  16016.019531   \n",
       "3   2016-01-20  15989.450195  15989.450195  15450.559570  15766.740234   \n",
       "4   2016-01-21  15768.870117  16038.589844  15704.660156  15882.679688   \n",
       "5   2016-01-22  15921.099609  16136.790039  15921.099609  16093.509766   \n",
       "6   2016-01-25  16086.459961  16086.459961  15880.150391  15885.219727   \n",
       "7   2016-01-26  15893.160156  16185.790039  15893.160156  16167.230469   \n",
       "8   2016-01-27  16168.740234  16235.030273  15878.299805  15944.459961   \n",
       "9   2016-01-28  15960.280273  16102.139648  15863.719727  16069.639648   \n",
       "10  2016-01-29  16090.259766  16466.300781  16090.259766  16466.300781   \n",
       "\n",
       "       Adj Close     Volume  \n",
       "1   15988.080078  239210000  \n",
       "2   16016.019531  144360000  \n",
       "3   15766.740234  191870000  \n",
       "4   15882.679688  145140000  \n",
       "5   16093.509766  145850000  \n",
       "6   15885.219727  123250000  \n",
       "7   16167.230469  118210000  \n",
       "8   15944.459961  138350000  \n",
       "9   16069.639648  130120000  \n",
       "10  16466.300781  217940000  "
      ]
     },
     "execution_count": 4,
     "metadata": {},
     "output_type": "execute_result"
    }
   ],
   "source": [
    "df.head(10)"
   ]
  },
  {
   "cell_type": "code",
   "execution_count": 5,
   "metadata": {
    "ExecuteTime": {
     "end_time": "2020-01-16T14:45:15.886368Z",
     "start_time": "2020-01-16T14:45:15.881417Z"
    }
   },
   "outputs": [],
   "source": [
    "X = df\n",
    "train, test = X[0:-30], X[-30:]"
   ]
  },
  {
   "cell_type": "code",
   "execution_count": 6,
   "metadata": {
    "ExecuteTime": {
     "end_time": "2020-01-16T14:45:21.884532Z",
     "start_time": "2020-01-16T14:45:21.877549Z"
    }
   },
   "outputs": [],
   "source": [
    "def timeseries_evaluation_metrics_func(y_true, y_pred):\n",
    "    \n",
    "    def mean_absolute_percentage_error(y_true, y_pred): \n",
    "        y_true, y_pred = np.array(y_true), np.array(y_pred)\n",
    "        return np.mean(np.abs((y_true - y_pred) / y_true)) * 100\n",
    "    print('Evaluation metric results:-')\n",
    "    print(f'MSE is : {metrics.mean_squared_error(y_true, y_pred)}')\n",
    "    print(f'MAE is : {metrics.mean_absolute_error(y_true, y_pred)}')\n",
    "    print(f'RMSE is : {np.sqrt(metrics.mean_squared_error(y_true, y_pred))}')\n",
    "    print(f'MAPE is : {mean_absolute_percentage_error(y_true, y_pred)}')\n",
    "    print(f'R2 is : {metrics.r2_score(y_true, y_pred)}',end='\\n\\n')"
   ]
  },
  {
   "cell_type": "code",
   "execution_count": 7,
   "metadata": {
    "ExecuteTime": {
     "end_time": "2020-01-16T14:45:30.256237Z",
     "start_time": "2020-01-16T14:45:30.250251Z"
    }
   },
   "outputs": [],
   "source": [
    "def Augmented_Dickey_Fuller_Test_func(series , column_name):\n",
    "    print (f'Results of Dickey-Fuller Test for column: {column_name}')\n",
    "    dftest = adfuller(series, autolag='AIC')\n",
    "    dfoutput = pd.Series(dftest[0:4], index=['Test Statistic','p-value','No Lags Used','Number of Observations Used'])\n",
    "    for key,value in dftest[4].items():\n",
    "       dfoutput['Critical Value (%s)'%key] = value\n",
    "    print (dfoutput)\n",
    "    if dftest[1] <= 0.05:\n",
    "        print(\"Conclusion:====>\")\n",
    "        print(\"Reject the null hypothesis\")\n",
    "        print(\"Data is stationary\")\n",
    "    else:\n",
    "        print(\"Conclusion:====>\")\n",
    "        print(\"Fail to reject the null hypothesis\")\n",
    "        print(\"Data is non-stationary\")"
   ]
  },
  {
   "cell_type": "code",
   "execution_count": 8,
   "metadata": {
    "ExecuteTime": {
     "end_time": "2020-01-16T14:45:55.685432Z",
     "start_time": "2020-01-16T14:45:55.666715Z"
    }
   },
   "outputs": [
    {
     "data": {
      "text/plain": [
       "Index(['Date', 'Open', 'High', 'Low', 'Close', 'Adj Close', 'Volume'], dtype='object')"
      ]
     },
     "execution_count": 8,
     "metadata": {},
     "output_type": "execute_result"
    }
   ],
   "source": [
    "df.columns"
   ]
  },
  {
   "cell_type": "code",
   "execution_count": 9,
   "metadata": {
    "ExecuteTime": {
     "end_time": "2020-01-16T14:46:02.956459Z",
     "start_time": "2020-01-16T14:46:02.789610Z"
    }
   },
   "outputs": [
    {
     "name": "stdout",
     "output_type": "stream",
     "text": [
      "Results of Dickey-Fuller Test for column: Open\n",
      "Test Statistic                  -0.776223\n",
      "p-value                          0.826007\n",
      "No Lags Used                     0.000000\n",
      "Number of Observations Used    261.000000\n",
      "Critical Value (1%)             -3.455656\n",
      "Critical Value (5%)             -2.872678\n",
      "Critical Value (10%)            -2.572705\n",
      "dtype: float64\n",
      "Conclusion:====>\n",
      "Fail to reject the null hypothesis\n",
      "Data is non-stationary\n",
      "\n",
      "\n",
      "Results of Dickey-Fuller Test for column: High\n",
      "Test Statistic                  -1.240162\n",
      "p-value                          0.656085\n",
      "No Lags Used                     2.000000\n",
      "Number of Observations Used    259.000000\n",
      "Critical Value (1%)             -3.455853\n",
      "Critical Value (5%)             -2.872765\n",
      "Critical Value (10%)            -2.572752\n",
      "dtype: float64\n",
      "Conclusion:====>\n",
      "Fail to reject the null hypothesis\n",
      "Data is non-stationary\n",
      "\n",
      "\n",
      "Results of Dickey-Fuller Test for column: Low\n",
      "Test Statistic                  -0.981046\n",
      "p-value                          0.760114\n",
      "No Lags Used                    13.000000\n",
      "Number of Observations Used    248.000000\n",
      "Critical Value (1%)             -3.456996\n",
      "Critical Value (5%)             -2.873266\n",
      "Critical Value (10%)            -2.573019\n",
      "dtype: float64\n",
      "Conclusion:====>\n",
      "Fail to reject the null hypothesis\n",
      "Data is non-stationary\n",
      "\n",
      "\n",
      "Results of Dickey-Fuller Test for column: Close\n",
      "Test Statistic                  -1.265244\n",
      "p-value                          0.644919\n",
      "No Lags Used                     0.000000\n",
      "Number of Observations Used    261.000000\n",
      "Critical Value (1%)             -3.455656\n",
      "Critical Value (5%)             -2.872678\n",
      "Critical Value (10%)            -2.572705\n",
      "dtype: float64\n",
      "Conclusion:====>\n",
      "Fail to reject the null hypothesis\n",
      "Data is non-stationary\n",
      "\n",
      "\n"
     ]
    }
   ],
   "source": [
    "for name, column in df[['Open', 'High', 'Low', 'Close']].iteritems():\n",
    "    Augmented_Dickey_Fuller_Test_func(df[name],name)\n",
    "    print('\\n')"
   ]
  },
  {
   "cell_type": "code",
   "execution_count": 10,
   "metadata": {
    "ExecuteTime": {
     "end_time": "2020-01-16T14:46:31.115499Z",
     "start_time": "2020-01-16T14:46:31.109515Z"
    }
   },
   "outputs": [],
   "source": [
    "X = df[['Open', 'High', 'Low', 'Close' ]]\n",
    "train, test = X[0:-30], X[-30:]"
   ]
  },
  {
   "cell_type": "code",
   "execution_count": 11,
   "metadata": {
    "ExecuteTime": {
     "end_time": "2020-01-16T14:46:36.812331Z",
     "start_time": "2020-01-16T14:46:36.805348Z"
    }
   },
   "outputs": [],
   "source": [
    "train_diff = train.diff()\n",
    "train_diff.dropna(inplace = True)"
   ]
  },
  {
   "cell_type": "code",
   "execution_count": 12,
   "metadata": {
    "ExecuteTime": {
     "end_time": "2020-01-16T14:46:50.602611Z",
     "start_time": "2020-01-16T14:46:50.529841Z"
    }
   },
   "outputs": [
    {
     "name": "stdout",
     "output_type": "stream",
     "text": [
      "Results of Dickey-Fuller Test for column: Open\n",
      "Test Statistic                -1.579687e+01\n",
      "p-value                        1.085613e-28\n",
      "No Lags Used                   0.000000e+00\n",
      "Number of Observations Used    2.300000e+02\n",
      "Critical Value (1%)           -3.459106e+00\n",
      "Critical Value (5%)           -2.874190e+00\n",
      "Critical Value (10%)          -2.573512e+00\n",
      "dtype: float64\n",
      "Conclusion:====>\n",
      "Reject the null hypothesis\n",
      "Data is stationary\n",
      "\n",
      "\n",
      "Results of Dickey-Fuller Test for column: High\n",
      "Test Statistic                -1.172782e+01\n",
      "p-value                        1.364178e-21\n",
      "No Lags Used                   1.000000e+00\n",
      "Number of Observations Used    2.290000e+02\n",
      "Critical Value (1%)           -3.459233e+00\n",
      "Critical Value (5%)           -2.874245e+00\n",
      "Critical Value (10%)          -2.573541e+00\n",
      "dtype: float64\n",
      "Conclusion:====>\n",
      "Reject the null hypothesis\n",
      "Data is stationary\n",
      "\n",
      "\n",
      "Results of Dickey-Fuller Test for column: Low\n",
      "Test Statistic                  -3.997846\n",
      "p-value                          0.001422\n",
      "No Lags Used                    12.000000\n",
      "Number of Observations Used    218.000000\n",
      "Critical Value (1%)             -3.460708\n",
      "Critical Value (5%)             -2.874891\n",
      "Critical Value (10%)            -2.573886\n",
      "dtype: float64\n",
      "Conclusion:====>\n",
      "Reject the null hypothesis\n",
      "Data is stationary\n",
      "\n",
      "\n",
      "Results of Dickey-Fuller Test for column: Close\n",
      "Test Statistic                -1.649354e+01\n",
      "p-value                        2.181200e-29\n",
      "No Lags Used                   0.000000e+00\n",
      "Number of Observations Used    2.300000e+02\n",
      "Critical Value (1%)           -3.459106e+00\n",
      "Critical Value (5%)           -2.874190e+00\n",
      "Critical Value (10%)          -2.573512e+00\n",
      "dtype: float64\n",
      "Conclusion:====>\n",
      "Reject the null hypothesis\n",
      "Data is stationary\n",
      "\n",
      "\n"
     ]
    }
   ],
   "source": [
    "for name, column in train_diff[['Open', 'High', 'Low', 'Close' ]].iteritems():\n",
    "    Augmented_Dickey_Fuller_Test_func(train_diff[name],name)\n",
    "    print('\\n')"
   ]
  },
  {
   "cell_type": "code",
   "execution_count": 13,
   "metadata": {
    "ExecuteTime": {
     "end_time": "2020-01-16T14:47:02.722794Z",
     "start_time": "2020-01-16T14:47:02.698824Z"
    }
   },
   "outputs": [],
   "source": [
    "from statsmodels.tsa.vector_ar.vecm import coint_johansen\n",
    "\n",
    "def cointegration_test(df): \n",
    "    res = coint_johansen(df,-1,5)\n",
    "    d = {'0.90':0, '0.95':1, '0.99':2}\n",
    "    traces = res.lr1\n",
    "    cvts = res.cvt[:, d[str(1-0.05)]]\n",
    "    def adjust(val, length= 6): \n",
    "        return str(val).ljust(length)\n",
    "    print('Column Name   >  Test Stat > C(95%)    =>   Signif  \\n', '--'*20)\n",
    "    for col, trace, cvt in zip(df.columns, traces, cvts):\n",
    "        print(adjust(col), '> ', adjust(round(trace,2), 9), \">\", adjust(cvt, 8), ' =>  ' , trace > cvt)\n"
   ]
  },
  {
   "cell_type": "code",
   "execution_count": 14,
   "metadata": {
    "ExecuteTime": {
     "end_time": "2020-01-16T14:47:09.576634Z",
     "start_time": "2020-01-16T14:47:09.528665Z"
    }
   },
   "outputs": [
    {
     "name": "stdout",
     "output_type": "stream",
     "text": [
      "Column Name   >  Test Stat > C(95%)    =>   Signif  \n",
      " ----------------------------------------\n",
      "Open   >  311.57    > 40.1749   =>   True\n",
      "High   >  201.62    > 24.2761   =>   True\n",
      "Low    >  102.52    > 12.3212   =>   True\n",
      "Close  >  32.21     > 4.1296    =>   True\n"
     ]
    }
   ],
   "source": [
    "cointegration_test(train_diff[['Open', 'High', 'Low', 'Close']])"
   ]
  },
  {
   "cell_type": "code",
   "execution_count": 15,
   "metadata": {
    "ExecuteTime": {
     "end_time": "2020-01-16T14:54:12.216107Z",
     "start_time": "2020-01-16T14:54:12.209126Z"
    }
   },
   "outputs": [],
   "source": [
    "def inverse_diff(actual_df, pred_df):\n",
    "    df_res = pred_df.copy()\n",
    "    columns = actual_df.columns\n",
    "    for col in columns: \n",
    "        df_res[str(col)+'_1st_inv_diff'] = actual_df[col].iloc[-1] + df_res[str(col)].cumsum()\n",
    "    return df_res\n"
   ]
  },
  {
   "cell_type": "code",
   "execution_count": 26,
   "metadata": {
    "ExecuteTime": {
     "end_time": "2020-01-16T15:27:30.246618Z",
     "start_time": "2020-01-16T15:27:30.241667Z"
    }
   },
   "outputs": [],
   "source": [
    "from sklearn.model_selection import ParameterGrid\n",
    "param_grid = {'p': [1,2,3], 'q':[1,2,3], 'tr': ['n','c','t','ct']}\n",
    "pg = list(ParameterGrid(param_grid))"
   ]
  },
  {
   "cell_type": "code",
   "execution_count": 27,
   "metadata": {
    "ExecuteTime": {
     "end_time": "2020-01-16T15:27:31.663007Z",
     "start_time": "2020-01-16T15:27:31.646267Z"
    }
   },
   "outputs": [
    {
     "data": {
      "text/plain": [
       "[{'p': 1, 'q': 1, 'tr': 'n'},\n",
       " {'p': 1, 'q': 1, 'tr': 'c'},\n",
       " {'p': 1, 'q': 1, 'tr': 't'},\n",
       " {'p': 1, 'q': 1, 'tr': 'ct'},\n",
       " {'p': 1, 'q': 2, 'tr': 'n'},\n",
       " {'p': 1, 'q': 2, 'tr': 'c'},\n",
       " {'p': 1, 'q': 2, 'tr': 't'},\n",
       " {'p': 1, 'q': 2, 'tr': 'ct'},\n",
       " {'p': 1, 'q': 3, 'tr': 'n'},\n",
       " {'p': 1, 'q': 3, 'tr': 'c'},\n",
       " {'p': 1, 'q': 3, 'tr': 't'},\n",
       " {'p': 1, 'q': 3, 'tr': 'ct'},\n",
       " {'p': 2, 'q': 1, 'tr': 'n'},\n",
       " {'p': 2, 'q': 1, 'tr': 'c'},\n",
       " {'p': 2, 'q': 1, 'tr': 't'},\n",
       " {'p': 2, 'q': 1, 'tr': 'ct'},\n",
       " {'p': 2, 'q': 2, 'tr': 'n'},\n",
       " {'p': 2, 'q': 2, 'tr': 'c'},\n",
       " {'p': 2, 'q': 2, 'tr': 't'},\n",
       " {'p': 2, 'q': 2, 'tr': 'ct'},\n",
       " {'p': 2, 'q': 3, 'tr': 'n'},\n",
       " {'p': 2, 'q': 3, 'tr': 'c'},\n",
       " {'p': 2, 'q': 3, 'tr': 't'},\n",
       " {'p': 2, 'q': 3, 'tr': 'ct'},\n",
       " {'p': 3, 'q': 1, 'tr': 'n'},\n",
       " {'p': 3, 'q': 1, 'tr': 'c'},\n",
       " {'p': 3, 'q': 1, 'tr': 't'},\n",
       " {'p': 3, 'q': 1, 'tr': 'ct'},\n",
       " {'p': 3, 'q': 2, 'tr': 'n'},\n",
       " {'p': 3, 'q': 2, 'tr': 'c'},\n",
       " {'p': 3, 'q': 2, 'tr': 't'},\n",
       " {'p': 3, 'q': 2, 'tr': 'ct'},\n",
       " {'p': 3, 'q': 3, 'tr': 'n'},\n",
       " {'p': 3, 'q': 3, 'tr': 'c'},\n",
       " {'p': 3, 'q': 3, 'tr': 't'},\n",
       " {'p': 3, 'q': 3, 'tr': 'ct'}]"
      ]
     },
     "execution_count": 27,
     "metadata": {},
     "output_type": "execute_result"
    }
   ],
   "source": [
    "pg"
   ]
  },
  {
   "cell_type": "code",
   "execution_count": 28,
   "metadata": {
    "ExecuteTime": {
     "end_time": "2020-01-16T16:27:28.313748Z",
     "start_time": "2020-01-16T15:27:43.107138Z"
    }
   },
   "outputs": [
    {
     "name": "stdout",
     "output_type": "stream",
     "text": [
      "starting grid search\n",
      " Total time taken to complete grid search in seconds: 3585.1868422\n"
     ]
    }
   ],
   "source": [
    "df_results_moni = pd.DataFrame(columns=['p', 'q', 'tr','RMSE open','RMSE high','RMSE low','RMSE close'])\n",
    "print('starting grid search')\n",
    "start = timer()\n",
    "for a,b in enumerate(pg):\n",
    "    p = b.get('p')\n",
    "    q = b.get('q')\n",
    "    tr = b.get('tr')\n",
    "    model = VARMAX(train_diff, order=(p,q), trend=tr).fit()\n",
    "    z = model.forecast(y=train_diff[['Open', 'High', 'Low', 'Close']].values, steps=30)\n",
    "    df_pred = pd.DataFrame(z, columns=[ 'Open', 'High', 'Low', 'Close'])\n",
    "    res = inverse_diff(df[['Open', 'High', 'Low', 'Close']],df_pred)\n",
    "    openrmse = np.sqrt(metrics.mean_squared_error(test.Open, res.Open_1st_inv_diff))\n",
    "    highrmse = np.sqrt(metrics.mean_squared_error(test.High, res.High_1st_inv_diff))\n",
    "    lowrmse = np.sqrt(metrics.mean_squared_error(test.Low, res.Low_1st_inv_diff))\n",
    "    closermse = np.sqrt(metrics.mean_squared_error(test.Close, res.Close_1st_inv_diff))\n",
    "    df_results_moni = df_results_moni.append({'p': p, 'q': q, 'tr': tr,'RMSE open': openrmse,'RMSE high':highrmse,'RMSE low':lowrmse,'RMSE close':closermse }, ignore_index=True)\n",
    "end = timer()\n",
    "print(f' Total time taken to complete grid search in seconds: {(end - start)}')\n"
   ]
  },
  {
   "cell_type": "code",
   "execution_count": 30,
   "metadata": {
    "ExecuteTime": {
     "end_time": "2020-01-16T16:35:52.601447Z",
     "start_time": "2020-01-16T16:35:52.589511Z"
    },
    "scrolled": true
   },
   "outputs": [
    {
     "data": {
      "text/html": [
       "<div>\n",
       "<style scoped>\n",
       "    .dataframe tbody tr th:only-of-type {\n",
       "        vertical-align: middle;\n",
       "    }\n",
       "\n",
       "    .dataframe tbody tr th {\n",
       "        vertical-align: top;\n",
       "    }\n",
       "\n",
       "    .dataframe thead th {\n",
       "        text-align: right;\n",
       "    }\n",
       "</style>\n",
       "<table border=\"1\" class=\"dataframe\">\n",
       "  <thead>\n",
       "    <tr style=\"text-align: right;\">\n",
       "      <th></th>\n",
       "      <th>p</th>\n",
       "      <th>q</th>\n",
       "      <th>tr</th>\n",
       "      <th>RMSE open</th>\n",
       "      <th>RMSE high</th>\n",
       "      <th>RMSE low</th>\n",
       "      <th>RMSE close</th>\n",
       "    </tr>\n",
       "  </thead>\n",
       "  <tbody>\n",
       "    <tr>\n",
       "      <th>0</th>\n",
       "      <td>1</td>\n",
       "      <td>1</td>\n",
       "      <td>n</td>\n",
       "      <td>101.458653</td>\n",
       "      <td>84.991724</td>\n",
       "      <td>103.708241</td>\n",
       "      <td>125.742375</td>\n",
       "    </tr>\n",
       "    <tr>\n",
       "      <th>1</th>\n",
       "      <td>1</td>\n",
       "      <td>1</td>\n",
       "      <td>c</td>\n",
       "      <td>331.287306</td>\n",
       "      <td>241.658693</td>\n",
       "      <td>339.771689</td>\n",
       "      <td>367.757931</td>\n",
       "    </tr>\n",
       "    <tr>\n",
       "      <th>2</th>\n",
       "      <td>1</td>\n",
       "      <td>1</td>\n",
       "      <td>t</td>\n",
       "      <td>499.326168</td>\n",
       "      <td>443.814237</td>\n",
       "      <td>492.398961</td>\n",
       "      <td>542.840436</td>\n",
       "    </tr>\n",
       "    <tr>\n",
       "      <th>3</th>\n",
       "      <td>1</td>\n",
       "      <td>1</td>\n",
       "      <td>ct</td>\n",
       "      <td>382.155993</td>\n",
       "      <td>330.868016</td>\n",
       "      <td>249.035147</td>\n",
       "      <td>387.206548</td>\n",
       "    </tr>\n",
       "    <tr>\n",
       "      <th>4</th>\n",
       "      <td>1</td>\n",
       "      <td>2</td>\n",
       "      <td>n</td>\n",
       "      <td>80.987719</td>\n",
       "      <td>96.246544</td>\n",
       "      <td>94.158958</td>\n",
       "      <td>95.486292</td>\n",
       "    </tr>\n",
       "  </tbody>\n",
       "</table>\n",
       "</div>"
      ],
      "text/plain": [
       "   p  q  tr   RMSE open   RMSE high    RMSE low  RMSE close\n",
       "0  1  1   n  101.458653   84.991724  103.708241  125.742375\n",
       "1  1  1   c  331.287306  241.658693  339.771689  367.757931\n",
       "2  1  1   t  499.326168  443.814237  492.398961  542.840436\n",
       "3  1  1  ct  382.155993  330.868016  249.035147  387.206548\n",
       "4  1  2   n   80.987719   96.246544   94.158958   95.486292"
      ]
     },
     "execution_count": 30,
     "metadata": {},
     "output_type": "execute_result"
    }
   ],
   "source": [
    "df_results_moni.head(5)"
   ]
  },
  {
   "cell_type": "code",
   "execution_count": 32,
   "metadata": {
    "ExecuteTime": {
     "end_time": "2020-01-16T16:36:18.958856Z",
     "start_time": "2020-01-16T16:36:18.935917Z"
    },
    "scrolled": true
   },
   "outputs": [
    {
     "data": {
      "text/html": [
       "<div>\n",
       "<style scoped>\n",
       "    .dataframe tbody tr th:only-of-type {\n",
       "        vertical-align: middle;\n",
       "    }\n",
       "\n",
       "    .dataframe tbody tr th {\n",
       "        vertical-align: top;\n",
       "    }\n",
       "\n",
       "    .dataframe thead th {\n",
       "        text-align: right;\n",
       "    }\n",
       "</style>\n",
       "<table border=\"1\" class=\"dataframe\">\n",
       "  <thead>\n",
       "    <tr style=\"text-align: right;\">\n",
       "      <th></th>\n",
       "      <th>p</th>\n",
       "      <th>q</th>\n",
       "      <th>tr</th>\n",
       "      <th>RMSE open</th>\n",
       "      <th>RMSE high</th>\n",
       "      <th>RMSE low</th>\n",
       "      <th>RMSE close</th>\n",
       "    </tr>\n",
       "  </thead>\n",
       "  <tbody>\n",
       "    <tr>\n",
       "      <th>4</th>\n",
       "      <td>1</td>\n",
       "      <td>2</td>\n",
       "      <td>n</td>\n",
       "      <td>80.987719</td>\n",
       "      <td>96.246544</td>\n",
       "      <td>94.158958</td>\n",
       "      <td>95.486292</td>\n",
       "    </tr>\n",
       "    <tr>\n",
       "      <th>32</th>\n",
       "      <td>3</td>\n",
       "      <td>3</td>\n",
       "      <td>n</td>\n",
       "      <td>82.551701</td>\n",
       "      <td>80.962078</td>\n",
       "      <td>96.313513</td>\n",
       "      <td>103.688361</td>\n",
       "    </tr>\n",
       "    <tr>\n",
       "      <th>28</th>\n",
       "      <td>3</td>\n",
       "      <td>2</td>\n",
       "      <td>n</td>\n",
       "      <td>82.605565</td>\n",
       "      <td>78.874891</td>\n",
       "      <td>96.852543</td>\n",
       "      <td>101.928501</td>\n",
       "    </tr>\n",
       "    <tr>\n",
       "      <th>24</th>\n",
       "      <td>3</td>\n",
       "      <td>1</td>\n",
       "      <td>n</td>\n",
       "      <td>86.654270</td>\n",
       "      <td>75.560942</td>\n",
       "      <td>98.446924</td>\n",
       "      <td>107.307196</td>\n",
       "    </tr>\n",
       "    <tr>\n",
       "      <th>0</th>\n",
       "      <td>1</td>\n",
       "      <td>1</td>\n",
       "      <td>n</td>\n",
       "      <td>101.458653</td>\n",
       "      <td>84.991724</td>\n",
       "      <td>103.708241</td>\n",
       "      <td>125.742375</td>\n",
       "    </tr>\n",
       "    <tr>\n",
       "      <th>12</th>\n",
       "      <td>2</td>\n",
       "      <td>1</td>\n",
       "      <td>n</td>\n",
       "      <td>103.037176</td>\n",
       "      <td>75.009422</td>\n",
       "      <td>93.110182</td>\n",
       "      <td>130.938880</td>\n",
       "    </tr>\n",
       "    <tr>\n",
       "      <th>8</th>\n",
       "      <td>1</td>\n",
       "      <td>3</td>\n",
       "      <td>n</td>\n",
       "      <td>117.544005</td>\n",
       "      <td>78.298180</td>\n",
       "      <td>115.577246</td>\n",
       "      <td>137.209099</td>\n",
       "    </tr>\n",
       "    <tr>\n",
       "      <th>16</th>\n",
       "      <td>2</td>\n",
       "      <td>2</td>\n",
       "      <td>n</td>\n",
       "      <td>121.083102</td>\n",
       "      <td>78.089031</td>\n",
       "      <td>98.382880</td>\n",
       "      <td>150.259168</td>\n",
       "    </tr>\n",
       "    <tr>\n",
       "      <th>20</th>\n",
       "      <td>2</td>\n",
       "      <td>3</td>\n",
       "      <td>n</td>\n",
       "      <td>152.325798</td>\n",
       "      <td>79.635427</td>\n",
       "      <td>153.009842</td>\n",
       "      <td>175.155603</td>\n",
       "    </tr>\n",
       "    <tr>\n",
       "      <th>35</th>\n",
       "      <td>3</td>\n",
       "      <td>3</td>\n",
       "      <td>ct</td>\n",
       "      <td>227.988357</td>\n",
       "      <td>198.215550</td>\n",
       "      <td>139.989365</td>\n",
       "      <td>211.335906</td>\n",
       "    </tr>\n",
       "    <tr>\n",
       "      <th>7</th>\n",
       "      <td>1</td>\n",
       "      <td>2</td>\n",
       "      <td>ct</td>\n",
       "      <td>274.670223</td>\n",
       "      <td>203.725353</td>\n",
       "      <td>171.815130</td>\n",
       "      <td>232.439765</td>\n",
       "    </tr>\n",
       "    <tr>\n",
       "      <th>5</th>\n",
       "      <td>1</td>\n",
       "      <td>2</td>\n",
       "      <td>c</td>\n",
       "      <td>280.949851</td>\n",
       "      <td>216.633593</td>\n",
       "      <td>270.075583</td>\n",
       "      <td>318.772129</td>\n",
       "    </tr>\n",
       "    <tr>\n",
       "      <th>33</th>\n",
       "      <td>3</td>\n",
       "      <td>3</td>\n",
       "      <td>c</td>\n",
       "      <td>288.321268</td>\n",
       "      <td>242.437914</td>\n",
       "      <td>268.518896</td>\n",
       "      <td>328.927597</td>\n",
       "    </tr>\n",
       "    <tr>\n",
       "      <th>13</th>\n",
       "      <td>2</td>\n",
       "      <td>1</td>\n",
       "      <td>c</td>\n",
       "      <td>298.440778</td>\n",
       "      <td>305.578415</td>\n",
       "      <td>249.356180</td>\n",
       "      <td>366.062879</td>\n",
       "    </tr>\n",
       "    <tr>\n",
       "      <th>25</th>\n",
       "      <td>3</td>\n",
       "      <td>1</td>\n",
       "      <td>c</td>\n",
       "      <td>301.032810</td>\n",
       "      <td>262.625348</td>\n",
       "      <td>268.800529</td>\n",
       "      <td>361.482246</td>\n",
       "    </tr>\n",
       "    <tr>\n",
       "      <th>31</th>\n",
       "      <td>3</td>\n",
       "      <td>2</td>\n",
       "      <td>ct</td>\n",
       "      <td>308.478973</td>\n",
       "      <td>271.151294</td>\n",
       "      <td>210.634952</td>\n",
       "      <td>276.234846</td>\n",
       "    </tr>\n",
       "    <tr>\n",
       "      <th>29</th>\n",
       "      <td>3</td>\n",
       "      <td>2</td>\n",
       "      <td>c</td>\n",
       "      <td>309.260131</td>\n",
       "      <td>266.945816</td>\n",
       "      <td>287.927603</td>\n",
       "      <td>353.402694</td>\n",
       "    </tr>\n",
       "    <tr>\n",
       "      <th>17</th>\n",
       "      <td>2</td>\n",
       "      <td>2</td>\n",
       "      <td>c</td>\n",
       "      <td>327.230113</td>\n",
       "      <td>279.300418</td>\n",
       "      <td>293.982148</td>\n",
       "      <td>370.759222</td>\n",
       "    </tr>\n",
       "    <tr>\n",
       "      <th>1</th>\n",
       "      <td>1</td>\n",
       "      <td>1</td>\n",
       "      <td>c</td>\n",
       "      <td>331.287306</td>\n",
       "      <td>241.658693</td>\n",
       "      <td>339.771689</td>\n",
       "      <td>367.757931</td>\n",
       "    </tr>\n",
       "    <tr>\n",
       "      <th>19</th>\n",
       "      <td>2</td>\n",
       "      <td>2</td>\n",
       "      <td>ct</td>\n",
       "      <td>342.167189</td>\n",
       "      <td>277.525137</td>\n",
       "      <td>265.764046</td>\n",
       "      <td>322.383160</td>\n",
       "    </tr>\n",
       "    <tr>\n",
       "      <th>9</th>\n",
       "      <td>1</td>\n",
       "      <td>3</td>\n",
       "      <td>c</td>\n",
       "      <td>345.520292</td>\n",
       "      <td>261.120895</td>\n",
       "      <td>364.177377</td>\n",
       "      <td>385.585333</td>\n",
       "    </tr>\n",
       "    <tr>\n",
       "      <th>27</th>\n",
       "      <td>3</td>\n",
       "      <td>1</td>\n",
       "      <td>ct</td>\n",
       "      <td>361.609558</td>\n",
       "      <td>308.557924</td>\n",
       "      <td>287.856905</td>\n",
       "      <td>323.158766</td>\n",
       "    </tr>\n",
       "    <tr>\n",
       "      <th>15</th>\n",
       "      <td>2</td>\n",
       "      <td>1</td>\n",
       "      <td>ct</td>\n",
       "      <td>369.930097</td>\n",
       "      <td>298.391810</td>\n",
       "      <td>293.218702</td>\n",
       "      <td>331.166131</td>\n",
       "    </tr>\n",
       "    <tr>\n",
       "      <th>3</th>\n",
       "      <td>1</td>\n",
       "      <td>1</td>\n",
       "      <td>ct</td>\n",
       "      <td>382.155993</td>\n",
       "      <td>330.868016</td>\n",
       "      <td>249.035147</td>\n",
       "      <td>387.206548</td>\n",
       "    </tr>\n",
       "    <tr>\n",
       "      <th>30</th>\n",
       "      <td>3</td>\n",
       "      <td>2</td>\n",
       "      <td>t</td>\n",
       "      <td>393.996440</td>\n",
       "      <td>367.148918</td>\n",
       "      <td>375.927253</td>\n",
       "      <td>439.012181</td>\n",
       "    </tr>\n",
       "    <tr>\n",
       "      <th>34</th>\n",
       "      <td>3</td>\n",
       "      <td>3</td>\n",
       "      <td>t</td>\n",
       "      <td>397.423808</td>\n",
       "      <td>375.462850</td>\n",
       "      <td>369.666141</td>\n",
       "      <td>439.768127</td>\n",
       "    </tr>\n",
       "    <tr>\n",
       "      <th>21</th>\n",
       "      <td>2</td>\n",
       "      <td>3</td>\n",
       "      <td>c</td>\n",
       "      <td>410.003977</td>\n",
       "      <td>318.340719</td>\n",
       "      <td>412.533167</td>\n",
       "      <td>447.675263</td>\n",
       "    </tr>\n",
       "    <tr>\n",
       "      <th>23</th>\n",
       "      <td>2</td>\n",
       "      <td>3</td>\n",
       "      <td>ct</td>\n",
       "      <td>435.685032</td>\n",
       "      <td>346.267321</td>\n",
       "      <td>339.747611</td>\n",
       "      <td>396.548722</td>\n",
       "    </tr>\n",
       "    <tr>\n",
       "      <th>6</th>\n",
       "      <td>1</td>\n",
       "      <td>2</td>\n",
       "      <td>t</td>\n",
       "      <td>439.867775</td>\n",
       "      <td>384.827121</td>\n",
       "      <td>428.981177</td>\n",
       "      <td>483.792074</td>\n",
       "    </tr>\n",
       "    <tr>\n",
       "      <th>11</th>\n",
       "      <td>1</td>\n",
       "      <td>3</td>\n",
       "      <td>ct</td>\n",
       "      <td>460.977733</td>\n",
       "      <td>381.885017</td>\n",
       "      <td>328.307050</td>\n",
       "      <td>415.380014</td>\n",
       "    </tr>\n",
       "    <tr>\n",
       "      <th>26</th>\n",
       "      <td>3</td>\n",
       "      <td>1</td>\n",
       "      <td>t</td>\n",
       "      <td>464.696374</td>\n",
       "      <td>425.908570</td>\n",
       "      <td>434.821139</td>\n",
       "      <td>501.530371</td>\n",
       "    </tr>\n",
       "    <tr>\n",
       "      <th>10</th>\n",
       "      <td>1</td>\n",
       "      <td>3</td>\n",
       "      <td>t</td>\n",
       "      <td>478.339672</td>\n",
       "      <td>410.816925</td>\n",
       "      <td>465.812891</td>\n",
       "      <td>519.485537</td>\n",
       "    </tr>\n",
       "    <tr>\n",
       "      <th>18</th>\n",
       "      <td>2</td>\n",
       "      <td>2</td>\n",
       "      <td>t</td>\n",
       "      <td>478.977990</td>\n",
       "      <td>439.824449</td>\n",
       "      <td>446.238248</td>\n",
       "      <td>528.856776</td>\n",
       "    </tr>\n",
       "    <tr>\n",
       "      <th>2</th>\n",
       "      <td>1</td>\n",
       "      <td>1</td>\n",
       "      <td>t</td>\n",
       "      <td>499.326168</td>\n",
       "      <td>443.814237</td>\n",
       "      <td>492.398961</td>\n",
       "      <td>542.840436</td>\n",
       "    </tr>\n",
       "    <tr>\n",
       "      <th>14</th>\n",
       "      <td>2</td>\n",
       "      <td>1</td>\n",
       "      <td>t</td>\n",
       "      <td>523.350095</td>\n",
       "      <td>489.409819</td>\n",
       "      <td>498.391470</td>\n",
       "      <td>576.160265</td>\n",
       "    </tr>\n",
       "    <tr>\n",
       "      <th>22</th>\n",
       "      <td>2</td>\n",
       "      <td>3</td>\n",
       "      <td>t</td>\n",
       "      <td>537.166133</td>\n",
       "      <td>471.027975</td>\n",
       "      <td>534.728532</td>\n",
       "      <td>580.321805</td>\n",
       "    </tr>\n",
       "  </tbody>\n",
       "</table>\n",
       "</div>"
      ],
      "text/plain": [
       "    p  q  tr   RMSE open   RMSE high    RMSE low  RMSE close\n",
       "4   1  2   n   80.987719   96.246544   94.158958   95.486292\n",
       "32  3  3   n   82.551701   80.962078   96.313513  103.688361\n",
       "28  3  2   n   82.605565   78.874891   96.852543  101.928501\n",
       "24  3  1   n   86.654270   75.560942   98.446924  107.307196\n",
       "0   1  1   n  101.458653   84.991724  103.708241  125.742375\n",
       "12  2  1   n  103.037176   75.009422   93.110182  130.938880\n",
       "8   1  3   n  117.544005   78.298180  115.577246  137.209099\n",
       "16  2  2   n  121.083102   78.089031   98.382880  150.259168\n",
       "20  2  3   n  152.325798   79.635427  153.009842  175.155603\n",
       "35  3  3  ct  227.988357  198.215550  139.989365  211.335906\n",
       "7   1  2  ct  274.670223  203.725353  171.815130  232.439765\n",
       "5   1  2   c  280.949851  216.633593  270.075583  318.772129\n",
       "33  3  3   c  288.321268  242.437914  268.518896  328.927597\n",
       "13  2  1   c  298.440778  305.578415  249.356180  366.062879\n",
       "25  3  1   c  301.032810  262.625348  268.800529  361.482246\n",
       "31  3  2  ct  308.478973  271.151294  210.634952  276.234846\n",
       "29  3  2   c  309.260131  266.945816  287.927603  353.402694\n",
       "17  2  2   c  327.230113  279.300418  293.982148  370.759222\n",
       "1   1  1   c  331.287306  241.658693  339.771689  367.757931\n",
       "19  2  2  ct  342.167189  277.525137  265.764046  322.383160\n",
       "9   1  3   c  345.520292  261.120895  364.177377  385.585333\n",
       "27  3  1  ct  361.609558  308.557924  287.856905  323.158766\n",
       "15  2  1  ct  369.930097  298.391810  293.218702  331.166131\n",
       "3   1  1  ct  382.155993  330.868016  249.035147  387.206548\n",
       "30  3  2   t  393.996440  367.148918  375.927253  439.012181\n",
       "34  3  3   t  397.423808  375.462850  369.666141  439.768127\n",
       "21  2  3   c  410.003977  318.340719  412.533167  447.675263\n",
       "23  2  3  ct  435.685032  346.267321  339.747611  396.548722\n",
       "6   1  2   t  439.867775  384.827121  428.981177  483.792074\n",
       "11  1  3  ct  460.977733  381.885017  328.307050  415.380014\n",
       "26  3  1   t  464.696374  425.908570  434.821139  501.530371\n",
       "10  1  3   t  478.339672  410.816925  465.812891  519.485537\n",
       "18  2  2   t  478.977990  439.824449  446.238248  528.856776\n",
       "2   1  1   t  499.326168  443.814237  492.398961  542.840436\n",
       "14  2  1   t  523.350095  489.409819  498.391470  576.160265\n",
       "22  2  3   t  537.166133  471.027975  534.728532  580.321805"
      ]
     },
     "execution_count": 32,
     "metadata": {},
     "output_type": "execute_result"
    }
   ],
   "source": [
    "df_results_moni.sort_values(by = ['RMSE open','RMSE high','RMSE low','RMSE close'] )"
   ]
  },
  {
   "cell_type": "code",
   "execution_count": null,
   "metadata": {},
   "outputs": [],
   "source": [
    "df_results_moni.sort_values(by = ['RMSE open','RMSE high','RMSE low','RMSE close'] )"
   ]
  },
  {
   "cell_type": "code",
   "execution_count": 35,
   "metadata": {
    "ExecuteTime": {
     "end_time": "2020-01-16T16:39:40.612712Z",
     "start_time": "2020-01-16T16:38:28.367787Z"
    }
   },
   "outputs": [],
   "source": [
    "# from above example we can see that p=1 , q=2, tr=n gives least RMSE\n",
    "model = VARMAX(train_diff[[ 'Open', 'High', 'Low', 'Close' ]], order=(1,2),trends = 'n').fit( disp=False)\n",
    "result = model.forecast(steps = 30)\n"
   ]
  },
  {
   "cell_type": "code",
   "execution_count": 36,
   "metadata": {
    "ExecuteTime": {
     "end_time": "2020-01-16T16:40:04.510765Z",
     "start_time": "2020-01-16T16:40:04.495013Z"
    }
   },
   "outputs": [],
   "source": [
    "res = inverse_diff(df[['Open', 'High', 'Low', 'Close' ]],result)"
   ]
  },
  {
   "cell_type": "code",
   "execution_count": 38,
   "metadata": {
    "ExecuteTime": {
     "end_time": "2020-01-16T16:40:15.685737Z",
     "start_time": "2020-01-16T16:40:15.673802Z"
    }
   },
   "outputs": [
    {
     "data": {
      "text/html": [
       "<div>\n",
       "<style scoped>\n",
       "    .dataframe tbody tr th:only-of-type {\n",
       "        vertical-align: middle;\n",
       "    }\n",
       "\n",
       "    .dataframe tbody tr th {\n",
       "        vertical-align: top;\n",
       "    }\n",
       "\n",
       "    .dataframe thead th {\n",
       "        text-align: right;\n",
       "    }\n",
       "</style>\n",
       "<table border=\"1\" class=\"dataframe\">\n",
       "  <thead>\n",
       "    <tr style=\"text-align: right;\">\n",
       "      <th></th>\n",
       "      <th>Open</th>\n",
       "      <th>High</th>\n",
       "      <th>Low</th>\n",
       "      <th>Close</th>\n",
       "      <th>Open_1st_inv_diff</th>\n",
       "      <th>High_1st_inv_diff</th>\n",
       "      <th>Low_1st_inv_diff</th>\n",
       "      <th>Close_1st_inv_diff</th>\n",
       "    </tr>\n",
       "  </thead>\n",
       "  <tbody>\n",
       "    <tr>\n",
       "      <th>231</th>\n",
       "      <td>-96.317255</td>\n",
       "      <td>-110.279610</td>\n",
       "      <td>-30.015331</td>\n",
       "      <td>18.927892</td>\n",
       "      <td>19932.301886</td>\n",
       "      <td>19918.339531</td>\n",
       "      <td>19840.375294</td>\n",
       "      <td>19990.058751</td>\n",
       "    </tr>\n",
       "    <tr>\n",
       "      <th>232</th>\n",
       "      <td>31.599967</td>\n",
       "      <td>6.413478</td>\n",
       "      <td>23.437892</td>\n",
       "      <td>-12.992426</td>\n",
       "      <td>19963.901852</td>\n",
       "      <td>19924.753009</td>\n",
       "      <td>19863.813187</td>\n",
       "      <td>19977.066325</td>\n",
       "    </tr>\n",
       "    <tr>\n",
       "      <th>233</th>\n",
       "      <td>-12.103032</td>\n",
       "      <td>3.218236</td>\n",
       "      <td>-5.871039</td>\n",
       "      <td>16.364100</td>\n",
       "      <td>19951.798821</td>\n",
       "      <td>19927.971244</td>\n",
       "      <td>19857.942148</td>\n",
       "      <td>19993.430426</td>\n",
       "    </tr>\n",
       "    <tr>\n",
       "      <th>234</th>\n",
       "      <td>17.357495</td>\n",
       "      <td>17.975346</td>\n",
       "      <td>23.805159</td>\n",
       "      <td>17.833004</td>\n",
       "      <td>19969.156316</td>\n",
       "      <td>19945.946590</td>\n",
       "      <td>19881.747307</td>\n",
       "      <td>20011.263430</td>\n",
       "    </tr>\n",
       "    <tr>\n",
       "      <th>235</th>\n",
       "      <td>17.241383</td>\n",
       "      <td>14.547660</td>\n",
       "      <td>13.346344</td>\n",
       "      <td>14.376686</td>\n",
       "      <td>19986.397700</td>\n",
       "      <td>19960.494250</td>\n",
       "      <td>19895.093650</td>\n",
       "      <td>20025.640116</td>\n",
       "    </tr>\n",
       "  </tbody>\n",
       "</table>\n",
       "</div>"
      ],
      "text/plain": [
       "          Open        High        Low      Close  Open_1st_inv_diff  \\\n",
       "231 -96.317255 -110.279610 -30.015331  18.927892       19932.301886   \n",
       "232  31.599967    6.413478  23.437892 -12.992426       19963.901852   \n",
       "233 -12.103032    3.218236  -5.871039  16.364100       19951.798821   \n",
       "234  17.357495   17.975346  23.805159  17.833004       19969.156316   \n",
       "235  17.241383   14.547660  13.346344  14.376686       19986.397700   \n",
       "\n",
       "     High_1st_inv_diff  Low_1st_inv_diff  Close_1st_inv_diff  \n",
       "231       19918.339531      19840.375294        19990.058751  \n",
       "232       19924.753009      19863.813187        19977.066325  \n",
       "233       19927.971244      19857.942148        19993.430426  \n",
       "234       19945.946590      19881.747307        20011.263430  \n",
       "235       19960.494250      19895.093650        20025.640116  "
      ]
     },
     "execution_count": 38,
     "metadata": {},
     "output_type": "execute_result"
    }
   ],
   "source": [
    "res.head(5)"
   ]
  },
  {
   "cell_type": "code",
   "execution_count": 39,
   "metadata": {
    "ExecuteTime": {
     "end_time": "2020-01-16T16:40:19.606934Z",
     "start_time": "2020-01-16T16:40:19.591007Z"
    }
   },
   "outputs": [
    {
     "name": "stdout",
     "output_type": "stream",
     "text": [
      "Evaluation metric for Open\n",
      "Evaluation metric results:-\n",
      "MSE is : 78932.81890429066\n",
      "MAE is : 245.060833331591\n",
      "RMSE is : 280.9498512266747\n",
      "MAPE is : 1.2323681201707932\n",
      "R2 is : -11.912124973927812\n",
      "\n",
      "Evaluation metric for High\n",
      "Evaluation metric results:-\n",
      "MSE is : 46930.11346010076\n",
      "MAE is : 176.12939881099143\n",
      "RMSE is : 216.6335926399707\n",
      "MAPE is : 0.8838651145452486\n",
      "R2 is : -7.4322905049849854\n",
      "\n",
      "Evaluation metric for Low\n",
      "Evaluation metric results:-\n",
      "MSE is : 72940.82061668455\n",
      "MAE is : 223.955727860263\n",
      "RMSE is : 270.075583155317\n",
      "MAPE is : 1.1303981745020197\n",
      "R2 is : -7.5414337986834425\n",
      "\n",
      "Evaluation metric for Close\n",
      "Evaluation metric results:-\n",
      "MSE is : 101615.67035334762\n",
      "MAE is : 286.7165495650628\n",
      "RMSE is : 318.77212919787644\n",
      "MAPE is : 1.4420355123692148\n",
      "R2 is : -12.413321290529048\n",
      "\n"
     ]
    }
   ],
   "source": [
    "for i in ['Open', 'High', 'Low', 'Close' ]:\n",
    "    print(f'Evaluation metric for {i}')\n",
    "    timeseries_evaluation_metrics_func(test[str(i)] , res[str(i)+'_1st_inv_diff'])"
   ]
  },
  {
   "cell_type": "code",
   "execution_count": 40,
   "metadata": {
    "ExecuteTime": {
     "end_time": "2020-01-16T16:40:53.166656Z",
     "start_time": "2020-01-16T16:40:52.254293Z"
    }
   },
   "outputs": [
    {
     "data": {
      "image/png": "[encoded data removed]",
      "text/plain": [
       "<Figure size 720x504 with 1 Axes>"
      ]
     },
     "metadata": {
      "needs_background": "light"
     },
     "output_type": "display_data"
    },
    {
     "data": {
      "image/png": "[encoded data removed]",
      "text/plain": [
       "<Figure size 720x504 with 1 Axes>"
      ]
     },
     "metadata": {
      "needs_background": "light"
     },
     "output_type": "display_data"
    },
    {
     "data": {
      "image/png": "[encoded data removed]",
      "text/plain": [
       "<Figure size 720x504 with 1 Axes>"
      ]
     },
     "metadata": {
      "needs_background": "light"
     },
     "output_type": "display_data"
    },
    {
     "data": {
      "image/png": "[encoded data removed]",
      "text/plain": [
       "<Figure size 720x504 with 1 Axes>"
      ]
     },
     "metadata": {
      "needs_background": "light"
     },
     "output_type": "display_data"
    }
   ],
   "source": [
    "import matplotlib.pyplot as plt\n",
    "%matplotlib inline\n",
    "for i in ['Open', 'High', 'Low', 'Close' ]:\n",
    "    \n",
    "    plt.rcParams[\"figure.figsize\"] = [10,7]\n",
    "    plt.plot( train[str(i)], label='Train '+str(i))\n",
    "    plt.plot(test[str(i)], label='Test '+str(i))\n",
    "    plt.plot(res[str(i)+'_1st_inv_diff'], label='Predicted '+str(i))\n",
    "    plt.legend(loc='best')\n",
    "    plt.show()"
   ]
  }
 ],
 "metadata": {
  "kernelspec": {
   "display_name": "Python 3",
   "language": "python",
   "name": "python3"
  },
  "language_info": {
   "codemirror_mode": {
    "name": "ipython",
    "version": 3
   },
   "file_extension": ".py",
   "mimetype": "text/x-python",
   "name": "python",
   "nbconvert_exporter": "python",
   "pygments_lexer": "ipython3",
   "version": "3.7.3"
  },
  "latex_envs": {
   "LaTeX_envs_menu_present": true,
   "autoclose": false,
   "autocomplete": true,
   "bibliofile": "biblio.bib",
   "cite_by": "apalike",
   "current_citInitial": 1,
   "eqLabelWithNumbers": true,
   "eqNumInitial": 1,
   "hotkeys": {
    "equation": "Ctrl-E",
    "itemize": "Ctrl-I"
   },
   "labels_anchors": false,
   "latex_user_defs": false,
   "report_style_numbering": false,
   "user_envs_cfg": false
  }
 },
 "nbformat": 4,
 "nbformat_minor": 2
}

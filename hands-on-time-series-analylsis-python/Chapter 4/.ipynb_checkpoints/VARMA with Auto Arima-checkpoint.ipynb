{
 "cells": [
  {
   "cell_type": "code",
   "execution_count": 2,
   "metadata": {
    "ExecuteTime": {
     "end_time": "2020-01-15T06:20:33.835837Z",
     "start_time": "2020-01-15T06:20:32.254612Z"
    }
   },
   "outputs": [],
   "source": [
    "import pandas as pd\n",
    "import matplotlib.pyplot as plt\n",
    "from statsmodels.tsa.statespace.varmax import VARMAX\n",
    "import numpy as np\n",
    "from statsmodels.tsa.stattools import adfuller\n",
    "from sklearn import metrics\n",
    "from timeit import default_timer as timer\n",
    "import warnings\n",
    "warnings.filterwarnings(\"ignore\")"
   ]
  },
  {
   "cell_type": "code",
   "execution_count": 3,
   "metadata": {
    "ExecuteTime": {
     "end_time": "2020-01-15T06:20:34.414594Z",
     "start_time": "2020-01-15T06:20:34.395646Z"
    }
   },
   "outputs": [],
   "source": [
    "df = pd.read_csv(r'\\Data\\Dow_Jones_Industrial_Average.csv', parse_dates= True)"
   ]
  },
  {
   "cell_type": "code",
   "execution_count": 4,
   "metadata": {
    "ExecuteTime": {
     "end_time": "2020-01-15T06:22:01.112674Z",
     "start_time": "2020-01-15T06:22:01.106680Z"
    },
    "scrolled": true
   },
   "outputs": [],
   "source": [
    "df = df[(df['Date'] > '2016-01-14') & (df['Date'] <= '2017-01-30')]"
   ]
  },
  {
   "cell_type": "code",
   "execution_count": 6,
   "metadata": {
    "ExecuteTime": {
     "end_time": "2020-01-15T06:22:47.335185Z",
     "start_time": "2020-01-15T06:22:47.322184Z"
    },
    "scrolled": true
   },
   "outputs": [
    {
     "data": {
      "text/html": [
       "<div>\n",
       "<style scoped>\n",
       "    .dataframe tbody tr th:only-of-type {\n",
       "        vertical-align: middle;\n",
       "    }\n",
       "\n",
       "    .dataframe tbody tr th {\n",
       "        vertical-align: top;\n",
       "    }\n",
       "\n",
       "    .dataframe thead th {\n",
       "        text-align: right;\n",
       "    }\n",
       "</style>\n",
       "<table border=\"1\" class=\"dataframe\">\n",
       "  <thead>\n",
       "    <tr style=\"text-align: right;\">\n",
       "      <th></th>\n",
       "      <th>Date</th>\n",
       "      <th>Open</th>\n",
       "      <th>High</th>\n",
       "      <th>Low</th>\n",
       "      <th>Close</th>\n",
       "      <th>Adj Close</th>\n",
       "      <th>Volume</th>\n",
       "    </tr>\n",
       "  </thead>\n",
       "  <tbody>\n",
       "    <tr>\n",
       "      <th>1</th>\n",
       "      <td>2016-01-15</td>\n",
       "      <td>16354.330078</td>\n",
       "      <td>16354.330078</td>\n",
       "      <td>15842.110352</td>\n",
       "      <td>15988.080078</td>\n",
       "      <td>15988.080078</td>\n",
       "      <td>239210000</td>\n",
       "    </tr>\n",
       "    <tr>\n",
       "      <th>2</th>\n",
       "      <td>2016-01-19</td>\n",
       "      <td>16009.450195</td>\n",
       "      <td>16171.959961</td>\n",
       "      <td>15900.250000</td>\n",
       "      <td>16016.019531</td>\n",
       "      <td>16016.019531</td>\n",
       "      <td>144360000</td>\n",
       "    </tr>\n",
       "    <tr>\n",
       "      <th>3</th>\n",
       "      <td>2016-01-20</td>\n",
       "      <td>15989.450195</td>\n",
       "      <td>15989.450195</td>\n",
       "      <td>15450.559570</td>\n",
       "      <td>15766.740234</td>\n",
       "      <td>15766.740234</td>\n",
       "      <td>191870000</td>\n",
       "    </tr>\n",
       "    <tr>\n",
       "      <th>4</th>\n",
       "      <td>2016-01-21</td>\n",
       "      <td>15768.870117</td>\n",
       "      <td>16038.589844</td>\n",
       "      <td>15704.660156</td>\n",
       "      <td>15882.679688</td>\n",
       "      <td>15882.679688</td>\n",
       "      <td>145140000</td>\n",
       "    </tr>\n",
       "    <tr>\n",
       "      <th>5</th>\n",
       "      <td>2016-01-22</td>\n",
       "      <td>15921.099609</td>\n",
       "      <td>16136.790039</td>\n",
       "      <td>15921.099609</td>\n",
       "      <td>16093.509766</td>\n",
       "      <td>16093.509766</td>\n",
       "      <td>145850000</td>\n",
       "    </tr>\n",
       "    <tr>\n",
       "      <th>6</th>\n",
       "      <td>2016-01-25</td>\n",
       "      <td>16086.459961</td>\n",
       "      <td>16086.459961</td>\n",
       "      <td>15880.150391</td>\n",
       "      <td>15885.219727</td>\n",
       "      <td>15885.219727</td>\n",
       "      <td>123250000</td>\n",
       "    </tr>\n",
       "    <tr>\n",
       "      <th>7</th>\n",
       "      <td>2016-01-26</td>\n",
       "      <td>15893.160156</td>\n",
       "      <td>16185.790039</td>\n",
       "      <td>15893.160156</td>\n",
       "      <td>16167.230469</td>\n",
       "      <td>16167.230469</td>\n",
       "      <td>118210000</td>\n",
       "    </tr>\n",
       "    <tr>\n",
       "      <th>8</th>\n",
       "      <td>2016-01-27</td>\n",
       "      <td>16168.740234</td>\n",
       "      <td>16235.030273</td>\n",
       "      <td>15878.299805</td>\n",
       "      <td>15944.459961</td>\n",
       "      <td>15944.459961</td>\n",
       "      <td>138350000</td>\n",
       "    </tr>\n",
       "    <tr>\n",
       "      <th>9</th>\n",
       "      <td>2016-01-28</td>\n",
       "      <td>15960.280273</td>\n",
       "      <td>16102.139648</td>\n",
       "      <td>15863.719727</td>\n",
       "      <td>16069.639648</td>\n",
       "      <td>16069.639648</td>\n",
       "      <td>130120000</td>\n",
       "    </tr>\n",
       "    <tr>\n",
       "      <th>10</th>\n",
       "      <td>2016-01-29</td>\n",
       "      <td>16090.259766</td>\n",
       "      <td>16466.300781</td>\n",
       "      <td>16090.259766</td>\n",
       "      <td>16466.300781</td>\n",
       "      <td>16466.300781</td>\n",
       "      <td>217940000</td>\n",
       "    </tr>\n",
       "  </tbody>\n",
       "</table>\n",
       "</div>"
      ],
      "text/plain": [
       "          Date          Open          High           Low         Close  \\\n",
       "1   2016-01-15  16354.330078  16354.330078  15842.110352  15988.080078   \n",
       "2   2016-01-19  16009.450195  16171.959961  15900.250000  16016.019531   \n",
       "3   2016-01-20  15989.450195  15989.450195  15450.559570  15766.740234   \n",
       "4   2016-01-21  15768.870117  16038.589844  15704.660156  15882.679688   \n",
       "5   2016-01-22  15921.099609  16136.790039  15921.099609  16093.509766   \n",
       "6   2016-01-25  16086.459961  16086.459961  15880.150391  15885.219727   \n",
       "7   2016-01-26  15893.160156  16185.790039  15893.160156  16167.230469   \n",
       "8   2016-01-27  16168.740234  16235.030273  15878.299805  15944.459961   \n",
       "9   2016-01-28  15960.280273  16102.139648  15863.719727  16069.639648   \n",
       "10  2016-01-29  16090.259766  16466.300781  16090.259766  16466.300781   \n",
       "\n",
       "       Adj Close     Volume  \n",
       "1   15988.080078  239210000  \n",
       "2   16016.019531  144360000  \n",
       "3   15766.740234  191870000  \n",
       "4   15882.679688  145140000  \n",
       "5   16093.509766  145850000  \n",
       "6   15885.219727  123250000  \n",
       "7   16167.230469  118210000  \n",
       "8   15944.459961  138350000  \n",
       "9   16069.639648  130120000  \n",
       "10  16466.300781  217940000  "
      ]
     },
     "execution_count": 6,
     "metadata": {},
     "output_type": "execute_result"
    }
   ],
   "source": [
    "df.head(10)"
   ]
  },
  {
   "cell_type": "code",
   "execution_count": 7,
   "metadata": {
    "ExecuteTime": {
     "end_time": "2020-01-15T06:23:26.185771Z",
     "start_time": "2020-01-15T06:23:26.178790Z"
    }
   },
   "outputs": [],
   "source": [
    "def timeseries_evaluation_metrics_func(y_true, y_pred):\n",
    "    \n",
    "    def mean_absolute_percentage_error(y_true, y_pred): \n",
    "        y_true, y_pred = np.array(y_true), np.array(y_pred)\n",
    "        return np.mean(np.abs((y_true - y_pred) / y_true)) * 100\n",
    "    print('Evaluation metric results:-')\n",
    "    print(f'MSE is : {metrics.mean_squared_error(y_true, y_pred)}')\n",
    "    print(f'MAE is : {metrics.mean_absolute_error(y_true, y_pred)}')\n",
    "    print(f'RMSE is : {np.sqrt(metrics.mean_squared_error(y_true, y_pred))}')\n",
    "    print(f'MAPE is : {mean_absolute_percentage_error(y_true, y_pred)}')\n",
    "    print(f'R2 is : {metrics.r2_score(y_true, y_pred)}',end='\\n\\n')"
   ]
  },
  {
   "cell_type": "code",
   "execution_count": 8,
   "metadata": {
    "ExecuteTime": {
     "end_time": "2020-01-15T06:23:31.516684Z",
     "start_time": "2020-01-15T06:23:31.510692Z"
    }
   },
   "outputs": [],
   "source": [
    "def Augmented_Dickey_Fuller_Test_func(series , column_name):\n",
    "    print (f'Results of Dickey-Fuller Test for column: {column_name}')\n",
    "    dftest = adfuller(series, autolag='AIC')\n",
    "    dfoutput = pd.Series(dftest[0:4], index=['Test Statistic','p-value','No Lags Used','Number of Observations Used'])\n",
    "    for key,value in dftest[4].items():\n",
    "       dfoutput['Critical Value (%s)'%key] = value\n",
    "    print (dfoutput)\n",
    "    if dftest[1] <= 0.05:\n",
    "        print(\"Conclusion:====>\")\n",
    "        print(\"Reject the null hypothesis\")\n",
    "        print(\"Data is stationary\")\n",
    "    else:\n",
    "        print(\"Conclusion:====>\")\n",
    "        print(\"Fail to reject the null hypothesis\")\n",
    "        print(\"Data is non-stationary\")"
   ]
  },
  {
   "cell_type": "code",
   "execution_count": 9,
   "metadata": {
    "ExecuteTime": {
     "end_time": "2020-01-15T06:23:40.792848Z",
     "start_time": "2020-01-15T06:23:40.786870Z"
    }
   },
   "outputs": [
    {
     "data": {
      "text/plain": [
       "Index(['Date', 'Open', 'High', 'Low', 'Close', 'Adj Close', 'Volume'], dtype='object')"
      ]
     },
     "execution_count": 9,
     "metadata": {},
     "output_type": "execute_result"
    }
   ],
   "source": [
    "df.columns"
   ]
  },
  {
   "cell_type": "code",
   "execution_count": 10,
   "metadata": {
    "ExecuteTime": {
     "end_time": "2020-01-15T06:23:53.637300Z",
     "start_time": "2020-01-15T06:23:53.558544Z"
    }
   },
   "outputs": [
    {
     "name": "stdout",
     "output_type": "stream",
     "text": [
      "Results of Dickey-Fuller Test for column: Open\n",
      "Test Statistic                  -0.776223\n",
      "p-value                          0.826007\n",
      "No Lags Used                     0.000000\n",
      "Number of Observations Used    261.000000\n",
      "Critical Value (1%)             -3.455656\n",
      "Critical Value (5%)             -2.872678\n",
      "Critical Value (10%)            -2.572705\n",
      "dtype: float64\n",
      "Conclusion:====>\n",
      "Fail to reject the null hypothesis\n",
      "Data is non-stationary\n",
      "\n",
      "\n",
      "Results of Dickey-Fuller Test for column: High\n",
      "Test Statistic                  -1.240162\n",
      "p-value                          0.656085\n",
      "No Lags Used                     2.000000\n",
      "Number of Observations Used    259.000000\n",
      "Critical Value (1%)             -3.455853\n",
      "Critical Value (5%)             -2.872765\n",
      "Critical Value (10%)            -2.572752\n",
      "dtype: float64\n",
      "Conclusion:====>\n",
      "Fail to reject the null hypothesis\n",
      "Data is non-stationary\n",
      "\n",
      "\n",
      "Results of Dickey-Fuller Test for column: Low\n",
      "Test Statistic                  -0.981046\n",
      "p-value                          0.760114\n",
      "No Lags Used                    13.000000\n",
      "Number of Observations Used    248.000000\n",
      "Critical Value (1%)             -3.456996\n",
      "Critical Value (5%)             -2.873266\n",
      "Critical Value (10%)            -2.573019\n",
      "dtype: float64\n",
      "Conclusion:====>\n",
      "Fail to reject the null hypothesis\n",
      "Data is non-stationary\n",
      "\n",
      "\n",
      "Results of Dickey-Fuller Test for column: Close\n",
      "Test Statistic                  -1.265244\n",
      "p-value                          0.644919\n",
      "No Lags Used                     0.000000\n",
      "Number of Observations Used    261.000000\n",
      "Critical Value (1%)             -3.455656\n",
      "Critical Value (5%)             -2.872678\n",
      "Critical Value (10%)            -2.572705\n",
      "dtype: float64\n",
      "Conclusion:====>\n",
      "Fail to reject the null hypothesis\n",
      "Data is non-stationary\n",
      "\n",
      "\n"
     ]
    }
   ],
   "source": [
    "for name, column in df[['Open', 'High', 'Low', 'Close']].iteritems():\n",
    "    Augmented_Dickey_Fuller_Test_func(df[name],name)\n",
    "    print('\\n')"
   ]
  },
  {
   "cell_type": "code",
   "execution_count": 11,
   "metadata": {
    "ExecuteTime": {
     "end_time": "2020-01-15T06:24:08.176211Z",
     "start_time": "2020-01-15T06:24:08.170263Z"
    }
   },
   "outputs": [],
   "source": [
    "X = df[['Open', 'High', 'Low', 'Close' ]]\n",
    "train, test = X[0:-30], X[-30:]"
   ]
  },
  {
   "cell_type": "code",
   "execution_count": 12,
   "metadata": {
    "ExecuteTime": {
     "end_time": "2020-01-15T06:24:13.880464Z",
     "start_time": "2020-01-15T06:24:13.874514Z"
    }
   },
   "outputs": [],
   "source": [
    "train_diff = train.diff()\n",
    "train_diff.dropna(inplace = True)"
   ]
  },
  {
   "cell_type": "code",
   "execution_count": 13,
   "metadata": {
    "ExecuteTime": {
     "end_time": "2020-01-15T06:24:20.107247Z",
     "start_time": "2020-01-15T06:24:20.027148Z"
    }
   },
   "outputs": [
    {
     "name": "stdout",
     "output_type": "stream",
     "text": [
      "Results of Dickey-Fuller Test for column: Open\n",
      "Test Statistic                -1.579687e+01\n",
      "p-value                        1.085613e-28\n",
      "No Lags Used                   0.000000e+00\n",
      "Number of Observations Used    2.300000e+02\n",
      "Critical Value (1%)           -3.459106e+00\n",
      "Critical Value (5%)           -2.874190e+00\n",
      "Critical Value (10%)          -2.573512e+00\n",
      "dtype: float64\n",
      "Conclusion:====>\n",
      "Reject the null hypothesis\n",
      "Data is stationary\n",
      "\n",
      "\n",
      "Results of Dickey-Fuller Test for column: High\n",
      "Test Statistic                -1.172782e+01\n",
      "p-value                        1.364178e-21\n",
      "No Lags Used                   1.000000e+00\n",
      "Number of Observations Used    2.290000e+02\n",
      "Critical Value (1%)           -3.459233e+00\n",
      "Critical Value (5%)           -2.874245e+00\n",
      "Critical Value (10%)          -2.573541e+00\n",
      "dtype: float64\n",
      "Conclusion:====>\n",
      "Reject the null hypothesis\n",
      "Data is stationary\n",
      "\n",
      "\n",
      "Results of Dickey-Fuller Test for column: Low\n",
      "Test Statistic                  -3.997846\n",
      "p-value                          0.001422\n",
      "No Lags Used                    12.000000\n",
      "Number of Observations Used    218.000000\n",
      "Critical Value (1%)             -3.460708\n",
      "Critical Value (5%)             -2.874891\n",
      "Critical Value (10%)            -2.573886\n",
      "dtype: float64\n",
      "Conclusion:====>\n",
      "Reject the null hypothesis\n",
      "Data is stationary\n",
      "\n",
      "\n",
      "Results of Dickey-Fuller Test for column: Close\n",
      "Test Statistic                -1.649354e+01\n",
      "p-value                        2.181200e-29\n",
      "No Lags Used                   0.000000e+00\n",
      "Number of Observations Used    2.300000e+02\n",
      "Critical Value (1%)           -3.459106e+00\n",
      "Critical Value (5%)           -2.874190e+00\n",
      "Critical Value (10%)          -2.573512e+00\n",
      "dtype: float64\n",
      "Conclusion:====>\n",
      "Reject the null hypothesis\n",
      "Data is stationary\n",
      "\n",
      "\n"
     ]
    }
   ],
   "source": [
    "for name, column in train_diff[['Open', 'High', 'Low', 'Close' ]].iteritems():\n",
    "    Augmented_Dickey_Fuller_Test_func(train_diff[name],name)\n",
    "    print('\\n')"
   ]
  },
  {
   "cell_type": "code",
   "execution_count": 14,
   "metadata": {
    "ExecuteTime": {
     "end_time": "2020-01-15T06:24:31.262846Z",
     "start_time": "2020-01-15T06:24:31.250867Z"
    }
   },
   "outputs": [],
   "source": [
    "from statsmodels.tsa.vector_ar.vecm import coint_johansen\n",
    "\n",
    "def cointegration_test(df): \n",
    "    res = coint_johansen(df,-1,5)\n",
    "    d = {'0.90':0, '0.95':1, '0.99':2}\n",
    "    traces = res.lr1\n",
    "    cvts = res.cvt[:, d[str(1-0.05)]]\n",
    "    def adjust(val, length= 6): \n",
    "        return str(val).ljust(length)\n",
    "    print('Column Name   >  Test Stat > C(95%)    =>   Signif  \\n', '--'*20)\n",
    "    for col, trace, cvt in zip(df.columns, traces, cvts):\n",
    "        print(adjust(col), '> ', adjust(round(trace,2), 9), \">\", adjust(cvt, 8), ' =>  ' , trace > cvt)\n"
   ]
  },
  {
   "cell_type": "code",
   "execution_count": 15,
   "metadata": {
    "ExecuteTime": {
     "end_time": "2020-01-15T06:24:38.534383Z",
     "start_time": "2020-01-15T06:24:38.522451Z"
    }
   },
   "outputs": [
    {
     "name": "stdout",
     "output_type": "stream",
     "text": [
      "Column Name   >  Test Stat > C(95%)    =>   Signif  \n",
      " ----------------------------------------\n",
      "Open   >  311.57    > 40.1749   =>   True\n",
      "High   >  201.62    > 24.2761   =>   True\n",
      "Low    >  102.52    > 12.3212   =>   True\n",
      "Close  >  32.21     > 4.1296    =>   True\n"
     ]
    }
   ],
   "source": [
    "cointegration_test(train_diff[['Open', 'High', 'Low', 'Close']])"
   ]
  },
  {
   "cell_type": "code",
   "execution_count": 16,
   "metadata": {
    "ExecuteTime": {
     "end_time": "2020-01-15T06:25:09.467246Z",
     "start_time": "2020-01-15T06:25:09.463291Z"
    }
   },
   "outputs": [],
   "source": [
    "from pmdarima import auto_arima"
   ]
  },
  {
   "cell_type": "code",
   "execution_count": 18,
   "metadata": {
    "ExecuteTime": {
     "end_time": "2020-01-15T06:28:14.831707Z",
     "start_time": "2020-01-15T06:28:14.154736Z"
    }
   },
   "outputs": [
    {
     "name": "stdout",
     "output_type": "stream",
     "text": [
      "Searching order of p and q for : Open\n",
      "Fit ARIMA: order=(1, 0, 1); AIC=nan, BIC=nan, Fit time=nan seconds\n",
      "Fit ARIMA: order=(0, 0, 0); AIC=2885.680, BIC=2892.565, Fit time=0.003 seconds\n",
      "Fit ARIMA: order=(1, 0, 0); AIC=2887.514, BIC=2897.841, Fit time=0.034 seconds\n",
      "Fit ARIMA: order=(0, 0, 1); AIC=2887.501, BIC=2897.829, Fit time=0.041 seconds\n",
      "Total fit time: 0.105 seconds\n",
      "optimal order for:Open is: (0, 0, 0) \n",
      "\n",
      "\n",
      "Searching order of p and q for : High\n",
      "Fit ARIMA: order=(1, 0, 1); AIC=nan, BIC=nan, Fit time=nan seconds\n",
      "Fit ARIMA: order=(0, 0, 0); AIC=2808.391, BIC=2815.276, Fit time=0.000 seconds\n",
      "Fit ARIMA: order=(1, 0, 0); AIC=2806.398, BIC=2816.725, Fit time=0.031 seconds\n",
      "Fit ARIMA: order=(0, 0, 1); AIC=2804.841, BIC=2815.169, Fit time=0.031 seconds\n",
      "Fit ARIMA: order=(0, 0, 2); AIC=2803.155, BIC=2816.925, Fit time=0.068 seconds\n",
      "Fit ARIMA: order=(1, 0, 3); AIC=nan, BIC=nan, Fit time=nan seconds\n",
      "Fit ARIMA: order=(1, 0, 2); AIC=nan, BIC=nan, Fit time=nan seconds\n",
      "Fit ARIMA: order=(0, 0, 3); AIC=2805.124, BIC=2822.336, Fit time=0.062 seconds\n",
      "Total fit time: 0.261 seconds\n",
      "optimal order for:High is: (0, 0, 2) \n",
      "\n",
      "\n",
      "Searching order of p and q for : Low\n",
      "Fit ARIMA: order=(1, 0, 1); AIC=nan, BIC=nan, Fit time=nan seconds\n",
      "Fit ARIMA: order=(0, 0, 0); AIC=2888.932, BIC=2895.817, Fit time=0.000 seconds\n",
      "Fit ARIMA: order=(1, 0, 0); AIC=2889.994, BIC=2900.321, Fit time=0.047 seconds\n",
      "Fit ARIMA: order=(0, 0, 1); AIC=2889.623, BIC=2899.950, Fit time=0.016 seconds\n",
      "Total fit time: 0.078 seconds\n",
      "optimal order for:Low is: (0, 0, 0) \n",
      "\n",
      "\n",
      "Searching order of p and q for : Close\n",
      "Fit ARIMA: order=(1, 0, 1); AIC=2914.239, BIC=2928.009, Fit time=0.094 seconds\n",
      "Fit ARIMA: order=(0, 0, 0); AIC=2912.741, BIC=2919.626, Fit time=0.000 seconds\n",
      "Fit ARIMA: order=(1, 0, 0); AIC=2912.864, BIC=2923.191, Fit time=0.031 seconds\n",
      "Fit ARIMA: order=(0, 0, 1); AIC=2912.699, BIC=2923.026, Fit time=0.016 seconds\n",
      "Fit ARIMA: order=(0, 0, 2); AIC=2914.385, BIC=2928.155, Fit time=0.047 seconds\n",
      "Fit ARIMA: order=(1, 0, 2); AIC=nan, BIC=nan, Fit time=nan seconds\n",
      "Total fit time: 0.222 seconds\n",
      "optimal order for:Close is: (0, 0, 1) \n",
      "\n",
      "\n"
     ]
    }
   ],
   "source": [
    "pq = []\n",
    "for name, column in train_diff[[ 'Open', 'High', 'Low', 'Close'  ]].iteritems():\n",
    "    print(f'Searching order of p and q for : {name}')\n",
    "    stepwise_model = auto_arima(train_diff[name],start_p=1, start_q=1,max_p=7, max_q=7, seasonal=False,\n",
    "        trace=True,error_action='ignore',suppress_warnings=True, stepwise=True,maxiter=1000)\n",
    "    parameter = stepwise_model.get_params().get('order')\n",
    "    print(f'optimal order for:{name} is: {parameter} \\n\\n')\n",
    "    pq.append(stepwise_model.get_params().get('order'))\n"
   ]
  },
  {
   "cell_type": "code",
   "execution_count": 19,
   "metadata": {
    "ExecuteTime": {
     "end_time": "2020-01-15T06:28:48.362198Z",
     "start_time": "2020-01-15T06:28:48.346537Z"
    }
   },
   "outputs": [],
   "source": [
    "def inverse_diff(actual_df, pred_df):\n",
    "    df_res = pred_df.copy()\n",
    "    columns = actual_df.columns\n",
    "    for col in columns: \n",
    "        df_res[str(col)+'_1st_inv_diff'] = actual_df[col].iloc[-1] + df_res[str(col)].cumsum()\n",
    "    return df_res\n"
   ]
  },
  {
   "cell_type": "code",
   "execution_count": 20,
   "metadata": {
    "ExecuteTime": {
     "end_time": "2020-01-15T06:29:07.956637Z",
     "start_time": "2020-01-15T06:29:07.951620Z"
    }
   },
   "outputs": [
    {
     "data": {
      "text/plain": [
       "[(0, 0, 0), (0, 0, 2), (0, 0, 0), (0, 0, 1)]"
      ]
     },
     "execution_count": 20,
     "metadata": {},
     "output_type": "execute_result"
    }
   ],
   "source": [
    "pq"
   ]
  },
  {
   "cell_type": "code",
   "execution_count": 22,
   "metadata": {
    "ExecuteTime": {
     "end_time": "2020-01-15T06:35:07.992525Z",
     "start_time": "2020-01-15T06:33:44.891787Z"
    }
   },
   "outputs": [
    {
     "name": "stdout",
     "output_type": "stream",
     "text": [
      "Grid Search Started\n",
      " Running for (0, 0, 2)\n",
      " Running for (0, 0, 1)\n",
      " Total time taken to complete grid search in seconds: 83.08509549999997\n"
     ]
    }
   ],
   "source": [
    "\n",
    "df_results_moni = pd.DataFrame(columns=['p', 'q','RMSE Open','RMSE High','RMSE Low','RMSE Close'])\n",
    "print('Grid Search Started')\n",
    "start = timer()\n",
    "for i in pq:\n",
    "    if i[0]== 0 and i[2] ==0:\n",
    "        pass\n",
    "    else:\n",
    "        print(f' Running for {i}')\n",
    "        model = VARMAX(train_diff[[ 'Open', 'High', 'Low', 'Close'   ]], order=(i[0],i[2])).fit( disp=False)\n",
    "        result = model.forecast(steps = 30)\n",
    "        inv_res = inverse_diff(df[[ 'Open', 'High', 'Low', 'Close'   ]] , result)\n",
    "        Opensrmse = np.sqrt(metrics.mean_squared_error(test['Open'], inv_res.Open_1st_inv_diff))\n",
    "        Highrmse = np.sqrt(metrics.mean_squared_error(test['High'], inv_res.High_1st_inv_diff))\n",
    "        Lowrmse = np.sqrt(metrics.mean_squared_error(test['Low'], inv_res.Low_1st_inv_diff))\n",
    "        Closermse = np.sqrt(metrics.mean_squared_error(test['Close'], inv_res.Close_1st_inv_diff))\n",
    "        df_results_moni = df_results_moni.append({'p': i[0], 'q': i[2], 'RMSE Open':Opensrmse,'RMSE High':Highrmse,'RMSE Low':Lowrmse,'RMSE Close':Closermse }, ignore_index=True)\n",
    "end = timer()\n",
    "print(f' Total time taken to complete grid search in seconds: {(end - start)}')"
   ]
  },
  {
   "cell_type": "code",
   "execution_count": 23,
   "metadata": {
    "ExecuteTime": {
     "end_time": "2020-01-15T06:36:22.949800Z",
     "start_time": "2020-01-15T06:36:22.930889Z"
    }
   },
   "outputs": [
    {
     "data": {
      "text/html": [
       "<div>\n",
       "<style scoped>\n",
       "    .dataframe tbody tr th:only-of-type {\n",
       "        vertical-align: middle;\n",
       "    }\n",
       "\n",
       "    .dataframe tbody tr th {\n",
       "        vertical-align: top;\n",
       "    }\n",
       "\n",
       "    .dataframe thead th {\n",
       "        text-align: right;\n",
       "    }\n",
       "</style>\n",
       "<table border=\"1\" class=\"dataframe\">\n",
       "  <thead>\n",
       "    <tr style=\"text-align: right;\">\n",
       "      <th></th>\n",
       "      <th>p</th>\n",
       "      <th>q</th>\n",
       "      <th>RMSE Open</th>\n",
       "      <th>RMSE High</th>\n",
       "      <th>RMSE Low</th>\n",
       "      <th>RMSE Close</th>\n",
       "    </tr>\n",
       "  </thead>\n",
       "  <tbody>\n",
       "    <tr>\n",
       "      <th>0</th>\n",
       "      <td>0.0</td>\n",
       "      <td>2.0</td>\n",
       "      <td>263.420206</td>\n",
       "      <td>192.094701</td>\n",
       "      <td>287.886520</td>\n",
       "      <td>319.059983</td>\n",
       "    </tr>\n",
       "    <tr>\n",
       "      <th>1</th>\n",
       "      <td>0.0</td>\n",
       "      <td>1.0</td>\n",
       "      <td>313.965467</td>\n",
       "      <td>209.774520</td>\n",
       "      <td>336.612793</td>\n",
       "      <td>345.613801</td>\n",
       "    </tr>\n",
       "  </tbody>\n",
       "</table>\n",
       "</div>"
      ],
      "text/plain": [
       "     p    q   RMSE Open   RMSE High    RMSE Low  RMSE Close\n",
       "0  0.0  2.0  263.420206  192.094701  287.886520  319.059983\n",
       "1  0.0  1.0  313.965467  209.774520  336.612793  345.613801"
      ]
     },
     "execution_count": 23,
     "metadata": {},
     "output_type": "execute_result"
    }
   ],
   "source": [
    "df_results_moni.sort_values(by = ['RMSE Open','RMSE High','RMSE Low','RMSE Close'] )"
   ]
  },
  {
   "cell_type": "code",
   "execution_count": 25,
   "metadata": {
    "ExecuteTime": {
     "end_time": "2020-01-15T06:38:30.385598Z",
     "start_time": "2020-01-15T06:37:36.131830Z"
    }
   },
   "outputs": [],
   "source": [
    "# from above example we can see that p=0 and q=2 gives least RMSE\n",
    "model = VARMAX(train_diff[[ 'Open', 'High', 'Low', 'Close' ]], order=(0,2)).fit( disp=False)\n",
    "result = model.forecast(steps = 30)\n"
   ]
  },
  {
   "cell_type": "code",
   "execution_count": 27,
   "metadata": {
    "ExecuteTime": {
     "end_time": "2020-01-15T06:40:31.217057Z",
     "start_time": "2020-01-15T06:40:31.207110Z"
    }
   },
   "outputs": [],
   "source": [
    "res = inverse_diff(df[['Open', 'High', 'Low', 'Close' ]],result)"
   ]
  },
  {
   "cell_type": "code",
   "execution_count": 28,
   "metadata": {
    "ExecuteTime": {
     "end_time": "2020-01-15T06:40:33.296713Z",
     "start_time": "2020-01-15T06:40:33.278761Z"
    }
   },
   "outputs": [
    {
     "data": {
      "text/html": [
       "<div>\n",
       "<style scoped>\n",
       "    .dataframe tbody tr th:only-of-type {\n",
       "        vertical-align: middle;\n",
       "    }\n",
       "\n",
       "    .dataframe tbody tr th {\n",
       "        vertical-align: top;\n",
       "    }\n",
       "\n",
       "    .dataframe thead th {\n",
       "        text-align: right;\n",
       "    }\n",
       "</style>\n",
       "<table border=\"1\" class=\"dataframe\">\n",
       "  <thead>\n",
       "    <tr style=\"text-align: right;\">\n",
       "      <th></th>\n",
       "      <th>Open</th>\n",
       "      <th>High</th>\n",
       "      <th>Low</th>\n",
       "      <th>Close</th>\n",
       "      <th>Open_1st_inv_diff</th>\n",
       "      <th>High_1st_inv_diff</th>\n",
       "      <th>Low_1st_inv_diff</th>\n",
       "      <th>Close_1st_inv_diff</th>\n",
       "    </tr>\n",
       "  </thead>\n",
       "  <tbody>\n",
       "    <tr>\n",
       "      <th>231</th>\n",
       "      <td>-97.448291</td>\n",
       "      <td>-124.164948</td>\n",
       "      <td>-16.991542</td>\n",
       "      <td>-4.737892</td>\n",
       "      <td>19931.170850</td>\n",
       "      <td>19904.454193</td>\n",
       "      <td>19853.399083</td>\n",
       "      <td>19966.392967</td>\n",
       "    </tr>\n",
       "    <tr>\n",
       "      <th>232</th>\n",
       "      <td>-13.652888</td>\n",
       "      <td>-34.963693</td>\n",
       "      <td>-1.995238</td>\n",
       "      <td>-6.765207</td>\n",
       "      <td>19917.517962</td>\n",
       "      <td>19869.490500</td>\n",
       "      <td>19851.403845</td>\n",
       "      <td>19959.627761</td>\n",
       "    </tr>\n",
       "    <tr>\n",
       "      <th>233</th>\n",
       "      <td>15.363309</td>\n",
       "      <td>15.537131</td>\n",
       "      <td>16.851531</td>\n",
       "      <td>16.494566</td>\n",
       "      <td>19932.881271</td>\n",
       "      <td>19885.027631</td>\n",
       "      <td>19868.255376</td>\n",
       "      <td>19976.122327</td>\n",
       "    </tr>\n",
       "    <tr>\n",
       "      <th>234</th>\n",
       "      <td>15.363309</td>\n",
       "      <td>15.537131</td>\n",
       "      <td>16.851531</td>\n",
       "      <td>16.494566</td>\n",
       "      <td>19948.244581</td>\n",
       "      <td>19900.564761</td>\n",
       "      <td>19885.106907</td>\n",
       "      <td>19992.616894</td>\n",
       "    </tr>\n",
       "    <tr>\n",
       "      <th>235</th>\n",
       "      <td>15.363309</td>\n",
       "      <td>15.537131</td>\n",
       "      <td>16.851531</td>\n",
       "      <td>16.494566</td>\n",
       "      <td>19963.607890</td>\n",
       "      <td>19916.101892</td>\n",
       "      <td>19901.958437</td>\n",
       "      <td>20009.111460</td>\n",
       "    </tr>\n",
       "    <tr>\n",
       "      <th>236</th>\n",
       "      <td>15.363309</td>\n",
       "      <td>15.537131</td>\n",
       "      <td>16.851531</td>\n",
       "      <td>16.494566</td>\n",
       "      <td>19978.971199</td>\n",
       "      <td>19931.639023</td>\n",
       "      <td>19918.809968</td>\n",
       "      <td>20025.606026</td>\n",
       "    </tr>\n",
       "    <tr>\n",
       "      <th>237</th>\n",
       "      <td>15.363309</td>\n",
       "      <td>15.537131</td>\n",
       "      <td>16.851531</td>\n",
       "      <td>16.494566</td>\n",
       "      <td>19994.334508</td>\n",
       "      <td>19947.176153</td>\n",
       "      <td>19935.661499</td>\n",
       "      <td>20042.100593</td>\n",
       "    </tr>\n",
       "    <tr>\n",
       "      <th>238</th>\n",
       "      <td>15.363309</td>\n",
       "      <td>15.537131</td>\n",
       "      <td>16.851531</td>\n",
       "      <td>16.494566</td>\n",
       "      <td>20009.697817</td>\n",
       "      <td>19962.713284</td>\n",
       "      <td>19952.513030</td>\n",
       "      <td>20058.595159</td>\n",
       "    </tr>\n",
       "    <tr>\n",
       "      <th>239</th>\n",
       "      <td>15.363309</td>\n",
       "      <td>15.537131</td>\n",
       "      <td>16.851531</td>\n",
       "      <td>16.494566</td>\n",
       "      <td>20025.061126</td>\n",
       "      <td>19978.250415</td>\n",
       "      <td>19969.364560</td>\n",
       "      <td>20075.089726</td>\n",
       "    </tr>\n",
       "    <tr>\n",
       "      <th>240</th>\n",
       "      <td>15.363309</td>\n",
       "      <td>15.537131</td>\n",
       "      <td>16.851531</td>\n",
       "      <td>16.494566</td>\n",
       "      <td>20040.424435</td>\n",
       "      <td>19993.787545</td>\n",
       "      <td>19986.216091</td>\n",
       "      <td>20091.584292</td>\n",
       "    </tr>\n",
       "    <tr>\n",
       "      <th>241</th>\n",
       "      <td>15.363309</td>\n",
       "      <td>15.537131</td>\n",
       "      <td>16.851531</td>\n",
       "      <td>16.494566</td>\n",
       "      <td>20055.787744</td>\n",
       "      <td>20009.324676</td>\n",
       "      <td>20003.067622</td>\n",
       "      <td>20108.078859</td>\n",
       "    </tr>\n",
       "    <tr>\n",
       "      <th>242</th>\n",
       "      <td>15.363309</td>\n",
       "      <td>15.537131</td>\n",
       "      <td>16.851531</td>\n",
       "      <td>16.494566</td>\n",
       "      <td>20071.151053</td>\n",
       "      <td>20024.861806</td>\n",
       "      <td>20019.919153</td>\n",
       "      <td>20124.573425</td>\n",
       "    </tr>\n",
       "    <tr>\n",
       "      <th>243</th>\n",
       "      <td>15.363309</td>\n",
       "      <td>15.537131</td>\n",
       "      <td>16.851531</td>\n",
       "      <td>16.494566</td>\n",
       "      <td>20086.514362</td>\n",
       "      <td>20040.398937</td>\n",
       "      <td>20036.770683</td>\n",
       "      <td>20141.067992</td>\n",
       "    </tr>\n",
       "    <tr>\n",
       "      <th>244</th>\n",
       "      <td>15.363309</td>\n",
       "      <td>15.537131</td>\n",
       "      <td>16.851531</td>\n",
       "      <td>16.494566</td>\n",
       "      <td>20101.877671</td>\n",
       "      <td>20055.936068</td>\n",
       "      <td>20053.622214</td>\n",
       "      <td>20157.562558</td>\n",
       "    </tr>\n",
       "    <tr>\n",
       "      <th>245</th>\n",
       "      <td>15.363309</td>\n",
       "      <td>15.537131</td>\n",
       "      <td>16.851531</td>\n",
       "      <td>16.494566</td>\n",
       "      <td>20117.240980</td>\n",
       "      <td>20071.473198</td>\n",
       "      <td>20070.473745</td>\n",
       "      <td>20174.057125</td>\n",
       "    </tr>\n",
       "    <tr>\n",
       "      <th>246</th>\n",
       "      <td>15.363309</td>\n",
       "      <td>15.537131</td>\n",
       "      <td>16.851531</td>\n",
       "      <td>16.494566</td>\n",
       "      <td>20132.604289</td>\n",
       "      <td>20087.010329</td>\n",
       "      <td>20087.325276</td>\n",
       "      <td>20190.551691</td>\n",
       "    </tr>\n",
       "    <tr>\n",
       "      <th>247</th>\n",
       "      <td>15.363309</td>\n",
       "      <td>15.537131</td>\n",
       "      <td>16.851531</td>\n",
       "      <td>16.494566</td>\n",
       "      <td>20147.967599</td>\n",
       "      <td>20102.547460</td>\n",
       "      <td>20104.176806</td>\n",
       "      <td>20207.046257</td>\n",
       "    </tr>\n",
       "    <tr>\n",
       "      <th>248</th>\n",
       "      <td>15.363309</td>\n",
       "      <td>15.537131</td>\n",
       "      <td>16.851531</td>\n",
       "      <td>16.494566</td>\n",
       "      <td>20163.330908</td>\n",
       "      <td>20118.084590</td>\n",
       "      <td>20121.028337</td>\n",
       "      <td>20223.540824</td>\n",
       "    </tr>\n",
       "    <tr>\n",
       "      <th>249</th>\n",
       "      <td>15.363309</td>\n",
       "      <td>15.537131</td>\n",
       "      <td>16.851531</td>\n",
       "      <td>16.494566</td>\n",
       "      <td>20178.694217</td>\n",
       "      <td>20133.621721</td>\n",
       "      <td>20137.879868</td>\n",
       "      <td>20240.035390</td>\n",
       "    </tr>\n",
       "    <tr>\n",
       "      <th>250</th>\n",
       "      <td>15.363309</td>\n",
       "      <td>15.537131</td>\n",
       "      <td>16.851531</td>\n",
       "      <td>16.494566</td>\n",
       "      <td>20194.057526</td>\n",
       "      <td>20149.158852</td>\n",
       "      <td>20154.731398</td>\n",
       "      <td>20256.529957</td>\n",
       "    </tr>\n",
       "    <tr>\n",
       "      <th>251</th>\n",
       "      <td>15.363309</td>\n",
       "      <td>15.537131</td>\n",
       "      <td>16.851531</td>\n",
       "      <td>16.494566</td>\n",
       "      <td>20209.420835</td>\n",
       "      <td>20164.695982</td>\n",
       "      <td>20171.582929</td>\n",
       "      <td>20273.024523</td>\n",
       "    </tr>\n",
       "    <tr>\n",
       "      <th>252</th>\n",
       "      <td>15.363309</td>\n",
       "      <td>15.537131</td>\n",
       "      <td>16.851531</td>\n",
       "      <td>16.494566</td>\n",
       "      <td>20224.784144</td>\n",
       "      <td>20180.233113</td>\n",
       "      <td>20188.434460</td>\n",
       "      <td>20289.519090</td>\n",
       "    </tr>\n",
       "    <tr>\n",
       "      <th>253</th>\n",
       "      <td>15.363309</td>\n",
       "      <td>15.537131</td>\n",
       "      <td>16.851531</td>\n",
       "      <td>16.494566</td>\n",
       "      <td>20240.147453</td>\n",
       "      <td>20195.770244</td>\n",
       "      <td>20205.285991</td>\n",
       "      <td>20306.013656</td>\n",
       "    </tr>\n",
       "    <tr>\n",
       "      <th>254</th>\n",
       "      <td>15.363309</td>\n",
       "      <td>15.537131</td>\n",
       "      <td>16.851531</td>\n",
       "      <td>16.494566</td>\n",
       "      <td>20255.510762</td>\n",
       "      <td>20211.307374</td>\n",
       "      <td>20222.137521</td>\n",
       "      <td>20322.508223</td>\n",
       "    </tr>\n",
       "    <tr>\n",
       "      <th>255</th>\n",
       "      <td>15.363309</td>\n",
       "      <td>15.537131</td>\n",
       "      <td>16.851531</td>\n",
       "      <td>16.494566</td>\n",
       "      <td>20270.874071</td>\n",
       "      <td>20226.844505</td>\n",
       "      <td>20238.989052</td>\n",
       "      <td>20339.002789</td>\n",
       "    </tr>\n",
       "    <tr>\n",
       "      <th>256</th>\n",
       "      <td>15.363309</td>\n",
       "      <td>15.537131</td>\n",
       "      <td>16.851531</td>\n",
       "      <td>16.494566</td>\n",
       "      <td>20286.237380</td>\n",
       "      <td>20242.381635</td>\n",
       "      <td>20255.840583</td>\n",
       "      <td>20355.497356</td>\n",
       "    </tr>\n",
       "    <tr>\n",
       "      <th>257</th>\n",
       "      <td>15.363309</td>\n",
       "      <td>15.537131</td>\n",
       "      <td>16.851531</td>\n",
       "      <td>16.494566</td>\n",
       "      <td>20301.600689</td>\n",
       "      <td>20257.918766</td>\n",
       "      <td>20272.692114</td>\n",
       "      <td>20371.991922</td>\n",
       "    </tr>\n",
       "    <tr>\n",
       "      <th>258</th>\n",
       "      <td>15.363309</td>\n",
       "      <td>15.537131</td>\n",
       "      <td>16.851531</td>\n",
       "      <td>16.494566</td>\n",
       "      <td>20316.963998</td>\n",
       "      <td>20273.455897</td>\n",
       "      <td>20289.543644</td>\n",
       "      <td>20388.486489</td>\n",
       "    </tr>\n",
       "    <tr>\n",
       "      <th>259</th>\n",
       "      <td>15.363309</td>\n",
       "      <td>15.537131</td>\n",
       "      <td>16.851531</td>\n",
       "      <td>16.494566</td>\n",
       "      <td>20332.327308</td>\n",
       "      <td>20288.993027</td>\n",
       "      <td>20306.395175</td>\n",
       "      <td>20404.981055</td>\n",
       "    </tr>\n",
       "    <tr>\n",
       "      <th>260</th>\n",
       "      <td>15.363309</td>\n",
       "      <td>15.537131</td>\n",
       "      <td>16.851531</td>\n",
       "      <td>16.494566</td>\n",
       "      <td>20347.690617</td>\n",
       "      <td>20304.530158</td>\n",
       "      <td>20323.246706</td>\n",
       "      <td>20421.475621</td>\n",
       "    </tr>\n",
       "  </tbody>\n",
       "</table>\n",
       "</div>"
      ],
      "text/plain": [
       "          Open        High        Low      Close  Open_1st_inv_diff  \\\n",
       "231 -97.448291 -124.164948 -16.991542  -4.737892       19931.170850   \n",
       "232 -13.652888  -34.963693  -1.995238  -6.765207       19917.517962   \n",
       "233  15.363309   15.537131  16.851531  16.494566       19932.881271   \n",
       "234  15.363309   15.537131  16.851531  16.494566       19948.244581   \n",
       "235  15.363309   15.537131  16.851531  16.494566       19963.607890   \n",
       "236  15.363309   15.537131  16.851531  16.494566       19978.971199   \n",
       "237  15.363309   15.537131  16.851531  16.494566       19994.334508   \n",
       "238  15.363309   15.537131  16.851531  16.494566       20009.697817   \n",
       "239  15.363309   15.537131  16.851531  16.494566       20025.061126   \n",
       "240  15.363309   15.537131  16.851531  16.494566       20040.424435   \n",
       "241  15.363309   15.537131  16.851531  16.494566       20055.787744   \n",
       "242  15.363309   15.537131  16.851531  16.494566       20071.151053   \n",
       "243  15.363309   15.537131  16.851531  16.494566       20086.514362   \n",
       "244  15.363309   15.537131  16.851531  16.494566       20101.877671   \n",
       "245  15.363309   15.537131  16.851531  16.494566       20117.240980   \n",
       "246  15.363309   15.537131  16.851531  16.494566       20132.604289   \n",
       "247  15.363309   15.537131  16.851531  16.494566       20147.967599   \n",
       "248  15.363309   15.537131  16.851531  16.494566       20163.330908   \n",
       "249  15.363309   15.537131  16.851531  16.494566       20178.694217   \n",
       "250  15.363309   15.537131  16.851531  16.494566       20194.057526   \n",
       "251  15.363309   15.537131  16.851531  16.494566       20209.420835   \n",
       "252  15.363309   15.537131  16.851531  16.494566       20224.784144   \n",
       "253  15.363309   15.537131  16.851531  16.494566       20240.147453   \n",
       "254  15.363309   15.537131  16.851531  16.494566       20255.510762   \n",
       "255  15.363309   15.537131  16.851531  16.494566       20270.874071   \n",
       "256  15.363309   15.537131  16.851531  16.494566       20286.237380   \n",
       "257  15.363309   15.537131  16.851531  16.494566       20301.600689   \n",
       "258  15.363309   15.537131  16.851531  16.494566       20316.963998   \n",
       "259  15.363309   15.537131  16.851531  16.494566       20332.327308   \n",
       "260  15.363309   15.537131  16.851531  16.494566       20347.690617   \n",
       "\n",
       "     High_1st_inv_diff  Low_1st_inv_diff  Close_1st_inv_diff  \n",
       "231       19904.454193      19853.399083        19966.392967  \n",
       "232       19869.490500      19851.403845        19959.627761  \n",
       "233       19885.027631      19868.255376        19976.122327  \n",
       "234       19900.564761      19885.106907        19992.616894  \n",
       "235       19916.101892      19901.958437        20009.111460  \n",
       "236       19931.639023      19918.809968        20025.606026  \n",
       "237       19947.176153      19935.661499        20042.100593  \n",
       "238       19962.713284      19952.513030        20058.595159  \n",
       "239       19978.250415      19969.364560        20075.089726  \n",
       "240       19993.787545      19986.216091        20091.584292  \n",
       "241       20009.324676      20003.067622        20108.078859  \n",
       "242       20024.861806      20019.919153        20124.573425  \n",
       "243       20040.398937      20036.770683        20141.067992  \n",
       "244       20055.936068      20053.622214        20157.562558  \n",
       "245       20071.473198      20070.473745        20174.057125  \n",
       "246       20087.010329      20087.325276        20190.551691  \n",
       "247       20102.547460      20104.176806        20207.046257  \n",
       "248       20118.084590      20121.028337        20223.540824  \n",
       "249       20133.621721      20137.879868        20240.035390  \n",
       "250       20149.158852      20154.731398        20256.529957  \n",
       "251       20164.695982      20171.582929        20273.024523  \n",
       "252       20180.233113      20188.434460        20289.519090  \n",
       "253       20195.770244      20205.285991        20306.013656  \n",
       "254       20211.307374      20222.137521        20322.508223  \n",
       "255       20226.844505      20238.989052        20339.002789  \n",
       "256       20242.381635      20255.840583        20355.497356  \n",
       "257       20257.918766      20272.692114        20371.991922  \n",
       "258       20273.455897      20289.543644        20388.486489  \n",
       "259       20288.993027      20306.395175        20404.981055  \n",
       "260       20304.530158      20323.246706        20421.475621  "
      ]
     },
     "execution_count": 28,
     "metadata": {},
     "output_type": "execute_result"
    }
   ],
   "source": [
    "res"
   ]
  },
  {
   "cell_type": "code",
   "execution_count": 29,
   "metadata": {
    "ExecuteTime": {
     "end_time": "2020-01-15T06:40:41.001116Z",
     "start_time": "2020-01-15T06:40:40.986179Z"
    }
   },
   "outputs": [
    {
     "name": "stdout",
     "output_type": "stream",
     "text": [
      "Evaluation metric for Open\n",
      "Evaluation metric results:-\n",
      "MSE is : 69390.20495610197\n",
      "MAE is : 224.38160704668528\n",
      "RMSE is : 263.42020605128596\n",
      "MAPE is : 1.1284706902592374\n",
      "R2 is : -10.351108585720988\n",
      "\n",
      "Evaluation metric for High\n",
      "Evaluation metric results:-\n",
      "MSE is : 36900.37397417075\n",
      "MAE is : 153.81806077347198\n",
      "RMSE is : 192.09470053640405\n",
      "MAPE is : 0.771962012512213\n",
      "R2 is : -5.630170910567557\n",
      "\n",
      "Evaluation metric for Low\n",
      "Evaluation metric results:-\n",
      "MSE is : 82878.64833047987\n",
      "MAE is : 240.02468160323212\n",
      "RMSE is : 287.8865198832343\n",
      "MAPE is : 1.211377185328629\n",
      "R2 is : -8.705162103389247\n",
      "\n",
      "Evaluation metric for Close\n",
      "Evaluation metric results:-\n",
      "MSE is : 101799.27260825623\n",
      "MAE is : 282.8116996862626\n",
      "RMSE is : 319.05998277480086\n",
      "MAPE is : 1.42236066881777\n",
      "R2 is : -12.437556883584637\n",
      "\n"
     ]
    }
   ],
   "source": [
    "for i in ['Open', 'High', 'Low', 'Close' ]:\n",
    "    print(f'Evaluation metric for {i}')\n",
    "    timeseries_evaluation_metrics_func(test[str(i)] , res[str(i)+'_1st_inv_diff'])"
   ]
  },
  {
   "cell_type": "code",
   "execution_count": 30,
   "metadata": {
    "ExecuteTime": {
     "end_time": "2020-01-15T06:40:47.010133Z",
     "start_time": "2020-01-15T06:40:46.218452Z"
    }
   },
   "outputs": [
    {
     "data": {
      "image/png": "[encoded data removed]",
      "text/plain": [
       "<Figure size 720x504 with 1 Axes>"
      ]
     },
     "metadata": {
      "needs_background": "light"
     },
     "output_type": "display_data"
    },
    {
     "data": {
      "image/png": "[encoded data removed]",
      "text/plain": [
       "<Figure size 720x504 with 1 Axes>"
      ]
     },
     "metadata": {
      "needs_background": "light"
     },
     "output_type": "display_data"
    },
    {
     "data": {
      "image/png": "[encoded data removed]",
      "text/plain": [
       "<Figure size 720x504 with 1 Axes>"
      ]
     },
     "metadata": {
      "needs_background": "light"
     },
     "output_type": "display_data"
    },
    {
     "data": {
      "image/png": "[encoded data removed]",
      "text/plain": [
       "<Figure size 720x504 with 1 Axes>"
      ]
     },
     "metadata": {
      "needs_background": "light"
     },
     "output_type": "display_data"
    }
   ],
   "source": [
    "import matplotlib.pyplot as plt\n",
    "%matplotlib inline\n",
    "for i in ['Open', 'High', 'Low', 'Close' ]:\n",
    "    \n",
    "    plt.rcParams[\"figure.figsize\"] = [10,7]\n",
    "    plt.plot( train[str(i)], label='Train '+str(i))\n",
    "    plt.plot(test[str(i)], label='Test '+str(i))\n",
    "    plt.plot(res[str(i)+'_1st_inv_diff'], label='Predicted '+str(i))\n",
    "    plt.legend(loc='best')\n",
    "    plt.show()"
   ]
  },
  {
   "cell_type": "code",
   "execution_count": null,
   "metadata": {},
   "outputs": [],
   "source": []
  },
  {
   "cell_type": "code",
   "execution_count": null,
   "metadata": {},
   "outputs": [],
   "source": []
  },
  {
   "cell_type": "code",
   "execution_count": null,
   "metadata": {},
   "outputs": [],
   "source": []
  },
  {
   "cell_type": "code",
   "execution_count": null,
   "metadata": {},
   "outputs": [],
   "source": []
  },
  {
   "cell_type": "code",
   "execution_count": null,
   "metadata": {},
   "outputs": [],
   "source": []
  },
  {
   "cell_type": "code",
   "execution_count": null,
   "metadata": {},
   "outputs": [],
   "source": []
  },
  {
   "cell_type": "code",
   "execution_count": null,
   "metadata": {},
   "outputs": [],
   "source": []
  },
  {
   "cell_type": "code",
   "execution_count": null,
   "metadata": {},
   "outputs": [],
   "source": []
  }
 ],
 "metadata": {
  "kernelspec": {
   "display_name": "Python 3",
   "language": "python",
   "name": "python3"
  },
  "language_info": {
   "codemirror_mode": {
    "name": "ipython",
    "version": 3
   },
   "file_extension": ".py",
   "mimetype": "text/x-python",
   "name": "python",
   "nbconvert_exporter": "python",
   "pygments_lexer": "ipython3",
   "version": "3.7.3"
  },
  "latex_envs": {
   "LaTeX_envs_menu_present": true,
   "autoclose": false,
   "autocomplete": true,
   "bibliofile": "biblio.bib",
   "cite_by": "apalike",
   "current_citInitial": 1,
   "eqLabelWithNumbers": true,
   "eqNumInitial": 1,
   "hotkeys": {
    "equation": "Ctrl-E",
    "itemize": "Ctrl-I"
   },
   "labels_anchors": false,
   "latex_user_defs": false,
   "report_style_numbering": false,
   "user_envs_cfg": false
  }
 },
 "nbformat": 4,
 "nbformat_minor": 2
}

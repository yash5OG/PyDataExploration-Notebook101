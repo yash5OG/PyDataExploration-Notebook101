{
 "cells": [
  {
   "cell_type": "code",
   "execution_count": 1,
   "metadata": {
    "ExecuteTime": {
     "end_time": "2020-01-19T06:10:09.734788Z",
     "start_time": "2020-01-19T06:10:07.844720Z"
    }
   },
   "outputs": [
    {
     "name": "stderr",
     "output_type": "stream",
     "text": [
      "C:\\Users\\Vishwas\\Anaconda3\\lib\\site-packages\\sklearn\\externals\\six.py:31: FutureWarning: The module is deprecated in version 0.21 and will be removed in version 0.23 since we've dropped support for Python 2.7. Please rely on the official version of six (https://pypi.org/project/six/).\n",
      "  \"(https://pypi.org/project/six/).\", FutureWarning)\n",
      "C:\\Users\\Vishwas\\Anaconda3\\lib\\site-packages\\sklearn\\externals\\joblib\\__init__.py:15: FutureWarning: sklearn.externals.joblib is deprecated in 0.21 and will be removed in 0.23. Please import this functionality directly from joblib, which can be installed with: pip install joblib. If this warning is raised when loading pickled models, you may need to re-serialize those models with scikit-learn 0.21+.\n",
      "  warnings.warn(msg, category=FutureWarning)\n"
     ]
    }
   ],
   "source": [
    "import matplotlib.pyplot as plt\n",
    "import numpy as np\n",
    "import pandas as pd\n",
    "from pmdarima import auto_arima\n",
    "from sklearn import metrics\n",
    "from statsmodels.tsa.stattools import adfuller"
   ]
  },
  {
   "cell_type": "code",
   "execution_count": 2,
   "metadata": {
    "ExecuteTime": {
     "end_time": "2020-01-19T06:10:09.762681Z",
     "start_time": "2020-01-19T06:10:09.736751Z"
    }
   },
   "outputs": [],
   "source": [
    "df = pd.read_csv(r'G:\\Study and WorkRelated\\Book Proposal\\book\\Code and Data\\Data\\FB.csv')\n"
   ]
  },
  {
   "cell_type": "code",
   "execution_count": 3,
   "metadata": {
    "ExecuteTime": {
     "end_time": "2020-01-19T06:10:18.211371Z",
     "start_time": "2020-01-19T06:10:18.194419Z"
    },
    "scrolled": true
   },
   "outputs": [
    {
     "data": {
      "text/html": [
       "<div>\n",
       "<style scoped>\n",
       "    .dataframe tbody tr th:only-of-type {\n",
       "        vertical-align: middle;\n",
       "    }\n",
       "\n",
       "    .dataframe tbody tr th {\n",
       "        vertical-align: top;\n",
       "    }\n",
       "\n",
       "    .dataframe thead th {\n",
       "        text-align: right;\n",
       "    }\n",
       "</style>\n",
       "<table border=\"1\" class=\"dataframe\">\n",
       "  <thead>\n",
       "    <tr style=\"text-align: right;\">\n",
       "      <th></th>\n",
       "      <th>Date</th>\n",
       "      <th>Open</th>\n",
       "      <th>High</th>\n",
       "      <th>Low</th>\n",
       "      <th>Close</th>\n",
       "      <th>Adj Close</th>\n",
       "      <th>Volume</th>\n",
       "    </tr>\n",
       "  </thead>\n",
       "  <tbody>\n",
       "    <tr>\n",
       "      <th>0</th>\n",
       "      <td>2014-12-08</td>\n",
       "      <td>76.180000</td>\n",
       "      <td>77.250000</td>\n",
       "      <td>75.400002</td>\n",
       "      <td>76.519997</td>\n",
       "      <td>76.519997</td>\n",
       "      <td>25733900</td>\n",
       "    </tr>\n",
       "    <tr>\n",
       "      <th>1</th>\n",
       "      <td>2014-12-09</td>\n",
       "      <td>75.199997</td>\n",
       "      <td>76.930000</td>\n",
       "      <td>74.779999</td>\n",
       "      <td>76.839996</td>\n",
       "      <td>76.839996</td>\n",
       "      <td>25358600</td>\n",
       "    </tr>\n",
       "    <tr>\n",
       "      <th>2</th>\n",
       "      <td>2014-12-10</td>\n",
       "      <td>76.650002</td>\n",
       "      <td>77.550003</td>\n",
       "      <td>76.070000</td>\n",
       "      <td>76.180000</td>\n",
       "      <td>76.180000</td>\n",
       "      <td>32210500</td>\n",
       "    </tr>\n",
       "    <tr>\n",
       "      <th>3</th>\n",
       "      <td>2014-12-11</td>\n",
       "      <td>76.519997</td>\n",
       "      <td>78.519997</td>\n",
       "      <td>76.480003</td>\n",
       "      <td>77.730003</td>\n",
       "      <td>77.730003</td>\n",
       "      <td>33462100</td>\n",
       "    </tr>\n",
       "    <tr>\n",
       "      <th>4</th>\n",
       "      <td>2014-12-12</td>\n",
       "      <td>77.160004</td>\n",
       "      <td>78.879997</td>\n",
       "      <td>77.019997</td>\n",
       "      <td>77.830002</td>\n",
       "      <td>77.830002</td>\n",
       "      <td>28091600</td>\n",
       "    </tr>\n",
       "    <tr>\n",
       "      <th>5</th>\n",
       "      <td>2014-12-15</td>\n",
       "      <td>78.459999</td>\n",
       "      <td>78.580002</td>\n",
       "      <td>76.559998</td>\n",
       "      <td>76.989998</td>\n",
       "      <td>76.989998</td>\n",
       "      <td>29396500</td>\n",
       "    </tr>\n",
       "    <tr>\n",
       "      <th>6</th>\n",
       "      <td>2014-12-16</td>\n",
       "      <td>76.190002</td>\n",
       "      <td>77.389999</td>\n",
       "      <td>74.589996</td>\n",
       "      <td>74.690002</td>\n",
       "      <td>74.690002</td>\n",
       "      <td>31554600</td>\n",
       "    </tr>\n",
       "    <tr>\n",
       "      <th>7</th>\n",
       "      <td>2014-12-17</td>\n",
       "      <td>75.010002</td>\n",
       "      <td>76.410004</td>\n",
       "      <td>74.900002</td>\n",
       "      <td>76.110001</td>\n",
       "      <td>76.110001</td>\n",
       "      <td>29203900</td>\n",
       "    </tr>\n",
       "    <tr>\n",
       "      <th>8</th>\n",
       "      <td>2014-12-18</td>\n",
       "      <td>76.889999</td>\n",
       "      <td>78.400002</td>\n",
       "      <td>76.510002</td>\n",
       "      <td>78.400002</td>\n",
       "      <td>78.400002</td>\n",
       "      <td>34222100</td>\n",
       "    </tr>\n",
       "    <tr>\n",
       "      <th>9</th>\n",
       "      <td>2014-12-19</td>\n",
       "      <td>78.750000</td>\n",
       "      <td>80.000000</td>\n",
       "      <td>78.330002</td>\n",
       "      <td>79.879997</td>\n",
       "      <td>79.879997</td>\n",
       "      <td>43335000</td>\n",
       "    </tr>\n",
       "  </tbody>\n",
       "</table>\n",
       "</div>"
      ],
      "text/plain": [
       "         Date       Open       High        Low      Close  Adj Close    Volume\n",
       "0  2014-12-08  76.180000  77.250000  75.400002  76.519997  76.519997  25733900\n",
       "1  2014-12-09  75.199997  76.930000  74.779999  76.839996  76.839996  25358600\n",
       "2  2014-12-10  76.650002  77.550003  76.070000  76.180000  76.180000  32210500\n",
       "3  2014-12-11  76.519997  78.519997  76.480003  77.730003  77.730003  33462100\n",
       "4  2014-12-12  77.160004  78.879997  77.019997  77.830002  77.830002  28091600\n",
       "5  2014-12-15  78.459999  78.580002  76.559998  76.989998  76.989998  29396500\n",
       "6  2014-12-16  76.190002  77.389999  74.589996  74.690002  74.690002  31554600\n",
       "7  2014-12-17  75.010002  76.410004  74.900002  76.110001  76.110001  29203900\n",
       "8  2014-12-18  76.889999  78.400002  76.510002  78.400002  78.400002  34222100\n",
       "9  2014-12-19  78.750000  80.000000  78.330002  79.879997  79.879997  43335000"
      ]
     },
     "execution_count": 3,
     "metadata": {},
     "output_type": "execute_result"
    }
   ],
   "source": [
    "df.head(10)"
   ]
  },
  {
   "cell_type": "code",
   "execution_count": 30,
   "metadata": {},
   "outputs": [],
   "source": [
    "def timeseries_evaluation_metrics_func(y_true, y_pred):\n",
    "    \n",
    "    def mean_absolute_percentage_error(y_true, y_pred): \n",
    "        y_true, y_pred = np.array(y_true), np.array(y_pred)\n",
    "        return np.mean(np.abs((y_true - y_pred) / y_true)) * 100\n",
    "    print('Evaluation metric results:-')\n",
    "    print(f'MSE is : {metrics.mean_squared_error(y_true, y_pred)}')\n",
    "    print(f'MSE is : {metrics.mean_absolute_error(y_true, y_pred)}')\n",
    "    print(f'RMSE is : {np.sqrt(metrics.mean_squared_error(y_true, y_pred))}')\n",
    "    print(f'MAPE is : {mean_absolute_percentage_error(y_true, y_pred)}')\n",
    "    print(f'R2 is : {metrics.r2_score(y_true, y_pred)}',end='\\n\\n')"
   ]
  },
  {
   "cell_type": "code",
   "execution_count": 21,
   "metadata": {},
   "outputs": [],
   "source": [
    "def Augmented_Dickey_Fuller_Test_func(series, column_name= ''):\n",
    "    result = adfuller(series.dropna(),autolag='AIC')\n",
    "    labels = ['ADF test statistic','p value','No lags used','No observations']\n",
    "    out = pd.Series(result[0:4],index=labels)\n",
    "    print(f'Performing Augmented Dickey Fuller Test for: {column_name}')\n",
    "    print(out.to_string())\n",
    "    if result[1] <= 0.05:\n",
    "        print(\"Reject the null hypothesis\")\n",
    "        print(\"Data is stationary\")\n",
    "    else:\n",
    "        print(\"Fail to reject the null hypothesis\")\n",
    "        print(\"Data is non-stationary\")\n",
    "        "
   ]
  },
  {
   "cell_type": "code",
   "execution_count": 22,
   "metadata": {},
   "outputs": [
    {
     "name": "stdout",
     "output_type": "stream",
     "text": [
      "Performing Augmented Dickey Fuller Test for: \n",
      "ADF test statistic      -1.338096\n",
      "p value                  0.611568\n",
      "No lags used             0.000000\n",
      "No observations       1258.000000\n",
      "Fail to reject the null hypothesis\n",
      "Data is non-stationary\n"
     ]
    }
   ],
   "source": [
    "Augmented_Dickey_Fuller_Test_func(df['Close' ])\n"
   ]
  },
  {
   "cell_type": "code",
   "execution_count": 23,
   "metadata": {},
   "outputs": [],
   "source": [
    "df['Close_diff'] = df['Close'].diff()"
   ]
  },
  {
   "cell_type": "code",
   "execution_count": 24,
   "metadata": {},
   "outputs": [],
   "source": [
    "df.dropna(inplace=True)"
   ]
  },
  {
   "cell_type": "code",
   "execution_count": 25,
   "metadata": {},
   "outputs": [],
   "source": [
    "X = df[['Close_diff' ]]\n",
    "train, test = X[0:-30], X[-30:]"
   ]
  },
  {
   "cell_type": "code",
   "execution_count": 26,
   "metadata": {},
   "outputs": [
    {
     "name": "stderr",
     "output_type": "stream",
     "text": [
      "C:\\Users\\Vishwas\\Anaconda3\\lib\\site-packages\\pmdarima\\arima\\_auto_solvers.py:207: ModelFitWarning: Unable to fit ARIMA for order=(2, 0, 2); data is likely non-stationary. (if you do not want to see these warnings, run with error_action=\"ignore\")\n",
      "  ModelFitWarning)\n"
     ]
    },
    {
     "name": "stdout",
     "output_type": "stream",
     "text": [
      "Fit ARIMA: order=(2, 0, 2); AIC=nan, BIC=nan, Fit time=nan seconds\n",
      "Fit ARIMA: order=(0, 0, 0); AIC=5929.302, BIC=5939.528, Fit time=0.002 seconds\n",
      "Fit ARIMA: order=(1, 0, 0); AIC=5930.825, BIC=5946.165, Fit time=0.011 seconds\n",
      "Fit ARIMA: order=(0, 0, 1); AIC=5930.810, BIC=5946.149, Fit time=0.016 seconds\n",
      "Fit ARIMA: order=(1, 0, 1); AIC=5926.792, BIC=5947.245, Fit time=0.251 seconds\n",
      "Fit ARIMA: order=(2, 0, 1); AIC=5928.521, BIC=5954.087, Fit time=0.345 seconds\n",
      "Fit ARIMA: order=(1, 0, 2); AIC=nan, BIC=nan, Fit time=nan seconds\n",
      "Total fit time: 0.746 seconds\n"
     ]
    },
    {
     "name": "stderr",
     "output_type": "stream",
     "text": [
      "C:\\Users\\Vishwas\\Anaconda3\\lib\\site-packages\\pmdarima\\arima\\_auto_solvers.py:207: ModelFitWarning: Unable to fit ARIMA for order=(1, 0, 2); data is likely non-stationary. (if you do not want to see these warnings, run with error_action=\"ignore\")\n",
      "  ModelFitWarning)\n"
     ]
    }
   ],
   "source": [
    "stepwise_model = auto_arima(train, trace=True,seasonal=False,stepwise=True,suppress_warnings=True)"
   ]
  },
  {
   "cell_type": "code",
   "execution_count": 27,
   "metadata": {},
   "outputs": [
    {
     "data": {
      "text/html": [
       "<table class=\"simpletable\">\n",
       "<caption>ARMA Model Results</caption>\n",
       "<tr>\n",
       "  <th>Dep. Variable:</th>         <td>y</td>        <th>  No. Observations:  </th>   <td>1228</td>   \n",
       "</tr>\n",
       "<tr>\n",
       "  <th>Model:</th>            <td>ARMA(1, 1)</td>    <th>  Log Likelihood     </th> <td>-2959.396</td>\n",
       "</tr>\n",
       "<tr>\n",
       "  <th>Method:</th>             <td>css-mle</td>     <th>  S.D. of innovations</th>   <td>2.694</td>  \n",
       "</tr>\n",
       "<tr>\n",
       "  <th>Date:</th>          <td>Wed, 18 Dec 2019</td> <th>  AIC                </th> <td>5926.792</td> \n",
       "</tr>\n",
       "<tr>\n",
       "  <th>Time:</th>              <td>21:42:26</td>     <th>  BIC                </th> <td>5947.245</td> \n",
       "</tr>\n",
       "<tr>\n",
       "  <th>Sample:</th>                <td>0</td>        <th>  HQIC               </th> <td>5934.488</td> \n",
       "</tr>\n",
       "<tr>\n",
       "  <th></th>                       <td> </td>        <th>                     </th>     <td> </td>    \n",
       "</tr>\n",
       "</table>\n",
       "<table class=\"simpletable\">\n",
       "<tr>\n",
       "     <td></td>        <th>coef</th>     <th>std err</th>      <th>z</th>      <th>P>|z|</th>  <th>[0.025</th>    <th>0.975]</th>  \n",
       "</tr>\n",
       "<tr>\n",
       "  <th>const</th>   <td>    0.0892</td> <td>    0.056</td> <td>    1.583</td> <td> 0.114</td> <td>   -0.021</td> <td>    0.200</td>\n",
       "</tr>\n",
       "<tr>\n",
       "  <th>ar.L1.y</th> <td>    0.8630</td> <td>    0.072</td> <td>   11.942</td> <td> 0.000</td> <td>    0.721</td> <td>    1.005</td>\n",
       "</tr>\n",
       "<tr>\n",
       "  <th>ma.L1.y</th> <td>   -0.8998</td> <td>    0.062</td> <td>  -14.514</td> <td> 0.000</td> <td>   -1.021</td> <td>   -0.778</td>\n",
       "</tr>\n",
       "</table>\n",
       "<table class=\"simpletable\">\n",
       "<caption>Roots</caption>\n",
       "<tr>\n",
       "    <td></td>   <th>            Real</th>  <th>         Imaginary</th> <th>         Modulus</th>  <th>        Frequency</th>\n",
       "</tr>\n",
       "<tr>\n",
       "  <th>AR.1</th> <td>           1.1587</td> <td>          +0.0000j</td> <td>           1.1587</td> <td>           0.0000</td>\n",
       "</tr>\n",
       "<tr>\n",
       "  <th>MA.1</th> <td>           1.1113</td> <td>          +0.0000j</td> <td>           1.1113</td> <td>           0.0000</td>\n",
       "</tr>\n",
       "</table>"
      ],
      "text/plain": [
       "<class 'statsmodels.iolib.summary.Summary'>\n",
       "\"\"\"\n",
       "                              ARMA Model Results                              \n",
       "==============================================================================\n",
       "Dep. Variable:                      y   No. Observations:                 1228\n",
       "Model:                     ARMA(1, 1)   Log Likelihood               -2959.396\n",
       "Method:                       css-mle   S.D. of innovations              2.694\n",
       "Date:                Wed, 18 Dec 2019   AIC                           5926.792\n",
       "Time:                        21:42:26   BIC                           5947.245\n",
       "Sample:                             0   HQIC                          5934.488\n",
       "                                                                              \n",
       "==============================================================================\n",
       "                 coef    std err          z      P>|z|      [0.025      0.975]\n",
       "------------------------------------------------------------------------------\n",
       "const          0.0892      0.056      1.583      0.114      -0.021       0.200\n",
       "ar.L1.y        0.8630      0.072     11.942      0.000       0.721       1.005\n",
       "ma.L1.y       -0.8998      0.062    -14.514      0.000      -1.021      -0.778\n",
       "                                    Roots                                    \n",
       "=============================================================================\n",
       "                  Real          Imaginary           Modulus         Frequency\n",
       "-----------------------------------------------------------------------------\n",
       "AR.1            1.1587           +0.0000j            1.1587            0.0000\n",
       "MA.1            1.1113           +0.0000j            1.1113            0.0000\n",
       "-----------------------------------------------------------------------------\n",
       "\"\"\""
      ]
     },
     "execution_count": 27,
     "metadata": {},
     "output_type": "execute_result"
    }
   ],
   "source": [
    "stepwise_model.summary()"
   ]
  },
  {
   "cell_type": "code",
   "execution_count": 28,
   "metadata": {},
   "outputs": [],
   "source": [
    "forecast = stepwise_model.predict(n_periods=30)\n",
    "forecast = pd.DataFrame(forecast,columns=['close_pred'])"
   ]
  },
  {
   "cell_type": "code",
   "execution_count": 31,
   "metadata": {
    "scrolled": true
   },
   "outputs": [
    {
     "name": "stdout",
     "output_type": "stream",
     "text": [
      "Evaluation metric results:-\n",
      "MSE is : 3.0708298637484064\n",
      "MSE is : 1.4125073866548123\n",
      "RMSE is : 1.752378344921098\n",
      "MAPE is : 111.66497928414312\n"
     ]
    }
   ],
   "source": [
    "timeseries_evaluation_metrics_func(test, forecast)"
   ]
  },
  {
   "cell_type": "code",
   "execution_count": null,
   "metadata": {},
   "outputs": [],
   "source": []
  },
  {
   "cell_type": "code",
   "execution_count": null,
   "metadata": {},
   "outputs": [],
   "source": []
  }
 ],
 "metadata": {
  "kernelspec": {
   "display_name": "Python 3",
   "language": "python",
   "name": "python3"
  },
  "language_info": {
   "codemirror_mode": {
    "name": "ipython",
    "version": 3
   },
   "file_extension": ".py",
   "mimetype": "text/x-python",
   "name": "python",
   "nbconvert_exporter": "python",
   "pygments_lexer": "ipython3",
   "version": "3.7.3"
  },
  "latex_envs": {
   "LaTeX_envs_menu_present": true,
   "autoclose": false,
   "autocomplete": true,
   "bibliofile": "biblio.bib",
   "cite_by": "apalike",
   "current_citInitial": 1,
   "eqLabelWithNumbers": true,
   "eqNumInitial": 1,
   "hotkeys": {
    "equation": "Ctrl-E",
    "itemize": "Ctrl-I"
   },
   "labels_anchors": false,
   "latex_user_defs": false,
   "report_style_numbering": false,
   "user_envs_cfg": false
  }
 },
 "nbformat": 4,
 "nbformat_minor": 2
}

{
 "cells": [
  {
   "cell_type": "code",
   "execution_count": 0,
   "metadata": {
    "colab": {},
    "colab_type": "code",
    "id": "Eo5aixYCxs_S"
   },
   "outputs": [],
   "source": [
    "import warnings\n",
    "import pandas as pd\n",
    "import numpy as np\n",
    "import matplotlib.pyplot as plt\n",
    "from sklearn import metrics\n",
    "from fbprophet import Prophet\n"
   ]
  },
  {
   "cell_type": "code",
   "execution_count": 0,
   "metadata": {
    "colab": {},
    "colab_type": "code",
    "id": "ymK_MXGDx0ur"
   },
   "outputs": [],
   "source": [
    "df = pd.read_csv('Data\\Bike_Sharing_Demand.csv',parse_dates = True)"
   ]
  },
  {
   "cell_type": "code",
   "execution_count": 0,
   "metadata": {
    "colab": {},
    "colab_type": "code",
    "id": "UGoSG0qLx0zt"
   },
   "outputs": [],
   "source": [
    "\n",
    "def timeseries_evaluation_metrics_func(y_true, y_pred):\n",
    "    \n",
    "    def mean_absolute_percentage_error(y_true, y_pred): \n",
    "        y_true, y_pred = np.array(y_true), np.array(y_pred)\n",
    "        return np.mean(np.abs((y_true - y_pred) / y_true)) * 100\n",
    "    #print('Evaluation metric results:-')\n",
    "    print(f'MSE is : {metrics.mean_squared_error(y_true, y_pred)}')\n",
    "    print(f'MAE is : {metrics.mean_absolute_error(y_true, y_pred)}')\n",
    "    print(f'RMSE is : {np.sqrt(metrics.mean_squared_error(y_true, y_pred))}')\n",
    "    print(f'MAPE is : {mean_absolute_percentage_error(y_true, y_pred)}')\n",
    "    print(f'R2 is : {metrics.r2_score(y_true, y_pred)}',end='\\n\\n')"
   ]
  },
  {
   "cell_type": "code",
   "execution_count": 0,
   "metadata": {
    "colab": {},
    "colab_type": "code",
    "id": "DzBYNQeHx02R"
   },
   "outputs": [],
   "source": [
    "df = df.rename(columns={'datetime': 'ds', 'count': 'y'})"
   ]
  },
  {
   "cell_type": "code",
   "execution_count": 0,
   "metadata": {
    "colab": {},
    "colab_type": "code",
    "id": "6sXjwPjRx04c"
   },
   "outputs": [],
   "source": [
    "validate = df[['ds','y']].tail(48)"
   ]
  },
  {
   "cell_type": "code",
   "execution_count": 0,
   "metadata": {
    "colab": {},
    "colab_type": "code",
    "id": "XlKVTe_Ux06m"
   },
   "outputs": [],
   "source": [
    "df.drop(df[['ds','y']].tail(48).index,inplace=True)"
   ]
  },
  {
   "cell_type": "code",
   "execution_count": 0,
   "metadata": {
    "colab": {},
    "colab_type": "code",
    "id": "-A8jnvx_x08w"
   },
   "outputs": [],
   "source": [
    "train = df[['ds','y']]"
   ]
  },
  {
   "cell_type": "code",
   "execution_count": 81,
   "metadata": {
    "colab": {
     "base_uri": "https://localhost:8080/",
     "height": 206
    },
    "colab_type": "code",
    "id": "AFa-4jtz_P7H",
    "outputId": "0b472e35-34d6-4e36-956e-a9aec5b22e45"
   },
   "outputs": [
    {
     "data": {
      "text/html": [
       "<div>\n",
       "<style scoped>\n",
       "    .dataframe tbody tr th:only-of-type {\n",
       "        vertical-align: middle;\n",
       "    }\n",
       "\n",
       "    .dataframe tbody tr th {\n",
       "        vertical-align: top;\n",
       "    }\n",
       "\n",
       "    .dataframe thead th {\n",
       "        text-align: right;\n",
       "    }\n",
       "</style>\n",
       "<table border=\"1\" class=\"dataframe\">\n",
       "  <thead>\n",
       "    <tr style=\"text-align: right;\">\n",
       "      <th></th>\n",
       "      <th>ds</th>\n",
       "      <th>y</th>\n",
       "    </tr>\n",
       "  </thead>\n",
       "  <tbody>\n",
       "    <tr>\n",
       "      <th>0</th>\n",
       "      <td>2011-01-01 00:00:00</td>\n",
       "      <td>16</td>\n",
       "    </tr>\n",
       "    <tr>\n",
       "      <th>1</th>\n",
       "      <td>2011-01-01 01:00:00</td>\n",
       "      <td>40</td>\n",
       "    </tr>\n",
       "    <tr>\n",
       "      <th>2</th>\n",
       "      <td>2011-01-01 02:00:00</td>\n",
       "      <td>32</td>\n",
       "    </tr>\n",
       "    <tr>\n",
       "      <th>3</th>\n",
       "      <td>2011-01-01 03:00:00</td>\n",
       "      <td>13</td>\n",
       "    </tr>\n",
       "    <tr>\n",
       "      <th>4</th>\n",
       "      <td>2011-01-01 04:00:00</td>\n",
       "      <td>1</td>\n",
       "    </tr>\n",
       "  </tbody>\n",
       "</table>\n",
       "</div>"
      ],
      "text/plain": [
       "                    ds   y\n",
       "0  2011-01-01 00:00:00  16\n",
       "1  2011-01-01 01:00:00  40\n",
       "2  2011-01-01 02:00:00  32\n",
       "3  2011-01-01 03:00:00  13\n",
       "4  2011-01-01 04:00:00   1"
      ]
     },
     "execution_count": 81,
     "metadata": {
      "tags": []
     },
     "output_type": "execute_result"
    }
   ],
   "source": [
    "train.head()"
   ]
  },
  {
   "cell_type": "code",
   "execution_count": 82,
   "metadata": {
    "colab": {
     "base_uri": "https://localhost:8080/",
     "height": 182
    },
    "colab_type": "code",
    "id": "fuh8vMaH_QYr",
    "outputId": "d98638cb-40b7-4355-eed5-cd7062d4717f"
   },
   "outputs": [
    {
     "name": "stderr",
     "output_type": "stream",
     "text": [
      "/usr/local/lib/python3.6/dist-packages/ipykernel_launcher.py:1: SettingWithCopyWarning:\n",
      "\n",
      "\n",
      "A value is trying to be set on a copy of a slice from a DataFrame.\n",
      "Try using .loc[row_indexer,col_indexer] = value instead\n",
      "\n",
      "See the caveats in the documentation: https://pandas.pydata.org/pandas-docs/stable/user_guide/indexing.html#returning-a-view-versus-a-copy\n",
      "\n"
     ]
    }
   ],
   "source": [
    "train['y'] = np.log(train['y'])"
   ]
  },
  {
   "cell_type": "code",
   "execution_count": 83,
   "metadata": {
    "colab": {
     "base_uri": "https://localhost:8080/",
     "height": 35
    },
    "colab_type": "code",
    "id": "6Y9u9M25x0-6",
    "outputId": "7ae139eb-3e41-42ed-f751-c39ab1af36a5"
   },
   "outputs": [
    {
     "data": {
      "text/plain": [
       "<fbprophet.forecaster.Prophet at 0x7f32707fb588>"
      ]
     },
     "execution_count": 83,
     "metadata": {
      "tags": []
     },
     "output_type": "execute_result"
    }
   ],
   "source": [
    "m = Prophet(yearly_seasonality=False)\n",
    "m.fit(train)"
   ]
  },
  {
   "cell_type": "code",
   "execution_count": 0,
   "metadata": {
    "colab": {},
    "colab_type": "code",
    "id": "Hxd_pHgpx1BQ"
   },
   "outputs": [],
   "source": [
    "p = 48\n",
    "future = m.make_future_dataframe(periods=p,freq='H',include_history=False)\n",
    "\n",
    "forecast = m.predict(future)"
   ]
  },
  {
   "cell_type": "code",
   "execution_count": 0,
   "metadata": {
    "colab": {},
    "colab_type": "code",
    "id": "yNcDK6lnx1Dj"
   },
   "outputs": [],
   "source": [
    "# inverse log the results\n",
    "forecast['yhat'] = np.exp(forecast['yhat'])   "
   ]
  },
  {
   "cell_type": "code",
   "execution_count": 86,
   "metadata": {
    "colab": {
     "base_uri": "https://localhost:8080/",
     "height": 313
    },
    "colab_type": "code",
    "id": "jW3FSQPtx1Hf",
    "outputId": "6f50dfd4-1ef7-49b8-ff4f-c6d95d546c8f"
   },
   "outputs": [
    {
     "data": {
      "text/html": [
       "<div>\n",
       "<style scoped>\n",
       "    .dataframe tbody tr th:only-of-type {\n",
       "        vertical-align: middle;\n",
       "    }\n",
       "\n",
       "    .dataframe tbody tr th {\n",
       "        vertical-align: top;\n",
       "    }\n",
       "\n",
       "    .dataframe thead th {\n",
       "        text-align: right;\n",
       "    }\n",
       "</style>\n",
       "<table border=\"1\" class=\"dataframe\">\n",
       "  <thead>\n",
       "    <tr style=\"text-align: right;\">\n",
       "      <th></th>\n",
       "      <th>ds</th>\n",
       "      <th>trend</th>\n",
       "      <th>yhat_lower</th>\n",
       "      <th>yhat_upper</th>\n",
       "      <th>trend_lower</th>\n",
       "      <th>trend_upper</th>\n",
       "      <th>additive_terms</th>\n",
       "      <th>additive_terms_lower</th>\n",
       "      <th>additive_terms_upper</th>\n",
       "      <th>daily</th>\n",
       "      <th>daily_lower</th>\n",
       "      <th>daily_upper</th>\n",
       "      <th>weekly</th>\n",
       "      <th>weekly_lower</th>\n",
       "      <th>weekly_upper</th>\n",
       "      <th>multiplicative_terms</th>\n",
       "      <th>multiplicative_terms_lower</th>\n",
       "      <th>multiplicative_terms_upper</th>\n",
       "      <th>yhat</th>\n",
       "    </tr>\n",
       "  </thead>\n",
       "  <tbody>\n",
       "    <tr>\n",
       "      <th>0</th>\n",
       "      <td>2012-12-18 00:00:00</td>\n",
       "      <td>4.793292</td>\n",
       "      <td>3.199337</td>\n",
       "      <td>4.882829</td>\n",
       "      <td>4.793292</td>\n",
       "      <td>4.793292</td>\n",
       "      <td>-0.736341</td>\n",
       "      <td>-0.736341</td>\n",
       "      <td>-0.736341</td>\n",
       "      <td>-0.668873</td>\n",
       "      <td>-0.668873</td>\n",
       "      <td>-0.668873</td>\n",
       "      <td>-0.067468</td>\n",
       "      <td>-0.067468</td>\n",
       "      <td>-0.067468</td>\n",
       "      <td>0.0</td>\n",
       "      <td>0.0</td>\n",
       "      <td>0.0</td>\n",
       "      <td>57.797790</td>\n",
       "    </tr>\n",
       "    <tr>\n",
       "      <th>1</th>\n",
       "      <td>2012-12-18 01:00:00</td>\n",
       "      <td>4.793195</td>\n",
       "      <td>2.429990</td>\n",
       "      <td>4.131447</td>\n",
       "      <td>4.793195</td>\n",
       "      <td>4.793195</td>\n",
       "      <td>-1.455063</td>\n",
       "      <td>-1.455063</td>\n",
       "      <td>-1.455063</td>\n",
       "      <td>-1.390068</td>\n",
       "      <td>-1.390068</td>\n",
       "      <td>-1.390068</td>\n",
       "      <td>-0.064995</td>\n",
       "      <td>-0.064995</td>\n",
       "      <td>-0.064995</td>\n",
       "      <td>0.0</td>\n",
       "      <td>0.0</td>\n",
       "      <td>0.0</td>\n",
       "      <td>28.166481</td>\n",
       "    </tr>\n",
       "    <tr>\n",
       "      <th>2</th>\n",
       "      <td>2012-12-18 02:00:00</td>\n",
       "      <td>4.793098</td>\n",
       "      <td>1.618923</td>\n",
       "      <td>3.342716</td>\n",
       "      <td>4.793098</td>\n",
       "      <td>4.793098</td>\n",
       "      <td>-2.314484</td>\n",
       "      <td>-2.314484</td>\n",
       "      <td>-2.314484</td>\n",
       "      <td>-2.251641</td>\n",
       "      <td>-2.251641</td>\n",
       "      <td>-2.251641</td>\n",
       "      <td>-0.062843</td>\n",
       "      <td>-0.062843</td>\n",
       "      <td>-0.062843</td>\n",
       "      <td>0.0</td>\n",
       "      <td>0.0</td>\n",
       "      <td>0.0</td>\n",
       "      <td>11.924730</td>\n",
       "    </tr>\n",
       "    <tr>\n",
       "      <th>3</th>\n",
       "      <td>2012-12-18 03:00:00</td>\n",
       "      <td>4.793002</td>\n",
       "      <td>1.060407</td>\n",
       "      <td>2.704223</td>\n",
       "      <td>4.793002</td>\n",
       "      <td>4.793002</td>\n",
       "      <td>-2.887021</td>\n",
       "      <td>-2.887021</td>\n",
       "      <td>-2.887021</td>\n",
       "      <td>-2.825987</td>\n",
       "      <td>-2.825987</td>\n",
       "      <td>-2.825987</td>\n",
       "      <td>-0.061034</td>\n",
       "      <td>-0.061034</td>\n",
       "      <td>-0.061034</td>\n",
       "      <td>0.0</td>\n",
       "      <td>0.0</td>\n",
       "      <td>0.0</td>\n",
       "      <td>6.726003</td>\n",
       "    </tr>\n",
       "    <tr>\n",
       "      <th>4</th>\n",
       "      <td>2012-12-18 04:00:00</td>\n",
       "      <td>4.792905</td>\n",
       "      <td>1.179480</td>\n",
       "      <td>2.822296</td>\n",
       "      <td>4.792905</td>\n",
       "      <td>4.792905</td>\n",
       "      <td>-2.769590</td>\n",
       "      <td>-2.769590</td>\n",
       "      <td>-2.769590</td>\n",
       "      <td>-2.710008</td>\n",
       "      <td>-2.710008</td>\n",
       "      <td>-2.710008</td>\n",
       "      <td>-0.059582</td>\n",
       "      <td>-0.059582</td>\n",
       "      <td>-0.059582</td>\n",
       "      <td>0.0</td>\n",
       "      <td>0.0</td>\n",
       "      <td>0.0</td>\n",
       "      <td>7.563353</td>\n",
       "    </tr>\n",
       "  </tbody>\n",
       "</table>\n",
       "</div>"
      ],
      "text/plain": [
       "                   ds     trend  ...  multiplicative_terms_upper       yhat\n",
       "0 2012-12-18 00:00:00  4.793292  ...                         0.0  57.797790\n",
       "1 2012-12-18 01:00:00  4.793195  ...                         0.0  28.166481\n",
       "2 2012-12-18 02:00:00  4.793098  ...                         0.0  11.924730\n",
       "3 2012-12-18 03:00:00  4.793002  ...                         0.0   6.726003\n",
       "4 2012-12-18 04:00:00  4.792905  ...                         0.0   7.563353\n",
       "\n",
       "[5 rows x 19 columns]"
      ]
     },
     "execution_count": 86,
     "metadata": {
      "tags": []
     },
     "output_type": "execute_result"
    }
   ],
   "source": [
    "forecast.head()"
   ]
  },
  {
   "cell_type": "code",
   "execution_count": 87,
   "metadata": {
    "colab": {
     "base_uri": "https://localhost:8080/",
     "height": 126
    },
    "colab_type": "code",
    "id": "Ytk2rdKSx1Ks",
    "outputId": "47174ca1-5af6-49df-c056-fa394a564984"
   },
   "outputs": [
    {
     "name": "stdout",
     "output_type": "stream",
     "text": [
      "MSE is : 11670.010469040275\n",
      "MAE is : 59.29125385426138\n",
      "RMSE is : 108.02782266175818\n",
      "MAPE is : 35.65469201451623\n",
      "R2 is : 0.6477429923997593\n",
      "\n"
     ]
    }
   ],
   "source": [
    "\n",
    "timeseries_evaluation_metrics_func(validate.y,forecast['yhat'])"
   ]
  },
  {
   "cell_type": "code",
   "execution_count": 88,
   "metadata": {
    "colab": {
     "base_uri": "https://localhost:8080/",
     "height": 441
    },
    "colab_type": "code",
    "id": "PkXp6MLNx0xP",
    "outputId": "32abd00a-9d88-4a2b-f6e4-48798e479e6a"
   },
   "outputs": [
    {
     "data": {
      "image/png": "[encoded data removed]",
      "text/plain": [
       "<Figure size 720x432 with 1 Axes>"
      ]
     },
     "metadata": {
      "tags": []
     },
     "output_type": "display_data"
    }
   ],
   "source": [
    "fig1 = m.plot(forecast)"
   ]
  },
  {
   "cell_type": "code",
   "execution_count": 89,
   "metadata": {
    "colab": {
     "base_uri": "https://localhost:8080/",
     "height": 657
    },
    "colab_type": "code",
    "id": "sCAjCMl3x0sb",
    "outputId": "4edbec54-8c22-4e9c-c67a-bcb767eeeefd"
   },
   "outputs": [
    {
     "data": {
      "image/png": "[encoded data removed]",
      "text/plain": [
       "<Figure size 648x648 with 3 Axes>"
      ]
     },
     "metadata": {
      "tags": []
     },
     "output_type": "display_data"
    }
   ],
   "source": [
    "fig2 = m.plot_components(forecast)"
   ]
  },
  {
   "cell_type": "code",
   "execution_count": 90,
   "metadata": {
    "colab": {
     "base_uri": "https://localhost:8080/",
     "height": 441
    },
    "colab_type": "code",
    "id": "WIsW1TRo24kv",
    "outputId": "a0bf1e32-7d82-4892-a84b-c126e5f3ece8"
   },
   "outputs": [
    {
     "data": {
      "image/png": "[encoded data removed]",
      "text/plain": [
       "<Figure size 720x432 with 1 Axes>"
      ]
     },
     "metadata": {
      "tags": []
     },
     "output_type": "display_data"
    }
   ],
   "source": [
    "from fbprophet.plot import add_changepoints_to_plot\n",
    "fig = m.plot(forecast)\n",
    "a = add_changepoints_to_plot(fig.gca(), m, forecast)"
   ]
  }
 ],
 "metadata": {
  "colab": {
   "collapsed_sections": [],
   "name": "fbprophet with log transformation.ipynb",
   "provenance": []
  },
  "kernelspec": {
   "display_name": "Python 3",
   "language": "python",
   "name": "python3"
  },
  "language_info": {
   "codemirror_mode": {
    "name": "ipython",
    "version": 3
   },
   "file_extension": ".py",
   "mimetype": "text/x-python",
   "name": "python",
   "nbconvert_exporter": "python",
   "pygments_lexer": "ipython3",
   "version": "3.7.3"
  },
  "latex_envs": {
   "LaTeX_envs_menu_present": true,
   "autoclose": false,
   "autocomplete": true,
   "bibliofile": "biblio.bib",
   "cite_by": "apalike",
   "current_citInitial": 1,
   "eqLabelWithNumbers": true,
   "eqNumInitial": 1,
   "hotkeys": {
    "equation": "Ctrl-E",
    "itemize": "Ctrl-I"
   },
   "labels_anchors": false,
   "latex_user_defs": false,
   "report_style_numbering": false,
   "user_envs_cfg": false
  },
  "nbTranslate": {
   "displayLangs": [
    "*"
   ],
   "hotkey": "alt-t",
   "langInMainMenu": true,
   "sourceLang": "en",
   "targetLang": "fr",
   "useGoogleTranslate": true
  }
 },
 "nbformat": 4,
 "nbformat_minor": 1
}
